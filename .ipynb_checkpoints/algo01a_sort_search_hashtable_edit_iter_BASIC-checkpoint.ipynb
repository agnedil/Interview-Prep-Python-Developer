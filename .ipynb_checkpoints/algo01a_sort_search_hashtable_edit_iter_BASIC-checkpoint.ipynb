{
 "cells": [
  {
   "cell_type": "markdown",
   "metadata": {},
   "source": [
    "## SORTING ALGORITHMS (nLogn)"
   ]
  },
  {
   "cell_type": "markdown",
   "metadata": {},
   "source": [
    "## Merge Sort (mid)\n",
    "https://www.geeksforgeeks.org/merge-sort/  \n",
    "\n",
    "\n",
    "Find __mid point__, merge sort _left half_, merge sort _right half_, __merge the two sorted halves__  \n",
    "\n",
    "\n",
    "* Divide and Conquer algorithm\n",
    "* __O(nLogn)__ - time complexity for all three cases (worst, average, best)\n",
    "* Stable, but not in place - O(n) space complexity\n",
    "\n",
    "\n",
    "Usage:  \n",
    "a) Sorting __linked lists__  \n",
    "b) Inversion Count Problem in a nearly sorted array ( i < j, but A[i] > A[j] )  \n",
    "c) Used in External Sorting (data too big to fit into memory, resides in slower external memory (hard disk)) "
   ]
  },
  {
   "cell_type": "code",
   "execution_count": 1,
   "metadata": {},
   "outputs": [],
   "source": [
    "def merge_sort(arr):\n",
    "        \n",
    "    # arrays of length 1 will be returned as is\n",
    "    if len(arr) > 1:\n",
    "                \n",
    "        # find mid point, sort each half\n",
    "        mid = len(arr) // 2\n",
    "        left =  merge_sort(arr[ :mid ])           # sort the first half\n",
    "        right = merge_sort(arr[ mid: ])           # sort the first half\n",
    "        \n",
    "        # copy data from temp arrays 'left' and 'right'\n",
    "        i, j, k = 0, 0, 0\n",
    "        while i < len(left) and j < len(right):\n",
    "            if left[i] < right[j]:\n",
    "                arr[k] = left[i]\n",
    "                i += 1\n",
    "            else:\n",
    "                arr[k] = right[j]\n",
    "                j += 1\n",
    "            k += 1\n",
    "        \n",
    "        # check if anything is left\n",
    "        while i < len(left):\n",
    "            arr[k] = left[i]\n",
    "            i += 1\n",
    "            k += 1\n",
    "\n",
    "        while j < len(right):\n",
    "            arr[k] = right[j]\n",
    "            j += 1\n",
    "            k += 1\n",
    "\n",
    "    return arr"
   ]
  },
  {
   "cell_type": "code",
   "execution_count": 2,
   "metadata": {},
   "outputs": [
    {
     "name": "stdout",
     "output_type": "stream",
     "text": [
      "[8, 7, 4, 2, 1, 25, 29, 38, 45, 5, 101, 97, 73, 74, 72, 55] =>  [1, 2, 4, 5, 7, 8, 25, 29, 38, 45, 55, 72, 73, 74, 97, 101]\n",
      "[8, 7, 4, 2, 1] =>  [1, 2, 4, 7, 8]\n",
      "[8, 7, 2, 11] =>  [2, 7, 8, 11]\n",
      "[8, 7] =>  [7, 8]\n"
     ]
    }
   ],
   "source": [
    "# test sorting f(x)\n",
    "a, b, c, d = [8, 7, 4, 2, 1, 25, 29, 38, 45, 5, 101, 97, 73, 74, 72, 55], [8, 7, 4, 2, 1], [8, 7, 2, 11], [8, 7]\n",
    "for myarr in [a, b, c, d]:\n",
    "    print(myarr, end=' ')\n",
    "    print('=> ', merge_sort(myarr))"
   ]
  },
  {
   "cell_type": "markdown",
   "metadata": {},
   "source": [
    "## Quick Sort (pivot)\n",
    "https://www.geeksforgeeks.org/quick-sort/  \n",
    "\n",
    "\n",
    "Picks __pivot__ element (_first, last, random, median_) and __partition__ array: put all smaller elements before pivot, greater elements after pivot (linear time), and the pivot in between\n",
    "\n",
    "\n",
    "* Divide and Conquer algorithm\n",
    "* __O(nLogn)__ - time complexity for average and best cases, __O(n^2)__ worst case\n",
    "* __O(log(n))__ extra space, but qualifies as in-place (no extra space)\n",
    "* Not stable, but can be made stable\n",
    "\n",
    "Usage:  \n",
    "\n",
    "Although the worst case time complexity is more than many other sorting algorithms, __QuickSort is faster in practice__ because its __inner loop__ can be _efficiently_ implemented.  \n",
    "__Quick sort__ is preferred over merge sort for __sorting arrays__ (because __in-place__ sort while merge sort = O(N) space (N = array size) - memory allocation increases run time  \n",
    "__Merge sort__ is preferred over quick sort for __linked lists__ (different memory alloc.: unlike arrays, a) _linked list nodes may not be adjacent in memory_, and b) _insert is O(1) extra space and O(1) time_ in linked lists => __merge__ operation  - __without extra space__)\n",
    "\n",
    "__3 Way QuickSort__, an array arr[l..r] is divided in 3 parts:  \n",
    "a) arr[l..i] elements less than pivot  \n",
    "b) arr[i+1..j-1] elements equal to pivot  \n",
    "c) arr[j..r] elements greater than pivot"
   ]
  },
  {
   "cell_type": "code",
   "execution_count": 11,
   "metadata": {},
   "outputs": [],
   "source": [
    "# Take last element as pivot, place it in its correct position:\n",
    "#  elements smaller than pivot - to the left\n",
    "# elements greater than pivot - to the right \n",
    "def quick_sort(arr, low, high):\n",
    "    '''    \n",
    "        low   -> Starting index,\n",
    "        high  -> Ending index\n",
    "    '''\n",
    "    if low < high:  \n",
    "        \n",
    "        pi = partition(arr, low, high)                        # pi = partitioning index, arr[pi] at right place  \n",
    "        quick_sort(arr, low, pi-1)                            # sort elements before and after partition\n",
    "        quick_sort(arr, pi+1, high)\n",
    "        \n",
    "        \n",
    "        \n",
    "        \n",
    "def partition(arr, low, high):\n",
    "        \n",
    "    pivot = arr[high]                                          # pivot\n",
    "    i = low - 1                                                # index of smaller element \n",
    "     \n",
    "    for j in range(low , high):  \n",
    "        \n",
    "        if  arr[j] < pivot:                                    # current element smaller than pivot            \n",
    "            i += 1                                             # increment index of smaller element\n",
    "            arr[i], arr[j] = arr[j], arr[i]\n",
    "  \n",
    "    arr[i+1], arr[high] = arr[high], arr[i+1]                  # all elems < pivot are not in arr[low:i], this line\n",
    "                                                               # places pivot in the middle (it was arr[high] before)\n",
    "            \n",
    "    return i+1"
   ]
  },
  {
   "cell_type": "code",
   "execution_count": null,
   "metadata": {},
   "outputs": [],
   "source": []
  },
  {
   "cell_type": "markdown",
   "metadata": {},
   "source": [
    "## Heap Sort\n",
    "\n",
    "* __O(nLogn)__ - time complexity; rearrange heap for the next largest (or smallest) element OR heapify() = O(Logn), repeating this over n elements OR createAndBuildHeap() = O(n)\n",
    "* in-place\n",
    "* not stable, but can be made stable\n",
    "\n",
    "Usage:\n",
    "1. Sort a nearly sorted (or __K sorted) array__\n",
    "2. k largest (or smallest) elements in an array  \n",
    "Limited usage because Quicksort and Mergesort are better in practice, but the Heap data structure is widely used\n",
    "\n",
    "__Complete binary tree__ = binary tree in which _every level is completely filled_, except possibly the last, and all nodes are _as far left_ as possible.  \n",
    "__Binary Heap__ = Complete Binary Tree where items are in a special order: _value in parent node is greater_ (or smaller) than values in its two children nodes OR _max heap_ (min heap); can be __represented as binary tree or array__. Array - space efficient. If node's index = i, node's parent = (i-1)/2, left child = 2 * i + 1, right child = 2 * i + 2, (if 0-based indexing).\n",
    "\n",
    "Heap Sort for sorting in increasing order (comparison based):\n",
    "1. Build max heap from input => max item at the root of heap;\n",
    "2. Replace max with last item of heap and reduce heap size by 1; heapify root;\n",
    "3. Repeat above while size of heap > 1.\n",
    "\n",
    "heapify(node) possible _only if node's children nodes are heapified_ - __heapify() is done bottom up__\n",
    "\n",
    "Array Representation\n",
    "* root = arr[0];\n",
    "* for any i-th node arr[i]:  \n",
    "a) arr[(i-1)/2]\t= parent node  \n",
    "b) arr[(2*i)+1]\t= left child  \n",
    "c) arr[(2*i)+2]\t= right child"
   ]
  },
  {
   "attachments": {
    "image.png": {
     "image/png": "[encoded data removed]"
    }
   },
   "cell_type": "markdown",
   "metadata": {},
   "source": [
    "__Traversal method__ to achieve array representation - __Level Order__\n",
    "![image.png](attachment:image.png)"
   ]
  },
  {
   "cell_type": "markdown",
   "metadata": {},
   "source": [
    "8, 7, 4, 2, 1"
   ]
  },
  {
   "cell_type": "code",
   "execution_count": 1,
   "metadata": {},
   "outputs": [],
   "source": [
    "def heap_sort(arr):\n",
    "        \n",
    "    n = len(arr)        \n",
    "    \n",
    "    for i in range(n, -1, -1):                        # build max heap \n",
    "        heapify(arr, n, i)  \n",
    "    \n",
    "    for i in range(n-1, 0, -1):                       # One by one extract elements \n",
    "        arr[i], arr[0] = arr[0], arr[i]               # swap \n",
    "        heapify(arr, i, 0)                            # heapify root\n",
    "               \n",
    "        \n",
    "\n",
    "def heapify(arr, n, i):\n",
    "        \n",
    "    largest = i                                       # find largest among root and children\n",
    "    l = 2 * i + 1     \n",
    "    r = 2 * i + 2       \n",
    "    \n",
    "    if (l < n and arr[i] < arr[l]):                   \n",
    "        largest = l  \n",
    "    \n",
    "    if (r < n and arr[largest] < arr[r]):              \n",
    "        largest = r  \n",
    "    \n",
    "    if (largest != i):                                # If root is not largest, swap with largest and continue heapifying\n",
    "        arr[i],arr[largest] = arr[largest],arr[i]           \n",
    "        heapify(arr, n, largest)                      "
   ]
  },
  {
   "cell_type": "code",
   "execution_count": 2,
   "metadata": {},
   "outputs": [
    {
     "name": "stdout",
     "output_type": "stream",
     "text": [
      "[8, 7, 4, 2, 1, 25, 29, 38, 45, 5, 101, 97, 73, 74, 72, 55] =>  [1, 2, 4, 5, 7, 8, 25, 29, 38, 45, 55, 72, 73, 74, 97, 101]\n",
      "[8, 7, 4, 2, 1] =>  [1, 2, 4, 7, 8]\n",
      "[8, 7, 2, 11] =>  [2, 7, 8, 11]\n",
      "[8, 7] =>  [7, 8]\n"
     ]
    }
   ],
   "source": [
    "# test sorting f(x)\n",
    "a, b, c, d = [8, 7, 4, 2, 1, 25, 29, 38, 45, 5, 101, 97, 73, 74, 72, 55], [8, 7, 4, 2, 1], [8, 7, 2, 11], [8, 7]\n",
    "for arr in [a, b, c, d]:\n",
    "    print(arr, end=' ')\n",
    "    heap_sort(arr)                         # in-place sorting    \n",
    "    print('=> ', arr)"
   ]
  },
  {
   "cell_type": "code",
   "execution_count": null,
   "metadata": {},
   "outputs": [],
   "source": []
  },
  {
   "cell_type": "code",
   "execution_count": null,
   "metadata": {},
   "outputs": [],
   "source": []
  },
  {
   "cell_type": "markdown",
   "metadata": {},
   "source": [
    "## SEARCH ALGORITHMS"
   ]
  },
  {
   "cell_type": "markdown",
   "metadata": {},
   "source": [
    "### Linear / Sequential  Search\n",
    "Worst-case performance\tO(n)\n",
    "Best-case performance\tO(1)\n",
    "Average performance\tO(n)\n",
    "Worst-case space complexity O(1) iterative\n",
    "\n",
    "Linear search is rarely used practically because other search algorithms such as the binary search algorithm and hash tables have a significantly performance"
   ]
  },
  {
   "cell_type": "code",
   "execution_count": 9,
   "metadata": {},
   "outputs": [],
   "source": [
    "def linear_search(arr, x): \n",
    "  \n",
    "    for i in range (0, len(arr)): \n",
    "        if (arr[i] == x): \n",
    "            return i\n",
    "    return -1"
   ]
  },
  {
   "cell_type": "code",
   "execution_count": null,
   "metadata": {},
   "outputs": [],
   "source": [
    "# If we know the list is ordered than, we only have to check until we have found the element or an element greater than it\n",
    "def ordered_seq_search(arr,ele):\n",
    "    \"\"\"\n",
    "    Sequential search for an Ordered list\n",
    "    \"\"\"\n",
    "    # Start at position 0\n",
    "    pos = 0\n",
    "    \n",
    "    # Target becomes true if ele is in the list\n",
    "    found = False\n",
    "    \n",
    "    # Stop marker\n",
    "    stopped = False\n",
    "    \n",
    "    # go until end of list\n",
    "    while pos < len(arr) and not found and not stopped:\n",
    "        \n",
    "        # If match\n",
    "        if arr[pos] == ele:\n",
    "            found = True\n",
    "            \n",
    "        else:\n",
    "            \n",
    "            # Check if element is greater\n",
    "            if arr[pos] > ele:\n",
    "                stopped = True\n",
    "                \n",
    "            # Otherwise move on\n",
    "            else:\n",
    "                pos  = pos+1\n",
    "    \n",
    "    return found"
   ]
  },
  {
   "cell_type": "code",
   "execution_count": 10,
   "metadata": {},
   "outputs": [
    {
     "name": "stdout",
     "output_type": "stream",
     "text": [
      "Element is present at index 3\n"
     ]
    }
   ],
   "source": [
    "arr = [ 2, 3, 4, 10, 40 ]\n",
    "x = 10\n",
    "result = linear_search(arr, x)\n",
    "if(result == -1): \n",
    "    print(\"Element is not present in array\") \n",
    "else: \n",
    "    print(\"Element is present at index\", result)"
   ]
  },
  {
   "cell_type": "markdown",
   "metadata": {},
   "source": [
    "## Binary Search\n",
    "Sorted list => reduces time complexity to __O(Log n)__  \n",
    "Auxiliary Space: __O(1) iterative__ implementation, __O(Logn) recursion__"
   ]
  },
  {
   "cell_type": "code",
   "execution_count": 15,
   "metadata": {},
   "outputs": [],
   "source": [
    "# iterative\n",
    "def binary_search(arr, value):\n",
    "    \n",
    "    if len(arr) == 0: return None\n",
    "    \n",
    "    min_idx, max_idx= 0, len(arr)\n",
    "        \n",
    "    while min_idx < max_idx:\n",
    "        mid = (min_idx + max_idx) // 2\n",
    "    \n",
    "        if arr[mid] == value:\n",
    "            return mid\n",
    "        elif arr[mid] < value:\n",
    "            min_idx = mid + 1\n",
    "        else: max_idx = mid\n",
    "    \n",
    "    return None"
   ]
  },
  {
   "cell_type": "code",
   "execution_count": 16,
   "metadata": {},
   "outputs": [],
   "source": [
    "# recursive\n",
    "# have to keep arr intact and pass array bounds to recursion to get the correct mid point index\n",
    "# if array bounds are not passed, only the boolean version works (found / not found)\n",
    "def binary_search_rec(arr, value, start=None, end=None):\n",
    "        \n",
    "    length = len(arr)\n",
    "    \n",
    "    if start is None:\n",
    "        start = 0\n",
    "    if end is None:\n",
    "        end = len(arr) - 1\n",
    "    \n",
    "    if not length or start >= end:\n",
    "        return None\n",
    "    \n",
    "    mid = (start + end) // 2\n",
    "    if arr[mid] == value:\n",
    "        return mid\n",
    "    \n",
    "    elif arr[mid] > value:\n",
    "        return binary_search_rec(arr, value, start = start, end = mid)\n",
    "    \n",
    "    else:\n",
    "        return binary_search_rec(arr, value, start = mid + 1, end = length)\n",
    "    \n",
    "    return None"
   ]
  },
  {
   "cell_type": "code",
   "execution_count": 20,
   "metadata": {},
   "outputs": [
    {
     "name": "stdout",
     "output_type": "stream",
     "text": [
      "7\n",
      "7\n"
     ]
    }
   ],
   "source": [
    "array = [1,2,3,4,5,6,7,8,9]\n",
    "num = 8\n",
    "print(binary_search(array, num))\n",
    "print(binary_search_rec(array, num))"
   ]
  },
  {
   "cell_type": "code",
   "execution_count": null,
   "metadata": {},
   "outputs": [],
   "source": []
  },
  {
   "cell_type": "markdown",
   "metadata": {},
   "source": [
    "## Hash Table\n",
    "___\n",
    "\n",
    "Hash Table with Hash Functions (mapping). __Python's dictionary => Hash Table__\n",
    "\n",
    "Methods:\n",
    "\n",
    "* **HashTable()** returns an empty map collection.\n",
    "* **put(key,val)** add a new key-value pair, if key in the map - replace with the new value.\n",
    "* **get(key)** return the value for a given key or None otherwise.\n",
    "* **del** delete key-value pair: del map[key].\n",
    "* **len()** number of key-value pairs \n",
    "* key __in__ map: True if key in map, False otherwise"
   ]
  },
  {
   "cell_type": "markdown",
   "metadata": {},
   "source": [
    "## Hash function\n",
    "Two heuristic methods:\n",
    "\n",
    "__Hashing by division__ (mod method):  \n",
    "Map a key into one of the slots of table by taking the remainder of key divided by table_size:  \n",
    "__h(key) = key % table_size__\n",
    "\n",
    "Fast - single division.  \n",
    "Avoid certain values of table_size: if table_size = r^p, then h(key) is just the p lowest-order bits of key - better off designing the hash function to depend on all the bits of the key unless we know that all low-order p-bit patterns are equally likely.  \n",
    "Best results when table size = prime with additional restriction - if r = number of possible character codes on a computer, and if table_size = prime such that r % table_size = 1, then h(key) = key % table_size is sum of the binary representation of the characters in key % table_size.\n",
    "\n",
    "Example:  \n",
    "Suppose r = 256 and table_size = 17, in which r % table_size i.e. 256 % 17 = 1.  \n",
    "Key = 37596, its hash is 37596 % 17 = 12  \n",
    "But for key = 573, its hash function is also 573 % 12 = 12 - collision\n",
    "\n",
    "A prime not too close to an exact power of 2 is often good choice for table_size.  \n",
    "\n",
    "__Hashing by multiplication__:  \n",
    "Multiply key k by constant real number c, 0 < c < 1, => extract fractional part => multiply this by table_size m and take floor:  \n",
    "__h(k) = floor (m * frac (k * c))__\n",
    "or  \n",
    "h(k) = floor (m * (k * c mod 1))  \n",
    "floor(x) from math.h yields integer part of real number x, and frac(x) yields fractional part (frac(x) = x – floor(x))\n",
    "\n",
    "Value of m is not critical, typically choose a power of 2 (m = 2p for some integer p)  \n",
    "\n",
    "Example:\n",
    "\n",
    "Suppose k = 123456, p = 14,  \n",
    "m = 2^14 = 16384, and w = 32.  \n",
    "Adapting Knuth’s suggestion, c to be fraction of the form s / 2^32.  \n",
    "Then key * s = 327706022297664 = (76300 * 2^32) + 17612864,  \n",
    "So r1 = 76300 and r0 = 176122864.  \n",
    "The 14 most significant bits of r0 yield the value h(key) = 67."
   ]
  },
  {
   "cell_type": "code",
   "execution_count": 7,
   "metadata": {},
   "outputs": [],
   "source": [
    "class HashTable:\n",
    "    \n",
    "    def __init__(self, size):\n",
    "        \n",
    "        # Set up size and keys and values\n",
    "        self.size = size\n",
    "        self.keys = [None] * self.size\n",
    "        self.values = [None] * self.size\n",
    "        \n",
    "    def put(self, key, value):\n",
    "        \n",
    "        #Note, we'll only use integer keys for ease of use with the Hash Function\n",
    "        # Get the hash value\n",
    "        hashvalue = self.hashfunction(key, len(self.keys))\n",
    "\n",
    "        # If key is empty\n",
    "        if self.keys[hashvalue] == None:\n",
    "            self.keys[hashvalue] = key\n",
    "            self.values[hashvalue] = value\n",
    "        \n",
    "        else:\n",
    "            \n",
    "            # If key exists, replace with new value\n",
    "            if self.keys[hashvalue] == key:\n",
    "                self.values[hashvalue] = value  \n",
    "            \n",
    "            # If hashvalue has a different key\n",
    "            else:\n",
    "                \n",
    "                nextkey = self.rehash(hashvalue, len(self.keys))\n",
    "                \n",
    "                # Get to next key\n",
    "                while self.keys[nextkey] != None and self.keys[nextkey] != key:\n",
    "                    nextkey = self.rehash(nextkey, len(self.keys))\n",
    "                \n",
    "                # Set new key, if NONE\n",
    "                if self.keys[nextkey] == None:\n",
    "                    self.keys[nextkey]=key\n",
    "                    self.values[nextkey]=value\n",
    "                    \n",
    "                # Otherwise replace old value\n",
    "                else:\n",
    "                    self.values[nextkey] = value \n",
    "\n",
    "    def hashfunction(self, key, size):\n",
    "                \n",
    "        # Remainder Method\n",
    "        return key%size\n",
    "\n",
    "    def rehash(self, oldhash, size):\n",
    "                \n",
    "        # For finding next possible keys\n",
    "        return (oldhash+1)%size\n",
    "    \n",
    "    \n",
    "    def get(self, key):\n",
    "        \n",
    "        # Get value by key        \n",
    "        # Set up variables for search\n",
    "        startkey = self.hashfunction(key, len(self.keys))\n",
    "        value = None        \n",
    "        found = False\n",
    "        stop = False\n",
    "        position = startkey\n",
    "        \n",
    "        # Until we discern that its not empty or found (and haven't stopped yet)\n",
    "        while self.keys[position] != None and not found and not stop:\n",
    "            \n",
    "            if self.keys[position] == key:\n",
    "                found = True\n",
    "                value = self.values[position]\n",
    "                \n",
    "            else:\n",
    "                position=self.rehash(position, len(self.keys))\n",
    "                                \n",
    "                if position == startkey:                    \n",
    "                    stop = True\n",
    "                                        \n",
    "        return value\n",
    "\n",
    "    # Special Methods for use with Python list indexing\n",
    "    # https://stackoverflow.com/questions/43627405/understanding-getitem-method\n",
    "    def __getitem__(self, key):\n",
    "        return self.get(key)\n",
    "\n",
    "    def __setitem__(self, key, value):\n",
    "        self.put(key, value)"
   ]
  },
  {
   "cell_type": "code",
   "execution_count": 8,
   "metadata": {},
   "outputs": [
    {
     "name": "stdout",
     "output_type": "stream",
     "text": [
      "one\n"
     ]
    }
   ],
   "source": [
    "h = HashTable(5)\n",
    "\n",
    "# Put our first key in\n",
    "h[0] = 'one'\n",
    "h[2] = 'two'\n",
    "h[3] = 'three'\n",
    "print(h[0])"
   ]
  },
  {
   "cell_type": "code",
   "execution_count": 9,
   "metadata": {},
   "outputs": [
    {
     "data": {
      "text/plain": [
       "'new_one'"
      ]
     },
     "execution_count": 9,
     "metadata": {},
     "output_type": "execute_result"
    }
   ],
   "source": [
    "h[1] = 'new_one'\n",
    "h[1]"
   ]
  },
  {
   "cell_type": "code",
   "execution_count": 10,
   "metadata": {},
   "outputs": [
    {
     "name": "stdout",
     "output_type": "stream",
     "text": [
      "None\n"
     ]
    }
   ],
   "source": [
    "print(h[4])"
   ]
  },
  {
   "cell_type": "code",
   "execution_count": 11,
   "metadata": {},
   "outputs": [
    {
     "data": {
      "text/plain": [
       "True"
      ]
     },
     "execution_count": 11,
     "metadata": {},
     "output_type": "execute_result"
    }
   ],
   "source": [
    "'two' in h"
   ]
  },
  {
   "cell_type": "code",
   "execution_count": null,
   "metadata": {},
   "outputs": [],
   "source": []
  },
  {
   "cell_type": "markdown",
   "metadata": {},
   "source": [
    "## Edit Levenshtein Distance\n",
    "https://stackoverflow.com/questions/2460177/edit-distance-in-python\n",
    "https://en.wikibooks.org/wiki/Algorithm_Implementation/Strings/Levenshtein_distance#Python"
   ]
  },
  {
   "cell_type": "code",
   "execution_count": 19,
   "metadata": {},
   "outputs": [],
   "source": [
    "def levenshtein(s1, s2):\n",
    "        \n",
    "    if len(s1) > len(s2):\n",
    "        s1, s2 = s2, s1\n",
    "\n",
    "    distances = range(len(s1) + 1)\n",
    "    for idx2, char2 in enumerate(s2):\n",
    "                \n",
    "        distances_ = [ idx2+1 ]\n",
    "        for idx1, char1 in enumerate(s1):\n",
    "            if char1 == char2:\n",
    "                distances_.append( distances[ idx1] )\n",
    "            else:\n",
    "                distances_.append( 1 + min(( distances[idx1], distances[idx1+1], distances_[-1])) )\n",
    "        distances = distances_\n",
    "                \n",
    "    return distances[-1]"
   ]
  },
  {
   "cell_type": "code",
   "execution_count": 17,
   "metadata": {},
   "outputs": [
    {
     "data": {
      "text/plain": [
       "11"
      ]
     },
     "execution_count": 17,
     "metadata": {},
     "output_type": "execute_result"
    }
   ],
   "source": [
    "levenshtein2('aborigenous', 'sc')"
   ]
  },
  {
   "cell_type": "markdown",
   "metadata": {},
   "source": [
    "## Iterators"
   ]
  },
  {
   "cell_type": "markdown",
   "metadata": {},
   "source": [
    "Iterators in Python\n",
    "Iterators are everywhere in Python. They are elegantly implemented within for loops, comprehensions, generators etc. but are hidden in plain sight.\n",
    "\n",
    "Iterator in Python is simply an object that can be iterated upon. An object which will return data, one element at a time.\n",
    "\n",
    "Technically speaking, a Python iterator object must implement two special methods, `__iter__()` and `__next__()`, collectively called the iterator protocol.\n",
    "\n",
    "An object is called iterable if we can get an iterator from it. Most built-in containers in Python like: list, tuple, string etc. are iterables.\n",
    "\n",
    "The iter() function (which in turn calls the `__iter__()` method) returns an iterator from them\n",
    "\n",
    "Iterating Through an Iterator  \n",
    "We use the next() function to manually iterate through all the items of an iterator. When we reach the end and there is no more data to be returned, it will raise the StopIteration Exception. Following is an example"
   ]
  },
  {
   "cell_type": "code",
   "execution_count": 13,
   "metadata": {},
   "outputs": [
    {
     "name": "stdout",
     "output_type": "stream",
     "text": [
      "4\n",
      "7\n",
      "0\n",
      "3\n"
     ]
    },
    {
     "ename": "StopIteration",
     "evalue": "",
     "output_type": "error",
     "traceback": [
      "\u001b[1;31m---------------------------------------------------------------------------\u001b[0m",
      "\u001b[1;31mStopIteration\u001b[0m                             Traceback (most recent call last)",
      "\u001b[1;32m<ipython-input-13-a6eddb463d41>\u001b[0m in \u001b[0;36m<module>\u001b[1;34m\u001b[0m\n\u001b[0;32m      9\u001b[0m \u001b[0mprint\u001b[0m\u001b[1;33m(\u001b[0m\u001b[0mmy_iter\u001b[0m\u001b[1;33m.\u001b[0m\u001b[0m__next__\u001b[0m\u001b[1;33m(\u001b[0m\u001b[1;33m)\u001b[0m\u001b[1;33m)\u001b[0m\u001b[1;33m\u001b[0m\u001b[1;33m\u001b[0m\u001b[0m\n\u001b[0;32m     10\u001b[0m \u001b[1;33m\u001b[0m\u001b[0m\n\u001b[1;32m---> 11\u001b[1;33m \u001b[0mnext\u001b[0m\u001b[1;33m(\u001b[0m\u001b[0mmy_iter\u001b[0m\u001b[1;33m)\u001b[0m                                                                       \u001b[1;31m# This will raise error, no items left\u001b[0m\u001b[1;33m\u001b[0m\u001b[1;33m\u001b[0m\u001b[0m\n\u001b[0m",
      "\u001b[1;31mStopIteration\u001b[0m: "
     ]
    }
   ],
   "source": [
    "my_list = [4, 7, 0, 3]\n",
    "my_iter = iter(my_list)                                                             # get an iterator using iter()\n",
    "\n",
    "# iterate\n",
    "print(next(my_iter))\n",
    "print(next(my_iter))\n",
    "\n",
    "print(my_iter.__next__())                                                           # next(obj) is same as obj.__next__()\n",
    "print(my_iter.__next__())\n",
    "\n",
    "next(my_iter)                                                                       # This will raise error, no items left"
   ]
  },
  {
   "cell_type": "markdown",
   "metadata": {},
   "source": [
    "Building Custom Iterators\n",
    "Building an iterator from scratch is easy in Python. We just have to implement the __iter__() and the __next__() methods.\n",
    "\n",
    "The __iter__() method returns the iterator object itself. If required, some initialization can be performed.\n",
    "\n",
    "The __next__() method must return the next item in the sequence. On reaching the end, and in subsequent calls, it must raise StopIteration.\n",
    "\n",
    "Here, we show an example that will give us the next power of 2 in each iteration. Power exponent starts from zero up to a user set number."
   ]
  },
  {
   "cell_type": "code",
   "execution_count": 14,
   "metadata": {},
   "outputs": [
    {
     "name": "stdout",
     "output_type": "stream",
     "text": [
      "1\n",
      "2\n",
      "4\n",
      "8\n"
     ]
    },
    {
     "ename": "StopIteration",
     "evalue": "",
     "output_type": "error",
     "traceback": [
      "\u001b[1;31m---------------------------------------------------------------------------\u001b[0m",
      "\u001b[1;31mStopIteration\u001b[0m                             Traceback (most recent call last)",
      "\u001b[1;32m<ipython-input-14-e79078ee3bcd>\u001b[0m in \u001b[0;36m<module>\u001b[1;34m\u001b[0m\n\u001b[0;32m     30\u001b[0m \u001b[0mprint\u001b[0m\u001b[1;33m(\u001b[0m\u001b[0mnext\u001b[0m\u001b[1;33m(\u001b[0m\u001b[0mi\u001b[0m\u001b[1;33m)\u001b[0m\u001b[1;33m)\u001b[0m\u001b[1;33m\u001b[0m\u001b[1;33m\u001b[0m\u001b[0m\n\u001b[0;32m     31\u001b[0m \u001b[0mprint\u001b[0m\u001b[1;33m(\u001b[0m\u001b[0mnext\u001b[0m\u001b[1;33m(\u001b[0m\u001b[0mi\u001b[0m\u001b[1;33m)\u001b[0m\u001b[1;33m)\u001b[0m\u001b[1;33m\u001b[0m\u001b[1;33m\u001b[0m\u001b[0m\n\u001b[1;32m---> 32\u001b[1;33m \u001b[0mprint\u001b[0m\u001b[1;33m(\u001b[0m\u001b[0mnext\u001b[0m\u001b[1;33m(\u001b[0m\u001b[0mi\u001b[0m\u001b[1;33m)\u001b[0m\u001b[1;33m)\u001b[0m\u001b[1;33m\u001b[0m\u001b[1;33m\u001b[0m\u001b[0m\n\u001b[0m",
      "\u001b[1;32m<ipython-input-14-e79078ee3bcd>\u001b[0m in \u001b[0;36m__next__\u001b[1;34m(self)\u001b[0m\n\u001b[0;32m     16\u001b[0m             \u001b[1;32mreturn\u001b[0m \u001b[0mresult\u001b[0m\u001b[1;33m\u001b[0m\u001b[1;33m\u001b[0m\u001b[0m\n\u001b[0;32m     17\u001b[0m         \u001b[1;32melse\u001b[0m\u001b[1;33m:\u001b[0m\u001b[1;33m\u001b[0m\u001b[1;33m\u001b[0m\u001b[0m\n\u001b[1;32m---> 18\u001b[1;33m             \u001b[1;32mraise\u001b[0m \u001b[0mStopIteration\u001b[0m\u001b[1;33m\u001b[0m\u001b[1;33m\u001b[0m\u001b[0m\n\u001b[0m\u001b[0;32m     19\u001b[0m \u001b[1;33m\u001b[0m\u001b[0m\n\u001b[0;32m     20\u001b[0m \u001b[1;33m\u001b[0m\u001b[0m\n",
      "\u001b[1;31mStopIteration\u001b[0m: "
     ]
    }
   ],
   "source": [
    "class PowTwo:\n",
    "    \"\"\"Class to implement an iterator\n",
    "    of powers of two\"\"\"\n",
    "\n",
    "    def __init__(self, max=0):\n",
    "        self.max = max\n",
    "\n",
    "    def __iter__(self):\n",
    "        self.n = 0\n",
    "        return self\n",
    "\n",
    "    def __next__(self):\n",
    "        if self.n <= self.max:\n",
    "            result = 2 ** self.n\n",
    "            self.n += 1\n",
    "            return result\n",
    "        else:\n",
    "            raise StopIteration\n",
    "\n",
    "\n",
    "# create an object\n",
    "numbers = PowTwo(3)\n",
    "\n",
    "# create an iterable from the object\n",
    "i = iter(numbers)\n",
    "\n",
    "# Using next to get to the next iterator element\n",
    "print(next(i))\n",
    "print(next(i))\n",
    "print(next(i))\n",
    "print(next(i))\n",
    "print(next(i))"
   ]
  },
  {
   "cell_type": "markdown",
   "metadata": {},
   "source": [
    "Infinite iterators\n",
    "It is not necessary that the item in an iterator object has to be exhausted. There can be infinite iterators (which never ends). We must be careful when handling such iterators.\n",
    "\n",
    "Here is a simple example to demonstrate infinite iterators.\n",
    "\n",
    "The built-in function iter() function can be called with two arguments where the first argument must be a callable object (function) and second is the sentinel. The iterator calls this function until the returned value is equal to the sentinel."
   ]
  },
  {
   "cell_type": "code",
   "execution_count": 16,
   "metadata": {},
   "outputs": [
    {
     "name": "stdout",
     "output_type": "stream",
     "text": [
      "0\n",
      "0\n",
      "0\n"
     ]
    }
   ],
   "source": [
    "print(int())\n",
    "inf = iter(int,1)\n",
    "print(next(inf))\n",
    "print(next(inf))"
   ]
  },
  {
   "cell_type": "code",
   "execution_count": 18,
   "metadata": {},
   "outputs": [
    {
     "name": "stdout",
     "output_type": "stream",
     "text": [
      "1\n",
      "3\n",
      "5\n",
      "7\n",
      "9\n"
     ]
    }
   ],
   "source": [
    "class InfIter:\n",
    "    \"\"\"Infinite iterator to return all\n",
    "        odd numbers\"\"\"\n",
    "\n",
    "    def __iter__(self):\n",
    "        self.num = 1\n",
    "        return self\n",
    "\n",
    "    def __next__(self):\n",
    "        num = self.num\n",
    "        self.num += 2\n",
    "        return num\n",
    "    \n",
    "    \n",
    "a = iter(InfIter())\n",
    "for i in range(5):\n",
    "    print(next(a))"
   ]
  },
  {
   "cell_type": "markdown",
   "metadata": {},
   "source": [
    "Be careful to include a terminating condition, when iterating over these types of infinite iterators.\n",
    "\n",
    "The advantage of using iterators is that they save resources. Like shown above, we could get all the odd numbers without storing the entire number system in memory. We can have infinite items (theoretically) in finite memory.\n",
    "\n",
    "There's an easier way to create iterators in Python. To learn more visit: Python generators using yield"
   ]
  },
  {
   "cell_type": "markdown",
   "metadata": {},
   "source": [
    "## Generators\n",
    "Python generators are a simple way of creating iterators. All the work we mentioned above are automatically handled by generators in Python.\n",
    "\n",
    "Simply speaking, a __generator is a function that returns an iterator object__ which we can iterate over (one value at a time)\n",
    "\n",
    "It is fairly simple to create a generator in Python. It is as easy as defining a normal function, but with a yield statement instead of a return statement.\n",
    "\n",
    "If a function contains at least one yield statement (it may contain other yield or return statements), it becomes a generator function. Both yield and return will return some value from a function.\n",
    "\n",
    "The difference is that while a return statement terminates a function entirely, yield statement pauses the function saving all its states and later continues from there on successive calls\n",
    "\n",
    "Differences between Generator function and Normal function\n",
    "Here is how a generator function differs from a normal function.\n",
    "\n",
    "Generator function contains one or more yield statements.\n",
    "When called, it returns an object (iterator) but does not start execution immediately.\n",
    "Methods like __iter__() and __next__() are implemented automatically. So we can iterate through the items using next().\n",
    "Once the function yields, the function is paused and the control is transferred to the caller.\n",
    "Local variables and their states are remembered between successive calls.\n",
    "Finally, when the function terminates, StopIteration is raised automatically on further calls."
   ]
  },
  {
   "cell_type": "markdown",
   "metadata": {},
   "source": [
    "__Memory Efficiency__: A normal function to return a sequence will create the entire sequence in memory before returning the result. This is an overkill, if the number of items in the sequence is very large.\n",
    "\n",
    "Generator implementation of such sequences is memory friendly and is preferred since it only produces one item at a time\n",
    "\n",
    "Generators can be implemented in a clear and concise way as compared to their iterator class counterpart. Following is an example to implement a sequence of power of 2 using an iterator class"
   ]
  },
  {
   "cell_type": "code",
   "execution_count": 25,
   "metadata": {},
   "outputs": [
    {
     "name": "stdout",
     "output_type": "stream",
     "text": [
      "1\n",
      "2\n",
      "4\n"
     ]
    },
    {
     "ename": "StopIteration",
     "evalue": "",
     "output_type": "error",
     "traceback": [
      "\u001b[1;31m---------------------------------------------------------------------------\u001b[0m",
      "\u001b[1;31mStopIteration\u001b[0m                             Traceback (most recent call last)",
      "\u001b[1;32m<ipython-input-25-12431e026824>\u001b[0m in \u001b[0;36m<module>\u001b[1;34m\u001b[0m\n\u001b[0;32m      7\u001b[0m \u001b[0my\u001b[0m \u001b[1;33m=\u001b[0m \u001b[0mPowTwoGen\u001b[0m\u001b[1;33m(\u001b[0m\u001b[1;36m3\u001b[0m\u001b[1;33m)\u001b[0m\u001b[1;33m\u001b[0m\u001b[1;33m\u001b[0m\u001b[0m\n\u001b[0;32m      8\u001b[0m \u001b[1;32mfor\u001b[0m \u001b[0mi\u001b[0m \u001b[1;32min\u001b[0m \u001b[0mrange\u001b[0m\u001b[1;33m(\u001b[0m\u001b[1;36m5\u001b[0m\u001b[1;33m)\u001b[0m\u001b[1;33m:\u001b[0m\u001b[1;33m\u001b[0m\u001b[1;33m\u001b[0m\u001b[0m\n\u001b[1;32m----> 9\u001b[1;33m     \u001b[0mprint\u001b[0m\u001b[1;33m(\u001b[0m\u001b[0mnext\u001b[0m\u001b[1;33m(\u001b[0m\u001b[0my\u001b[0m\u001b[1;33m)\u001b[0m\u001b[1;33m)\u001b[0m\u001b[1;33m\u001b[0m\u001b[1;33m\u001b[0m\u001b[0m\n\u001b[0m",
      "\u001b[1;31mStopIteration\u001b[0m: "
     ]
    }
   ],
   "source": [
    "def PowTwoGen(max=0):\n",
    "    n = 0\n",
    "    while n < max:\n",
    "        yield 2 ** n\n",
    "        n += 1\n",
    "\n",
    "y = PowTwoGen(3)\n",
    "for i in range(5):\n",
    "    print(next(y))"
   ]
  },
  {
   "cell_type": "markdown",
   "metadata": {},
   "source": [
    "Generators are excellent mediums to represent an __infinite stream of data__ which is not stored in memeory"
   ]
  },
  {
   "cell_type": "code",
   "execution_count": null,
   "metadata": {},
   "outputs": [],
   "source": [
    "# do not run :)\n",
    "def all_even():\n",
    "    n = 0\n",
    "    while True:\n",
    "        yield n\n",
    "        n += 2"
   ]
  },
  {
   "cell_type": "markdown",
   "metadata": {},
   "source": [
    "Multiple generators can be used to __pipeline a series of operations__. E.g. sum of squares of numbers in the first 10 Fibonacci series. Result: efficient, easy to read, a lot cooler!"
   ]
  },
  {
   "cell_type": "code",
   "execution_count": 19,
   "metadata": {},
   "outputs": [
    {
     "name": "stdout",
     "output_type": "stream",
     "text": [
      "4895\n"
     ]
    }
   ],
   "source": [
    "def fibonacci_numbers(nums):\n",
    "    x, y = 0, 1\n",
    "    for _ in range(nums):\n",
    "        x, y = y, x+y\n",
    "        yield x\n",
    "\n",
    "def square(nums):\n",
    "    for num in nums:\n",
    "        yield num**2\n",
    "\n",
    "print(sum(square(fibonacci_numbers(10))))"
   ]
  },
  {
   "cell_type": "code",
   "execution_count": null,
   "metadata": {},
   "outputs": [],
   "source": []
  }
 ],
 "metadata": {
  "kernelspec": {
   "display_name": "Python 3 (ipykernel)",
   "language": "python",
   "name": "python3"
  },
  "language_info": {
   "codemirror_mode": {
    "name": "ipython",
    "version": 3
   },
   "file_extension": ".py",
   "mimetype": "text/x-python",
   "name": "python",
   "nbconvert_exporter": "python",
   "pygments_lexer": "ipython3",
   "version": "3.10.10"
  }
 },
 "nbformat": 4,
 "nbformat_minor": 2
}
