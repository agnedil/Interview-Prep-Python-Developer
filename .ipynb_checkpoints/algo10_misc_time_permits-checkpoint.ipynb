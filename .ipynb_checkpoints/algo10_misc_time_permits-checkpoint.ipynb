{
 "cells": [
  {
   "cell_type": "markdown",
   "metadata": {},
   "source": [
    "## MISCELLANEOUS (FROM UDEMY MOCK INTERVIEWS)"
   ]
  },
  {
   "cell_type": "markdown",
   "metadata": {},
   "source": [
    "## E-Commerce Company\n",
    "\n",
    "### Problem 1\n",
    "\n",
    "** You've been given a list of historical stock prices for a single day for Amazon stock. The index of the list represents the timestamp, so the element at index of 0 is the initial price of the stock, the element at index 1 is the next recorded price of the stock for that day, etc. Your task is to write a function that will return the maximum profit possible from the purchase and sale of a single share of Amazon stock on that day. Keep in mind to try to make this as efficient as possible.**\n",
    "\n",
    "\n",
    "For example, if you were given the list of stock prices:\n",
    "\n",
    "prices = [12,11,15,3,10]\n",
    "\n",
    "Then your function would return the maximum possible profit, which would be 7 (buying at 3 and selling at 10).\n",
    "\n",
    "## Requirements\n",
    "\n",
    "** Try to solve this problem with paper/pencil first without using an IDE. Also keep in mind you should be able to come up with a better solution than just brute forcing every possible sale combination **\n",
    "\n",
    "** Also you can't \"short\" a stock, you must buy *before* you sell the stock. **"
   ]
  },
  {
   "cell_type": "markdown",
   "metadata": {
    "collapsed": true
   },
   "source": [
    "## Solution\n",
    "\n",
    "Let's think about a few things before we start coding. One thing to think about right off the bat is that we can't just find the maximum price and the lowest price and then subtract the two, because the max could come before the min.\n",
    "\n",
    "The brute force method would be to try every possible pair of price combinations, but this would be O(N^2), pretty bad. Also since this is an interview setting you should probably already know that there is a smarter solution.\n",
    "\n",
    "In this case we will use a [greedy algorithm](https://en.wikipedia.org/wiki/Greedy_algorithm) approach. We will iterate through the list of stock prices while keeping track of our maximum profit.\n",
    "\n",
    "That means for every price we will keep track of the lowest price so far and then check if we can get a better profit than our current max.\n",
    "\n",
    "Let's see an implementation of this:"
   ]
  },
  {
   "cell_type": "code",
   "execution_count": 1,
   "metadata": {
    "collapsed": true
   },
   "outputs": [],
   "source": [
    "def profit(stock_prices):\n",
    "    \n",
    "    # Start minimum price marker at first price\n",
    "    min_stock_price = stock_prices[0]\n",
    "    \n",
    "    # Start off with a profit of zero\n",
    "    max_profit = 0\n",
    "    \n",
    "    for price in stock_prices:\n",
    "        \n",
    "        # Check to set the lowest stock price so far\n",
    "        min_stock_price = min(min_stock_price,price)\n",
    "        \n",
    "        # Check the current price against our minimum for a profit \n",
    "        # comparison against the max_profit\n",
    "        comparison_profit = price - min_stock_price\n",
    "        \n",
    "        # Compare against our max_profit so far\n",
    "        max_profit = max(max_profit,comparison_profit)\n",
    "        \n",
    "    return max_profit"
   ]
  },
  {
   "cell_type": "code",
   "execution_count": 4,
   "metadata": {},
   "outputs": [
    {
     "data": {
      "text/plain": [
       "39"
      ]
     },
     "execution_count": 4,
     "metadata": {},
     "output_type": "execute_result"
    }
   ],
   "source": [
    "profit([10,12,14,12,13,11,8,7,6,13,23,45,11,10])"
   ]
  },
  {
   "cell_type": "markdown",
   "metadata": {},
   "source": [
    "Currently we're finding the max profit in one pass O(n) and in constant space O(1). However, we still aren't thinking about any edge cases. For example, we need to address the following scenarios:\n",
    "\n",
    "* Stock price always goes down\n",
    "* If there's less than two stock prices in the list.\n",
    "\n",
    "We can take care of the first scenario by returning a negative profit if the price decreases all day (that way we can know how much we lost). And the second issue can be solved with a quick **len()** check. Let's see the full solution:"
   ]
  },
  {
   "cell_type": "code",
   "execution_count": 10,
   "metadata": {
    "collapsed": true
   },
   "outputs": [],
   "source": [
    "def profit2(stock_prices):\n",
    "    \n",
    "    # Check length\n",
    "    if len(stock_prices) < 2:\n",
    "        raise Exception('Need at least two stock prices!')\n",
    "    \n",
    "    # Start minimum price marker at first price\n",
    "    min_stock_price = stock_prices[0]\n",
    "    \n",
    "    # Start off with an initial max profit\n",
    "    max_profit = stock_prices[1] - stock_prices[0]\n",
    "    \n",
    "    # Skip first index of 0\n",
    "    for price in stock_prices[1:]:\n",
    "        \n",
    "        \n",
    "        # NOTE THE REORDERING HERE DUE TO THE NEGATIVE PROFIT TRACKING\n",
    "        \n",
    "        # Check the current price against our minimum for a profit \n",
    "        # comparison against the max_profit\n",
    "        comparison_profit = price - min_stock_price\n",
    "        \n",
    "        # Compare against our max_profit so far\n",
    "        max_profit = max(max_profit,comparison_profit)\n",
    "        \n",
    "        # Check to set the lowest stock price so far\n",
    "        min_stock_price = min(min_stock_price,price)       \n",
    "        \n",
    "        \n",
    "    return max_profit"
   ]
  },
  {
   "cell_type": "code",
   "execution_count": 11,
   "metadata": {},
   "outputs": [
    {
     "ename": "Exception",
     "evalue": "Need at least two stock prices!",
     "output_type": "error",
     "traceback": [
      "\u001b[0;31m---------------------------------------------------------------------------\u001b[0m",
      "\u001b[0;31mException\u001b[0m                                 Traceback (most recent call last)",
      "\u001b[0;32m<ipython-input-11-7bd2f0c7e63b>\u001b[0m in \u001b[0;36m<module>\u001b[0;34m()\u001b[0m\n\u001b[1;32m      1\u001b[0m \u001b[0;31m# Exception Raised\u001b[0m\u001b[0;34m\u001b[0m\u001b[0;34m\u001b[0m\u001b[0m\n\u001b[0;32m----> 2\u001b[0;31m \u001b[0mprofit2\u001b[0m\u001b[0;34m(\u001b[0m\u001b[0;34m[\u001b[0m\u001b[0;36m1\u001b[0m\u001b[0;34m]\u001b[0m\u001b[0;34m)\u001b[0m\u001b[0;34m\u001b[0m\u001b[0m\n\u001b[0m",
      "\u001b[0;32m<ipython-input-10-e06adf3c45a7>\u001b[0m in \u001b[0;36mprofit2\u001b[0;34m(stock_prices)\u001b[0m\n\u001b[1;32m      3\u001b[0m     \u001b[0;31m# Check length\u001b[0m\u001b[0;34m\u001b[0m\u001b[0;34m\u001b[0m\u001b[0m\n\u001b[1;32m      4\u001b[0m     \u001b[0;32mif\u001b[0m \u001b[0mlen\u001b[0m\u001b[0;34m(\u001b[0m\u001b[0mstock_prices\u001b[0m\u001b[0;34m)\u001b[0m \u001b[0;34m<\u001b[0m \u001b[0;36m2\u001b[0m\u001b[0;34m:\u001b[0m\u001b[0;34m\u001b[0m\u001b[0m\n\u001b[0;32m----> 5\u001b[0;31m         \u001b[0;32mraise\u001b[0m \u001b[0mException\u001b[0m\u001b[0;34m(\u001b[0m\u001b[0;34m'Need at least two stock prices!'\u001b[0m\u001b[0;34m)\u001b[0m\u001b[0;34m\u001b[0m\u001b[0m\n\u001b[0m\u001b[1;32m      6\u001b[0m \u001b[0;34m\u001b[0m\u001b[0m\n\u001b[1;32m      7\u001b[0m     \u001b[0;31m# Start minimum price marker at first price\u001b[0m\u001b[0;34m\u001b[0m\u001b[0;34m\u001b[0m\u001b[0m\n",
      "\u001b[0;31mException\u001b[0m: Need at least two stock prices!"
     ]
    }
   ],
   "source": [
    "# Exception Raised\n",
    "profit2([1])"
   ]
  },
  {
   "cell_type": "code",
   "execution_count": 12,
   "metadata": {},
   "outputs": [
    {
     "data": {
      "text/plain": [
       "-1"
      ]
     },
     "execution_count": 12,
     "metadata": {},
     "output_type": "execute_result"
    }
   ],
   "source": [
    "profit2([30,22,21,5])"
   ]
  },
  {
   "cell_type": "code",
   "execution_count": null,
   "metadata": {},
   "outputs": [],
   "source": []
  },
  {
   "cell_type": "markdown",
   "metadata": {},
   "source": [
    "# On-Site Question 2 - SOLUTION\n",
    "\n",
    "## Problem\n",
    "\n",
    "** Given a list of integers, write a function that will return a list, in which for each index the element will be the product of all the integers except for the element at that index **\n",
    "\n",
    "**For example, an input of [1,2,3,4] would return [24,12,8,6] by performing [2×3×4,1×3×4,1×2×4,1×2×3] **\n",
    "\n",
    "## Requirements\n",
    "\n",
    "** You can not use division in your answer! Meaning you can't simply multiply all the numbers and then divide by eahc element for each index!**\n",
    "\n",
    "** Try to do this on a white board or with paper/pencil.**"
   ]
  },
  {
   "cell_type": "markdown",
   "metadata": {
    "collapsed": true
   },
   "source": [
    "___\n",
    "## Solution\n",
    "\n",
    "If you look at the list above with the multiplication you'll notice we are repeating multiplications, such as 2 times 3 or 3 times 4 for multiple entries in the new list. \n",
    "\n",
    "We'll want to take a greedy approach and keep track of these results for later re-use at other indices. We'll also need to think about what if a number is zero!\n",
    "\n",
    "In order to find the products of all the integers (except for the integer at that index) we will actually go through our list twice in a greedy fashion. \n",
    "\n",
    "On the first pass we will get the products of all the integers **before** each index, and then on the second pass we will go **backwards** to get the products of all the integers after each index.\n",
    "\n",
    "Then we just need to multiply all the products before and after each index in order to get the final product answer!\n",
    "\n",
    "Let's see this in action:"
   ]
  },
  {
   "cell_type": "code",
   "execution_count": 19,
   "metadata": {
    "collapsed": true
   },
   "outputs": [],
   "source": [
    "def index_prod(lst):\n",
    "    \n",
    "    # Create an empty output list\n",
    "    output = [None] * len(lst)\n",
    "    \n",
    "    # Set initial product and index for greedy run forward\n",
    "    product = 1\n",
    "    i = 0\n",
    "    \n",
    "    while i < len(lst):\n",
    "        \n",
    "        # Set index as cumulative product\n",
    "        output[i] = product\n",
    "        \n",
    "        # Cumulative product\n",
    "        product *= lst[i]\n",
    "        \n",
    "        # Move forward\n",
    "        i +=1\n",
    "        \n",
    "    \n",
    "    # Now for our Greedy run Backwards\n",
    "    product = 1\n",
    "    \n",
    "    # Start index at last (taking into account index 0)\n",
    "    i = len(lst) - 1\n",
    "    \n",
    "    # Until the beginning of the list\n",
    "    while i >=0:\n",
    "        \n",
    "        # Same operations as before, just backwards\n",
    "        output[i] *= product\n",
    "        product *= lst[i]\n",
    "        i -= 1\n",
    "        \n",
    "    return output    "
   ]
  },
  {
   "cell_type": "code",
   "execution_count": 20,
   "metadata": {},
   "outputs": [
    {
     "data": {
      "text/plain": [
       "[24, 12, 8, 6]"
      ]
     },
     "execution_count": 20,
     "metadata": {},
     "output_type": "execute_result"
    }
   ],
   "source": [
    "index_prod([1,2,3,4])"
   ]
  },
  {
   "cell_type": "code",
   "execution_count": 21,
   "metadata": {},
   "outputs": [
    {
     "data": {
      "text/plain": [
       "[24, 0, 0, 0, 0]"
      ]
     },
     "execution_count": 21,
     "metadata": {},
     "output_type": "execute_result"
    }
   ],
   "source": [
    "index_prod([0,1,2,3,4])"
   ]
  },
  {
   "cell_type": "code",
   "execution_count": null,
   "metadata": {},
   "outputs": [],
   "source": []
  },
  {
   "cell_type": "markdown",
   "metadata": {},
   "source": [
    "## Solution\n",
    "\n",
    "This is a problem where it helps a lot to draw out your thinking. There are a few things we will need to think about:\n",
    "\n",
    "* How can we determine an intersection?\n",
    "* What if a rectangle is fully inside another rectangle?\n",
    "* What if there is no intersection, but the rectangles share an edge?\n",
    "\n",
    "The key to solving this problem is to *break it up in to sub-problems*. We can split up the problem into an x-axis problem and a y-axis problem. \n",
    "\n",
    "We will create a function that can detect overlap in 1 dimension. Then we will split the rectangles into x and width, and y and height components. We can then determine that if there is overlap on both dimensions, then the rectangles themselves intersect!\n",
    "\n",
    "In order to understand the **calc_overlap** function, draw out two flat lines and follow along with the function and notice how it detects an overlap!\n",
    "\n",
    "Let's begin by creating a general function to detect overlap in a single dimension:"
   ]
  },
  {
   "cell_type": "code",
   "execution_count": 1,
   "metadata": {
    "collapsed": true
   },
   "outputs": [],
   "source": [
    "def calc_overlap(coor1,dim1,coor2,dim2):\n",
    "    \"\"\"\n",
    "    Takes in 2 coordinates and their length in that dimension\n",
    "    \"\"\"\n",
    "    \n",
    "    # Find greater of the two coordinates\n",
    "    # (this is either the point to the most right\n",
    "    #  or the higher point, depending on the dimension)\n",
    "    \n",
    "    # The greater point would be the start of the overlap\n",
    "    greater = max(coor1,coor2)\n",
    "    \n",
    "    # The lower point is the end of the overlap\n",
    "    lower = min(coor1+dim1,coor2+dim2)\n",
    "    \n",
    "    # Return a tuple of Nones if there is no overlap\n",
    "    \n",
    "    if greater >= lower:\n",
    "        return (None,None)\n",
    "    \n",
    "    # Otherwise, get the overlap length\n",
    "    overlap = lower-greater\n",
    "    \n",
    "    return (greater,overlap)"
   ]
  },
  {
   "cell_type": "markdown",
   "metadata": {},
   "source": [
    "Now let's use this function to detect if the rectangles overlap!"
   ]
  },
  {
   "cell_type": "code",
   "execution_count": 3,
   "metadata": {
    "collapsed": true
   },
   "outputs": [],
   "source": [
    "def calc_rect_overlap(r1,r2):\n",
    "    \n",
    "    \n",
    "    x_overlap, w_overlap = calc_overlap(r1['x'],r1['w'],r2['x'],r2['w'])\n",
    "    \n",
    "    y_overlap, h_overlap = calc_overlap(r1['y'],r1['h'],r2['y'],r2['h'])\n",
    "    \n",
    "    # If either returned None tuples, then there is no overlap!\n",
    "    if not w_overlap or not h_overlap:\n",
    "        print 'There was no overlap!'\n",
    "        return None\n",
    "    \n",
    "    # Otherwise return the dictionary format of the overlapping rectangle\n",
    "    return { 'x':x_overlap,'y': y_overlap,'w':w_overlap,'h':h_overlap}"
   ]
  },
  {
   "cell_type": "markdown",
   "metadata": {},
   "source": [
    "Our solution is O(1) for both time and space! Let's see it in action:"
   ]
  },
  {
   "cell_type": "code",
   "execution_count": 5,
   "metadata": {},
   "outputs": [
    {
     "data": {
      "text/plain": [
       "{'h': 11, 'w': 5, 'x': 2, 'y': 5}"
      ]
     },
     "execution_count": 5,
     "metadata": {},
     "output_type": "execute_result"
    }
   ],
   "source": [
    "r1 = {'x': 2 , 'y': 4,'w':5,'h':12}\n",
    "r2 = {'x': 1 , 'y': 5,'w':7,'h':14}\n",
    "calc_rect_overlap(r1,r2)"
   ]
  },
  {
   "cell_type": "code",
   "execution_count": null,
   "metadata": {},
   "outputs": [],
   "source": []
  },
  {
   "cell_type": "markdown",
   "metadata": {},
   "source": [
    "# Phone Screen - SOLUTION\n",
    "\n",
    "## Problem\n",
    "\n",
    "**A tower has 100 floors. You've been given two eggs. The eggs are strong enough that they can be dropped from a particular floor in the tower without breaking. You've been tasked to find the highest floor an egg can be dropped without breaking, in as few drops as possible. If an egg is dropped from above its target floor it will break. If it is dropped from that floor or below, it will be intact and you can test drop the egg again on another floor.**\n",
    "\n",
    "**Show algorithmically how you would go about doing this in as few drops as possible**\n",
    "## Requirements\n",
    "\n",
    "** Use paper/pencil or a whiteboard for this problem **"
   ]
  },
  {
   "cell_type": "markdown",
   "metadata": {
    "collapsed": true
   },
   "source": [
    "## Solution\n",
    "\n",
    "** We've already seen this problem in the Riddles section, here is the answer from that section.(Alternatively just google \"2 eggs 100 floors\" for a plethora of explanations regarding this same solution **\n",
    "\n",
    "\n",
    "Start from the 10th floor and go up to floors in multiples of 10.\n",
    "\n",
    "If first egg breaks, say at 20th floor then you can check all the floors between 11th and 19th with the second egg to see which floor it will not break.\n",
    "\n",
    "In this case, the worst-case number of drops is 19. If the threshold was 99th floor, then you would have to drop the first egg 10 times and the second egg 9 times in linear fashion.\n",
    "\n",
    "**Best solution:**\n",
    "We need to minimize this worst-case number of drops. For that, we need to generalize the problem to have n floors. What would be the step value, for the first egg? Would it still be 10? Suppose we have 200 floors. Would the step value be still 10? \n",
    "\n",
    "The point to note here is that we are trying to minimize the worst-case number of drops which happens if the threshold is at the highest floors. So, our steps should be of some value which reduces the number of drops of the first egg.\n",
    "\n",
    "Let's assume we take some step value m initially. If every subsequent step is m-1,\n",
    "then, \n",
    "$$m+m−1+m−2+.....+1=n$$\n",
    "\n",
    "This is \n",
    "\n",
    "$$\\frac{m∗(m+1)}{2}=n$$\n",
    "\n",
    "If n =100, then m would be 13.65 which since we can't drop from a decimal of a floor, we actually use 14.\n",
    "\n",
    "So, the worst case scenario is now when the threshold is in the first 14 floors with number of drops being 14.\n",
    "\n",
    "Note that this is simply a binary search!"
   ]
  },
  {
   "cell_type": "markdown",
   "metadata": {},
   "source": [
    "## Search Engine"
   ]
  },
  {
   "cell_type": "markdown",
   "metadata": {},
   "source": [
    "### Question 1\n",
    "Given a dice which rolls 1 to 7 (uniform probability), simulate a 5 sided dice. In other words, your given a function random_7() and you have to take it as an input and create random_5()\n",
    "\n",
    "Focus on requirement: final distribution should be uniform; no Time and Space reqs - *very* simple solution - keep re-rolling if you get a number greater than 5!"
   ]
  },
  {
   "cell_type": "code",
   "execution_count": 73,
   "metadata": {},
   "outputs": [],
   "source": [
    "from random import randint\n",
    " \n",
    "def dice7():\n",
    "    return randint(1, 7)\n",
    "\n",
    "def dice5():\n",
    "    \n",
    "    # Starting roll (just needs to be larger than 5)\n",
    "    roll = 7\n",
    "    \n",
    "    while roll > 5:\n",
    "        \n",
    "        roll = dice7()\n",
    "        print('\\tdice7() produced a roll of ', roll)\n",
    "    print('Your dice5() returned roll is:', end=' ')\n",
    "    return roll"
   ]
  },
  {
   "cell_type": "code",
   "execution_count": 82,
   "metadata": {},
   "outputs": [
    {
     "name": "stdout",
     "output_type": "stream",
     "text": [
      "\tdice7() produced a roll of  7\n",
      "\tdice7() produced a roll of  1\n",
      "Your dice5() returned roll is: "
     ]
    },
    {
     "data": {
      "text/plain": [
       "1"
      ]
     },
     "execution_count": 82,
     "metadata": {},
     "output_type": "execute_result"
    }
   ],
   "source": [
    "dice5()"
   ]
  },
  {
   "cell_type": "code",
   "execution_count": null,
   "metadata": {},
   "outputs": [],
   "source": []
  },
  {
   "cell_type": "markdown",
   "metadata": {},
   "source": [
    "### Question 2\n",
    "Given a dice which rolls from 1 to 5, simulate a uniform 7 sided dice\n",
    "\n",
    "SOLUTION: Check the __manipulated range from 1 to 25__, if it's less than 22 => remainder divide by 7, if greater than 21 => reroll  \n",
    "Explanation: 25 possible combinations for two rolls (can't use 1 roll as it's less than 7). 25 is not divisible by 7, 21 is. Using more than 2 rolls doen'st make sense because 5 and 7 are primes => no exponent of 5 will be divisible by 7.  \n",
    "Start by converting two rolls into a unique outcome number in range(1, 25): a) take first roll, subtract 1, multiply by 5 => [0, 5, 10, 15 and 20]; b) add second roll to the result => range(1-25)\n"
   ]
  },
  {
   "cell_type": "code",
   "execution_count": 114,
   "metadata": {},
   "outputs": [
    {
     "name": "stdout",
     "output_type": "stream",
     "text": [
      "The rolls were 4 and 4\n",
      "The converted range number was: 19\n"
     ]
    },
    {
     "data": {
      "text/plain": [
       "6"
      ]
     },
     "execution_count": 114,
     "metadata": {},
     "output_type": "execute_result"
    }
   ],
   "source": [
    "from random import randint\n",
    " \n",
    "def dice5():\n",
    "    return randint(1, 5)\n",
    "\n",
    "def dice7():\n",
    "    \n",
    "    while True:                                                      # constant re-roll until return\n",
    "        \n",
    "        roll_1 = dice5()\n",
    "        roll_2 = dice5()        \n",
    "        print('The rolls were {} and {}'.format(roll_1,roll_2))\n",
    "       \n",
    "        num = ( (roll_1-1) * 5 ) +  ( roll_2 )                       # convert to range(1, 25)\n",
    "        print('The converted range number was:',num)\n",
    "        \n",
    "        if num > 21:                                                 # re-roll if out of range\n",
    "            continue\n",
    "\n",
    "        return num % 7 + 1\n",
    "        \n",
    "dice7()"
   ]
  },
  {
   "cell_type": "code",
   "execution_count": null,
   "metadata": {},
   "outputs": [],
   "source": []
  },
  {
   "cell_type": "markdown",
   "metadata": {},
   "source": [
    "### Question 3\n",
    "Recursive string reversal"
   ]
  },
  {
   "cell_type": "code",
   "execution_count": 122,
   "metadata": {},
   "outputs": [
    {
     "data": {
      "text/plain": [
       "'glavryba'"
      ]
     },
     "execution_count": 122,
     "metadata": {},
     "output_type": "execute_result"
    }
   ],
   "source": [
    "def reverse(s):    \n",
    "    \n",
    "    if len(s) <= 1:                        # base case\n",
    "        return s\n",
    "    \n",
    "    #return reverse(s[1:]) + s[0]          # recursion\n",
    "    return s[-1] + reverse(s[:-1])         # recursion (either one works)\n",
    "\n",
    "reverse('abyrvalg')"
   ]
  },
  {
   "cell_type": "code",
   "execution_count": null,
   "metadata": {},
   "outputs": [],
   "source": []
  },
  {
   "cell_type": "markdown",
   "metadata": {},
   "source": [
    "### Question 4\n",
    "Find the squareroot of a given number rounded down to the nearest integer, without using the sqrt function. For example, squareroot of a number between [9, 15] should return 3, and [16, 24] should be 4\n",
    "\n",
    "The squareroot of a (non-negative) number N always lies between 0 and N/2. The straightforward way to solve this problem would be to check every number k between 0 and N/2, until the square of k becomes greater than or rqual to N. If k^2 becomes equal to N, then we return k. Otherwise, we return k-1 because we're rounding down"
   ]
  },
  {
   "cell_type": "code",
   "execution_count": 2,
   "metadata": {},
   "outputs": [
    {
     "name": "stdout",
     "output_type": "stream",
     "text": [
      "3\n",
      "3\n",
      "4\n"
     ]
    }
   ],
   "source": [
    "def solution(num): \n",
    "    if num<0: \n",
    "        raise ValueError \n",
    "    if num==1: \n",
    "        return 1 \n",
    "    for k in range(1+(num//2)): \n",
    "        if k**2==num: \n",
    "            return k \n",
    "        elif k**2>num: \n",
    "            return k-1 \n",
    "    return k\n",
    "\n",
    "print(solution(14))\n",
    "print(solution(15))\n",
    "print(solution(16))"
   ]
  },
  {
   "cell_type": "markdown",
   "metadata": {},
   "source": [
    "The complexity of this approach is O(N), because we have to check N/2 numbers in the worst case. This linear algorithm is pretty inefficient, we can use some sort of binary search to speed it up. We know that the result is between 0 and N/2, so we can first try N/4 to see whether its square is less than, greater than, or equal to N. If it’s equal then we simply return that value. If it’s less, then we continue our search between N/4 and N/2. Otherwise if it’s greater, then we search between 0 and N/4. In both cases we reduce the potential range by half and continue, this is the logic of binary search. We’re not performing regular binary search though, it’s modified. We want to ensure that we stop at a number k, where k^2<=N but (k+1)^2>N. For example:"
   ]
  },
  {
   "cell_type": "code",
   "execution_count": 3,
   "metadata": {},
   "outputs": [
    {
     "name": "stdout",
     "output_type": "stream",
     "text": [
      "3\n",
      "3\n",
      "4\n"
     ]
    }
   ],
   "source": [
    "def better_solution(num): \n",
    "    if num<0: \n",
    "        raise ValueError \n",
    "    if num==1: \n",
    "        return 1 \n",
    "    low=0 \n",
    "    high=1+(num/2) \n",
    "    \n",
    "    while low+1<high: \n",
    "        mid=low+(high-low)/2 \n",
    "        square=mid**2 \n",
    "        if square==num: \n",
    "            return mid \n",
    "        elif square<num: \n",
    "            low=mid \n",
    "        else: high=mid \n",
    "            \n",
    "    return low\n",
    "\n",
    "print(solution(14))\n",
    "print(solution(15))\n",
    "print(solution(16))"
   ]
  },
  {
   "cell_type": "markdown",
   "metadata": {},
   "source": [
    "One difference from regular binary search is the condition of the while loop, it’s low+1<high instead of low<high. Also we have low=mid instead of low=mid+1, and high=mid instead of high=mid-1. These are the modifications we make to standard binary search. The complexity is still the same though, it’s logarithmic O(logN). Which is much better than the naive linear solution.\n",
    "\n",
    "There’s also a constant time O(1) solution which involves a clever math trick. Here it is:\n",
    "\n",
    "# $$ \\sqrt{N} = N^{0.5} = 2^{\\log_2 N^{0.5}} = 2^{0.5 \\log_2 N}  $$"
   ]
  },
  {
   "cell_type": "markdown",
   "metadata": {},
   "source": [
    "This solution exploits the property that if we take the exponent of the log of a number, the result  doesn’t change, it’s still the number itself. So we can first calculate the log of a number, multiply with 0.5, take the exponent, and finally take the floor of that value to round it down. This way we can avoid using the sqrt function by using the log function. Logarithm of a number rounded down to the nearest integer can be calculated in constant time, by looking at the position of the leftmost 1 in the binary representation of the number. For example, the number 6 in binary is 110, and the leftmost 1 is at position 2 (starting from right counting from 0). So the logarithm of 6 rounded down is 2. This solution doesn’t always give the same result as above algorithms though, because of the rounding effects. And depending on the interviewer’s perspective this approach can be regarded as either very elegant and clever, or tricky and invalid. Either way, you should let your interviewer know that you are capable of the shortcut!"
   ]
  },
  {
   "cell_type": "code",
   "execution_count": null,
   "metadata": {},
   "outputs": [],
   "source": []
  },
  {
   "cell_type": "markdown",
   "metadata": {},
   "source": [
    "### Question 5\n",
    "Write a function for Nth fibonacci number"
   ]
  },
  {
   "cell_type": "code",
   "execution_count": 125,
   "metadata": {},
   "outputs": [
    {
     "name": "stdout",
     "output_type": "stream",
     "text": [
      "Looping: 89\n",
      "Recursion: 89\n",
      "Generators: 89\n",
      "Memoization: 89\n",
      "Memoization as decorator: 89\n"
     ]
    }
   ],
   "source": [
    "# LOOPING\n",
    "def fib(n):\n",
    "    \n",
    "    a,b = 1,1\n",
    "    for i in range(n-1):\n",
    "        a,b = b,a+b\n",
    "    return a\n",
    "\n",
    "print('Looping:', fib(11))\n",
    "    \n",
    "# RECURSION\n",
    "def fibR(n):\n",
    "    if n==1 or n==2:\n",
    "        return 1\n",
    "    return fib(n-1)+fib(n-2)\n",
    "\n",
    "print('Recursion:', fibR(11))\n",
    " \n",
    "# GENERATORS\n",
    "a,b = 0,1\n",
    "def fibI():\n",
    "    global a,b\n",
    "    while True:\n",
    "        a,b = b, a+b\n",
    "        yield a\n",
    "f=fibI()\n",
    "for i in range(10):\n",
    "    f.__next__()\n",
    "print('Generators:', f.__next__())\n",
    "\n",
    " \n",
    "# MEMOIZATION\n",
    "def memoize(fn, arg):\n",
    "    memo = {}\n",
    "    if arg not in memo:\n",
    "        memo[arg] = fn(arg)\n",
    "    return memo[arg]\n",
    " \n",
    "## fib() for looping\n",
    "fibm = memoize(fib, 11)\n",
    "print('Memoization:', fibm)\n",
    " \n",
    "# MEMOIZATION AS DECORATROR\n",
    "class Memoize:\n",
    "    def __init__(self, fn):\n",
    "        self.fn = fn\n",
    "        self.memo = {}\n",
    "    def __call__(self, arg):\n",
    "        if arg not in self.memo:\n",
    "            self.memo[arg] = self.fn(arg)\n",
    "            return self.memo[arg]\n",
    " \n",
    "@Memoize\n",
    "def fib(n):\n",
    "    a,b = 1,1\n",
    "    for i in range(n-1):\n",
    "        a,b = b,a+b\n",
    "    return a\n",
    "print('Memoization as decorator:', fib(11))"
   ]
  },
  {
   "cell_type": "markdown",
   "metadata": {},
   "source": [
    "Below is a table depicting averaged relative performance time in seconds over 10 runs to caluclate the 15000th fibonacci number.\n",
    "<table width=\"422\" border=\"0\" cellspacing=\"0\" cellpadding=\"0\">\n",
    "<col width=\"64\" />\n",
    "<col width=\"78\" />\n",
    "<col width=\"89\" />\n",
    "<col width=\"94\" />\n",
    "<col width=\"97\" />\n",
    "<tbody>\n",
    "<tr>\n",
    "<td colspan=\"5\" width=\"422\" height=\"20\">                                         <strong>  Fib(n=15000)</strong></td>\n",
    "</tr>\n",
    "<tr>\n",
    "<td width=\"64\" height=\"40\"><strong>loops</strong></td>\n",
    "<td width=\"78\"><strong>recursion</strong></td>\n",
    "<td width=\"89\"><strong>generators</strong></td>\n",
    "<td width=\"94\"><strong>memoization</strong></td>\n",
    "<td width=\"97\"><strong>memoization as decorator</strong></td>\n",
    "</tr>\n",
    "<tr>\n",
    "<td width=\"64\" height=\"20\">45</td>\n",
    "<td width=\"78\">87</td>\n",
    "<td width=\"89\">58</td>\n",
    "<td width=\"94\">44</td>\n",
    "<td width=\"97\">43</td>\n",
    "</tr>\n",
    "<tr>\n",
    "<td width=\"64\" height=\"20\">47</td>\n",
    "<td width=\"78\">88</td>\n",
    "<td width=\"89\">58</td>\n",
    "<td width=\"94\">42</td>\n",
    "<td width=\"97\">42</td>\n",
    "</tr>\n",
    "<tr>\n",
    "<td width=\"64\" height=\"20\">51</td>\n",
    "<td width=\"78\">92</td>\n",
    "<td width=\"89\">60</td>\n",
    "<td width=\"94\">44</td>\n",
    "<td width=\"97\">43</td>\n",
    "</tr>\n",
    "<tr>\n",
    "<td width=\"64\" height=\"20\">43</td>\n",
    "<td width=\"78\">87</td>\n",
    "<td width=\"89\">58</td>\n",
    "<td width=\"94\">42</td>\n",
    "<td width=\"97\">43</td>\n",
    "</tr>\n",
    "<tr>\n",
    "<td width=\"64\" height=\"20\">48</td>\n",
    "<td width=\"78\">92</td>\n",
    "<td width=\"89\">61</td>\n",
    "<td width=\"94\">42</td>\n",
    "<td width=\"97\">44</td>\n",
    "</tr>\n",
    "<tr>\n",
    "<td width=\"64\" height=\"20\">45</td>\n",
    "<td width=\"78\">87</td>\n",
    "<td width=\"89\">59</td>\n",
    "<td width=\"94\">43</td>\n",
    "<td width=\"97\">44</td>\n",
    "</tr>\n",
    "<tr>\n",
    "<td width=\"64\" height=\"20\">44</td>\n",
    "<td width=\"78\">85</td>\n",
    "<td width=\"89\">57</td>\n",
    "<td width=\"94\">42</td>\n",
    "<td width=\"97\">44</td>\n",
    "</tr>\n",
    "<tr>\n",
    "<td width=\"64\" height=\"20\">44</td>\n",
    "<td width=\"78\">87</td>\n",
    "<td width=\"89\">62</td>\n",
    "<td width=\"94\">43</td>\n",
    "<td width=\"97\">43</td>\n",
    "</tr>\n",
    "<tr>\n",
    "<td width=\"64\" height=\"20\">48</td>\n",
    "<td width=\"78\">86</td>\n",
    "<td width=\"89\">59</td>\n",
    "<td width=\"94\">42</td>\n",
    "<td width=\"97\">43</td>\n",
    "</tr>\n",
    "<tr>\n",
    "<td width=\"64\" height=\"21\">45</td>\n",
    "<td width=\"78\">91</td>\n",
    "<td width=\"89\">61</td>\n",
    "<td width=\"94\">45</td>\n",
    "<td width=\"97\">45</td>\n",
    "</tr>\n",
    "<tr>\n",
    "<td width=\"64\" height=\"21\"><strong>46</strong></td>\n",
    "<td width=\"78\"><strong>88.2</strong></td>\n",
    "<td width=\"89\"><strong>59.3</strong></td>\n",
    "<td width=\"94\"><strong>42.9</strong></td>\n",
    "<td width=\"97\"><strong>43.4   (Avg)</strong></td>\n",
    "</tr>\n",
    "</tbody>\n",
    "</table>"
   ]
  },
  {
   "cell_type": "code",
   "execution_count": null,
   "metadata": {},
   "outputs": [],
   "source": []
  },
  {
   "cell_type": "markdown",
   "metadata": {},
   "source": [
    "## Ride Share"
   ]
  },
  {
   "cell_type": "markdown",
   "metadata": {},
   "source": [
    "### Question 1\n",
    "Given list int, find largest product of 3 int from list\n",
    "The list will always have at least 3 integers **"
   ]
  },
  {
   "cell_type": "markdown",
   "metadata": {},
   "source": [
    "We can solve this problem in O(n) time with O(1) space, we should also be able to take into account negative numbers, so that a list like: [-5,-5,1,3] returns (-5)(-5)(3) = 75 as its answer.\n",
    "\n",
    "Hopefully you've begun to realize the similarity between this problem and the Amazon stock problem from the E-Commerce Company mock interview questions! You could brute force this problem by just simply trying every single combination of three digits, but this would require O(n^3) time!\n",
    "\n",
    "How about we use a greedy approach and keep track of some numbers. In the stock problem we kept track of max profit so far, in this problem we are actually going to keep track of several numbers:\n",
    "\n",
    "* The highest product of 3 numbers so far\n",
    "* The highest product of 2 numbers so far\n",
    "* The highest number so far\n",
    "\n",
    "Since we want to keep negative numbers in account, we will also keep track of the lowest product of two and the lowest number:\n",
    "\n",
    "* The lowest product of 2\n",
    "* The lowest number\n",
    "\n",
    "Once we iterate through the list and reach the end we will have the highest posiible product with 3 numbers. At each iteration we will take the current highest product of 3 and compare it to the current integer multiplied by the highest and lowest products of 2.\n",
    "\n",
    "Let's see this coded out:"
   ]
  },
  {
   "cell_type": "code",
   "execution_count": 1,
   "metadata": {
    "collapsed": true
   },
   "outputs": [],
   "source": [
    "def solution(lst):\n",
    "    \n",
    "    # Start at index 2 (3rd element) and assign highest and lowest \n",
    "    # based off of first two elements\n",
    "    \n",
    "    # Highest Number so far\n",
    "    high = max(lst[0],lst[1])\n",
    "    \n",
    "    # Lowest number so far\n",
    "    low = min(lst[0],lst[1])\n",
    "    \n",
    "    # Initiate Highest and lowest products of two numbers\n",
    "    high_prod2 = lst[0]*lst[1]\n",
    "    low_prod2 = lst[0]*lst[1]\n",
    "    \n",
    "    # Initiate highest product of 3 numbers\n",
    "    high_prod3 = lst[0]*lst[1]*lst[2]\n",
    "    \n",
    "    # Iterate through list\n",
    "    for num in lst[2:]:\n",
    "        \n",
    "        # Compare possible highest product of 3 numbers\n",
    "        high_prod3 = max(high_prod3,num*high_prod2,num*low_prod2)\n",
    "        \n",
    "        \n",
    "        # Check for possible new highest products of 2 numbers\n",
    "        high_prod2 = max(high_prod2,num*high,num*low)\n",
    "        \n",
    "        # Check for possible new lowest products of 2 numbers\n",
    "        low_prod2 = min(low_prod2,num*high,num*low)\n",
    "        \n",
    "        # Check for new possible high\n",
    "        high = max(high,num)\n",
    "        \n",
    "        # Check for new possible low\n",
    "        low = min(low,num)\n",
    "        \n",
    "    return high_prod3"
   ]
  },
  {
   "cell_type": "code",
   "execution_count": 5,
   "metadata": {},
   "outputs": [
    {
     "data": {
      "text/plain": [
       "763092"
      ]
     },
     "execution_count": 5,
     "metadata": {},
     "output_type": "execute_result"
    }
   ],
   "source": [
    "l = [99,-82,82,40,75,-24,39, -82, 5, 30, -25, -94, 93, -23, 48, 50, 49,-81,41,63]\n",
    "\n",
    "solution(l)"
   ]
  },
  {
   "cell_type": "code",
   "execution_count": null,
   "metadata": {},
   "outputs": [],
   "source": []
  },
  {
   "cell_type": "markdown",
   "metadata": {},
   "source": [
    "### Question 2\n",
    "Given a target amount of money and a list of possible coin denominations, returns the number of ALL possible ways to make change  \n",
    "\n",
    "In this solution we will use a [bottom-up](https://en.wikipedia.org/wiki/Top-down_and_bottom-up_design) algorithm.\n",
    "\n",
    "* As we iterate through each coin, we are adding the ways of making arr[i - coin] to arr[i]\n",
    "* If we have 2 ways of making 4, and are now iterating on a coin of value 3, there should be 2 ways of making 7.\n",
    "* We are essentially adding the coin we are iterating on to the number of ways of making arr[i]"
   ]
  },
  {
   "cell_type": "code",
   "execution_count": 126,
   "metadata": {},
   "outputs": [
    {
     "data": {
      "text/plain": [
       "884"
      ]
     },
     "execution_count": 126,
     "metadata": {},
     "output_type": "execute_result"
    }
   ],
   "source": [
    "def solution(n, coins):\n",
    "    \n",
    "    # Set up our array for trakcing results\n",
    "    arr = [1] + [0] * n\n",
    "    \n",
    "    for coin in coins:\n",
    "        for i in range(coin, n + 1):\n",
    "            arr[i] += arr[i - coin]\n",
    "            \n",
    "    if n == 0:\n",
    "        return 0\n",
    "    else:\n",
    "        return arr[n]\n",
    "\n",
    "solution(100, [1, 2, 3])    "
   ]
  },
  {
   "cell_type": "code",
   "execution_count": null,
   "metadata": {},
   "outputs": [],
   "source": []
  },
  {
   "cell_type": "markdown",
   "metadata": {},
   "source": [
    "### Question 3\n",
    "Given a binary tree, confir it's a BST (no buil-in libs)\n",
    "\n",
    "The first solution that comes to mind is, at every node check whether its value is larger than or equal to its left child and smaller than or equal to its right child (assuming equals can appear at either left or right). However, this approach is erroneous because it doesn’t check whether a node violates any condition with its grandparent or any of its ancestors. \n",
    "\n",
    "So, we should keep track of the minimum and maximum values a node can take. And at each node we will check whether its value is between the min and max values it’s allowed to take. The root can take any value between negative infinity and positive infinity. At any node, its left child should be smaller than or equal than its own value, and similarly the right child should be larger than or equal to. So during recursion, we send the current value as the new max to our left child and send the min as it is without changing. And to the right child, we send the current value as the new min and send the max without changing. "
   ]
  },
  {
   "cell_type": "code",
   "execution_count": 2,
   "metadata": {},
   "outputs": [],
   "source": [
    "class Node: \n",
    "    def __init__(self, val=None): \n",
    "        self.left, self.right, self.val = None, None, val   \n",
    "        \n",
    "INFINITY = float(\"infinity\") \n",
    "NEG_INFINITY = float(\"-infinity\")  \n",
    "\n",
    "def isBST(tree, minVal=NEG_INFINITY, maxVal=INFINITY): \n",
    "    if tree is None:\n",
    "        return True   \n",
    "    if not minVal <= tree.val <= maxVal: \n",
    "        return False   \n",
    "    \n",
    "    return isBST(tree.left, minVal, tree.val) and isBST(tree.right, tree.val, maxVal) "
   ]
  },
  {
   "cell_type": "markdown",
   "metadata": {},
   "source": [
    "There’s an equally good alternative solution. If a tree is a binary search tree, then traversing the tree inorder should lead to sorted order of the values in the tree. So, we can perform an inorder traversal and check whether the node values are sorted or not."
   ]
  },
  {
   "cell_type": "code",
   "execution_count": 3,
   "metadata": {
    "collapsed": true
   },
   "outputs": [],
   "source": [
    "def isBST2(tree, lastNode=[NEG_INFINITY]): \n",
    "    \n",
    "    if tree is None: \n",
    "        return True   \n",
    "    \n",
    "    if not isBST2(tree.left, lastNode):\n",
    "        return False   \n",
    "    \n",
    "    if tree.val < lastNode[0]: \n",
    "        return False   \n",
    "    \n",
    "    lastNode[0]=tree.val   \n",
    "    \n",
    "    return isBST2(tree.right, lastNode) "
   ]
  },
  {
   "cell_type": "code",
   "execution_count": null,
   "metadata": {},
   "outputs": [],
   "source": []
  },
  {
   "cell_type": "markdown",
   "metadata": {},
   "source": [
    "### Question 4\n",
    "If you were given a list of n integers and knew that they were sorted, how quickly could you check if a given integer was in the list?\n",
    "\n",
    "Binary search to search for an intger since the list is already sorted! This means we can find the item in [O(logn) time and O(1) space](http://bigocheatsheet.com/)!"
   ]
  },
  {
   "cell_type": "code",
   "execution_count": null,
   "metadata": {},
   "outputs": [],
   "source": []
  },
  {
   "cell_type": "markdown",
   "metadata": {},
   "source": [
    "## Social Network"
   ]
  },
  {
   "cell_type": "markdown",
   "metadata": {},
   "source": [
    "### Question 1\n",
    "Given list of int and target number, write f(x) returning bool == its possible to sum two int from list to get target number\n",
    "(cannot use an int element twice; optimize for time over space)\n",
    "\n",
    "SOLUTION: use **set**, make single pass, treating each list elem as first int of possible sum, check if there is a second int to hit the target sum - use set to check if we've already seen it, add current num to seen set"
   ]
  },
  {
   "cell_type": "code",
   "execution_count": 127,
   "metadata": {},
   "outputs": [
    {
     "name": "stdout",
     "output_type": "stream",
     "text": [
      "True\n",
      "False\n"
     ]
    }
   ],
   "source": [
    "def solution(lst,target):    \n",
    "    \n",
    "    seen = set()                                  # keep track of duplicates   \n",
    "    \n",
    "    for num in lst:                               # find if num2 + num = target\n",
    "        \n",
    "        num2 = target - num\n",
    "        \n",
    "        if num2 in seen:\n",
    "            return True\n",
    "        \n",
    "        seen.add(num)        \n",
    "   \n",
    "    return False                                  # if there is no match\n",
    "\n",
    "print(solution([1,3,5,1,7],4))\n",
    "print(solution([1,3,5,1,7],14))"
   ]
  },
  {
   "cell_type": "code",
   "execution_count": null,
   "metadata": {},
   "outputs": [],
   "source": []
  },
  {
   "cell_type": "markdown",
   "metadata": {},
   "source": [
    "### Question 3\n",
    "Write f(x) that takes list of unsorted int and max int and returns __sorted list int__ (O(nlogn) time)  \n",
    "SOLUTION: use [*counting sort*](https://en.wikipedia.org/wiki/Counting_sort) - works well if u know range of int in advance"
   ]
  },
  {
   "cell_type": "code",
   "execution_count": 133,
   "metadata": {},
   "outputs": [
    {
     "data": {
      "text/plain": [
       "[2, 3, 4, 6, 7, 8, 9]"
      ]
     },
     "execution_count": 133,
     "metadata": {},
     "output_type": "execute_result"
    }
   ],
   "source": [
    "def solution(unsorted_prices, max_price):    \n",
    "    \n",
    "    prices_to_counts = [0]* (max_price+1)                                    # list of 0s, indices 0 to max_price    \n",
    "    \n",
    "    for price in unsorted_prices:                                            # populate prices\n",
    "        prices_to_counts[price] +=1        \n",
    "    \n",
    "    sorted_prices = []                                                       # populate final sorted prices    \n",
    "    \n",
    "    for price, count in enumerate(prices_to_counts):                         # For each price in prices_to_counts       \n",
    "        for time in range(count):                                            # for the number of times the element occurs           \n",
    "            sorted_prices.append(price)                                      # add it to the sorted price list\n",
    "            \n",
    "    return sorted_prices\n",
    "\n",
    "\n",
    "solution([4,6,2,7,3,8,9],9)"
   ]
  },
  {
   "cell_type": "code",
   "execution_count": null,
   "metadata": {},
   "outputs": [],
   "source": []
  },
  {
   "cell_type": "markdown",
   "metadata": {},
   "source": [
    "### Question 4\n",
    "Keeping only first occurrences of every char in a string (removing duplicates). E. g. 'tree traversal' => 'tre avsl'  \n",
    "SOLUTION: need a data structure to keep track of chars seen and efficient search (array of size 128 for ASCII, but 100K for Unicode - inefficient for a few chars). __Set__ perfectly suits the purpose - constant time search\n",
    "\n",
    "O(n) time complexity where n = len(string) because set supports O(1) to insert and find => optimal solution. Similar to some other array questions"
   ]
  },
  {
   "cell_type": "code",
   "execution_count": 134,
   "metadata": {},
   "outputs": [
    {
     "data": {
      "text/plain": [
       "'tre avsl'"
      ]
     },
     "execution_count": 134,
     "metadata": {},
     "output_type": "execute_result"
    }
   ],
   "source": [
    "def remove_duplicates(string): \n",
    "    result=[] \n",
    "    seen=set() \n",
    "    \n",
    "    for char in string: \n",
    "        if char not in seen: \n",
    "            seen.add(char) \n",
    "            result.append(char)\n",
    "            \n",
    "    return ''.join(result)\n",
    "\n",
    "\n",
    "remove_duplicates('tree traversal')"
   ]
  },
  {
   "cell_type": "markdown",
   "metadata": {},
   "source": [
    "## REFERENCES\n",
    "### Google Interview Questions (Geekstogeeks)\n",
    "General: https://www.geeksforgeeks.org/google-interview-preparation/  \n",
    "More coding challanges from Google: https://practice.geeksforgeeks.org/explore/?company%5B%5D=Google&page=1"
   ]
  },
  {
   "cell_type": "code",
   "execution_count": null,
   "metadata": {},
   "outputs": [],
   "source": []
  }
 ],
 "metadata": {
  "kernelspec": {
   "display_name": "Python 3",
   "language": "python",
   "name": "python3"
  },
  "language_info": {
   "codemirror_mode": {
    "name": "ipython",
    "version": 3
   },
   "file_extension": ".py",
   "mimetype": "text/x-python",
   "name": "python",
   "nbconvert_exporter": "python",
   "pygments_lexer": "ipython3",
   "version": "3.8.5"
  }
 },
 "nbformat": 4,
 "nbformat_minor": 4
}
