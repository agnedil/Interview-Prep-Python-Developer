{
 "cells": [
  {
   "cell_type": "code",
   "execution_count": null,
   "id": "d85b664b",
   "metadata": {},
   "outputs": [],
   "source": []
  },
  {
   "cell_type": "markdown",
   "id": "28aaa636",
   "metadata": {},
   "source": [
    "## Multiply strings"
   ]
  },
  {
   "cell_type": "code",
   "execution_count": 2,
   "id": "ba0aaaa0",
   "metadata": {},
   "outputs": [
    {
     "data": {
      "text/plain": [
       "'56088'"
      ]
     },
     "execution_count": 2,
     "metadata": {},
     "output_type": "execute_result"
    }
   ],
   "source": [
    "# GET NUMBER FROM CHAR: ord(char) - ord('0')\n",
    "def multiply_strings(num1, num2):\n",
    "    res = 0\n",
    "    for i, c1 in enumerate(num1[::-1]):\n",
    "        for j, c2 in enumerate(num2[::-1]):\n",
    "            res += (ord(c1)-ord('0')) *\\\n",
    "                   (ord(c2)-ord('0')) *\\\n",
    "                   (10**(i+j))\n",
    "    return str(res)    \n",
    "num1, num2 = '123', '456'\n",
    "multiply_strings(num1, num2)       # '56088'"
   ]
  },
  {
   "cell_type": "markdown",
   "id": "27af76b5",
   "metadata": {},
   "source": [
    "## Longest Substr. w/Unique Chars"
   ]
  },
  {
   "cell_type": "code",
   "execution_count": null,
   "id": "00f125b9",
   "metadata": {},
   "outputs": [],
   "source": [
    "def lengthOfLongestSubstring2(s):\n",
    "    mapp = {c:0 for c in s}\n",
    "    left = 0\n",
    "    max_len = 0\n",
    "    for right, c in enumerate(s):\n",
    "        mapp[c] += 1\n",
    "        while mapp[c] > 1:\n",
    "            mapp[ s[left] ] -= 1\n",
    "            left += 1\n",
    "        max_len = max(max_len,\n",
    "                      right-left+1)\n",
    "    return max_len"
   ]
  },
  {
   "cell_type": "markdown",
   "id": "6198eb36",
   "metadata": {},
   "source": [
    "## Longest Substr. w/K Chars"
   ]
  },
  {
   "cell_type": "code",
   "execution_count": null,
   "id": "b0454623",
   "metadata": {},
   "outputs": [],
   "source": [
    "# Time c. O(n), space c. O(1)\n",
    "# At most k distinct characters\n",
    "def LongestSubstring(s, k):\n",
    "    n = len(s)\n",
    "    if n*k==0:\n",
    "        return 0\n",
    "    l, r = 0, 0\n",
    "    mapp = dict()\n",
    "    max_len = 2\n",
    "    for c in s:\n",
    "        mapp[ s[r] ] = r\n",
    "        r += 1\n",
    "        if len(mapp) == k+1:\n",
    "            del_idx = min(mapp.values())\n",
    "            del mapp[ s[del_idx] ]\n",
    "            l = del_idx + 1\n",
    "        max_len = max(max_len, r - l)\n",
    "    return max_len"
   ]
  },
  {
   "cell_type": "markdown",
   "id": "e1a05198",
   "metadata": {},
   "source": [
    "## Minimum Window Substring"
   ]
  },
  {
   "cell_type": "code",
   "execution_count": 3,
   "id": "b3b7cd59",
   "metadata": {},
   "outputs": [],
   "source": [
    "# time/space c. O(n+m)\n",
    "# min. contig. substr. of s w/all chars from t\n",
    "from collections import Counter\n",
    "def minWindow(s, t):\n",
    "    if not t or not s:\n",
    "        return ''\n",
    "    # unique chars in t and curr window\n",
    "    dict_t = Counter(t)\n",
    "    curr = {}\n",
    "    len_t  = len(dict_t)    \n",
    "    len_curr  = 0             \n",
    "    l,r = 0,0\n",
    "    # length, l, r\n",
    "    res = float('inf'), None, None\n",
    "    while r < len(s):\n",
    "        char = s[r]\n",
    "        curr[ char ] = curr.get(char, 0) + 1\n",
    "        if char in dict_t and\\\n",
    "        curr[char] == dict_t[char]:\n",
    "            len_curr += 1\n",
    "        while l <= r and len_curr == len_t:\n",
    "            char = s[l]\n",
    "            if r - l + 1 < res[0]:\n",
    "                res = (r - l + 1, l, r)\n",
    "            curr[ char ] -= 1\n",
    "            if char in dict_t and\\\n",
    "            curr[char] < dict_t[char]:\n",
    "                len_curr -= 1\n",
    "            l += 1\n",
    "        r += 1\n",
    "    return '' if res[0]==float('inf') else\\\n",
    "           s[res[1]:res[2]+1]"
   ]
  },
  {
   "cell_type": "code",
   "execution_count": null,
   "id": "9c6931d4",
   "metadata": {},
   "outputs": [],
   "source": []
  },
  {
   "cell_type": "markdown",
   "id": "7b17807c",
   "metadata": {},
   "source": [
    "## Median of Two Sorted Arrays"
   ]
  },
  {
   "cell_type": "code",
   "execution_count": null,
   "id": "44ea4850",
   "metadata": {},
   "outputs": [],
   "source": [
    "# time O(log(min(N,M)), space O(1). BIN SEARCH\n",
    "def median(nums1, nums2):\n",
    "    # capture edge cases\n",
    "    if len(nums2) < len(nums1):\n",
    "        nums1, nums2 = nums2, nums1\n",
    "    total = len(nums1) + len(nums2)\n",
    "    half = total // 2\n",
    "    l, r = 0, len(nums1)-1    \n",
    "    # median is guaranteed\n",
    "    while True:\n",
    "        i = (l + r) // 2    # for nums1\n",
    "        # subtr. 2 - j starts at 0, i starts at 0\n",
    "        j = half - i - 2    # for nums2        \n",
    "        # overflow of indices\n",
    "        nums1_left  = nums1[i] if i >= 0 else float(\"-inf\")\n",
    "        nums1_right = nums1[i+1] if (i+1) < len(nums1) else float(\"inf\")\n",
    "        nums2_left  = nums2[j] if j >= 0 else float(\"-inf\")\n",
    "        nums2_right = nums2[j+1] if (j+1) < len(nums2) else float(\"inf\")\n",
    "        # if correct partition is found\n",
    "        if nums1_left <= nums2_right and nums2_left <= nums1_right:\n",
    "            if total % 2:\n",
    "                return min(nums1_right, nums2_right)\n",
    "            else:\n",
    "                return ( max(nums1_left, nums2_left) +\\\n",
    "                         min(nums1_right, nums2_right) ) / 2\n",
    "        # if no correct partition - arrays are in ascending order\n",
    "        elif nums1_left > nums2_right:\n",
    "            r = i - 1\n",
    "        else:\n",
    "            l = i + 1"
   ]
  },
  {
   "cell_type": "markdown",
   "id": "d578097d",
   "metadata": {},
   "source": [
    "## Merge k Sorted Linked Lists"
   ]
  },
  {
   "cell_type": "code",
   "execution_count": null,
   "id": "e24a440b",
   "metadata": {},
   "outputs": [],
   "source": [
    "# time c. O(Nlogk), k = # lists. Space c. O(1)\n",
    "def mergeKLists(lists):\n",
    "    n = len(lists)\n",
    "    interval = 1\n",
    "    while interval < n:\n",
    "        for i in range( 0, n-interval,\n",
    "                        interval*2 ):\n",
    "            lists[i] = merge2Lists( lists[i],\n",
    "                                    lists[i+interval] )\n",
    "        interval *= 2\n",
    "    return lists[0] if n > 0 else None\n",
    "\n",
    "def merge2Lists(l1, l2):\n",
    "    head = point = Node(0)\n",
    "    while l1 and l2:\n",
    "        if l1.val <= l2.val:\n",
    "            point.next = l1\n",
    "            l1 = l1.next\n",
    "        else:\n",
    "            point.next = l2\n",
    "            l2 = l1\n",
    "            l1 = point.next.next\n",
    "        point = point.next\n",
    "    if not l1: point.next=l2\n",
    "    else: point.next=l1\n",
    "    return head.next"
   ]
  },
  {
   "cell_type": "markdown",
   "id": "d036bbb4",
   "metadata": {},
   "source": [
    "## Merge k Sorted Arrays"
   ]
  },
  {
   "cell_type": "code",
   "execution_count": null,
   "id": "fd455fbf",
   "metadata": {},
   "outputs": [],
   "source": [
    "# time c. O(kN*Logk) since\n",
    "# using heap (N*Logk) k times;\n",
    "# space c. O(N) - output array\n",
    "from heapq import merge\n",
    "def mergeK(arr, k):\n",
    "    l = arr[0]\n",
    "    for i in range(k-1):\n",
    "        l = list(merge(l, arr[i + 1]))\n",
    "    return l"
   ]
  },
  {
   "cell_type": "markdown",
   "id": "a0093491",
   "metadata": {},
   "source": [
    "## Kth Largest Element in Array"
   ]
  },
  {
   "cell_type": "code",
   "execution_count": null,
   "id": "b3894656",
   "metadata": {},
   "outputs": [],
   "source": [
    "# time = O(n), space = O(1)\n",
    "def findKthLargest(nums, k):\n",
    "    def partition(left, right, pivot_idx):\n",
    "        pivot = nums[pivot_idx]\n",
    "        # 1. move pivot to end\n",
    "        nums[pivot_idx], nums[right] = nums[right], nums[pivot_idx]\n",
    "        # 2. move all smaller elements to the left\n",
    "        store_idx = left\n",
    "        for i in range(left, right):\n",
    "            if nums[i] < pivot:\n",
    "                nums[store_idx], nums[i] = nums[i], nums[store_idx]\n",
    "                store_idx += 1\n",
    "        # 3. move pivot to its final place\n",
    "        nums[right], nums[store_idx] = nums[store_idx], nums[right]\n",
    "        return store_idx\n",
    "\n",
    "    def select_rec(left, right, k_smallest):\n",
    "        if left == right:    # base case - 1 elem\n",
    "            return nums[left]\n",
    "        pivot_idx = random.randint(left, right)\n",
    "        # find pivot pos in sorted list\n",
    "        pivot_idx = partition(left, right, pivot_idx)\n",
    "        # if pivot in final sorted position\n",
    "        if k_smallest == pivot_idx:\n",
    "             return nums[k_smallest]        \n",
    "        elif k_smallest < pivot_idx:    # go left\n",
    "            return select_rec(left, pivot_idx-1, k_smallest)        \n",
    "        else:                           # go right\n",
    "            return select_rec(pivot_idx+1, right, k_smallest)\n",
    "    # kth largest = (n - k)th smallest \n",
    "    return select_rec(0, len(nums)-1, len(nums)-k)"
   ]
  },
  {
   "cell_type": "code",
   "execution_count": null,
   "id": "3a30d988",
   "metadata": {},
   "outputs": [],
   "source": []
  },
  {
   "cell_type": "markdown",
   "id": "5600b978",
   "metadata": {},
   "source": [
    "## Dijkstra’s Algorithm\n",
    "Shortest path from one vertex to all others"
   ]
  },
  {
   "cell_type": "code",
   "execution_count": 4,
   "id": "05eb0e2a",
   "metadata": {},
   "outputs": [],
   "source": [
    "# time c. O(V + E*logE), iterative, BFS\n",
    "import heapq    # min heap of (distance, vertex) pairs\n",
    "# control iteration order - to pick vertex w/smallest dist\n",
    "def calculate_distances(graph, start):\n",
    "    # cost from start to each destination\n",
    "    distances = {vertex: float('infinity') for vertex in graph}\n",
    "    distances[start] = 0\n",
    "    pq = [(0, start)]          # min heap or priority queue    \n",
    "    while len(pq) > 0:\n",
    "        # pop smallest, maintain heap\n",
    "        current_distance, current_vertex = heapq.heappop(pq)\n",
    "        # nodes can be added to pq multiple times; process node\n",
    "        # first time it's removed from pq\n",
    "        if current_distance > distances[current_vertex]:\n",
    "            continue\n",
    "        for neighbor, weight in graph[current_vertex].items():\n",
    "            distance = current_distance + weight\n",
    "            # only if new path is better\n",
    "            if distance < distances[neighbor]:\n",
    "                distances[neighbor] = distance\n",
    "                # push onto heap, maintain heap\n",
    "                heapq.heappush(pq, (distance, neighbor))\n",
    "    return distances"
   ]
  },
  {
   "cell_type": "markdown",
   "id": "813041ec",
   "metadata": {},
   "source": [
    "### Floyd Warshall Algorithm\n",
    "Shortest path between all pairs of nodes"
   ]
  },
  {
   "cell_type": "code",
   "execution_count": 5,
   "id": "13713b3b",
   "metadata": {},
   "outputs": [],
   "source": [
    "# time c. O(V^3)\n",
    "def floyd_warshall(graph):\n",
    "    dist = list(map(lambda i : list(map(lambda j : j , i)) , graph))        \n",
    "    for k in range(V):        \n",
    "        for i in range(V):        # all vertices as source            \n",
    "            for j in range(V):    # all vertices as destination  \n",
    "                # update dist[i][j] if vertex k on shortest path from i to j\n",
    "                dist[i][j] = min(dist[i][j], dist[i][k] + dist[k][j])                \n",
    "    return dist"
   ]
  },
  {
   "cell_type": "markdown",
   "id": "80edd35f",
   "metadata": {},
   "source": [
    "## Min. spanning tree - Prim's algo\n",
    "S.t. for a graph G = (V,E) is __acyclic subset of E connecting all vertices in V__  \n",
    "(sum of edge weights minimized)  \n",
    "Most efficient info flow. There may be several spanning trees -  \n",
    "we need to find the minimum one.  \n",
    "Using priority queue to select next vertex for growing graph"
   ]
  },
  {
   "cell_type": "code",
   "execution_count": 7,
   "id": "8c351fda",
   "metadata": {},
   "outputs": [],
   "source": [
    "from collections import defaultdict\n",
    "import heapq\n",
    "def min_spanning_tree(graph, start):\n",
    "    ''' Outputs mst - min. spanning tree '''\n",
    "    mst     = defaultdict(set)\n",
    "    visited = set([ start ])\n",
    "    edges   = [ (cost, start, to)\n",
    "                for to, cost in graph[start].items() ]\n",
    "    heapq.heapify(edges)\n",
    "    while edges:\n",
    "        cost, frm, to = heapq.heappop(edges)\n",
    "        if to not in visited:\n",
    "            visited.add(to)\n",
    "            mst[frm].add(to)\n",
    "            for to_next, cost in graph[to].items():\n",
    "                if to_next not in visited:\n",
    "                    heapq.heappush(edges, (cost, to, to_next))\n",
    "    return mst"
   ]
  },
  {
   "cell_type": "code",
   "execution_count": null,
   "id": "a90c6c75",
   "metadata": {},
   "outputs": [],
   "source": []
  },
  {
   "cell_type": "markdown",
   "id": "8eccdc26",
   "metadata": {},
   "source": [
    "## Traveling Salesman Problem (TSP)\n",
    "NP hard problem. There is no known polynomial time solution"
   ]
  },
  {
   "cell_type": "code",
   "execution_count": 8,
   "id": "113fce2f",
   "metadata": {},
   "outputs": [
    {
     "name": "stdout",
     "output_type": "stream",
     "text": [
      "80\n"
     ]
    }
   ],
   "source": [
    "# Naive approach. Time c. n!\n",
    "from sys import maxsize \n",
    "V = 4\n",
    "def travellingSalesmanProblem(graph, s):    \n",
    "    vertices = []         # all verteces, but source vtx                                  \n",
    "    for i in range(V): \n",
    "        if i != s: \n",
    "            vertices.append(i)    \n",
    "    min_pathweight = maxsize   # min weight Hamiltonian Cycle  \n",
    "    while True:         \n",
    "        current_pathweight = 0 # current Path weight(cost)        \n",
    "        k = s                  # compute current path weight \n",
    "        for i in range(len(vertices)): \n",
    "            current_pathweight += graph[k][vertices[i]] \n",
    "            k = vertices[i] \n",
    "        current_pathweight += graph[k][s]        \n",
    "        min_pathweight = min(min_pathweight,\n",
    "                             current_pathweight) #update min  \n",
    "        if not next_permutation(vertices): \n",
    "            break  \n",
    "    return min_pathweight \n",
    "\n",
    "def next_permutation(L):  \n",
    "    n = len(L)  \n",
    "    i = n - 2\n",
    "    while i >= 0 and L[i] >= L[i + 1]: \n",
    "        i -= 1  \n",
    "    if i == -1: \n",
    "        return False  \n",
    "    j = i + 1\n",
    "    while j < n and L[j] > L[i]: \n",
    "        j += 1\n",
    "    j -= 1  \n",
    "    L[i], L[j] = L[j], L[i]  \n",
    "    left = i + 1\n",
    "    right = n - 1  \n",
    "    while left < right: \n",
    "        L[left], L[right] = L[right], L[left] \n",
    "        left += 1\n",
    "        right -= 1  \n",
    "    return True\n",
    "\n",
    "  \n",
    "# matrix representation of graph \n",
    "graph = [[0, 10, 15, 20], [10, 0, 35, 25],  \n",
    "         [15, 35, 0, 30], [20, 25, 30, 0]] \n",
    "start = 0\n",
    "print(travellingSalesmanProblem(graph, s)) "
   ]
  },
  {
   "cell_type": "code",
   "execution_count": null,
   "id": "fc8e591b",
   "metadata": {},
   "outputs": [],
   "source": []
  },
  {
   "cell_type": "markdown",
   "id": "ac58807e",
   "metadata": {},
   "source": [
    "## # Nodes in Compl. Bin. Tree < O(n)"
   ]
  },
  {
   "cell_type": "code",
   "execution_count": null,
   "id": "9055a365",
   "metadata": {},
   "outputs": [],
   "source": [
    "# time=O(d^2)=O((logN)^2), d=depth, space = O(1)\n",
    "def countNodes(root: TreeNode) -> int:\n",
    "    if not root: return 0        \n",
    "    d = compute_depth(root)\n",
    "    if d == 0: return 1        \n",
    "    # Last level nodes - 0 to 2**d-1 (left->right)\n",
    "    # Bin search to check how many nodes exist\n",
    "    left, right = 1, 2**d - 1\n",
    "    while left <= right:\n",
    "        pivot = left + (right - left) // 2\n",
    "        if exists(pivot, d, root):\n",
    "            left = pivot + 1\n",
    "        else:\n",
    "            right = pivot - 1\n",
    "    # there are only left nodes on last level\n",
    "    return (2**d - 1) + left\n",
    "\n",
    "def compute_depth(node: Node) -> int:\n",
    "    d = 0\n",
    "    while node.left:\n",
    "        node = node.left\n",
    "        d += 1\n",
    "    return d\n",
    "\n",
    "def exists(idx: int, d: int, node: Node) -> bool:\n",
    "    '''Return True if last level node idx exists'''\n",
    "    left, right = 0, 2**d - 1\n",
    "    for _ in range(d):\n",
    "        pivot = left + (right - left) // 2\n",
    "        if idx <= pivot:\n",
    "            node = node.left\n",
    "            right = pivot\n",
    "        else:\n",
    "            node = node.right\n",
    "            left = pivot + 1\n",
    "    return node is not None"
   ]
  },
  {
   "cell_type": "markdown",
   "id": "e4e236b7",
   "metadata": {},
   "source": [
    "## Delete Nodes, Return Forest"
   ]
  },
  {
   "cell_type": "code",
   "execution_count": null,
   "id": "cfc5df3b",
   "metadata": {},
   "outputs": [],
   "source": [
    "def delNodes( root: Node,\n",
    "              to_delete: List[int],\n",
    "            ) -> List[Node]:       \n",
    "    res, to_delete = [], set(to_delete)\n",
    "    def helper(root):\n",
    "        if root:\n",
    "            # next line exec. after recursion on way up\n",
    "            root.left,root.right = (helper(root.left),\n",
    "                                    helper(root.right))\n",
    "            if root.val not in to_delete:\n",
    "                return root\n",
    "            res.append(root.left)  # if root is deleted\n",
    "            res.append(root.right) # if root is deleted\n",
    "    res.append(helper(root))            \n",
    "    return([ i for i in res if i ])"
   ]
  },
  {
   "cell_type": "markdown",
   "id": "483a9c29",
   "metadata": {},
   "source": [
    "## Longest Increasing Path in Matrix"
   ]
  },
  {
   "cell_type": "code",
   "execution_count": null,
   "id": "b77dee37",
   "metadata": {},
   "outputs": [],
   "source": [
    "# time and space = O(mn)\n",
    "def longestIncreasingPath(matrix):\n",
    "    def dfs(i, j):\n",
    "        if not dp[i][j]:\n",
    "            val = matrix[i][j]\n",
    "            dp[i][j] = 1 + max(\n",
    "                dfs(i - 1, j) if i and val > matrix[i - 1][j] else 0,\n",
    "                dfs(i + 1, j) if i < M - 1 and val > matrix[i + 1][j] else 0,\n",
    "                dfs(i, j - 1) if j and val > matrix[i][j - 1] else 0,\n",
    "                dfs(i, j + 1) if j < N - 1 and val > matrix[i][j + 1] else 0)\n",
    "        return dp[i][j]\n",
    "    if not matrix or not matrix[0]: return 0\n",
    "    M, N = len(matrix), len(matrix[0])\n",
    "    dp = [[0] * N for i in range(M)]\n",
    "    return max(dfs(x, y) for x in range(M) for y in range(N))"
   ]
  },
  {
   "cell_type": "code",
   "execution_count": null,
   "id": "b87206e1",
   "metadata": {},
   "outputs": [],
   "source": []
  },
  {
   "cell_type": "markdown",
   "id": "455be7b2",
   "metadata": {},
   "source": [
    "## Build Bin Tree from Array\n",
    "Use level-order traversal to convert back to array"
   ]
  },
  {
   "cell_type": "code",
   "execution_count": null,
   "id": "72a5e99a",
   "metadata": {},
   "outputs": [],
   "source": [
    "# time = space = O(n)\n",
    "class Node:\n",
    "    def __init__(self, val):\n",
    "        self.val = val\n",
    "        self.left = self.right = None\n",
    "\n",
    "def insertLevelOrder(arr, i, n):\n",
    "    root = None    \n",
    "    if i < n:                     # base case\n",
    "        root = Node(arr[i])\n",
    "        root.left  = insertLevelOrder(arr, 2*i+1, n)\n",
    "        root.right = insertLevelOrder(arr, 2*i+2, n)         \n",
    "    return root\n",
    "\n",
    "arr = [1,2,3,4,5,6,None,None,None,7,8 ]\n",
    "n = len(arr)\n",
    "root = insertLevelOrder(arr, 0, n)"
   ]
  },
  {
   "cell_type": "code",
   "execution_count": null,
   "id": "ec358e10",
   "metadata": {},
   "outputs": [],
   "source": []
  },
  {
   "cell_type": "markdown",
   "id": "fe99714b",
   "metadata": {},
   "source": [
    "## Backtracking - Words from Phone Number"
   ]
  },
  {
   "cell_type": "code",
   "execution_count": null,
   "id": "2f4d01af",
   "metadata": {},
   "outputs": [],
   "source": [
    "# time = O(N * (4^N)), N = len(digits), space = O(n)\n",
    "def letterCombinations(digits: str) -> List[str]:\n",
    "    if len(digits) == 0: return []\n",
    "    letters = {\"2\": \"abc\", \"3\": \"def\", \"4\": \"ghi\",\n",
    "               \"5\": \"jkl\", \"6\": \"mno\", \"7\": \"pqrs\",\n",
    "               \"8\": \"tuv\", \"9\": \"wxyz\"}\n",
    "    def backtrack(index, path):        \n",
    "        if len(path) == len(digits):  # base case\n",
    "            combinations.append(\"\".join(path))\n",
    "            return\n",
    "        # letters mapped to current digit\n",
    "        possible_letters = letters[digits[index]]\n",
    "        for letter in possible_letters:\n",
    "            path.append(letter)\n",
    "            backtrack(index + 1, path)            \n",
    "            path.pop()   # remove before moving on\n",
    "    combinations = []\n",
    "    backtrack(0, [])\n",
    "    return combinations"
   ]
  },
  {
   "cell_type": "code",
   "execution_count": null,
   "id": "8681fac9",
   "metadata": {},
   "outputs": [],
   "source": []
  },
  {
   "cell_type": "markdown",
   "id": "24009d80",
   "metadata": {},
   "source": [
    "## Reorder List (3 challenges in one)\n",
    "L0 → Ln → L1 → Ln - 1 → L2 → Ln - 2 → …"
   ]
  },
  {
   "cell_type": "code",
   "execution_count": null,
   "id": "daea71a2",
   "metadata": {},
   "outputs": [],
   "source": [
    "# in-place, time O(n), space O(1)\n",
    "def reorderList(head: Node) -> None:\n",
    "    if not head: return\n",
    "    # FIND MIDDLE\n",
    "    slow = fast = head\n",
    "    while fast and fast.next:\n",
    "        slow = slow.next\n",
    "        fast = fast.next.next\n",
    "    # REVERSE SECOND LIST IN-PLACE\n",
    "    prev, curr = None, slow\n",
    "    while curr:\n",
    "        curr.next, prev, curr = prev, curr, curr.next       \n",
    "    # MERGE 1->6->2->5->3->4\n",
    "    first, second = head, prev\n",
    "    while second.next:\n",
    "        first.next, first = second, first.next\n",
    "        second.next, second = first, second.next"
   ]
  },
  {
   "cell_type": "code",
   "execution_count": null,
   "id": "1ae99e9e",
   "metadata": {},
   "outputs": [],
   "source": []
  },
  {
   "cell_type": "code",
   "execution_count": null,
   "id": "ef1e9bc1",
   "metadata": {},
   "outputs": [],
   "source": []
  }
 ],
 "metadata": {
  "kernelspec": {
   "display_name": "Python 3 (ipykernel)",
   "language": "python",
   "name": "python3"
  },
  "language_info": {
   "codemirror_mode": {
    "name": "ipython",
    "version": 3
   },
   "file_extension": ".py",
   "mimetype": "text/x-python",
   "name": "python",
   "nbconvert_exporter": "python",
   "pygments_lexer": "ipython3",
   "version": "3.10.10"
  }
 },
 "nbformat": 4,
 "nbformat_minor": 5
}
