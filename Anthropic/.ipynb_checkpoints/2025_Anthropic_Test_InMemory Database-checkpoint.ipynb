{
 "cells": [
  {
   "cell_type": "markdown",
   "id": "3d23a946",
   "metadata": {},
   "source": [
    "# Anthropic Test - In Memory Database\n",
    "\n",
    "https://aonecode.com/iq/docs/antropic/online-assessment/in-memory-db\n",
    "\n",
    "__Requirements__  \n",
    "Your task is to implement a simplified version of an in-memory database. Plan your design according to the level specifications below:\n",
    "* Level 1: In-memory database should support basic operations to manipulate records, fields, and values within fields.\n",
    "* Level 2: In-memory database should support displaying a specific record's fields based on a filter.\n",
    "* Level 3: In-memory database should support TTL (Time-To-Live) configurations on database records.\n",
    "* Level 4: In-memory database should support backup and restore functionality. To move to the next level, you need to pass all the tests at this level.\n",
    "\n",
    "Note You will receive a list of queries to the system, and the final output should be an array of strings representing the returned values of all queries. Each query will only call one operation."
   ]
  },
  {
   "cell_type": "markdown",
   "id": "11f31213",
   "metadata": {},
   "source": [
    "## Level 1\n",
    "The basic level of the in-memory database contains records. Each record can be accessed with a unique identifier key of string type. A record may contain several field-value pairs, both of which are of string type.\n",
    "```\n",
    "* SET <key> <field> <value> — should insert a field-value pair to the record associated with key. If the field in the record already exists, replace the existing value with the specified value. If the record does not exist, create a new one. This operation should return an empty string.\n",
    "* GET <key> <field> — should return the value contained within field of the record associated with key. If the record or the field doesn't exist, should return an empty string.\n",
    "* DELETE <key> <field> — should remove the field from the record associated with key. Returns if the field was successfully deleted, and \"false\" if the key or the field do not exist in the database.\n",
    "    \n",
    "The example below shows how these operations should work:\n",
    "    \n",
    "\n",
    "Queries\n",
    "\n",
    "queries = [\n",
    "[\"SET\", \"A\", \"B\", \"E\"],\n",
    "[\"SET\", \"A\", \"C\", \"F\"],\n",
    "[\"GET\", \"A\", \"B\"],\n",
    "[\"GET\", \"A\", \"D\"],\n",
    "[\"DELETE\", \"A\", \"B\"],\n",
    "[\"DELETE\", \"A\", \"D\"]\n",
    "]\n",
    "\n",
    "Explanations\n",
    "\n",
    "returns \"\"; database state: {\"A\": {\"B\": \"E\"}}\n",
    "returns \"\"; database state: {\"A\": {\"C\": \"F\", \"B\":\"E\"}}\n",
    "returns \"E\"\n",
    "returns \"\"\n",
    "returns \"true\"; database state: {\"A\": {\"C\": \"F\"}}\n",
    "returns \"false\"; database state: {\"A\": {\"C\": \"F\"}}\n",
    "```"
   ]
  },
  {
   "cell_type": "code",
   "execution_count": 6,
   "id": "f483ba45",
   "metadata": {},
   "outputs": [],
   "source": [
    "class InMemoryDatabase:\n",
    "    \n",
    "    def __init__(self) -> None:\n",
    "        self.db = dict()\n",
    "        \n",
    "    def set(self, key, field, value) -> str:\n",
    "        if not key in self.db:\n",
    "            self.db[key] = {field: value}\n",
    "        else:\n",
    "            self.db[key][field] = value\n",
    "        return ''"
   ]
  },
  {
   "cell_type": "code",
   "execution_count": 7,
   "id": "f29deaa8",
   "metadata": {},
   "outputs": [
    {
     "data": {
      "text/plain": [
       "''"
      ]
     },
     "execution_count": 7,
     "metadata": {},
     "output_type": "execute_result"
    }
   ],
   "source": [
    "imdb = InMemoryDatabase()\n",
    "imdb.set(\"A\", \"B\", \"E\")"
   ]
  },
  {
   "cell_type": "code",
   "execution_count": 9,
   "id": "96513219",
   "metadata": {},
   "outputs": [
    {
     "data": {
      "text/plain": [
       "{'A': {'B': 'E'}}"
      ]
     },
     "execution_count": 9,
     "metadata": {},
     "output_type": "execute_result"
    }
   ],
   "source": [
    "imdb.db"
   ]
  },
  {
   "cell_type": "code",
   "execution_count": null,
   "id": "b73fb17f",
   "metadata": {},
   "outputs": [],
   "source": []
  },
  {
   "cell_type": "markdown",
   "id": "fdd86594",
   "metadata": {},
   "source": [
    "## Level 2\n",
    "The database should support displaying data based on filters. Introduce an operation to support printing some fields of a record.\n",
    "```\n",
    "* SCAN <key> — should return a string representing the fields of a record associated with key. The returned string should be in the following format \"<field1>(<value1>), <field2>(<value2>), ...\", where fields are sorted lexicographically. If the specified record does not exist, returns an empty string.\n",
    "* SCAN_BY_PREFIX <key> <prefix> — should return a string representing some fields of a record associated with key. Specifically, only fields that start with prefix should be included. The returned string should be in the same format as in the SCAN operation with fields sorted in lexicographical order.\n",
    "Examples\n",
    "The example below shows how these operations should work\n",
    "\n",
    "Queries\n",
    "\n",
    "queries = [\n",
    "[\"SET\", \"A\", \"BC\", \"E\"],\n",
    "[\"SET\", \"A\", \"BD\", \"F\"],\n",
    "[\"SET\", \"A\", \"C\", \"G\"],\n",
    "[\"SCAN_BY_PREFIX\", \"A\", \"B\"],\n",
    "[\"SCAN\", \"A\"],\n",
    "[\"SCAN_BY_PREFIX\", \"B\", \"B\"] ]\n",
    "\n",
    "Explanations\n",
    "\n",
    "returns \"\"; database state: {\"A\": {\"BC\": \"E\"}}\n",
    "returns \"\"; database state: {\"A\": {\"BC\": \"E\", \"BD\": \"F\"}}\n",
    "returns \"\"; database state: {\"A\": {\"BC\": \"E\", \"BD\": \"F\", \"C\": \"G\"}}\n",
    "returns \"BC(E), BD(F)\"\n",
    "returns \"BC(E), BD(F), C(G)\"\n",
    "returns \"\"\n",
    "```\n",
    "the output should be [\"\", \"\", \"\", \"BC(E), BD(F)\", \"BC(E), BD(F), C(G)\", \"\"]."
   ]
  },
  {
   "cell_type": "code",
   "execution_count": null,
   "id": "88b1aaab",
   "metadata": {},
   "outputs": [],
   "source": []
  },
  {
   "cell_type": "code",
   "execution_count": null,
   "id": "6a77af6b",
   "metadata": {},
   "outputs": [],
   "source": []
  },
  {
   "cell_type": "markdown",
   "id": "8bb58ea1",
   "metadata": {},
   "source": [
    "## Level 3\n",
    "Support the timeline of operations and TTL (Time-To-Live) settings for records and fields. Each operation from previous levels now has an alternative version with a timestamp parameter to represent when the operation was executed. For each field-value pair in the database, the TTL determines how long that value will persist before being removed. Notes:\n",
    "\n",
    "Time should always flow forward, so timestamps are guaranteed to strictly increase as operations are executed.\n",
    "Each test cannot contain both versions of operations (with and without timestamp). However, you should maintain backward compatibility, so all previously defined methods should work in the same way as before.\n",
    "```\n",
    "* SET_AT <key> <field> <value> <timestamp> — should insert a field-value pair or updates the value of the field in the record associated with key. This operation should return an empty string.\n",
    "* SET_AT_WITH_TTL <key> <field> <value> <timestamp> <ttl> — should insert a field-value pair or update the value of the field in the record associated with key. Also sets its Time-To-Live starting at timestamp to be ttl. The ttl is the amount of time that this field-value pair should exist in the database, meaning it will be available during this interval: [timestamp, timestamp + ttl). This operation should return an empty string.\n",
    "* DELETE_AT <key> <field> <timestamp> — the same as DELETE, but with timestamp of the operation specified. Should return \"true\" if the field existed and was successfully deleted and \"false\" if the key didn't exist.\n",
    "* GET_AT <key> <field> <timestamp> — the same as GET, but with timestamp of the operation specified.\n",
    "* SCAN_AT <key> <timestamp> — the same as SCAN, but with timestamp of the operation specified.\n",
    "* SCAN_BY_PREFIX_AT <key> <prefix> <timestamp> — the same as SCAN_BY_PREFIX, but with timestamp of the operation specified.\n",
    "\n",
    "The examples below show how these operations should work:\n",
    "\n",
    "Example 1\n",
    "\n",
    "Queries\n",
    "\n",
    "queries = [ \n",
    "[\"SET_AT_WITH_TTL\", \"A\", \"BC\", \"E\", \"1\", \"9\"], \n",
    "[\"SET_AT_WITH_TTL\", \"A\", \"BC\", \"E\", \"5\", \"10\"], \n",
    "[\"SET_AT\", \"A\", \"BD\", \"F\", \"5\"], \n",
    "[\"SCAN_BY_PREFIX_AT\", \"A\", \"B\", \"14\"], \n",
    "[\"SCAN_BY_PREFIX_AT\", \"A\", \"B\", \"15\"] \n",
    "]\n",
    "Explanations\n",
    "\n",
    "returns \"\"; database state: {\"A\": {\"BC\": \"E\"}} \n",
    "where {\"BC\": \"E\"} expires at timestamp 10 returns \"\"; database state: {\"A\": {\"BC\": \"E\"}} \n",
    "as field \"BC\" in record \"A\" already \n",
    "exists, it was overwritten, \n",
    "and {\"BC\": \"E\"} now expires at timestamp 15 \n",
    "returns \"\"; database state: {\"A\": {\"BC\": E\", \"BD\": \"F\"}} \n",
    "where {\"BD\": \"F\"} does not expire \n",
    "returns \"BC(E), BD(F)\" \n",
    "returns \"BD(F)\"\n",
    "the output should be [\"\", \"\", \"\", \"BC(E), BD(F)\", \"BD(F)\"].\n",
    "\n",
    "Example2\n",
    "\n",
    "Queries\n",
    "\n",
    "queries = [ \n",
    "[\"SET_AT\", \"A\", \"B\", \"C\", \n",
    "\"1\"], \n",
    "[\"SET_AT_WITH_TTL\", \"X\", \n",
    "\"Y\", \"Z\", \"2\", \"15\"], \n",
    "[\"GET_AT\", \"X\", \"Y\", \"3\"], [\"SET_AT_WITH_TTL\", \"A\", \n",
    "\"D\", \"E\", \"4\", \"10\"], \n",
    "[\"SCAN_AT\", \"A\", \"13\"], \n",
    "[\"SCAN_AT\", \"X\", \"16\"], \n",
    "[\"SCAN_AT\", \"X\", \"17\"], \n",
    "[\"DELETE_AT\", \"X\", \"Y\", \n",
    "\"20\"] \n",
    "]\n",
    "\n",
    "Explanations\n",
    "\n",
    "returns \"\"; database state: {\"A\": {\"B\": \"C\"}} returns \"\"; database state: {\"X\": {\"Y\": \"Z\"}, \"A\": {\"B\": \"C\"}} \n",
    "where {\"Y\": \"Z\"} expires at timestamp 17 returns \"Z\" \n",
    "returns \"\"; database state: \n",
    "{\"X\": {\"Y\": \"Z\"}, \"A\": {\"D\": \"E\", \"B\": \"C\"}} where {\"D\": \"E\"} expires at timestamp 14 and {\"Y\": \"Z\"} expires at timestamp 17 \n",
    "returns \"B(C), D(E)\" \n",
    "returns \"Y(Z)\" \n",
    "returns \"\"; Note that all fields in record \"X\" have expired \n",
    "returns \"false\"; the record \"X\" was expired at timestamp 17 and can't be deleted.\n",
    "the output should be [\"\", \"\", \"Z\", \"\", \"B(C), D(E)\", \"Y(Z)\", \"\", \"false\"].\n",
    "```"
   ]
  },
  {
   "cell_type": "code",
   "execution_count": null,
   "id": "c00bee12",
   "metadata": {},
   "outputs": [],
   "source": []
  },
  {
   "cell_type": "code",
   "execution_count": null,
   "id": "6746ef91",
   "metadata": {},
   "outputs": [],
   "source": []
  },
  {
   "cell_type": "markdown",
   "id": "2274a7ed",
   "metadata": {},
   "source": [
    "## Level 4\n",
    "The database should be backed up from time to time. Introduce operations to support backing up and restoring the database state based on timestamps. When restoring, ttl expiration times should be recalculated accordingly.\n",
    "```\n",
    "* BACKUP <timestamp> — should save the database state at the specified timestamp, including the remaining ttl for all records and fields. Remaining ttl is the difference between their initial ttl and their current lifespan (the duration between the timestamp of this operation and their initial timestamp). Returns a string representing the number of non-empty non-expired records in the database.\n",
    "* RESTORE <timestamp> <timestampToRestore> — should restore the database from the latest backup before or at timestampToRestore. It's guaranteed that a backup before or at timestampToRestore will exist. Expiration times for restored records and fields should be recalculated according to the timestamp of this operation - since the database timeline always flows forward, restored records and fields should expire after the timestamp of this operation, depending on their remaining ttls at backup. This operation should return an empty string.\n",
    "\n",
    "Examples\n",
    "\n",
    "Queries\n",
    "\n",
    "queries = [ \n",
    "[\"SET_AT_WITH_TTL\", \"A\", \"B\", \"C\", \"1\", \"10\"], \n",
    "[\"BACKUP\", \"3\"], \n",
    "[\"SET_AT\", \"A\", \"D\", \"E\", \"4\"], \n",
    "[\"BACKUP\", \"5\"], \n",
    "[\"DELETE_AT\", \"A\", \"B\", \n",
    "\"8\"], \n",
    "[\"BACKUP\", \"9\"], \n",
    "[\"RESTORE\", \"10\", \"7\"], \n",
    "[\"BACKUP\", \"11\"], \n",
    "[\"SCAN_AT\", \"A\", \"15\"], \n",
    "[\"SCAN_AT\", \"A\", \"16\"] \n",
    "]\n",
    "\n",
    "Explanations\n",
    "\n",
    "returns \"\"; database state: {\"A\": {\"B\": \"C\"}} with lifespan `[1, 11)`, meaning that the record should be deleted at timestamp = 11. \n",
    "returns \"1\"; saves the database state \n",
    "returns \"\"; database state: {\"A\": {\"D\": \"E\", \"B\": \"C\"}} \n",
    "returns \"1\"; saves the database state \n",
    "returns \"true\"; database state: {\"A\": {\"D\": \"E\"}} returns \"1\"; saves the database state \n",
    "returns \"\"; restores the database to state of last backup at timestamp = 5: \n",
    "{\"A\": {\"D\": \"E\", \"B\": \"C\"}} \n",
    "with {\"B\": \"C\"} expiring at timestamp = 16: Since the initial ttl of the field is 10 \n",
    "and the database was restored to the state at timestamp = 5; this field has had \n",
    "a lifespan of 4 and a remaining ttl of 6, so it will now expire at timestamp = 10 + 6 = 16. returns \"1\"; saves the database state \n",
    "returns \"B(C), D(E)\" \n",
    "returns \"D(E)\"\n",
    "```\n",
    "the output should be [\"\", \"1\", \"\", \"1\", \"true\", \"1\", \"\", \"1\", \"B(C), D(E)\", \"D(E)\"]."
   ]
  },
  {
   "cell_type": "code",
   "execution_count": null,
   "id": "a16be835",
   "metadata": {},
   "outputs": [],
   "source": []
  },
  {
   "cell_type": "code",
   "execution_count": null,
   "id": "ddf5540b",
   "metadata": {},
   "outputs": [],
   "source": []
  }
 ],
 "metadata": {
  "kernelspec": {
   "display_name": "Python 3 (ipykernel)",
   "language": "python",
   "name": "python3"
  },
  "language_info": {
   "codemirror_mode": {
    "name": "ipython",
    "version": 3
   },
   "file_extension": ".py",
   "mimetype": "text/x-python",
   "name": "python",
   "nbconvert_exporter": "python",
   "pygments_lexer": "ipython3",
   "version": "3.11.11"
  }
 },
 "nbformat": 4,
 "nbformat_minor": 5
}
