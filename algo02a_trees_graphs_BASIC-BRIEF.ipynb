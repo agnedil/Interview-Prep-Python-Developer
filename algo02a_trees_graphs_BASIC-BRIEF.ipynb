{
 "cells": [
  {
   "cell_type": "markdown",
   "metadata": {},
   "source": [
    "__The content of this notebook is the same as in the BASIC notebook, but it is shortened for better readability and memorability__"
   ]
  },
  {
   "cell_type": "markdown",
   "metadata": {},
   "source": [
    "### Graphs\n",
    "* __vertices / nodes__ w/names (keys) and payloads (additional info);\n",
    "* unordered = __undirected graph__ vs.__directed graph__ (digraph);\n",
    "* __weight__ on edge - cost from 1 vertex to the other (distance betw. cities)\n",
    "* __Path__ - # vertices connected by edges.  \n",
    "* __Path length__ - # edges in unweighted g. (n−1) OR __sum of weights__ in weighted g.\n",
    "* __Cycle__ in directed g. - path starts / ends at same vertex.\n",
    "* If no cycles - __acyclic graph__; if also directed - directed acyclic graph (__DAG__)\n",
    "\n",
    "__Adjacency matrix__ = 2D matrix size n×n if graph has n vertices. Each cell [i, j]  \n",
    "indicates whether there is an edge between vertex i and vertex j (if edge - value is  \n",
    "1 or the weight, and 0 if no edge) - [[0, 1, 1], [1, 0, 0,], [0, 1, 0]  \n",
    "* __Quick edge lookup t.c.O(1)__ to see if edge present, add/remove edge;\n",
    "* __Simplicity of matrix__, good for matrix operations (__insights__);\n",
    "* __Slow iteration - O(n)__ to get  vertex's _adj. list, __O(V^2)__ _add vertex_\n",
    "* memory hog: __space c. O(n^2)__ => good for __dense graphs__\n",
    "* __adjacency lists are better for most tasks__\n",
    "* better for __weighted graphs__;\n",
    "* __Undirected__ graphs - adj. matrix __symmetric__\n",
    "\n",
    "__Adjacency list r.__: edge_list = [[0,1], [0,2],] or dict[list] (node: verts) or dict[dicts] (if weights)  \n",
    "* __Efficient neighb. iteration__ and __time c. O(1)__ _get vertex's adj. list_ (array indexing)\n",
    "* __Efficient storage__ (__space c. = O(2E)__)\n",
    "* __Slow edge lookup O(E)__ (E=# v-s) _if edge (i,j) exists_\n",
    "\n",
    "__Objects/pointer r.__  \n",
    "* __time c. O(n)__ _access a node_;\n",
    "* __space c. O(n)__ if nodes only, __O(n^2)__ w/pointers;\n",
    "* better for __directed graphs__ (pointers);\n",
    "* __high search time c.__\n",
    "\n",
    "__Incidence matrix__  \n",
    "rows = vertices, columns = edges, entries = is vertex incident to edge (bool)\n",
    "\n",
    "__Edge list__\n",
    "* = __array of edges__ (edge = two verteICES). If weights - add third element to array or more info to obj.\n",
    "* Simple, but __time c. to find edge = O(E)__ if edge list unordered, but O(lgE) is desired\n",
    "* __Space c. Θ(E)__\n",
    "\n",
    "graph_as_edge_list = [ [0,1], [0,6], [0,8], [1,4], [1,6], [1,9], [2,4], [2,6], [3,4], [3,5], [3,8], [4,5], [4,9], [7,8], [7,9] ]"
   ]
  },
  {
   "cell_type": "markdown",
   "metadata": {},
   "source": [
    "### Adjacency matrix"
   ]
  },
  {
   "cell_type": "code",
   "execution_count": 7,
   "metadata": {},
   "outputs": [
    {
     "name": "stdout",
     "output_type": "stream",
     "text": [
      "   0    1    1    0    0 \n",
      "   1    0    1    0    0 \n",
      "   1    1    0    1    0 \n",
      "   0    0    1    0    0 \n",
      "   0    0    0    0    0 \n"
     ]
    }
   ],
   "source": [
    "# Simple matrix (1s indicate that there is an edge, but it's possible to use weights instead of 1s)\n",
    "graph_simple_adjacency_matrix = [\n",
    "  [0, 1, 0, 0, 0, 0, 1, 0, 1, 0],\n",
    "  [1, 0, 0, 0, 1, 0, 1, 0, 0, 1],\n",
    "  [0, 0, 0, 0, 1, 0, 1, 0, 0, 0],\n",
    "  [0, 0, 0, 0, 1, 1, 0, 0, 1, 0],\n",
    "  [0, 1, 1, 1, 0, 1, 0, 0, 0, 1],\n",
    "  [0, 0, 0, 1, 1, 0, 0, 0, 0, 0],\n",
    "  [1, 1, 1, 0, 0, 0, 0, 0, 0, 0],\n",
    "  [0, 0, 0, 0, 0, 0, 0, 0, 1, 1],\n",
    "  [1, 0, 0, 1, 0, 0, 0, 1, 0, 0],\n",
    "  [0, 1, 0, 0, 1, 0, 0, 1, 0, 0]\n",
    "]\n",
    "\n",
    "# https://www.programiz.com/dsa/graph-adjacency-matrix\n",
    "class Graph(object):\n",
    "\n",
    "    # Initialize the matrix\n",
    "    def __init__(self, size):\n",
    "        self.adjMatrix = []\n",
    "        for i in range(size):\n",
    "            self.adjMatrix.append([0 for i in range(size)])\n",
    "        self.size = size\n",
    "\n",
    "    # Add edges\n",
    "    def add_edge(self, v1, v2):\n",
    "        if v1 == v2:\n",
    "            print(\"Same vertex %d and %d\" % (v1, v2))\n",
    "        self.adjMatrix[v1][v2] = 1\n",
    "        self.adjMatrix[v2][v1] = 1\n",
    "\n",
    "    # Remove edges\n",
    "    def remove_edge(self, v1, v2):\n",
    "        if self.adjMatrix[v1][v2] == 0:\n",
    "            print(\"No edge between %d and %d\" % (v1, v2))\n",
    "            return\n",
    "        self.adjMatrix[v1][v2] = 0\n",
    "        self.adjMatrix[v2][v1] = 0\n",
    "\n",
    "    def __len__(self):\n",
    "        return self.size\n",
    "\n",
    "    # Print the matrix\n",
    "    def print_matrix(self):\n",
    "        for row in self.adjMatrix:\n",
    "            for val in row:\n",
    "                print('{:4}'.format(val), end=' '),\n",
    "            print()\n",
    "\n",
    "\n",
    "def main():\n",
    "    g = Graph(5)\n",
    "    g.add_edge(0, 1)\n",
    "    g.add_edge(0, 2)\n",
    "    g.add_edge(1, 2)\n",
    "    g.add_edge(2, 0)\n",
    "    g.add_edge(2, 3)\n",
    "\n",
    "    g.print_matrix()\n",
    "\n",
    "\n",
    "if __name__ == '__main__':\n",
    "    main()"
   ]
  },
  {
   "cell_type": "markdown",
   "metadata": {},
   "source": [
    "### Adjacency list"
   ]
  },
  {
   "cell_type": "code",
   "execution_count": null,
   "metadata": {},
   "outputs": [],
   "source": [
    "# List of lists (set of sets), unweighted g.: ABC (012)\n",
    "graph_list = [\n",
    "  [1, 2],\n",
    "  [0, 2],\n",
    "  [0, 1],\n",
    "  ]"
   ]
  },
  {
   "cell_type": "code",
   "execution_count": null,
   "metadata": {},
   "outputs": [],
   "source": [
    "# Dict of lists/sets, unweighted g.: ABC\n",
    "graph_dict_unweighted = {\n",
    "         'A': ['B', 'C'],\n",
    "         'B': ['A', 'C'],\n",
    "         'C': ['A', 'B']\n",
    "}"
   ]
  },
  {
   "cell_type": "code",
   "execution_count": null,
   "metadata": {},
   "outputs": [],
   "source": [
    "# Dict of dicts, weighted g.: ABC\n",
    "graph_dict_weighted = {\n",
    "    'A': {'B':5, 'C':2},\n",
    "    'B': {'A':3, 'C':4},\n",
    "    'C': {'A':2, 'B':3}\n",
    "}"
   ]
  },
  {
   "cell_type": "markdown",
   "metadata": {},
   "source": [
    "There is one more complex representation as an adj list in which each element is a linked list - https://www.programiz.com/dsa/graph-adjacency-list. But this way, arrows inside each adj list don't mean that these two nodes are connected; they actually don't mean anything - counterintuitive!"
   ]
  },
  {
   "cell_type": "code",
   "execution_count": 25,
   "metadata": {},
   "outputs": [
    {
     "name": "stdout",
     "output_type": "stream",
     "text": [
      "Printing graph:\n",
      "0 {1, 2}\n",
      "1 {2}\n",
      "2 {0, 3}\n",
      "3 {3}\n"
     ]
    }
   ],
   "source": [
    "# Directed graph as adjacency list \n",
    "class Graph: \n",
    "  \n",
    "    def __init__(self):        \n",
    "        self.graph = dict() \n",
    "  \n",
    "    # add edge \n",
    "    def addEdge(self, u, v):\n",
    "        if u in self.graph:\n",
    "            self.graph[u].add(v)\n",
    "        else:\n",
    "            self.graph[u] = set([v])\n",
    "\n",
    "g = Graph() \n",
    "g.addEdge(0, 1) \n",
    "g.addEdge(0, 2) \n",
    "g.addEdge(1, 2) \n",
    "g.addEdge(2, 0) \n",
    "g.addEdge(2, 3) \n",
    "g.addEdge(3, 3) \n",
    "\n",
    "print('Printing graph:')\n",
    "for k, v in g.graph.items():\n",
    "    print(k, v)"
   ]
  },
  {
   "cell_type": "markdown",
   "metadata": {},
   "source": [
    "To make the above undirected, add each pair of vertices twice: first as (0,1) then as (1,0)"
   ]
  },
  {
   "attachments": {
    "image.png": {
     "image/png": "[encoded data removed]"
    }
   },
   "cell_type": "markdown",
   "metadata": {},
   "source": [
    "### Depth First Search (DFS)\n",
    "![image.png](attachment:image.png)\n",
    "\n",
    "Rules:\n",
    "* Rule 1 − Visit the adjacent unvisited vertex. Mark it as visited. Display it. Push it in a stack.\n",
    "* Rule 2 − If no adjacent vertex is found, pop up a vertex from the stack. (It will pop up all the vertices from the stack, which do not have adjacent vertices.)\n",
    "* Rule 3 − Repeat Rule 1 and Rule 2 until the stack is empty.  \n",
    "More: [Great graph DFT & BFT visuals and sequence of rules to follow](https://www.programiz.com/dsa/graph-bfs) and [here too](https://www.tutorialspoint.com/data_structures_algorithms/breadth_first_traversal.htm)\n",
    "\n",
    "Rules (short):\n",
    "* Mark the current vertex as being visited.\n",
    "* Explore each adjacent vertex that is not included in the visited set\n",
    "\n",
    "\n",
    "\n",
    "every edge is considered exactly twice, and every node is processed exactly once, so the complexity has to be a constant multiple of the number of edges and the number of vertices  \n",
    "_time complexity_ = (V + E), where V is # nodes and E is # edges;  \n",
    "_space complexity_ = O(V)\n",
    "\n",
    "Applications:  \n",
    "* To build index by search index\n",
    "* For GPS navigation\n",
    "* Path finding algorithms\n",
    "* In Ford-Fulkerson algorithm to find maximum flow in a network\n",
    "* Cycle detection in an undirected graph\n",
    "* In minimum spanning tree"
   ]
  },
  {
   "cell_type": "markdown",
   "metadata": {},
   "source": [
    "## DFS\n",
    "queue.pop(0) for BFS"
   ]
  },
  {
   "cell_type": "code",
   "execution_count": 2,
   "metadata": {},
   "outputs": [
    {
     "name": "stdout",
     "output_type": "stream",
     "text": [
      "0 2 3 1 "
     ]
    },
    {
     "data": {
      "text/plain": [
       "{0, 1, 2, 3}"
      ]
     },
     "execution_count": 2,
     "metadata": {},
     "output_type": "execute_result"
    }
   ],
   "source": [
    "# time c. O(V+E), space c. O(V)\n",
    "def dfs(graph, start):    \n",
    "    visited, stack = set(), [start]    \n",
    "    while stack:\n",
    "        vertex = stack.pop()\n",
    "        if vertex not in visited:\n",
    "            print(vertex, end=' ')\n",
    "            visited.add(vertex)        \n",
    "            stack.extend(graph[vertex] - visited)                        \n",
    "    return visited\n",
    "\n",
    "graph = { 0: set([1, 2]), 1: set([2]),\n",
    "          2: set([3]),    3: set([1, 2]) }\n",
    "dfs(graph, 0)"
   ]
  },
  {
   "cell_type": "code",
   "execution_count": 11,
   "metadata": {},
   "outputs": [
    {
     "name": "stdout",
     "output_type": "stream",
     "text": [
      "0\n",
      "1\n",
      "3\n",
      "4\n",
      "2\n",
      "2\n"
     ]
    },
    {
     "data": {
      "text/plain": [
       "{'0', '1', '2', '3', '4'}"
      ]
     },
     "execution_count": 11,
     "metadata": {},
     "output_type": "execute_result"
    }
   ],
   "source": [
    "# Recursive: https://www.programiz.com/dsa/graph-dfs (BETTER THAN GFG) + Udemy\n",
    "def dfs2(graph, start, visited=None):\n",
    "        \n",
    "    if visited is None:\n",
    "        visited = set()\n",
    "    visited.add(start)\n",
    "\n",
    "    print(start)\n",
    "\n",
    "    for next in graph[start] - visited:\n",
    "        dfs2(graph, next, visited)\n",
    "    return visited\n",
    "\n",
    "\n",
    "graph = {'0': set(['1', '2']),\n",
    "         '1': set(['0', '3', '4']),\n",
    "         '2': set(['0']),\n",
    "         '3': set(['1']),\n",
    "         '4': set(['2', '3'])}\n",
    "\n",
    "dfs2(graph, '0')"
   ]
  },
  {
   "cell_type": "code",
   "execution_count": null,
   "metadata": {},
   "outputs": [],
   "source": []
  },
  {
   "attachments": {
    "image.png": {
     "image/png": "[encoded data removed]"
    }
   },
   "cell_type": "markdown",
   "metadata": {},
   "source": [
    "### Breadth First Search (BFS)\n",
    "![image.png](attachment:image.png)\n",
    "\n",
    "It finds all the vertices that are a __distance k__ from s __before__ it finds any vertices that are a distance __k+1__\n",
    "\n",
    "\n",
    "Rules:\n",
    "* Rule 1 − Visit the adjacent unvisited vertex. Mark it as visited. Display it. Insert it in a queue.\n",
    "* Rule 2 − If no adjacent vertex is found, remove the first vertex from the queue.\n",
    "* Rule 3 − Repeat Rule 1 and Rule 2 until the queue is empty.  \n",
    "More: [Great graph DFT & BFT visuals and sequence of rules to follow](https://www.programiz.com/dsa/graph-bfs) and [here too](https://www.tutorialspoint.com/data_structures_algorithms/breadth_first_traversal.htm)\n",
    "\n",
    "\n",
    "_time complexity_ = (V + E), where V is # nodes and E is # edges;  \n",
    "_space complexity_ = O(V)\n",
    "\n",
    "Applications:  \n",
    "* find path\n",
    "* test if graph is bipartite\n",
    "* find strongly connected components\n",
    "* detect cycles"
   ]
  },
  {
   "cell_type": "code",
   "execution_count": 2,
   "metadata": {},
   "outputs": [
    {
     "name": "stdout",
     "output_type": "stream",
     "text": [
      "0 1 2 3 "
     ]
    },
    {
     "data": {
      "text/plain": [
       "{0, 1, 2, 3}"
      ]
     },
     "execution_count": 2,
     "metadata": {},
     "output_type": "execute_result"
    }
   ],
   "source": [
    "# Udemy iterative\n",
    "def bfs(graph, start):\n",
    "    \n",
    "    visited = set()\n",
    "    queue   = [start]\n",
    "    \n",
    "    while queue:\n",
    "        vertex = queue.pop(0)\n",
    "        if vertex not in visited:\n",
    "            print(vertex, end = ' ')\n",
    "            visited.add(vertex)\n",
    "            queue.extend(graph[vertex] - visited)\n",
    "            \n",
    "    return visited\n",
    "\n",
    "graph = {0: set([1, 2]), 1: set([2]), 2: set([3]), 3: set([1, 2])}\n",
    "bfs(graph, 0)"
   ]
  },
  {
   "cell_type": "markdown",
   "metadata": {},
   "source": [
    "## BFS2"
   ]
  },
  {
   "cell_type": "code",
   "execution_count": 3,
   "metadata": {},
   "outputs": [
    {
     "name": "stdout",
     "output_type": "stream",
     "text": [
      "0 1 2 3 "
     ]
    }
   ],
   "source": [
    "def bfs2(graph, start):\n",
    "    visited, queue = {start}, [start]\n",
    "    while queue:\n",
    "        vertex = queue.pop(0)\n",
    "        print(str(vertex) + \" \", end=\"\")\n",
    "        for neighbor in graph[vertex]:\n",
    "            if neighbor not in visited:\n",
    "                visited.add(neighbor)\n",
    "                queue.append(neighbor)\n",
    "                                \n",
    "graph = {0: [1, 2], 1: [2], 2: [3], 3: [1, 2]}\n",
    "bfs2(graph, 0)"
   ]
  },
  {
   "cell_type": "markdown",
   "metadata": {},
   "source": [
    "## All Paths from Vertex A to Vertex B"
   ]
  },
  {
   "cell_type": "code",
   "execution_count": 76,
   "metadata": {},
   "outputs": [],
   "source": [
    "def bfs_paths(graph, start, goal):\n",
    "    queue = [(start, [start])]\n",
    "    while queue:\n",
    "        (vertex, path) = queue.pop(0)\n",
    "        for nxt in graph[vertex] - set(path):\n",
    "            if nxt == goal:\n",
    "                yield path + [nxt]\n",
    "            else:\n",
    "                queue.append((nxt, path + [nxt]))"
   ]
  },
  {
   "cell_type": "code",
   "execution_count": 74,
   "metadata": {},
   "outputs": [],
   "source": [
    "def dfs_paths(graph, start, goal):        \n",
    "    stack = [(start, [start])]        \n",
    "    while stack:\n",
    "        (vertex, path) = stack.pop()\n",
    "        for nxt in graph[vertex] - set(path):\n",
    "            if nxt == goal:\n",
    "                yield path + [nxt]\n",
    "            else:\n",
    "                stack.append((nxt, path + [nxt]))"
   ]
  },
  {
   "cell_type": "code",
   "execution_count": 77,
   "metadata": {},
   "outputs": [
    {
     "data": {
      "text/plain": [
       "[['A', 'C', 'F'], ['A', 'B', 'E', 'F']]"
      ]
     },
     "execution_count": 77,
     "metadata": {},
     "output_type": "execute_result"
    }
   ],
   "source": [
    "graph = {'A': set(['B', 'C']),\n",
    "         'B': set(['A', 'D', 'E']),\n",
    "         'C': set(['A', 'F']),\n",
    "         'D': set(['B']),\n",
    "         'E': set(['B', 'F']),\n",
    "         'F': set(['C', 'E'])}\n",
    "\n",
    "list(bfs_paths(graph, 'A', 'F'))"
   ]
  },
  {
   "cell_type": "markdown",
   "metadata": {},
   "source": [
    "## Shortest path\n",
    "Always returned first by BFS"
   ]
  },
  {
   "cell_type": "code",
   "execution_count": 78,
   "metadata": {},
   "outputs": [
    {
     "data": {
      "text/plain": [
       "['A', 'C', 'F']"
      ]
     },
     "execution_count": 78,
     "metadata": {},
     "output_type": "execute_result"
    }
   ],
   "source": [
    "def shortest_path(graph, start, goal):\n",
    "    try:\n",
    "        return next(bfs_paths(graph, start, goal))\n",
    "    except StopIteration:\n",
    "        return None\n",
    "\n",
    "graph = {'A': set(['B', 'C']),\n",
    "     'B': set(['A', 'D', 'E']),\n",
    "     'C': set(['A', 'F']),\n",
    "     'D': set(['B']),\n",
    "     'E': set(['B', 'F']),\n",
    "     'F': set(['C', 'E'])}\n",
    "    \n",
    "shortest_path(graph, 'A', 'F')"
   ]
  },
  {
   "attachments": {
    "image.png": {
     "image/png": "[encoded data removed]"
    }
   },
   "cell_type": "markdown",
   "metadata": {},
   "source": [
    "### Topological Sorting\n",
    "Possible _only for Directed Acyclic Graph (DAG)_ - __linear ordering of vertices such that for every directed edge uv, vertex u comes before v in the ordering__. There can be __more than one__ topological sorting for a graph. The __first vertex__ in topological sorting is always a vertex with __in-degree 0__ (a vertex with _no incoming edges_).\n",
    "\n",
    "For example, a topological sorting of the following graph is “5 4 2 3 1 0”; another topological sorting of the following graph is “4 5 2 3 1 0”.\n",
    "![image.png](attachment:image.png)"
   ]
  },
  {
   "cell_type": "code",
   "execution_count": 1,
   "metadata": {},
   "outputs": [
    {
     "data": {
      "text/plain": [
       "['wash laundry',\n",
       " 'dry laundry',\n",
       " 'fold laundry',\n",
       " 'cook food',\n",
       " 'have lunch',\n",
       " 'wash the dishes',\n",
       " 'watch TV']"
      ]
     },
     "execution_count": 1,
     "metadata": {},
     "output_type": "execute_result"
    }
   ],
   "source": [
    "# source: https://algocoding.wordpress.com/2015/04/05/topological-sorting-python/\n",
    "# Notation: k = node as key, v = node as value inside adjancy list\n",
    "# Three vars:\n",
    "# 1) in_degree    =  DICT { node : in-degree }\n",
    "# 2) q            =  LIST of nodes with 0 in-degree\n",
    "#                         (when a node is popped from it, in-degree of nodes from its adj. list decreases by 1)\n",
    "# 3) topo_sorted(topo)  =  LIST of sorted nodes (result)\n",
    "\n",
    "def kahn_toposort( graph ):    \n",
    "    topo = []                                                     # sorted nodes        \n",
    "    in_degree = { k: 0 for k in graph }                           # get in-degree of each node    \n",
    "    for k in graph:\n",
    "        for v in graph[ k ]:\n",
    "            in_degree[v] += 1 \n",
    "    q = [k for k,v in in_degree.items() if v==0]                  # nodes with 0 in-degree     \n",
    "    while q:                \n",
    "        k = q.pop()                                               # remove 1 node w/0 in-degree\n",
    "        topo.append( k )                 \n",
    "        for v in graph[ k ]:                                      # decrease in-degree its adjacent vertices\n",
    "            in_degree[ v ] -= 1\n",
    "            if in_degree[ v ] == 0:                               # keep track if any other node reaches 0\n",
    "                q.append( v )                                \n",
    "    return topo if len(topo)==len(graph) else []                  # no topo_sort if there is a cycle\n",
    "\n",
    "    \n",
    "tasks =       { \"have lunch\" : [\"wash the dishes\"],\n",
    "                \"cook food\" : [\"have lunch\", \"wash the dishes\"],\n",
    "                \"wash laundry\" : [\"dry laundry\", \"fold laundry\"],\n",
    "                \"dry laundry\" : [\"fold laundry\"],\n",
    "                \"fold laundry\" : [\"cook food\"],\n",
    "                \"wash the dishes\": [\"watch TV\"],\n",
    "                \"watch TV\": [],\n",
    "              }\n",
    "\n",
    "kahn_toposort( tasks )"
   ]
  },
  {
   "cell_type": "code",
   "execution_count": null,
   "metadata": {},
   "outputs": [],
   "source": []
  },
  {
   "cell_type": "markdown",
   "metadata": {},
   "source": [
    "### Shortest Path with Dijkstra’s Algorithm\n",
    "Time = O(V + E * log E)  \n",
    "DESCRIPTION: https://bradfieldcs.com/algos/graphs/dijkstras-algorithm/\n",
    "\n",
    "Iterative algo to __find shortest path__ from one node __to all other nodes__ in the graph (~BFS).\n",
    "\n",
    "* __Distances dict__ - to keep track of total cost FROM start node TO each destination; initialize w/0 for start node, and inf for rest.\n",
    "* Update these values until they represent the smallest weight path FROM start TO each destination.\n",
    "\n",
    "The order in which we iterate over vertices is controlled by a __priority queue__ (heapq module) with tuples (distance, vertex) - maintains sorting by distance. This ensures that as we explore one vertex after another, we are always exploring the one with the smallest distance\n",
    "\n",
    "heapq lib = min heap, zero-based  \n",
    "`initialize                 - heap = heapq.heapify( my_list )  \n",
    "heap[0]                    - min elem  \n",
    "heap.sort()                - maintains the heap invariant\n",
    "heapq.heappush(heap, item) - push item onto heap, maintaining heap invariant\n",
    "heapq.heappop(heap)        - pop and return smallest item from heap, maintaining the heap invariant. To access the smallest item without popping - heap[0]. IndexError if heap empty\n",
    "`"
   ]
  },
  {
   "cell_type": "code",
   "execution_count": 1,
   "metadata": {},
   "outputs": [
    {
     "name": "stdout",
     "output_type": "stream",
     "text": [
      "{'U': 1, 'V': 2, 'W': 2, 'X': 0, 'Y': 1, 'Z': 2}\n"
     ]
    }
   ],
   "source": [
    "# time c. O(V + E*logE), iterative, BFS\n",
    "import heapq    # min heap of (distance, vertex) pairs\n",
    "# control iteration order - to pick vertex w/smallest dist\n",
    "def calculate_distances(graph, start):\n",
    "    # cost from start to each destination\n",
    "    distances = {vertex: float('infinity') for vertex in graph}\n",
    "    distances[start] = 0\n",
    "    pq = [(0, start)]          # min heap or priority queue    \n",
    "    while len(pq) > 0:\n",
    "        # pop smallest, maintain heap\n",
    "        current_distance, current_vertex = heapq.heappop(pq)\n",
    "        # nodes can be added to pq multiple times; process node\n",
    "        # first time it's removed from pq\n",
    "        if current_distance > distances[current_vertex]:\n",
    "            continue\n",
    "        for neighbor, weight in graph[current_vertex].items():\n",
    "            distance = current_distance + weight\n",
    "            # only if new path is better\n",
    "            if distance < distances[neighbor]:\n",
    "                distances[neighbor] = distance\n",
    "                # push onto heap, maintain heap\n",
    "                heapq.heappush(pq, (distance, neighbor))\n",
    "    return distances\n",
    "\n",
    "\n",
    "example_graph = {\n",
    "    'U': {'V': 2, 'W': 5, 'X': 1},\n",
    "    'V': {'U': 2, 'X': 2, 'W': 3},\n",
    "    'W': {'V': 3, 'U': 5, 'X': 3, 'Y': 1, 'Z': 5},\n",
    "    'X': {'U': 1, 'V': 2, 'W': 3, 'Y': 1},\n",
    "    'Y': {'X': 1, 'W': 1, 'Z': 1},\n",
    "    'Z': {'W': 5, 'Y': 1},\n",
    "}\n",
    "print(calculate_distances(example_graph, 'X'))"
   ]
  },
  {
   "cell_type": "markdown",
   "metadata": {},
   "source": [
    "### Comparison of Dijkstra’s and Floyd–Warshall algorithms\n",
    "\n",
    "Main Purposes:\n",
    "* _Dijkstra’s_ Algorithm is one example of a __single-source shortest algorithm__ (SSSP), i.e. it finds shortest path from a source vertex to all other vertices.\n",
    "* _Floyd Warshall_ Algorithm is an example of __all-pairs shortest path algorithm__, meaning it computes the shortest path between all pair of nodes.\n",
    "\n",
    "Time Complexities :\n",
    "* Dijkstra’s Algorithm: O(E log V)\n",
    "* Floyd Warshall: O(V3)\n",
    "\n",
    "Other Points:\n",
    "* We can use __Dijskstra’s__ shortest path algorithm for finding __all pair shortest paths__ by running it for every vertex. But time complexity of this would be O(VE Log V) which can go __(V3 Log V)__ in worst case.\n",
    "* Another important differentiating factor between the algorithms is their working towards distributed systems. Unlike Dijkstra’s algorithm, __Floyd Warshall can be implemented in a distributed system__, making it suitable for data structures such as Graph of Graphs (Used in Maps).\n",
    "* __Lastly Floyd Warshall works for negative edge__ (but not negative cycle), whereas Dijkstra’s algorithm not.\n",
    "\n",
    "Note: negative cycle - overall sum of cycle is negative"
   ]
  },
  {
   "cell_type": "markdown",
   "metadata": {},
   "source": [
    "### Floyd Warshall Algorithm\n",
    "Time c. O(V^3)"
   ]
  },
  {
   "cell_type": "code",
   "execution_count": 1,
   "metadata": {},
   "outputs": [
    {
     "name": "stdout",
     "output_type": "stream",
     "text": [
      "Shortest distances:\n",
      "0 5 8 9 \n",
      "INF 0 3 4 \n",
      "INF INF 0 1 \n",
      "INF INF INF 0 \n"
     ]
    }
   ],
   "source": [
    "# time c. O(V^3)\n",
    "def floyd_warshall(graph):\n",
    "    dist = list(map(lambda i : list(map(lambda j : j , i)) , graph))        \n",
    "    for k in range(V):        \n",
    "        for i in range(V):        # all vertices as source            \n",
    "            for j in range(V):    # all vertices as destination  \n",
    "                # update dist[i][j] if vertex k on shortest path from i to j\n",
    "                dist[i][j] = min(dist[i][j], dist[i][k] + dist[k][j])                \n",
    "    printSolution(dist)\n",
    "    return dist\n",
    "  \n",
    "  \n",
    "# A utility function to print the solution \n",
    "def printSolution(dist):\n",
    "        \n",
    "    print('Shortest distances:') \n",
    "    for i in range(V): \n",
    "        for j in range(V): \n",
    "            if(dist[i][j] == INF): \n",
    "                print('INF', end=' ') \n",
    "            else: \n",
    "                print(dist[i][j], end=' ')\n",
    "            if j == V-1: \n",
    "                print('') \n",
    "\n",
    "\n",
    "# Create this weighted graph\n",
    "# Note how path 0 -> 3 is not selected because it's not the shortest path (weight 10)\n",
    "\"\"\" \n",
    "            10 \n",
    "       (0)------->(3) \n",
    "        |         /|\\ \n",
    "      5 |          | \n",
    "        |          | 1 \n",
    "       \\|/         | \n",
    "       (1)------->(2) \n",
    "            3           \n",
    "\"\"\"\n",
    "\n",
    "  \n",
    "# used for unconnected vertices \n",
    "INF  = 99999                                                               \n",
    "\n",
    "graph = [[0,    5,  INF,  10], \n",
    "         [INF,  0,   3,   INF], \n",
    "         [INF, INF,  0,    1], \n",
    "         [INF, INF, INF,   0] \n",
    "        ]\n",
    "\n",
    "# number of vertices in graph\n",
    "V = len(graph)\n",
    "\n",
    "floyd_warshall(graph)"
   ]
  },
  {
   "cell_type": "markdown",
   "metadata": {},
   "source": [
    "### Articulation points in a graph\n",
    "In an _undirected connected graph_, __a vertex is an articulation point (cut vertex) iff removing it with its edges disconnects the graph__.  \n",
    "In an _undirected disconnected graph_, a vertex is an articulation point iff removing it __increases number of disconnected components__.\n",
    "Articulation points are __vulnerabilities__ – single points whose failure would split the network into 2 or more components.\n",
    "\n",
    "__Algorithm to find articulation points__  \n",
    "For every vertex v:  \n",
    "a) Remove v from graph  \n",
    "b) See if the graph remains connected (We can either use BFS or DFS)  \n",
    "c) Add v back to the graph\n",
    "\n",
    "\n",
    "### Bridges in a graph\n",
    "In an _undirected connected graph_, an __edge is a bridge iff removing it disconnects the graph__.  \n",
    "In an _undirected disconnected graph_, an edge is a bridge iff removing it __increases number of disconnected components__.\n",
    "\n",
    "Articulation points and bridges are __vulnerabilities__ in a connected network; useful for designing __reliable networks__. Example: in a wired computer network, an articulation point is a critical computers and a bridge is a critical connection.\n",
    "\n",
    "__Algorithm to find bridges__  \n",
    "For every edge (u, v):  \n",
    "a) Remove (u, v) from graph  \n",
    "b) See if the graph remains connected (using BFS or DFS)  \n",
    "c) Add (u, v) back to the graph"
   ]
  },
  {
   "cell_type": "code",
   "execution_count": null,
   "metadata": {},
   "outputs": [],
   "source": []
  },
  {
   "attachments": {
    "image.png": {
     "image/png": "[encoded data removed]"
    }
   },
   "cell_type": "markdown",
   "metadata": {},
   "source": [
    "### Strongly connected component,\n",
    "C, of a graph G, as the largest subset of vertices C⊂V such that for every pair of vertices v,w∈C we have a path from v to w and a path from w to v. Figure below - three strongly connected components (different shades). Algo = DFS\n",
    "![image.png](attachment:image.png)"
   ]
  },
  {
   "attachments": {
    "image.png": {
     "image/png": "[encoded data removed]"
    }
   },
   "cell_type": "markdown",
   "metadata": {},
   "source": [
    "Once the strongly connected components have been identified we can show a simplified view of the graph by combining all the vertices in one strongly connected component into a single larger vertex. The simplified version of the graph above is shown below\n",
    "![image.png](attachment:image.png)"
   ]
  },
  {
   "cell_type": "markdown",
   "metadata": {},
   "source": [
    "## Min. spanning tree - Prim's algo\n",
    "S.t. for a graph G = (V,E) is __acyclic subset of E connecting all vertices in V__  \n",
    "(sum of edge weights minimized)  \n",
    "Most efficient info flow. There may be several spanning trees -  \n",
    "we need to find the minimum one.  \n",
    "Using priority queue to select next vertex for growing graph"
   ]
  },
  {
   "cell_type": "code",
   "execution_count": 8,
   "metadata": {},
   "outputs": [
    {
     "data": {
      "text/plain": [
       "{'A': {'B'}, 'B': {'C', 'D'}, 'D': {'E'}, 'E': {'F'}, 'F': {'G'}}"
      ]
     },
     "execution_count": 8,
     "metadata": {},
     "output_type": "execute_result"
    }
   ],
   "source": [
    "from collections import defaultdict\n",
    "import heapq\n",
    "def min_spanning_tree(graph, start):\n",
    "    ''' Outputs mst - min. spanning tree '''\n",
    "    mst     = defaultdict(set)\n",
    "    visited = set([ start ])\n",
    "    edges   = [ (cost, start, to)\n",
    "                for to, cost in graph[start].items() ]\n",
    "    heapq.heapify(edges)\n",
    "    while edges:\n",
    "        cost, frm, to = heapq.heappop(edges)\n",
    "        if to not in visited:\n",
    "            visited.add(to)\n",
    "            mst[frm].add(to)\n",
    "            for to_next, cost in graph[to].items():\n",
    "                if to_next not in visited:\n",
    "                    heapq.heappush(edges, (cost, to, to_next))\n",
    "    return mst\n",
    "\n",
    "\n",
    "example_graph = {\n",
    "    'A': {'B': 2, 'C': 3},\n",
    "    'B': {'A': 2, 'C': 1, 'D': 1, 'E': 4},\n",
    "    'C': {'A': 3, 'B': 1, 'F': 5},\n",
    "    'D': {'B': 1, 'E': 1},\n",
    "    'E': {'B': 4, 'D': 1, 'F': 1},\n",
    "    'F': {'C': 5, 'E': 1, 'G': 1},\n",
    "    'G': {'F': 1},\n",
    "}\n",
    "\n",
    "dict(create_spanning_tree(example_graph, 'A'))"
   ]
  },
  {
   "cell_type": "markdown",
   "metadata": {},
   "source": [
    "Graph algos (find Python): https://www.programiz.com/dsa/spanning-tree-and-minimum-spanning-tree, https://www.programiz.com/dsa/bellman-ford-algorithm, https://www.programiz.com/dsa/dijkstra-algorithm + other links on the same page"
   ]
  },
  {
   "cell_type": "code",
   "execution_count": null,
   "metadata": {},
   "outputs": [],
   "source": []
  },
  {
   "cell_type": "markdown",
   "metadata": {},
   "source": [
    "## TREE REPRESENTATIONS AND TRAVERSALS"
   ]
  },
  {
   "cell_type": "markdown",
   "metadata": {},
   "source": [
    "https://bradfieldcs.com/algos/trees/representing-a-tree/  \n",
    "https://pythonspot.com/python-tree/  \n",
    "http://www.cs.utsa.edu/~wagner/python/tree.lists/trees.html"
   ]
  },
  {
   "cell_type": "markdown",
   "metadata": {},
   "source": [
    "TYPES OF TREES:  \n",
    "* __m-ary tree__ - rooted tree, each node has no more than m children\n",
    "* __Binary tree__ (BT) - each node has _at most two children_\n",
    "* __Complete__ BT = bin tree, __every level is full__, except possibly last (far __left__).\n",
    "* __BST__ - parent's value greater that values in left subtree & less values in right subtree\n",
    "* __Binary Heap__ (max / min) = cbt, parent >(<) children\n",
    "* __Full__ (proper or plane) BT - every node has _0 or 2 children_\n",
    "* __Perfect__ BT - all interior nodes have two children and all leaves have same depth\n",
    "* __Infinite complete__ BT - every node has two children (infinite levels)\n",
    "* __Balanced__ BT - L and R subtrees of each node differ in height by no more than 1\n",
    "* __Degenerate (pathological)__ tree - each parent has only one child = __linked list__"
   ]
  },
  {
   "attachments": {
    "image.png": {
     "image/png": "[encoded data removed]"
    }
   },
   "cell_type": "markdown",
   "metadata": {},
   "source": [
    "__THEORY__\n",
    "* __Red–black__ tree is a kind of __self-balancing BST__. Each node stores an extra bit representing color, used to ensure that the tree remains approximately balanced during insertions and deletions. Rules:\n",
    "\n",
    "\n",
    "1. Every node is either red or black.  \n",
    "2. Every leaf (NULL) is black.  \n",
    "3. If a node is red, then both its children are black.  \n",
    "4. Every simple path from a node to a descendant leaf contains the same number of black nodes  \n",
    "\n",
    "![image.png](attachment:image.png)\n",
    "Lemma  \n",
    "A red-black tree with n internal nodes has __height at most 2log(n+1)__ - RBTs are good for search: can always be __searched in O(log n) time__ (insertions and deletions too while usually it's O(h) or even O(n) for imbalanced tree)\n",
    "\n",
    "\n",
    "* __Randomized quicksort__: random number to pick next __random pivot__ (or shuffle the array). `randpivot = random.randrange(start, stop)`\n",
    "\n",
    "\n",
    "* __Minimum cut__ - min subset of edges that, when removed, __disconnects__ [undirected, weighted] graph. Application: in communications, nodes of the cut are critical for network integrity\n",
    "\n",
    "\n",
    "* __Spanning tree__ - subgraph (tree) of undirected graph that includes __ALL VERTICES & MIN # EDGES__ (can be several, but min. s. t. = min. sum of weights)"
   ]
  },
  {
   "cell_type": "markdown",
   "metadata": {},
   "source": [
    "### 1. TREE REPRESENTATION (object, list, dictionary)"
   ]
  },
  {
   "cell_type": "markdown",
   "metadata": {},
   "source": [
    "#### 1a. OBJECT"
   ]
  },
  {
   "cell_type": "code",
   "execution_count": 25,
   "metadata": {},
   "outputs": [],
   "source": [
    "# Node as class\n",
    "class Node:\n",
    "    def __init__(self, val):\n",
    "        self.val = val\n",
    "        self.left = None\n",
    "        self.right = None\n",
    "    \n",
    "    def insert_left(self, child):\n",
    "        if self.left is None:\n",
    "            self.left = child\n",
    "        else:\n",
    "            child.left = self.left\n",
    "            self.left = child\n",
    "        \n",
    "    def insert_right(self, child):\n",
    "        if self.right is None:\n",
    "            self.right = child\n",
    "        else:\n",
    "            child.right = self.right\n",
    "            self.right = child"
   ]
  },
  {
   "cell_type": "code",
   "execution_count": 27,
   "metadata": {},
   "outputs": [
    {
     "name": "stdout",
     "output_type": "stream",
     "text": [
      "a\n",
      "None\n",
      "<__main__.Node object at 0x000001AFEF9F4C88>\n",
      "b\n",
      "<__main__.Node object at 0x000001AFEF9F41D0>\n",
      "c\n",
      "hello\n"
     ]
    }
   ],
   "source": [
    "# NO NEED TO EVEN USE INSERT FUNCTIONS!\n",
    "root = Node('a')\n",
    "print(root.val)  \n",
    "print(root.left) \n",
    "\n",
    "root.left = Node('b')\n",
    "print(root.left)  \n",
    "print(root.left.val)  \n",
    "\n",
    "root.right = Node('c')\n",
    "print(root.right)  \n",
    "print(root.right.val)  \n",
    "\n",
    "root.right.val = 'hello'\n",
    "print(root.right.val)"
   ]
  },
  {
   "cell_type": "code",
   "execution_count": 26,
   "metadata": {},
   "outputs": [
    {
     "name": "stdout",
     "output_type": "stream",
     "text": [
      "a\n",
      "None\n",
      "<__main__.Node object at 0x000001AFEF9F41D0>\n",
      "b\n",
      "<__main__.Node object at 0x000001AFEF9F4EB8>\n",
      "c\n",
      "hello\n"
     ]
    }
   ],
   "source": [
    "# USING THE INSERT FUNCTIONS\n",
    "root = Node('a')\n",
    "print(root.val)  # => 'a'\n",
    "print(root.left)  # => None\n",
    "\n",
    "root.insert_left(Node('b'))\n",
    "print(root.left)  # => <__main__.Node object>\n",
    "print(root.left.val)  # => 'b'\n",
    "\n",
    "root.insert_right(Node('c'))\n",
    "print(root.right)  # => <__main__.Node object>\n",
    "print(root.right.val)  # => 'c'\n",
    "\n",
    "root.right.val = 'hello'\n",
    "print(root.right.val)  # => 'hello'"
   ]
  },
  {
   "cell_type": "markdown",
   "metadata": {},
   "source": [
    "#### 1b. LIST\n",
    "This generalizes to a tree that has many subtrees (more than binary tree) - another subtree is just another list"
   ]
  },
  {
   "cell_type": "code",
   "execution_count": null,
   "metadata": {},
   "outputs": [],
   "source": [
    "# LIST\n",
    "tree = [\n",
    "    'a',  #root\n",
    "    [\n",
    "        'b',  # left subtree\n",
    "        ['d' [], []],\n",
    "        ['e' [], []]\n",
    "    ],\n",
    "    [\n",
    "        'c',  # right subtree\n",
    "        ['f' [], []],\n",
    "        []\n",
    "    ]\n",
    "]"
   ]
  },
  {
   "cell_type": "code",
   "execution_count": 28,
   "metadata": {},
   "outputs": [
    {
     "name": "stdout",
     "output_type": "stream",
     "text": [
      "['b', ['d', [], []], ['e', [], []]]\n",
      "['c', ['f', [], []], []]\n",
      "a\n"
     ]
    }
   ],
   "source": [
    "tree = ['a', ['b', ['d', [], []], ['e', [], []]], ['c', ['f', [], []], []]]\n",
    "\n",
    "# the root\n",
    "print(tree[0])  # => 'a'\n",
    "\n",
    "# the left subtree\n",
    "print(tree[1])  # => ['b', ['d', [], []], ['e', [], []]]\n",
    "\n",
    "# the right subtree\n",
    "print(tree[2])  # => ['c', ['f', [], []], []]"
   ]
  },
  {
   "cell_type": "markdown",
   "metadata": {},
   "source": [
    "To __add left subtree__ to root - insert __new list into second position of root list__. Careful: if the list already has something in the second position - keep track of it and push it down the tree as left child of list being added"
   ]
  },
  {
   "cell_type": "code",
   "execution_count": 29,
   "metadata": {},
   "outputs": [],
   "source": [
    "def BinaryTree(r):\n",
    "    return [r, [], []]\n",
    "\n",
    "def insert_left(root, child_val):\n",
    "    subtree = root.pop(1)\n",
    "    if len(subtree) > 1:\n",
    "        root.insert(1, [child_val, subtree, []])\n",
    "    else:\n",
    "        root.insert(1, [child_val, [], []])\n",
    "    return root\n",
    "\n",
    "def insert_right(root, child_val):\n",
    "    subtree = root.pop(2)\n",
    "    if len(subtree) > 1:\n",
    "        root.insert(2, [child_val, [], subtree])\n",
    "    else:\n",
    "        root.insert(2, [child_val, [], []])\n",
    "    return root\n",
    "\n",
    "# abstract away the use of positions in list to represent tree, left subtrees and right subtrees\n",
    "def get_root_val(root):\n",
    "    return root[0]\n",
    "\n",
    "def set_root_val(root, new_val):\n",
    "    root[0] = new_val\n",
    "\n",
    "def get_left_child(root):\n",
    "    return root[1]\n",
    "\n",
    "def get_right_child(root):\n",
    "    return root[2]"
   ]
  },
  {
   "cell_type": "code",
   "execution_count": 30,
   "metadata": {},
   "outputs": [
    {
     "name": "stdout",
     "output_type": "stream",
     "text": [
      "[5, [4, [], []], []]\n",
      "[3, [9, [4, [], []], []], [7, [], [6, [], []]]]\n",
      "[3, [9, [11, [4, [], []], []], []], [7, [], [6, [], []]]]\n",
      "[6, [], []]\n"
     ]
    }
   ],
   "source": [
    "root = [3, [], []]\n",
    "insert_left(root, 4)\n",
    "insert_left(root, 5)\n",
    "insert_right(root, 6)\n",
    "insert_right(root, 7)\n",
    "left = get_left_child(root)\n",
    "print(left)  # => [5, [4, [], []], []]\n",
    "\n",
    "set_root_val(left, 9)\n",
    "print(root)  # => [3, [9, [4, [], []], []], [7, [], [6, [], []]]]\n",
    "\n",
    "insert_left(left, 11)\n",
    "print(root)  # => [3, [9, [11, [4, [], []], []], []], [7, [], [6, [], []]]]\n",
    "print(get_right_child(get_right_child(root)))  # => [6, [], []]"
   ]
  },
  {
   "cell_type": "markdown",
   "metadata": {},
   "source": [
    "#### 1c. MAP (DICTIONARY)\n",
    "* PROs of list representation: succinct, __easily construct, serialize and print trees, portable to languages and contexts without objects__.  \n",
    "* CONs: __difficult to see the tree-like nature__ of the composite lists.\n",
    "\n",
    "Therefore, using a very similar representation with __nested mappings (dicts) is preferred__ in practice + we can name children, values and potentially other data in a node. If there are no subtrees, there is only a value component"
   ]
  },
  {
   "cell_type": "code",
   "execution_count": 32,
   "metadata": {},
   "outputs": [],
   "source": [
    "# Binary tree\n",
    "binary_tree = {\n",
    "\n",
    "    'val': 'A',\n",
    "    'left': {\n",
    "        'val': 'B',\n",
    "        'left': {'val': 'D'},\n",
    "        'right': {'val': 'E'}\n",
    "    },\n",
    "    'right': {\n",
    "        'val': 'C',\n",
    "        'right': {'val': 'F'}\n",
    "    }\n",
    "}"
   ]
  },
  {
   "cell_type": "code",
   "execution_count": 43,
   "metadata": {},
   "outputs": [
    {
     "name": "stdout",
     "output_type": "stream",
     "text": [
      "Left node's value: B\n",
      "Left subtree: {'val': 'B', 'left': {'val': 'D'}, 'right': {'val': 'E'}}\n",
      "Right node's value: C\n",
      "Right subtree: {'val': 'C', 'right': {'val': 'F'}}\n",
      "Root: A\n",
      "Entire tree: {'val': 'A', 'left': {'val': 'B', 'left': {'val': 'D'}, 'right': {'val': 'E'}}, 'right': {'val': 'C', 'right': {'val': 'F'}}}\n"
     ]
    }
   ],
   "source": [
    "print(\"Left node's value:\", binary_tree['left']['val'])\n",
    "print('Left subtree:', binary_tree['left'])\n",
    "print(\"Right node's value:\", binary_tree['right']['val'])\n",
    "print('Right subtree:', binary_tree['right'])\n",
    "print('Root:', binary_tree['val'])\n",
    "print('Entire tree:', binary_tree)"
   ]
  },
  {
   "cell_type": "code",
   "execution_count": 44,
   "metadata": {},
   "outputs": [
    {
     "data": {
      "text/plain": [
       "{'val': 'A',\n",
       " 'children': [{'val': 'B', 'children': [{'val': 'D'}, {'val': 'E'}]},\n",
       "  {'val': 'C', 'children': [{'val': 'F'}, {'val': 'G'}, {'val': 'H'}]}]}"
      ]
     },
     "execution_count": 44,
     "metadata": {},
     "output_type": "execute_result"
    }
   ],
   "source": [
    "# Non-binary tree - use 'children' key instead of 'left' / 'right'\n",
    "{\n",
    "    'val': 'A',\n",
    "    'children': [\n",
    "        {\n",
    "            'val': 'B',\n",
    "            'children': [\n",
    "                {'val': 'D'},\n",
    "                {'val': 'E'},\n",
    "            ]\n",
    "        },\n",
    "        {\n",
    "            'val': 'C',\n",
    "            'children': [\n",
    "                {'val': 'F'},\n",
    "                {'val': 'G'},\n",
    "                {'val': 'H'}\n",
    "            ]\n",
    "        }\n",
    "    ]\n",
    "}"
   ]
  },
  {
   "cell_type": "code",
   "execution_count": null,
   "metadata": {},
   "outputs": [],
   "source": []
  },
  {
   "attachments": {
    "image.png": {
     "image/png": "[encoded data removed]"
    }
   },
   "cell_type": "markdown",
   "metadata": {},
   "source": [
    "### 1d. Convert Array to Tree\n",
    "![image.png](attachment:image.png)"
   ]
  },
  {
   "cell_type": "code",
   "execution_count": 1,
   "metadata": {},
   "outputs": [],
   "source": [
    "# level-order traversal\n",
    "def bfs(root):\n",
    "    res = []\n",
    "    if not root:\n",
    "        return res    \n",
    "    q = [root]\n",
    "    while q:\n",
    "        node = q.pop(0)\n",
    "        res.append(node.val)\n",
    "        if node.left:\n",
    "            q.append(node.left)\n",
    "        if node.right:\n",
    "            q.append(node.right)\n",
    "    return res        "
   ]
  },
  {
   "cell_type": "code",
   "execution_count": 2,
   "metadata": {},
   "outputs": [
    {
     "data": {
      "text/plain": [
       "[1, 2, 3, 4, 5, 6, None, None, None, 7, 8]"
      ]
     },
     "execution_count": 2,
     "metadata": {},
     "output_type": "execute_result"
    }
   ],
   "source": [
    "# build tree - time = space = O(n)\n",
    "class Node:\n",
    "    def __init__(self, val):\n",
    "        self.val = val\n",
    "        self.left = self.right = None\n",
    "\n",
    "def insertLevelOrder(arr, i, n):\n",
    "    root = None    \n",
    "    if i < n:                     # base case\n",
    "        root = Node(arr[i])\n",
    "        root.left  = insertLevelOrder(arr, 2*i + 1, n)\n",
    "        root.right = insertLevelOrder(arr, 2*i + 2, n)         \n",
    "    return root\n",
    "\n",
    "\n",
    "arr = [1,2,3,4,5,6,None,None,None,7,8 ]\n",
    "n = len(arr)\n",
    "root = insertLevelOrder(arr, 0, n)\n",
    "bfs(root)"
   ]
  },
  {
   "cell_type": "code",
   "execution_count": null,
   "metadata": {},
   "outputs": [],
   "source": []
  },
  {
   "cell_type": "markdown",
   "metadata": {},
   "source": [
    "### 2. TRAVERSALS"
   ]
  },
  {
   "cell_type": "markdown",
   "metadata": {},
   "source": [
    "### 2a. Depth First Traversals (Binary Tree)"
   ]
  },
  {
   "cell_type": "code",
   "execution_count": 5,
   "metadata": {},
   "outputs": [],
   "source": [
    "# time O(n),space O(h),h=height \n",
    "class Node: \n",
    "    def __init__(self, val): \n",
    "        self.val = val\n",
    "        self.left = None\n",
    "        self.right = None\n",
    "\n",
    "# Root Left Right \n",
    "def Preorder(root):   \n",
    "    if root:\n",
    "        print(root.val, end=' ')\n",
    "        Preorder(root.left)\n",
    "        Preorder(root.right)\n",
    "        \n",
    "# Left Right Root\n",
    "def Postorder(root):  \n",
    "    if root:\n",
    "        Postorder(root.left) \n",
    "        Postorder(root.right) \n",
    "        print(root.val, end=' '), \n",
    "\n",
    "# Left Root Right\n",
    "def Inorder(root):  \n",
    "    if root: \n",
    "        Inorder(root.left)\n",
    "        print(root.val, end=' '), \n",
    "        Inorder(root.right)      "
   ]
  },
  {
   "cell_type": "code",
   "execution_count": 6,
   "metadata": {},
   "outputs": [
    {
     "name": "stdout",
     "output_type": "stream",
     "text": [
      "Preorder traversal:\n",
      "1 2 4 5 3 \n",
      "Postorder traversal:\n",
      "4 5 2 3 1 \n",
      "Inorder traversal:\n",
      "4 2 5 1 3 "
     ]
    }
   ],
   "source": [
    "root            = Node(1)\n",
    "root.left       = Node(2)\n",
    "root.right      = Node(3)\n",
    "root.left.left  = Node(4)\n",
    "root.left.right = Node(5)\n",
    "print(\"Preorder traversal:\")\n",
    "Preorder(root) \n",
    "  \n",
    "print(\"\\nPostorder traversal:\")\n",
    "Postorder(root)\n",
    "\n",
    "print(\"\\nInorder traversal:\")\n",
    "Inorder(root) "
   ]
  },
  {
   "attachments": {
    "image.png": {
     "image/png": "[encoded data removed]"
    }
   },
   "cell_type": "markdown",
   "metadata": {},
   "source": [
    "### 2b. Breadth First Traversal\n",
    "Level Order Tree Traversal\n",
    "![image.png](attachment:image.png)\n",
    "1, 2, 3, 4, 5"
   ]
  },
  {
   "cell_type": "code",
   "execution_count": 6,
   "metadata": {},
   "outputs": [],
   "source": [
    "# time O(n), space O(n)\n",
    "class Node: \n",
    "    # create a new node \n",
    "    def __init__(self, key): \n",
    "        self.val = key \n",
    "        self.left = None\n",
    "        self.right = None\n",
    "\n",
    "# print height\n",
    "def LevelOrder(root):    \n",
    "    # base case \n",
    "    if root is None:\n",
    "        return      \n",
    "    queue = [] \n",
    "    queue.append(root)   \n",
    "    while(len(queue) > 0):         \n",
    "        node = queue.pop(0)                 # print and remove front of queue\n",
    "        print(node.val, end=' ')  \n",
    "        if node.left is not None: \n",
    "            queue.append(node.left)  \n",
    "        if node.right is not None: \n",
    "            queue.append(node.right)"
   ]
  },
  {
   "cell_type": "markdown",
   "metadata": {},
   "source": [
    "## BFS (recursive) incl. height"
   ]
  },
  {
   "cell_type": "code",
   "execution_count": 3,
   "metadata": {},
   "outputs": [],
   "source": [
    "# Recursive - time O(n^2), space O(n)\n",
    "def LevelOrder_rec(root):\n",
    "    h = height(root) \n",
    "    for i in range(1, h+1): \n",
    "        printGivenLevel(root, i)  \n",
    "\n",
    "# print nodes at a given level \n",
    "def printGivenLevel(root , level): \n",
    "    if root is None: \n",
    "        return\n",
    "    if level == 1: \n",
    "        print(root.val, end=\" \") \n",
    "    elif level > 1 : \n",
    "        printGivenLevel(root.left , level-1)                         # if saving in a list: res += printGivenLevel()\n",
    "        printGivenLevel(root.right , level-1) \n",
    "\n",
    "# compute height - number of nodes from root to farthest leaf node \n",
    "def height(node): \n",
    "    if node is None: \n",
    "        return 0 \n",
    "    else : \n",
    "        # Compute the height of each subtree  \n",
    "        lheight = height(node.left) \n",
    "        rheight = height(node.right) \n",
    "  \n",
    "        #Use the larger one \n",
    "        if lheight > rheight : \n",
    "            return lheight+1\n",
    "        else: \n",
    "            return rheight+1"
   ]
  },
  {
   "cell_type": "code",
   "execution_count": 7,
   "metadata": {},
   "outputs": [
    {
     "name": "stdout",
     "output_type": "stream",
     "text": [
      "Recursive level order traversal:\n",
      "1 2 3 4 5 \n",
      "Queue-based level order traversal:\n",
      "1 2 3 4 5 "
     ]
    }
   ],
   "source": [
    "root = Node(1) \n",
    "root.left = Node(2) \n",
    "root.right = Node(3) \n",
    "root.left.left = Node(4) \n",
    "root.left.right = Node(5)  \n",
    "LevelOrder_rec(root)\n",
    "\n",
    "print(\"\\nQueue-based level order traversal:\")\n",
    "LevelOrder(root)"
   ]
  },
  {
   "cell_type": "code",
   "execution_count": null,
   "metadata": {},
   "outputs": [],
   "source": [
    "# StackOverflow\n",
    "class Solution:\n",
    "    def inorderTraversal(self, root):\n",
    "        return (self.inorderTraversal(root.left) + [root.val] + self.inorderTraversal(root.right)) if root else []"
   ]
  },
  {
   "cell_type": "code",
   "execution_count": null,
   "metadata": {},
   "outputs": [],
   "source": []
  },
  {
   "cell_type": "markdown",
   "metadata": {},
   "source": [
    "## TREE SOLUTIONS"
   ]
  },
  {
   "cell_type": "code",
   "execution_count": 31,
   "metadata": {},
   "outputs": [],
   "source": [
    "# A full BT = BT where every node has either 0 or 2 children. Examples:\n",
    "'''\n",
    "        1\n",
    "      /   \\\n",
    "    2       3\n",
    "  /  \\     /  \\\n",
    " 4    5   6    7\n",
    "\n",
    "\n",
    "       1\n",
    "     /   \\\n",
    "   2      3\n",
    "        /   \\  \n",
    "       4     5\n",
    "           /   \\  \n",
    "          6    7\n",
    "                  \n",
    "\n",
    "          1\n",
    "        /   \\\n",
    "      2       3\n",
    "    /  \\     /  \\\n",
    "   4    5   6    7\n",
    " /  \\  \n",
    "8    9 \n",
    "'''\n",
    "pass"
   ]
  },
  {
   "cell_type": "markdown",
   "metadata": {},
   "source": [
    "### Another way to build a BT"
   ]
  },
  {
   "cell_type": "code",
   "execution_count": 30,
   "metadata": {},
   "outputs": [
    {
     "name": "stdout",
     "output_type": "stream",
     "text": [
      "4 2 5 1 3 "
     ]
    }
   ],
   "source": [
    "class Node: \n",
    "    \n",
    "    def __init__(self, data, left=None, right=None): \n",
    "        self.val = data \n",
    "        self.left = left \n",
    "        self.right = right\n",
    "        \n",
    "# Left Root Right\n",
    "def inorder(root): \n",
    "  \n",
    "    if root:        \n",
    "        inorder(root.left) \n",
    "        print(root.val, end=' '), \n",
    "        inorder(root.right)      \n",
    "\n",
    "root = Node(1, \n",
    "            right = Node(3), \n",
    "            left  = Node(2, \n",
    "                         left = Node(4), \n",
    "                         right = Node(5) \n",
    "            ) \n",
    "       )\n",
    "Inorder(root)"
   ]
  },
  {
   "cell_type": "markdown",
   "metadata": {},
   "source": [
    "## Check if tree is BST"
   ]
  },
  {
   "cell_type": "code",
   "execution_count": null,
   "metadata": {},
   "outputs": [],
   "source": [
    "# If BST=>inorder traversal = sorted list\n",
    "def inorder( root ):\n",
    "    if tree != None:\n",
    "        inorder(root.left)\n",
    "        tree_vals.append(root.val)\n",
    "        inorder(root.right)\n",
    "        \n",
    "def sort_check( tree_vals ):\n",
    "    return tree_vals == sorted(tree_vals)                # just iterate list for O(n) solution\n",
    "\n",
    "tree_vals = []\n",
    "inorder(tree)\n",
    "sort_check(tree_vals)"
   ]
  },
  {
   "cell_type": "code",
   "execution_count": 72,
   "metadata": {},
   "outputs": [],
   "source": [
    "# Udemy\n",
    "# Another classic solution: keep track of min and max values a node can take - at each node we check if its value\n",
    "# is between min and max values it’s allowed to take. Root = any value between neg infinity and pos infinity.\n",
    "# Left child should be smaller than or equal than root, right child should be larger than or equal to root.\n",
    "# During recursion, send current value as new max to left child and send min without changing.\n",
    "# Send current value as new min to right child and send max without changing\n",
    "\n",
    "class Node:\n",
    "    def __init__(self, k, val):\n",
    "        self.key = k\n",
    "        self.value = val\n",
    "        self.left = None\n",
    "        self.right = None\n",
    "\n",
    "def tree_max(node):\n",
    "    if not node:\n",
    "        return float(\"-inf\")\n",
    "    maxleft  = tree_max(node.left)\n",
    "    maxright = tree_max(node.right)\n",
    "    return max(node.key, maxleft, maxright)\n",
    "\n",
    "def tree_min(node):\n",
    "    if not node:\n",
    "        return float(\"inf\")\n",
    "    minleft  = tree_min(node.left)\n",
    "    minright = tree_min(node.right)\n",
    "    return min(node.key, minleft, minright)\n",
    "\n",
    "def verify(node):\n",
    "    if not node:\n",
    "        return True\n",
    "    if (tree_max(node.left) <= node.key <= tree_min(node.right) and\n",
    "        verify(node.left) and verify(node.right)):\n",
    "        return True\n",
    "    else:\n",
    "        return False"
   ]
  },
  {
   "cell_type": "code",
   "execution_count": 73,
   "metadata": {},
   "outputs": [
    {
     "name": "stdout",
     "output_type": "stream",
     "text": [
      "True\n",
      "False\n"
     ]
    }
   ],
   "source": [
    "root= Node(10, \"Hello\")\n",
    "root.left = Node(5, \"Five\")\n",
    "root.right= Node(30, \"Thirty\")\n",
    "\n",
    "print(verify(root)) # prints True, since this tree is valid\n",
    "\n",
    "root = Node(10, \"Ten\")\n",
    "root.right = Node(20, \"Twenty\")\n",
    "root.left = Node(5, \"Five\")\n",
    "root.left.right = Node(15, \"Fifteen\")\n",
    "\n",
    "print(verify(root)) # prints False, since 15 is to the left of 10"
   ]
  },
  {
   "cell_type": "markdown",
   "metadata": {},
   "source": [
    "## BST nodes in given range"
   ]
  },
  {
   "cell_type": "code",
   "execution_count": 4,
   "metadata": {},
   "outputs": [],
   "source": [
    "#Time O(h + k), k=num nodes\n",
    "class newNode:\n",
    "    def __init__(self, data): \n",
    "        self.data = data \n",
    "        self.left = None\n",
    "        self.right = None\n",
    "                \n",
    "        \n",
    "def getCount(root, low, high):\n",
    "    if root == None: return 0\n",
    "    if root.data==high and root.data==low: \n",
    "        return 1\n",
    "    if root.data <= high and root.data >= low: \n",
    "        return (1 + getCount(root.left, low, high) +\\\n",
    "                getCount(root.right, low, high))\n",
    "    elif root.data < low: \n",
    "        return getCount(root.right, low, high)\n",
    "    else:\n",
    "        return getCount(root.left, low, high)"
   ]
  },
  {
   "cell_type": "code",
   "execution_count": null,
   "metadata": {},
   "outputs": [],
   "source": [
    "# Let us construct the BST shown in \n",
    "# the above figure \n",
    "root = newNode(10) \n",
    "root.left = newNode(5) \n",
    "root.right = newNode(50) \n",
    "root.left.left = newNode(1) \n",
    "root.right.left = newNode(40)\n",
    "root.right.right = newNode(100)\n",
    "\n",
    "# Let us constructed BST shown in above example \n",
    "#         10 \n",
    "#       /   \\ \n",
    "#     5     50 \n",
    "#   /       / \\ \n",
    "#  1       40 100\n",
    "\n",
    "l = 5\n",
    "h = 45\n",
    "print(\"Count of nodes between [\", l, \", \", h,\"] is \", getCount(root, l, h))"
   ]
  },
  {
   "cell_type": "markdown",
   "metadata": {},
   "source": [
    "## BST node w/value closest to k"
   ]
  },
  {
   "cell_type": "code",
   "execution_count": null,
   "metadata": {},
   "outputs": [],
   "source": [
    "def closest_value(root, k):\n",
    "    a = root.val\n",
    "    child = root.left if k < a else root.right\n",
    "    if not child:\n",
    "        return a\n",
    "    b = closest_value(child, k)    \n",
    "    return min(k-a, k-b)"
   ]
  },
  {
   "cell_type": "code",
   "execution_count": null,
   "metadata": {},
   "outputs": [],
   "source": [
    "\"\"\"\n",
    "Write f(x) count_left_node() to return num of left children in tree.\n",
    "For example: four left children here (6, 3, 7, and 10):\n",
    "\n",
    "                    9\n",
    "                 /      \\\n",
    "               6         12\n",
    "              / \\       /   \\\n",
    "            3     8   10      15\n",
    "                 /              \\\n",
    "                7                18\n",
    "\n",
    "    count_left_node = 4\n",
    "\n",
    "\"\"\"\n",
    "from bst import Node\n",
    "from bst import bst\n",
    "\n",
    "def count_left_node(root):\n",
    "        \n",
    "    if root is None:\n",
    "        return 0\n",
    "    elif root.left is None:\n",
    "        return count_left_node( root.right )\n",
    "    else:\n",
    "        return 1 + count_left_node(root.left) + count_left_node(root.right)"
   ]
  },
  {
   "cell_type": "code",
   "execution_count": null,
   "metadata": {},
   "outputs": [],
   "source": [
    "\"\"\"\n",
    "Implement a trie with insert, search, and startsWith methods.\n",
    "\n",
    "Note:\n",
    "You may assume that all inputs consist of lowercase letters a-z.\n",
    "\"\"\"\n",
    "from collections import defaultdict\n",
    "\n",
    "\n",
    "class TrieNode:\n",
    "    def __init__(self):\n",
    "        self.children = defaultdict(TrieNode)\n",
    "        self.is_word = False\n",
    "\n",
    "\n",
    "class Trie:\n",
    "    def __init__(self):\n",
    "        self.root = TrieNode()\n",
    "\n",
    "    def insert(self, word):\n",
    "        current = self.root\n",
    "        for letter in word:\n",
    "            current = current.children[letter]\n",
    "        current.is_word = True\n",
    "\n",
    "    def search(self, word):\n",
    "        current = self.root\n",
    "        for letter in word:\n",
    "            current = current.children.get(letter)\n",
    "            if current is None:\n",
    "                return False\n",
    "        return current.is_word\n",
    "\n",
    "    def starts_with(self, prefix):\n",
    "        current = self.root\n",
    "        for letter in prefix:\n",
    "            current = current.children.get(letter)\n",
    "            if current is None:\n",
    "                return False\n",
    "        return True"
   ]
  },
  {
   "cell_type": "markdown",
   "metadata": {},
   "source": [
    "## Trim BST"
   ]
  },
  {
   "cell_type": "code",
   "execution_count": 4,
   "metadata": {
    "collapsed": true
   },
   "outputs": [],
   "source": [
    "def trimBST(tree, minVal, maxVal):    \n",
    "    if not tree: return    \n",
    "    tree.left=trimBST(tree.left, minVal, maxVal) \n",
    "    tree.right=trimBST(tree.right, minVal, maxVal)    \n",
    "    if minVal<=tree.val<=maxVal: \n",
    "        return tree    \n",
    "    if tree.val < minVal: \n",
    "        return tree.right    \n",
    "    if tree.val > maxVal: \n",
    "        return tree.left "
   ]
  },
  {
   "cell_type": "markdown",
   "metadata": {},
   "source": [
    "The complexity of this algorithm is O(N), where N is the number of nodes in the tree. Because we basically perform a post-order traversal of the tree, visiting each and every node one. This is optimal because we should visit every node at least once. This is a very elegant question that demonstrates the effectiveness of recursion in trees. "
   ]
  },
  {
   "cell_type": "code",
   "execution_count": null,
   "metadata": {},
   "outputs": [],
   "source": []
  },
  {
   "cell_type": "markdown",
   "metadata": {},
   "source": [
    "## Check if 2 BTs equal"
   ]
  },
  {
   "cell_type": "code",
   "execution_count": null,
   "metadata": {},
   "outputs": [],
   "source": [
    "# time O(min(N,M)), N,M=# nodes\n",
    "# space O(min(h1, h2))\n",
    "def is_same_tree(p, q):\n",
    "    if not p and not q:\n",
    "        return True\n",
    "    if p and q and p.val == q.val:\n",
    "        return is_same_tree(p.left, q.left) and\\\n",
    "               is_same_tree(p.right, q.right)\n",
    "    return False"
   ]
  },
  {
   "cell_type": "markdown",
   "metadata": {},
   "source": [
    "## Invert a binary tree"
   ]
  },
  {
   "cell_type": "code",
   "execution_count": null,
   "metadata": {},
   "outputs": [],
   "source": [
    "def reverse(root):        \n",
    "    if not root: return\n",
    "    root.left,root.right=root.right,root.left\n",
    "    if root.left:\n",
    "        reverse(root.left)\n",
    "    if root.right:\n",
    "        reverse(root.right)"
   ]
  },
  {
   "cell_type": "markdown",
   "metadata": {},
   "source": [
    "### Find deepest left node"
   ]
  },
  {
   "cell_type": "code",
   "execution_count": 31,
   "metadata": {},
   "outputs": [
    {
     "name": "stdout",
     "output_type": "stream",
     "text": [
      "4\n"
     ]
    }
   ],
   "source": [
    "# Given a binary tree, find the deepest node\n",
    "# that is the left child of its parent node.\n",
    "\n",
    "# Example:\n",
    "\n",
    "     # 1\n",
    "   # /   \\\n",
    "  # 2     3\n",
    " # / \\     \\\n",
    "# 4   5     6\n",
    "           # \\\n",
    "            # 7\n",
    "# should return 4.\n",
    "\n",
    "\n",
    "class Node:\n",
    "    def __init__(self, val = None):\n",
    "        self.val = val\n",
    "        self.left = None\n",
    "        self.right = None\n",
    "        \n",
    "\n",
    "class DeepestLeft:\n",
    "    def __init__(self):\n",
    "        self.depth = 0\n",
    "        self.Node = None\n",
    "\n",
    "def find_deepest_left(root, is_left, depth, res):\n",
    "    if not root:\n",
    "        return\n",
    "    if is_left and depth > res.depth:\n",
    "        res.depth = depth\n",
    "        res.Node = root\n",
    "    find_deepest_left(root.left, True, depth + 1, res)\n",
    "    find_deepest_left(root.right, False, depth + 1, res)\n",
    "\n",
    "root = Node(1)\n",
    "root.left = Node(2)\n",
    "root.right = Node(3)\n",
    "root.left.left = Node(4)\n",
    "root.left.right = Node(5)\n",
    "root.right.right = Node(6)\n",
    "root.right.right.right = Node(7)\n",
    "\n",
    "res = DeepestLeft()\n",
    "find_deepest_left(root, True, 1, res)\n",
    "if res.Node:\n",
    "    print(res.Node.val)"
   ]
  },
  {
   "cell_type": "markdown",
   "metadata": {},
   "source": [
    "## Min / Max height"
   ]
  },
  {
   "cell_type": "code",
   "execution_count": 48,
   "metadata": {},
   "outputs": [],
   "source": [
    "def max_height(root):        \n",
    "    if not root: return 0\n",
    "    return max(max_height(root.left),\\\n",
    "               max_height(root.right)) + 1\n",
    "\n",
    "def min_height(root):        \n",
    "    if not root: return 0        \n",
    "    if not root.left or not root.right:\n",
    "        return max(min_height(root.left),\\\n",
    "                   min_height(root.right))+1        \n",
    "    return min(min_height(root.left),\\\n",
    "               min_height(root.right)) + 1"
   ]
  },
  {
   "cell_type": "code",
   "execution_count": 49,
   "metadata": {},
   "outputs": [
    {
     "name": "stdout",
     "output_type": "stream",
     "text": [
      "10 12 25 100 30 15 36 \n",
      "Max height: 4\n",
      "Min height: 3\n"
     ]
    }
   ],
   "source": [
    "tree = Node(10)\n",
    "tree.left = Node(12)\n",
    "tree.right = Node(15)\n",
    "tree.left.left  = Node(25)\n",
    "tree.left.left.right  = Node(100)\n",
    "tree.left.right = Node(30)\n",
    "tree.right.left = Node(36)\n",
    "\n",
    "print_tree(tree)\n",
    "print()\n",
    "\n",
    "maxHeight = max_height(tree)\n",
    "print(\"Max height:\", maxHeight)\n",
    "\n",
    "minHeight = min_depth(tree)\n",
    "print(\"Min height:\", minHeight)"
   ]
  },
  {
   "cell_type": "markdown",
   "metadata": {},
   "source": [
    "### Check if BT is balanced"
   ]
  },
  {
   "cell_type": "code",
   "execution_count": null,
   "metadata": {},
   "outputs": [],
   "source": [
    "# time O(n)\n",
    "def is_balanced(root):\n",
    "    return -1 != get_depth(root)\n",
    "# return 0 if unbalanc. else depth+1\n",
    "def get_depth(root):\n",
    "    if not root:\n",
    "        return 0\n",
    "    left  = get_depth(root.left)\n",
    "    right = get_depth(root.right)\n",
    "    if abs(left-right) > 1 or\\\n",
    "       left == -1 or right == -1:\n",
    "        return -1\n",
    "    return 1 + max(left, right)"
   ]
  },
  {
   "cell_type": "markdown",
   "metadata": {},
   "source": [
    "## Lowest common ancestor (any BT)"
   ]
  },
  {
   "cell_type": "code",
   "execution_count": null,
   "metadata": {},
   "outputs": [],
   "source": [
    "def lca(root, p, q):\n",
    "    if not root or root is p or root is q:\n",
    "        return root\n",
    "    left = lca(root.left, p, q)\n",
    "    right = lca(root.right, p, q)\n",
    "    if left and right:\n",
    "        return root\n",
    "    return left if left else right"
   ]
  },
  {
   "cell_type": "code",
   "execution_count": null,
   "metadata": {},
   "outputs": [],
   "source": []
  },
  {
   "cell_type": "markdown",
   "metadata": {},
   "source": [
    "## LCA in BST"
   ]
  },
  {
   "cell_type": "code",
   "execution_count": 4,
   "metadata": {},
   "outputs": [
    {
     "name": "stdout",
     "output_type": "stream",
     "text": [
      "LCA of 10 and 14 is 12\n",
      "LCA of 14 and 8 is 8\n",
      "LCA of 10 and 22 is 20\n"
     ]
    }
   ],
   "source": [
    "# Time c. O(h), space c. O(1)\n",
    "def lca(root, n1, n2):    \n",
    "    if root is None: return None\n",
    "    if(root.data > n1 and root.data > n2): \n",
    "        return lca(root.left, n1, n2)\n",
    "    if(root.data < n1 and root.data < n2): \n",
    "        return lca(root.right, n1, n2)  \n",
    "    return root \n",
    "  \n",
    "    \n",
    "root = Node(20) \n",
    "root.left = Node(8) \n",
    "root.right = Node(22) \n",
    "root.left.left = Node(4) \n",
    "root.left.right = Node(12) \n",
    "root.left.right.left = Node(10) \n",
    "root.left.right.right = Node(14) \n",
    "  \n",
    "n1 = 10 ; n2 = 14\n",
    "t = lca(root, n1, n2) \n",
    "print('LCA of %d and %d is %d' %(n1, n2, t.data))\n",
    "  \n",
    "n1 = 14 ; n2 = 8\n",
    "t = lca(root, n1, n2) \n",
    "print('LCA of %d and %d is %d' %(n1, n2 , t.data))\n",
    "  \n",
    "n1 = 10 ; n2 = 22\n",
    "t = lca(root, n1, n2) \n",
    "print('LCA of %d and %d is %d' %(n1, n2, t.data))"
   ]
  },
  {
   "cell_type": "code",
   "execution_count": null,
   "metadata": {},
   "outputs": [],
   "source": []
  },
  {
   "cell_type": "markdown",
   "metadata": {},
   "source": [
    "## Maximum path sum"
   ]
  },
  {
   "cell_type": "code",
   "execution_count": 1,
   "metadata": {},
   "outputs": [],
   "source": [
    "#Time O(n), space O(h): balanced O(logn), skewed O(n)\n",
    "def max_path_sum(root):\n",
    "    max_sum = float('-inf')\n",
    "    def gain(root):\n",
    "        nonlocal max_sum\n",
    "        if not root: return 0\n",
    "        # only pos values\n",
    "        left  = max(gain(root.left), 0)\n",
    "        right = max(gain(root.right),0)\n",
    "        # update global max_sum\n",
    "        new_path = root.val+left+right\n",
    "        max_sum = max(max_sum, new_path) \n",
    "        # return max gain if continue same path up\n",
    "        return root.val + max(left, right)\n",
    "    gain(root)\n",
    "    return max_sum"
   ]
  },
  {
   "cell_type": "code",
   "execution_count": 4,
   "metadata": {},
   "outputs": [
    {
     "data": {
      "text/plain": [
       "77"
      ]
     },
     "execution_count": 4,
     "metadata": {},
     "output_type": "execute_result"
    }
   ],
   "source": [
    "class Node:\n",
    "    def __init__(self, val=None):\n",
    "        self.val = val\n",
    "        self.left = None\n",
    "        self.right = None\n",
    "        \n",
    "root = Node(20) \n",
    "root.left = Node(8) \n",
    "root.right = Node(22) \n",
    "root.left.left = Node(4) \n",
    "root.left.right = Node(12) \n",
    "root.left.right.left = Node(10) \n",
    "root.left.right.right = Node(15)\n",
    "\n",
    "max_path_sum(root)"
   ]
  },
  {
   "cell_type": "code",
   "execution_count": null,
   "metadata": {},
   "outputs": [],
   "source": []
  },
  {
   "cell_type": "markdown",
   "metadata": {},
   "source": [
    "### Check if BT has a path sum"
   ]
  },
  {
   "cell_type": "code",
   "execution_count": 68,
   "metadata": {},
   "outputs": [
    {
     "name": "stdout",
     "output_type": "stream",
     "text": [
      "10 12 25 100 30 15 36 \n",
      "52\n",
      "61\n",
      "147\n"
     ]
    }
   ],
   "source": [
    "\"\"\"\n",
    "Given a binary tree and a sum, determine if the tree has a root-to-leaf\n",
    "path such that adding up all the values along the path equals the given sum.\n",
    "\n",
    "For example:\n",
    "Given the below binary tree and sum = 22,\n",
    "              5\n",
    "             / \\\n",
    "            4   8\n",
    "           /   / \\\n",
    "          11  13  4\n",
    "         /  \\      \\\n",
    "        7    2      1\n",
    "return true, as there exist a root-to-leaf path 5->4->11->2 which sum is 22.\n",
    "\"\"\"\n",
    "class Node:\n",
    "    def __init__(self, val = 0):\n",
    "        self.val = val\n",
    "        self.left = None\n",
    "        self.right = None\n",
    "\n",
    "\n",
    "def has_path_sum(root, sum):\n",
    "    \"\"\"\n",
    "    :type root: TreeNode\n",
    "    :type sum: int\n",
    "    :rtype: bool\n",
    "    \"\"\"\n",
    "    if not root:\n",
    "        return False\n",
    "    if not root.left and not root.right and root.val == sum:\n",
    "        return True\n",
    "    sum -= root.val\n",
    "    return has_path_sum(root.left, sum) or has_path_sum(root.right, sum)\n",
    "\n",
    "\n",
    "# DFS with stack\n",
    "def has_path_sum2(root, sum):\n",
    "    if not root:\n",
    "        return False\n",
    "    stack = [(root, root.val)]\n",
    "    while stack:\n",
    "        node, val = stack.pop()\n",
    "        if not node.left and not node.right:\n",
    "            if val == sum:\n",
    "                return True\n",
    "        if node.left:\n",
    "            stack.append((node.left, val+node.left.val))\n",
    "        if node.right:\n",
    "            stack.append((node.right, val+node.right.val))\n",
    "    return False\n",
    "\n",
    "\n",
    "# BFS with queue\n",
    "def has_path_sum3(root, sum):\n",
    "    if not root:\n",
    "        return False\n",
    "    queue = [(root, sum-root.val)]\n",
    "    while queue:\n",
    "        node, val = queue.pop(0)  # popleft\n",
    "        if not node.left and not node.right:\n",
    "            if val == 0:\n",
    "                return True\n",
    "        if node.left:\n",
    "            queue.append((node.left, val-node.left.val))\n",
    "        if node.right:\n",
    "            queue.append((node.right, val-node.right.val))\n",
    "    return False\n",
    "\n",
    "tree = Node(10)\n",
    "tree.left = Node(12)\n",
    "tree.right = Node(15)\n",
    "tree.left.left  = Node(25)\n",
    "tree.left.left.right  = Node(100)\n",
    "tree.left.right = Node(30)\n",
    "tree.right.left = Node(36)\n",
    "\n",
    "print_tree(tree)\n",
    "print()\n",
    "\n",
    "# see why it is not working as expected\n",
    "for i in range(500):\n",
    "    if has_path_sum(tree, i):\n",
    "        print(i)"
   ]
  },
  {
   "cell_type": "markdown",
   "metadata": {},
   "source": [
    "### Sorted array to BST"
   ]
  },
  {
   "cell_type": "code",
   "execution_count": null,
   "metadata": {},
   "outputs": [],
   "source": [
    "\"\"\"\n",
    "Given an array where elements are sorted in ascending order,\n",
    "convert it to a height balanced BST.\n",
    "\"\"\"\n",
    "\n",
    "\n",
    "class TreeNode(object):\n",
    "    def __init__(self, x):\n",
    "        self.val = x\n",
    "        self.left = None\n",
    "        self.right = None\n",
    "\n",
    "\n",
    "def array_to_bst(nums):\n",
    "    if not nums:\n",
    "        return None\n",
    "    mid = len(nums)//2\n",
    "    node = TreeNode(nums[mid])\n",
    "    node.left = array_to_bst(nums[:mid])\n",
    "    node.right = array_to_bst(nums[mid+1:])\n",
    "    return node"
   ]
  },
  {
   "cell_type": "code",
   "execution_count": null,
   "metadata": {},
   "outputs": [],
   "source": []
  },
  {
   "cell_type": "markdown",
   "metadata": {},
   "source": [
    "## Trees - Top 10 Algorithms in Interview Questions (Geeksforgeeks.com)"
   ]
  },
  {
   "cell_type": "markdown",
   "metadata": {},
   "source": [
    "### Distance between two nodes of a Binary Tree\n",
    "Using lowest common ancestor (LCA):\n",
    "\n",
    "Dist(n1, n2) = Dist(root, n1) + Dist(root, n2) - 2*Dist(root, LCA)\n",
    "'n1' and 'n2' are the two given nodes (their values)\n",
    "\n",
    "Time c. O(n)?"
   ]
  },
  {
   "cell_type": "code",
   "execution_count": 32,
   "metadata": {},
   "outputs": [
    {
     "name": "stdout",
     "output_type": "stream",
     "text": [
      "Dist(4,5) =  2\n",
      "Dist(4,6) =  4\n",
      "Dist(3,4) =  3\n",
      "Dist(2,4) =  1\n",
      "Dist(8,5) =  5\n"
     ]
    }
   ],
   "source": [
    "# binary tree node\n",
    "class Node: \n",
    "    \n",
    "    def __init__(self, data): \n",
    "        self.data = data \n",
    "        self.left = self.right = None\n",
    "  \n",
    "  \n",
    "# find LCA \n",
    "def LCA(root, n1, n2): \n",
    "      \n",
    "    # Base case \n",
    "    if root is None: \n",
    "        return None\n",
    "\n",
    "    if root.data == n1 or root.data == n2: \n",
    "        return root \n",
    "  \n",
    "    # Look for keys in left and right subtrees \n",
    "    left = LCA(root.left, n1, n2) \n",
    "    right = LCA(root.right, n1, n2) \n",
    "  \n",
    "    if left is not None and right is not None: \n",
    "        return root \n",
    "\n",
    "    if left: \n",
    "        return left \n",
    "    else: \n",
    "        return right \n",
    "  \n",
    "  \n",
    "# find distance of any node from root\n",
    "def findLevel(root, data, d, level):      \n",
    "    \n",
    "    if root is None:                                                           # base case \n",
    "        return  \n",
    "    \n",
    "    if root.data == data:                                                      # node found  \n",
    "        d.append(level) \n",
    "        return\n",
    "  \n",
    "    findLevel(root.left, data, d, level + 1) \n",
    "    findLevel(root.right, data, d, level + 1) \n",
    "    \n",
    "    \n",
    "def findDistance(root, n1, n2): \n",
    "      \n",
    "    lca = LCA(root, n1, n2)    \n",
    "    d1 = []                                                                    # distance(n1, lca)    \n",
    "    d2 = []                                                                    # distance(n2, lca)  \n",
    "  \n",
    "    \n",
    "    if lca:                                                                    # if lca exist          \n",
    "        \n",
    "        findLevel(lca, n1, d1, 0)        \n",
    "        findLevel(lca, n2, d2, 0)  \n",
    "        return d1[0] + d2[0]\n",
    "        \n",
    "    else: \n",
    "        return -1\n",
    "  \n",
    " \n",
    "root = Node(1) \n",
    "root.left = Node(2) \n",
    "root.right = Node(3) \n",
    "root.left.left = Node(4) \n",
    "root.left.right = Node(5) \n",
    "root.right.left = Node(6) \n",
    "root.right.right = Node(7) \n",
    "root.right.left.right = Node(8) \n",
    "  \n",
    "print(\"Dist(4,5) = \", findDistance(root, 4, 5)) \n",
    "print(\"Dist(4,6) = \", findDistance(root, 4, 6)) \n",
    "print(\"Dist(3,4) = \", findDistance(root, 3, 4)) \n",
    "print(\"Dist(2,4) = \", findDistance(root, 2, 4)) \n",
    "print(\"Dist(8,5) = \", findDistance(root, 8, 5)) "
   ]
  },
  {
   "cell_type": "markdown",
   "metadata": {},
   "source": [
    "### Maximum Path Sum in a Binary Tree\n",
    "Four ways that the max path goes through each node:\n",
    "1. Node only\n",
    "2. Max path through Left Child + Node\n",
    "3. Max path through Right Child + Node\n",
    "4. Max path through Left Child + Node + Max path through Right Child\n",
    "\n",
    "Keep track of the four paths and pick the max one in the end. Important: root of every subtree need to return max path sum such that at most one child of root is involved - needed for parent function call. In below code, this sum is stored in 'max_single' and returned by the recursive function"
   ]
  },
  {
   "cell_type": "code",
   "execution_count": 3,
   "metadata": {},
   "outputs": [
    {
     "name": "stdout",
     "output_type": "stream",
     "text": [
      "Max path sum is  42\n"
     ]
    }
   ],
   "source": [
    "# A Binary Tree Node \n",
    "class Node: \n",
    "      \n",
    "    # Contructor to create a new node \n",
    "    def __init__(self, data): \n",
    "        self.data = data \n",
    "        self.left = None\n",
    "        self.right = None\n",
    "\n",
    "\n",
    "# Return maximum path sum in 'res' + return max path sum going through root\n",
    "def findMaxUtil(root):\n",
    "      \n",
    "    # base case\n",
    "    if root is None:\n",
    "        return 0\n",
    "    \n",
    "    l = findMaxUtil(root.left)\n",
    "    r = findMaxUtil(root.right)\n",
    "\n",
    "    max_single = max(max(l, r) + root.data, root.data)\n",
    "\n",
    "    max_top = max(max_single, l + r + root.data)\n",
    "  \n",
    "    # Static variable to store the maximum result\n",
    "    findMaxUtil.res = max(findMaxUtil.res, max_top)\n",
    "  \n",
    "    return max_single \n",
    "\n",
    "\n",
    "# Return max path sum in tree with given root \n",
    "def findMaxSum(root): \n",
    "      \n",
    "    # Initialize result \n",
    "    findMaxUtil.res = float(\"-inf\") \n",
    "      \n",
    "    # Compute and return result \n",
    "    findMaxUtil(root) \n",
    "    return findMaxUtil.res \n",
    "  \n",
    "root = Node(10) \n",
    "root.left = Node(2) \n",
    "root.right   = Node(10); \n",
    "root.left.left  = Node(20); \n",
    "root.left.right = Node(1); \n",
    "root.right.right = Node(-25); \n",
    "root.right.right.left   = Node(3); \n",
    "root.right.right.right  = Node(4); \n",
    "print(\"Max path sum is \" ,findMaxSum(root))"
   ]
  },
  {
   "cell_type": "markdown",
   "metadata": {},
   "source": [
    "### Check if a binary tree is full\n",
    "A full binary tree (BT) - all nodes have either zero or two child nodes OR no node has one child node:  \n",
    "1) If a BT node is NULL => full BT  \n",
    "2) If a BT node has empty left and right sub-trees => full BT (a leaf node)  \n",
    "3) If a BT node has left and right sub-trees => it's part of a full BT, recursively check its left and right sub-trees  \n",
    "4) Any other case => not a full BT"
   ]
  },
  {
   "cell_type": "code",
   "execution_count": 8,
   "metadata": {},
   "outputs": [
    {
     "name": "stdout",
     "output_type": "stream",
     "text": [
      "BT is full\n"
     ]
    }
   ],
   "source": [
    "# BT node \n",
    "class Node: \n",
    "      \n",
    "    def __init__(self , key): \n",
    "        self.key = key \n",
    "        self.left = None\n",
    "        self.right = None\n",
    "\n",
    "\n",
    "def isFullTree(root): \n",
    "  \n",
    "    # If empty tree \n",
    "    if root is None:     \n",
    "        return True\n",
    "      \n",
    "    # If a leaf node \n",
    "    if root.left is None and root.right is None: \n",
    "        return True\n",
    "  \n",
    "    # If both left & right subtrees != None and are full \n",
    "    if root.left is not None and root.right is not None: \n",
    "        return (isFullTree(root.left) and isFullTree(root.right)) \n",
    "      \n",
    "    # If we reach here - none of the above conditions held \n",
    "    return False\n",
    "  \n",
    "# Driver Program \n",
    "root = Node(10); \n",
    "root.left = Node(20); \n",
    "root.right = Node(30); \n",
    "  \n",
    "root.left.right = Node(40); \n",
    "root.left.left = Node(50); \n",
    "root.right.left = Node(60); \n",
    "root.right.right = Node(70); \n",
    "  \n",
    "root.left.left.left = Node(80); \n",
    "root.left.left.right = Node(90); \n",
    "root.left.right.left = Node(80); \n",
    "root.left.right.right = Node(90); \n",
    "root.right.left.left = Node(80); \n",
    "root.right.left.right = Node(90); \n",
    "root.right.right.left = Node(80); \n",
    "root.right.right.right = Node(90); \n",
    "  \n",
    "if isFullTree(root): \n",
    "    print('BT is full')\n",
    "else: \n",
    "    print('BT is not full')"
   ]
  },
  {
   "cell_type": "markdown",
   "metadata": {},
   "source": [
    "### Check if a binary tree is subtree of another binary tree\n",
    "Traverse the tree T in preorder fashion. For every visited node in the traversal, see if the subtree rooted with this node is identical to S.  \n",
    "Time c. O(mn) in worst case where m & n # nodes in the given two trees. O(n) is possible, but not clear on Geeksforgeeks (and doesn't have a Python version)"
   ]
  },
  {
   "cell_type": "code",
   "execution_count": 5,
   "metadata": {},
   "outputs": [
    {
     "name": "stdout",
     "output_type": "stream",
     "text": [
      "Tree 2 is subtree of Tree 1\n"
     ]
    }
   ],
   "source": [
    "# BT node \n",
    "class Node:  \n",
    "    def __init__(self, data): \n",
    "        self.data = data  \n",
    "        self.left = None\n",
    "        self.right = None\n",
    "\n",
    "# check if two trees are identical \n",
    "def areIdentical(root1, root2):      \n",
    "    \n",
    "    if root1 is None and root2 is None:                                             # base case\n",
    "        return True\n",
    "    if root1 is None or root2 is None: \n",
    "        return False\n",
    "  \n",
    "    # check both roots are the same and left & right subtrees are the same \n",
    "    return (root1.data == root2.data and \n",
    "            areIdentical(root1.left , root2.left) and\n",
    "            areIdentical(root1.right, root2.right)\n",
    "            )  \n",
    "  \n",
    "# check if subtree \n",
    "def isSubtree(T, S):      \n",
    "    \n",
    "    if S is None:                                                                    # base case\n",
    "        return True\n",
    "  \n",
    "    if T is None: \n",
    "        return False\n",
    "     \n",
    "    if (areIdentical(T, S)): \n",
    "        return True\n",
    "  \n",
    "    # if none of the above try left and right subtrees one by one\n",
    "    return isSubtree(T.left, S) or isSubtree(T.right, S) \n",
    "  \n",
    "\n",
    "\"\"\" TREE 1 \n",
    "     Construct the following tree \n",
    "              26 \n",
    "            /   \\ \n",
    "          10     3 \n",
    "        /    \\     \\ \n",
    "       4      6     3 \n",
    "       \\ \n",
    "        30 \n",
    "    \"\"\"\n",
    "  \n",
    "T = Node(26) \n",
    "T.right = Node(3) \n",
    "T.right.right  = Node(3) \n",
    "T.left = Node(10) \n",
    "T.left.left = Node(4) \n",
    "T.left.left.right = Node(30) \n",
    "T.left.right = Node(6) \n",
    "  \n",
    "\"\"\" TREE 2 \n",
    "     Construct the following tree \n",
    "          10 \n",
    "        /    \\ \n",
    "       4      6 \n",
    "        \\ \n",
    "         30 \n",
    "    \"\"\"\n",
    "S = Node(10) \n",
    "S.right = Node(6) \n",
    "S.left = Node(4) \n",
    "S.left.right = Node(30) \n",
    "  \n",
    "if isSubtree(T, S): \n",
    "    print('Tree 2 is subtree of Tree 1')\n",
    "else: \n",
    "    print('Tree 2 is not a subtree of Tree 1')"
   ]
  },
  {
   "cell_type": "code",
   "execution_count": null,
   "metadata": {},
   "outputs": [],
   "source": []
  },
  {
   "cell_type": "markdown",
   "metadata": {},
   "source": [
    "### Reverse alternate levels of a perfect binary tree\n",
    "\n",
    "A simple solution is to do following steps:  \n",
    "1) Access nodes level by level.  \n",
    "2) If current level is odd, then store nodes of this level in an array.  \n",
    "3) Reverse the array and store elements back in tree."
   ]
  },
  {
   "cell_type": "code",
   "execution_count": 12,
   "metadata": {},
   "outputs": [
    {
     "name": "stdout",
     "output_type": "stream",
     "text": [
      "Inorder traversal of initial tree\n",
      "h d i b j e k a l f m c n g o \n",
      "Inorder traversal of modified tree\n",
      "o d n c m e l a k f j b i g h "
     ]
    }
   ],
   "source": [
    "\"\"\"\n",
    "Given tree: \n",
    "               a\n",
    "            /     \\\n",
    "           b       c\n",
    "         /  \\     /  \\\n",
    "        d    e    f    g\n",
    "       / \\  / \\  / \\  / \\\n",
    "       h  i j  k l  m  n  o \n",
    "\n",
    "Modified tree:\n",
    "               a\n",
    "            /     \\\n",
    "           c       b\n",
    "         /  \\     /  \\\n",
    "        d    e    f    g\n",
    "       / \\  / \\  / \\  / \\\n",
    "      o  n m  l k  j  i  h \n",
    "\"\"\"\n",
    "\n",
    "class Node:  \n",
    "\n",
    "    def __init__(self, key):  \n",
    "        self.key = key  \n",
    "        self.left = None\n",
    "        self.right = None\n",
    "        \n",
    "        \n",
    "def preorder(root1, root2, lvl):      \n",
    "    \n",
    "    if (root1 == None or root2 == None):                                  # base case\n",
    "        return  \n",
    "    \n",
    "    if (lvl % 2 == 0):                                                    # swap subtrees if level is even\n",
    "        t = root1.key \n",
    "        root1.key = root2.key \n",
    "        root2.key = t    \n",
    "    \n",
    "    preorder(root1.left, root2.right, lvl + 1)                            # recur for left and right subtrees\n",
    "    preorder(root1.right, root2.left, lvl + 1) \n",
    "    \n",
    "    \n",
    "def reverseAlternate(root): \n",
    "    preorder(root.left, root.right, 0) \n",
    "    \n",
    "    \n",
    "# inorder traversal (print initial trees)\n",
    "def printInorder(root):\n",
    "        \n",
    "    if (root == None): \n",
    "        return\n",
    "        \n",
    "    printInorder(root.left) \n",
    "    print( root.key, end = \" \") \n",
    "    printInorder(root.right) \n",
    "\n",
    "\n",
    "root = Node('a')\n",
    "root.left = Node('b')\n",
    "root.right = Node('c')\n",
    "root.left.left = Node('d')\n",
    "root.left.right = Node('e')\n",
    "root.right.left = Node('f')\n",
    "root.right.right = Node('g')\n",
    "root.left.left.left = Node('h')\n",
    "root.left.left.right = Node('i')\n",
    "root.left.right.left = Node('j')\n",
    "root.left.right.right = Node('k')\n",
    "root.right.left.left = Node('l') \n",
    "root.right.left.right = Node('m')\n",
    "root.right.right.left = Node('n')\n",
    "root.right.right.right = Node('o')\n",
    "\n",
    "print( \"Inorder traversal of initial tree\")\n",
    "printInorder(root)\n",
    "\n",
    "reverseAlternate(root)\n",
    "\n",
    "print(\"\\nInorder traversal of modified tree\")\n",
    "printInorder(root)"
   ]
  },
  {
   "cell_type": "markdown",
   "metadata": {},
   "source": [
    "### Print Nodes of Binary Tree in Top View (aka External Nodes)\n",
    "Top view - nodes visible when the tree is viewed from the top (printed in any order). Expected time complexity is O(n). Not too clear what a top view is - why 6 in the second example below is printed last? Because of in any order?"
   ]
  },
  {
   "cell_type": "code",
   "execution_count": 14,
   "metadata": {},
   "outputs": [
    {
     "name": "stdout",
     "output_type": "stream",
     "text": [
      "Following are nodes in top view of Binary Tree\n",
      "2 1 3 6 "
     ]
    }
   ],
   "source": [
    "'''\n",
    "       1\n",
    "    /     \\\n",
    "   2       3\n",
    "  /  \\    / \\\n",
    " 4    5  6   7\n",
    "Top view of the above binary tree is\n",
    "4 2 1 3 7\n",
    "\n",
    "        1\n",
    "      /   \\\n",
    "    2       3\n",
    "      \\   \n",
    "        4  \n",
    "          \\\n",
    "            5\n",
    "             \\\n",
    "               6\n",
    "Top view of the above binary tree is\n",
    "2 1 3 6\n",
    "'''\n",
    "\n",
    "class Node:\n",
    "    def __init__(self, key):  \n",
    "        self.data = key  \n",
    "        self.left = None\n",
    "        self.right = None\n",
    "\n",
    "# f(x) to fill the map \n",
    "def fillMap(root, d, l, m): \n",
    "    if(root == None): \n",
    "        return\n",
    "      \n",
    "    if d not in m: \n",
    "        m[d] = [root.data,l] \n",
    "    elif(m[d][1] > l): \n",
    "        m[d] = [root.data,l] \n",
    "    fillMap(root.left, d - 1, l + 1, m) \n",
    "    fillMap(root.right, d + 1, l + 1, m) \n",
    "\n",
    "# f(x) to print top view of BT \n",
    "def topView(root): \n",
    "      \n",
    "    # map to store the pair of node value and its level  \n",
    "    # with respect to the vertical distance from root.  \n",
    "    m = {} \n",
    "      \n",
    "    fillMap(root, 0, 0, m) \n",
    "    for it in sorted (m.keys()): \n",
    "        print(m[it][0], end = \" \") \n",
    "        \n",
    "        \n",
    "root = Node(1)\n",
    "root.left = Node(2)\n",
    "root.right = Node(3)\n",
    "root.left.right = Node(4)\n",
    "root.left.right.right = Node(5)\n",
    "root.left.right.right.right = Node(6)\n",
    "print('Following are nodes in top view of Binary Tree')\n",
    "topView(root)"
   ]
  },
  {
   "cell_type": "code",
   "execution_count": null,
   "metadata": {},
   "outputs": [],
   "source": []
  }
 ],
 "metadata": {
  "kernelspec": {
   "display_name": "Python 3 (ipykernel)",
   "language": "python",
   "name": "python3"
  },
  "language_info": {
   "codemirror_mode": {
    "name": "ipython",
    "version": 3
   },
   "file_extension": ".py",
   "mimetype": "text/x-python",
   "name": "python",
   "nbconvert_exporter": "python",
   "pygments_lexer": "ipython3",
   "version": "3.11.11"
  }
 },
 "nbformat": 4,
 "nbformat_minor": 2
}
