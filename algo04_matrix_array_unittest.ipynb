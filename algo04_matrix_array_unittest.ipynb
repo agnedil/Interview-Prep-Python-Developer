{
 "cells": [
  {
   "cell_type": "markdown",
   "metadata": {},
   "source": [
    "## THE MATRIX"
   ]
  },
  {
   "cell_type": "markdown",
   "metadata": {},
   "source": [
    "## Count paths\n",
    "Can move only right or down from a cell in the matrix - count the ways  \n",
    "(i) Recursion - Recurse starting from a[m-1][n-1], upwards and leftwards, add the path count of both recursions and return count;  \n",
    "(ii) Dynamic Programming- Start from a[0][0].Store the count in a count matrix. Return count[m-1][n-1]  \n",
    "__Time c. O(mn), space c. O(mn)__"
   ]
  },
  {
   "cell_type": "code",
   "execution_count": 6,
   "metadata": {},
   "outputs": [],
   "source": [
    "# Time c. - exponential O(c**n)\n",
    "def count_paths_rec(m, n): \n",
    "\n",
    "    if(m == 1 or n == 1): return 1\n",
    "    \n",
    "    return count_paths_rec(m-1, n) + count_paths_rec(m, n-1)             # If diagonal movements - add last term \n",
    "\n",
    "\n",
    "# Time & space = O(mn)\n",
    "def count_paths(m, n):\n",
    "        \n",
    "    if m < 1 or n < 1: return -1\n",
    "        \n",
    "    # Count matrix\n",
    "    count = [[None for j in range(n)] for i in range(m)]\n",
    "\n",
    "    # Edge cases - matrix of size 1xn or mx1\n",
    "    for i in range(n):\n",
    "        count[0][i] = 1\n",
    "    for j in range(m):\n",
    "        count[j][0] = 1\n",
    "\n",
    "    for i in range(1, m):\n",
    "        for j in range(1, n):\n",
    "                        \n",
    "            # Number of ways to reach a[i][j] = number of ways to reach a[i-1][j] + a[i][j-1]\n",
    "            count[i][j] = count[i - 1][j] + count[i][j - 1]\n",
    "\n",
    "    return count[m - 1][n - 1]\n",
    "\n",
    "\n",
    "# Time O(mn), space O(n)\n",
    "# Topmost leftmost cell 1, 1\n",
    "def count_paths_dp(m, n): \n",
    "      \n",
    "    dp = [1 for i in range(n)]                    # Store results of subproblems \n",
    "        \n",
    "    for i in range(1, m):                         # originally - for i in range(0, m - 1), why?\n",
    "        for j in range(1, n):\n",
    "            dp[j] = dp[j] + dp[j - 1]\n",
    "                        \n",
    "    return dp[n - 1]"
   ]
  },
  {
   "cell_type": "code",
   "execution_count": 7,
   "metadata": {},
   "outputs": [],
   "source": [
    "m, n = 5, 5"
   ]
  },
  {
   "cell_type": "code",
   "execution_count": 8,
   "metadata": {},
   "outputs": [
    {
     "name": "stdout",
     "output_type": "stream",
     "text": [
      "Recursive: 70\n",
      "    Optim: 70\n",
      "[1, 2, 1, 1, 1]\n",
      "[1, 2, 3, 1, 1]\n",
      "[1, 2, 3, 4, 1]\n",
      "[1, 2, 3, 4, 5]\n",
      "[1, 3, 3, 4, 5]\n",
      "[1, 3, 6, 4, 5]\n",
      "[1, 3, 6, 10, 5]\n",
      "[1, 3, 6, 10, 15]\n",
      "[1, 4, 6, 10, 15]\n",
      "[1, 4, 10, 10, 15]\n",
      "[1, 4, 10, 20, 15]\n",
      "[1, 4, 10, 20, 35]\n",
      "[1, 5, 10, 20, 35]\n",
      "[1, 5, 15, 20, 35]\n",
      "[1, 5, 15, 35, 35]\n",
      "[1, 5, 15, 35, 70]\n",
      " Optim DP: 70\n"
     ]
    }
   ],
   "source": [
    "print('Recursive:', count_paths_rec(m, n))\n",
    "print('    Optim:', count_paths(m, n))\n",
    "print(' Optim DP:', count_paths_dp(m, n))"
   ]
  },
  {
   "cell_type": "code",
   "execution_count": null,
   "metadata": {},
   "outputs": [],
   "source": []
  },
  {
   "cell_type": "markdown",
   "metadata": {},
   "source": [
    "## Rotate matrix clockwise, in place"
   ]
  },
  {
   "cell_type": "code",
   "execution_count": 2,
   "metadata": {},
   "outputs": [
    {
     "name": "stdout",
     "output_type": "stream",
     "text": [
      "[[7, 4, 1], [8, 5, 2], [9, 6, 3]]\n"
     ]
    }
   ],
   "source": [
    "# Each operation is O(M): time O(2M) -> O(M), space O(1) where m=num cells in matrix OR n**2\n",
    "class Solution(object):\n",
    "    def rotate(self, matrix):\n",
    "        self.transpose(matrix)\n",
    "        self.reflect(matrix)\n",
    "        \n",
    "    def transpose(self, matrix):\n",
    "        n = len(matrix)\n",
    "        for i in range(n):\n",
    "            for j in range(i+1, n):\n",
    "                matrix[i][j], matrix[j][i] =\\\n",
    "                matrix[j][i], matrix[i][j]\n",
    "                \n",
    "    def reflect(self, matrix):\n",
    "        n = len(matrix)\n",
    "        for i in range(n):\n",
    "            for j in range(n//2):\n",
    "                matrix[i][j], matrix[i][-j-1] =\\\n",
    "                matrix[i][-j-1], matrix[i][j]\n",
    "                \n",
    "matrix = [[1,2,3],[4,5,6],[7,8,9]]\n",
    "s = Solution()\n",
    "s.rotate(matrix)\n",
    "print(matrix)"
   ]
  },
  {
   "cell_type": "markdown",
   "metadata": {},
   "source": [
    "## Rotate matrix, Python way (not in place)"
   ]
  },
  {
   "cell_type": "code",
   "execution_count": 1,
   "metadata": {},
   "outputs": [],
   "source": [
    "matrix = [\n",
    "    [1, 2, 3],\n",
    "    [4, 5, 6],\n",
    "    [7, 8, 9],\n",
    "]"
   ]
  },
  {
   "cell_type": "code",
   "execution_count": 2,
   "metadata": {},
   "outputs": [
    {
     "name": "stdout",
     "output_type": "stream",
     "text": [
      "(1, 4, 7)\n",
      "(2, 5, 8)\n",
      "(3, 6, 9)\n"
     ]
    }
   ],
   "source": [
    "# transpose (top left invert)\n",
    "new = list(zip(*matrix))\n",
    "for i in new:\n",
    "    print(i)"
   ]
  },
  {
   "cell_type": "code",
   "execution_count": 8,
   "metadata": {},
   "outputs": [
    {
     "name": "stdout",
     "output_type": "stream",
     "text": [
      "(9, 6, 3)\n",
      "(8, 5, 2)\n",
      "(7, 4, 1)\n"
     ]
    }
   ],
   "source": [
    "# bottom left invert\n",
    "new = list(zip(*reversed([reversed(i) for i in matrix])))\n",
    "for i in new:\n",
    "    print(i)"
   ]
  },
  {
   "cell_type": "code",
   "execution_count": 6,
   "metadata": {},
   "outputs": [
    {
     "name": "stdout",
     "output_type": "stream",
     "text": [
      "(7, 4, 1)\n",
      "(8, 5, 2)\n",
      "(9, 6, 3)\n"
     ]
    }
   ],
   "source": [
    "# clockwise\n",
    "new = list(zip(*reversed(matrix)))\n",
    "for i in new:\n",
    "    print(i)"
   ]
  },
  {
   "cell_type": "code",
   "execution_count": 7,
   "metadata": {},
   "outputs": [
    {
     "name": "stdout",
     "output_type": "stream",
     "text": [
      "(3, 6, 9)\n",
      "(2, 5, 8)\n",
      "(1, 4, 7)\n"
     ]
    }
   ],
   "source": [
    "# counter clockwise\n",
    "new = list(zip(*[reversed(i) for i in matrix]))\n",
    "for i in new:\n",
    "    print(i)"
   ]
  },
  {
   "cell_type": "markdown",
   "metadata": {},
   "source": [
    "## Search in sorted matrix"
   ]
  },
  {
   "cell_type": "code",
   "execution_count": 7,
   "metadata": {},
   "outputs": [],
   "source": [
    "# Search a key in a row wise and column wise sorted (non-decreasing) matrix.\n",
    "# m - Number of rows in the matrix\n",
    "# n - Number of columns in the matrix\n",
    "# T(n)- O(m+n)\n",
    "#\n",
    "\n",
    "\n",
    "def search_in_a_sorted_matrix(mat, m, n, key):\n",
    "    i, j = m-1, 0\n",
    "    while i >= 0 and j < n:\n",
    "        if key == mat[i][j]:\n",
    "            print ('Key %s found at row %s, column %s' % (key, i+1, j+1))\n",
    "            return\n",
    "        if key < mat[i][j]:\n",
    "            i -= 1\n",
    "        else:\n",
    "            j += 1\n",
    "    print ('Key %s not found' % (key))"
   ]
  },
  {
   "cell_type": "code",
   "execution_count": 12,
   "metadata": {},
   "outputs": [
    {
     "name": "stdout",
     "output_type": "stream",
     "text": [
      "Key 14 found at row 2, column 3\n"
     ]
    }
   ],
   "source": [
    "mat = [\n",
    "       [2, 5, 7],\n",
    "       [4, 8, 14],\n",
    "       [9, 11, 15],\n",
    "       [12, 17, 20]\n",
    "      ]\n",
    "key = 14\n",
    "search_in_a_sorted_matrix(mat, len(mat), len(mat[0]), key)"
   ]
  },
  {
   "cell_type": "code",
   "execution_count": null,
   "metadata": {},
   "outputs": [],
   "source": []
  },
  {
   "cell_type": "markdown",
   "metadata": {},
   "source": [
    "## Spiral traversal"
   ]
  },
  {
   "cell_type": "code",
   "execution_count": 4,
   "metadata": {},
   "outputs": [],
   "source": [
    "def spiral_traversal(matrix):\n",
    "    res = []\n",
    "    if len(matrix) == 0:\n",
    "        return res\n",
    "    row_begin = 0\n",
    "    row_end = len(matrix) - 1\n",
    "    col_begin = 0\n",
    "    col_end = len(matrix[0]) - 1\n",
    "\n",
    "    while row_begin <= row_end and col_begin <= col_end:\n",
    "        for i in range(col_begin, col_end+1):\n",
    "            res.append(matrix[row_begin][i])\n",
    "        row_begin += 1\n",
    "\n",
    "        for i in range(row_begin, row_end+1):\n",
    "            res.append(matrix[i][col_end])\n",
    "        col_end -= 1\n",
    "\n",
    "        if row_begin <= row_end:\n",
    "            for i in range(col_end, col_begin-1, -1):\n",
    "                res.append(matrix[row_end][i])\n",
    "        row_end -= 1\n",
    "\n",
    "        if col_begin <= col_end:\n",
    "            for i in range(row_end, row_begin-1, -1):\n",
    "                res.append(matrix[i][col_begin])\n",
    "        col_begin += 1\n",
    "\n",
    "    return res"
   ]
  },
  {
   "cell_type": "code",
   "execution_count": 5,
   "metadata": {},
   "outputs": [
    {
     "name": "stdout",
     "output_type": "stream",
     "text": [
      "[1, 2, 3, 6, 9, 8, 7, 4, 5]\n"
     ]
    }
   ],
   "source": [
    "mat = [[1, 2, 3],\n",
    "       [4, 5, 6],\n",
    "       [7, 8, 9]]\n",
    "\n",
    "print(spiral_traversal(mat))"
   ]
  },
  {
   "cell_type": "markdown",
   "metadata": {},
   "source": [
    "## ARRAYS"
   ]
  },
  {
   "cell_type": "markdown",
   "metadata": {},
   "source": [
    "## Max subarray sum (only sum)\n",
    "From \"Competitive Programmer’s Handbook\" - very interesting book: terse and to the point.\n",
    "We __don’t reset current_sum to 0__ because arr can be all negatives => the result will be the largest negative"
   ]
  },
  {
   "cell_type": "code",
   "execution_count": 2,
   "metadata": {},
   "outputs": [
    {
     "data": {
      "text/plain": [
       "10"
      ]
     },
     "execution_count": 2,
     "metadata": {},
     "output_type": "execute_result"
    }
   ],
   "source": [
    "# O(n) while \"traditional\" solutions use 2 or 3 nested loops => O(n^2) or O(n^3)\n",
    "def maximum_sum(arr):\n",
    "        \n",
    "    if len(arr)==0: return 0                                 # edge case\n",
    "        \n",
    "    max_sum = curr_sum = arr[0]\n",
    "    \n",
    "    for i in range(1, len(arr)):\n",
    "        curr_sum = max(arr[i], curr_sum + arr[i])\n",
    "        max_sum = max(max_sum, curr_sum)\n",
    "    \n",
    "    return max_sum\n",
    "\n",
    "arr = [-1, 5, 3, -3, 5, -9, 5, ]\n",
    "maximum_sum(arr)"
   ]
  },
  {
   "cell_type": "code",
   "execution_count": null,
   "metadata": {},
   "outputs": [],
   "source": []
  },
  {
   "cell_type": "markdown",
   "metadata": {},
   "source": [
    "## Max subarray sum (sum + indices)\n",
    "\n",
    "Largest continuous sum in array of integers (positive and negative).\n",
    "\n",
    "If arr = all positive => sum(arr).\n",
    "\n",
    "Algo: __start__ summing up in current_sum. After each addition __check if current_sum > max_sum__; update max_sum if yes. Keep __adding as long as current_sum > 0__. If current_sum < 0, start __new current_sum__ (negative current_sum will only decrease sum of future sequence). We __don’t reset current_sum to 0__ because arr can be all negatives => the result will be the largest negative"
   ]
  },
  {
   "cell_type": "code",
   "execution_count": 3,
   "metadata": {},
   "outputs": [],
   "source": [
    "def large_cont_sum(arr): \n",
    "        \n",
    "    if len(arr)==0: return 0                                 # edge case\n",
    "        \n",
    "    max_sum = curr_sum = arr[0]\n",
    "    start, tstart, end = 0, 0, 0                             # store start & end indices\n",
    "            \n",
    "    for i in range(1, len(arr)):        \n",
    "                \n",
    "        # two-liner for this for loop if not keeping the start and end points\n",
    "        #curr_sum = max(curr_sum + num, num)            # current sum = the higher of the two        \n",
    "        #max_sum = max(curr_sum, max_sum)                  # max = the higher of current sum & current max\n",
    "                \n",
    "        if arr[i] > curr_sum + arr[i]:            \n",
    "            curr_sum = arr[i]\n",
    "            tstart = i\n",
    "        else:\n",
    "            curr_sum += arr[i]\n",
    "\n",
    "        if curr_sum > max_sum:\n",
    "            max_sum = curr_sum\n",
    "            start = tstart\n",
    "            end = i\n",
    "        \n",
    "    return max_sum, arr[start:end+1]"
   ]
  },
  {
   "cell_type": "code",
   "execution_count": 4,
   "metadata": {},
   "outputs": [
    {
     "name": "stdout",
     "output_type": "stream",
     "text": [
      "Largerst sum = 29 in subarray [1, 2, -1, 3, 4, 10, 10]\n",
      "Largerst sum =  9 in subarray [1, 2, -1, 3, 4]\n",
      "Largerst sum =  1 in subarray [1]\n"
     ]
    }
   ],
   "source": [
    "a = [1, 2, -1, 3, 4, 10, 10, -10, -1]\n",
    "b = [1, 2, -1, 3, 4, -1]\n",
    "c = [-1, 1]\n",
    "\n",
    "for arr in [a, b, c]:\n",
    "    print('Largerst sum = {:2} in subarray {}'.format(*large_cont_sum(arr)))"
   ]
  },
  {
   "cell_type": "code",
   "execution_count": null,
   "metadata": {},
   "outputs": [],
   "source": []
  },
  {
   "cell_type": "markdown",
   "metadata": {},
   "source": [
    "## All *unique* non-contiguous pairs that sum up to k (unsorted array)\n",
    "Insert and find operations of a set are O(1) => O(N).  \n",
    "Linear pass, for each elem: if (k - element) not in seen, add it to seen; if yes - found a pair"
   ]
  },
  {
   "cell_type": "code",
   "execution_count": 5,
   "metadata": {},
   "outputs": [],
   "source": [
    "def pair_sum(arr, k):\n",
    "    \n",
    "    if len(arr) < 2: return\n",
    "        \n",
    "    seen, output = set(), set()                                   # for tracking\n",
    "        \n",
    "    for num in arr:\n",
    "        if k-num not in seen:                                     # add to set if not seen\n",
    "            seen.add(num)\n",
    "        else:            \n",
    "            output.add( (min(num,k-num),  max(num,k-num)) )       # otherwise add pair    \n",
    "    \n",
    "    return '\\n'.join(map(str,list(output)))"
   ]
  },
  {
   "cell_type": "code",
   "execution_count": 97,
   "metadata": {},
   "outputs": [
    {
     "name": "stdout",
     "output_type": "stream",
     "text": [
      "(1, 3)\n",
      "(2, 2)\n",
      "\n",
      "(4, 6)\n",
      "(5, 5)\n",
      "(2, 8)\n",
      "(1, 9)\n",
      "(3, 7)\n"
     ]
    }
   ],
   "source": [
    "print(pair_sum([1,3,2,2],4))\n",
    "print()\n",
    "print(pair_sum([1,9,2,8,3,7,4,6,5,5,13,14,11,14,1],10))"
   ]
  },
  {
   "cell_type": "markdown",
   "metadata": {},
   "source": [
    "## One non-contigous pair whose sum is closest to k (sorted array)\n",
    "Examples:  \n",
    "Input: arr[] = {1, 3, 4, 7, 10}, x = 15  \n",
    "Output: 4 and 10  \n",
    "_Simple solution_ - every pair, time c. O(n2)  \n",
    "__Efficient solution__ - O(n) time:  \n",
    "1) Initialize var diff as infinite (difference between pair and x)  =>  need to find min diff  \n",
    "2) Initialize leftmost index l = 0   \n",
    "3) Initialize rightmost index r = n-1    \n",
    "3) While l < r  \n",
    "       (a) If abs(arr[l] + arr[r] - k) < diff => update diff, result    \n",
    "       (b) If (arr[l] + arr[r]) > k: r++, else l-- (sorted array)"
   ]
  },
  {
   "cell_type": "code",
   "execution_count": 6,
   "metadata": {},
   "outputs": [
    {
     "data": {
      "text/plain": [
       "(22, 30)"
      ]
     },
     "execution_count": 6,
     "metadata": {},
     "output_type": "execute_result"
    }
   ],
   "source": [
    "MAX_VAL = 1000000000\n",
    "  \n",
    "def closest_sum(arr, n, k):\n",
    "    \n",
    "    res = 0, 0                                                     # indices of correct pair    \n",
    "    l, r, diff = 0, n-1, MAX_VAL                                   # left and right indexes, difference between pair sum and x \n",
    "        \n",
    "    while l < r: \n",
    "        \n",
    "        if abs(arr[l] + arr[r] - k) < diff:                        # is this pair closer than the prev one \n",
    "            res = l, r \n",
    "            diff = abs(arr[l] + arr[r] - k) \n",
    "      \n",
    "        if arr[l] + arr[r] > k:                                    # if this sum greater, move to smaller, else to greater        \n",
    "            r -= 1\n",
    "        else:       \n",
    "            l += 1\n",
    "          \n",
    "    return arr[res[0]], arr[res[1]] \n",
    "\n",
    "\n",
    "arr = [10, 22, 28, 29, 30, 40]\n",
    "n = len(arr) \n",
    "k = 52\n",
    "closest_sum( arr, n, k )"
   ]
  },
  {
   "cell_type": "markdown",
   "metadata": {},
   "source": [
    "## Max (min) sum of subarray of size k\n",
    "__Simple Solution__ - generate all subarrays of size k with time c. O(n*k)\n",
    "\n",
    "__Efficient Solution__ - sum of subarray (window) of size k is obtained in O(1) time using sum of previous subarray (window) of size k. Except for the first k-length subarray, __compute sum by removing first element of last window and adding last element of current window__\n",
    "\n",
    "Time c. O(n), space c. O(1)"
   ]
  },
  {
   "cell_type": "code",
   "execution_count": 3,
   "metadata": {},
   "outputs": [
    {
     "name": "stdout",
     "output_type": "stream",
     "text": [
      "24\n"
     ]
    }
   ],
   "source": [
    "# O(n)\n",
    "def max_sum(arr, n, k):  \n",
    "    \n",
    "    if (n < k):                                 # edge case \n",
    "        return -1      \n",
    "     \n",
    "    res = 0\n",
    "    for i in range(k):                          # sum of first window of size k\n",
    "        res += arr[i] \n",
    "  \n",
    "    # remaining sums - remove first elem of prev window, add last elem of current window\n",
    "    curr_sum = res \n",
    "    for i in range(k, n):      \n",
    "        curr_sum += arr[i] - arr[i-k] \n",
    "        res = max(res, curr_sum) \n",
    "  \n",
    "    return res \n",
    "  \n",
    "\n",
    "arr = [1, 4, 2, 10, 2, 3, 1, 0, 20] \n",
    "k = 4\n",
    "n = len(arr) \n",
    "print(max_sum(arr, n, k))"
   ]
  },
  {
   "cell_type": "markdown",
   "metadata": {},
   "source": [
    "## All contiguous subarrays with sum k (neg or pos)\n",
    "### Sub-case: k=0\n",
    "__Time c. O(n), space c. O(n)__  \n",
    "Works for all cases (neg or pos); taken from [here](https://www.techiedelight.com/find-subarrays-given-sum-array/). The version on geeksforgeeks doesn't work for all of their own cases (their all-positives case)  \n",
    "__How it works__:\n",
    "* Maintain curr_sum of elems in arr[:i]\n",
    "* If it's k, found a subarray\n",
    "* Also, if curr_sum-k in hash_map => sum(arr[0:j]) was curr_sum-k, while arr[0:i] is curr_sum => sum([ j:i+1 ]) is k\n",
    "* Insert current sum into the hash map"
   ]
  },
  {
   "cell_type": "code",
   "execution_count": 14,
   "metadata": {},
   "outputs": [],
   "source": [
    "from collections import defaultdict\n",
    "\n",
    "def findSubarraysWithSumK(arr, k):\n",
    "    \n",
    "    hash_map = defaultdict(list)                      # key = sum, value = end indices of subarray w/sum    \n",
    "    res      = []                                     # subarrays\n",
    "    curr_sum = 0\n",
    "\n",
    "    for i in range( len(arr) ):\n",
    "\n",
    "        curr_sum += arr[i]\n",
    "        if curr_sum == k:\n",
    "            res.append(arr[:i+1])                     # or res.append((0, i+1))\n",
    "\n",
    "        if curr_sum-k in hash_map:                        \n",
    "            for value in hash_map[ curr_sum-k ]:\n",
    "                res.append( arr[ value+1:i+1 ] )      # or res.append((value+1, i+1))\n",
    "                                \n",
    "        hash_map[ curr_sum ].append(i)\n",
    "                \n",
    "    return res"
   ]
  },
  {
   "cell_type": "code",
   "execution_count": 15,
   "metadata": {},
   "outputs": [
    {
     "name": "stdout",
     "output_type": "stream",
     "text": [
      "[[3, 4], [3, 4, -7, 1, 3, 3], [1, 3, 3], [3, 3, 1]]\n",
      "\n",
      "[[-10], [-10, 10, -12, 2], [-12, 2], [2, -2, -20, 10], [-20, 10]]\n",
      "\n",
      "[[2, 4, 8, 9], [23]]\n",
      "\n",
      "[[10, 2, -2, -20], [2, -2, -20, 10], [-20, 10]]\n"
     ]
    }
   ],
   "source": [
    "arr = [3, 4, -7, 1, 3, 3, 1, -4]\n",
    "k = 7\n",
    "print(findSubarraysWithSumK(arr, k))\n",
    "print()\n",
    "\n",
    "# Geeksforgeeks cases that worked only for one of the solutions, but there was no solution that would cover all of these!\n",
    "arr = [-10, 10, -12, 2, -2, -20, 10]\n",
    "k = -10\n",
    "print(findSubarraysWithSumK(arr, k))\n",
    "print()\n",
    "\n",
    "# previous cases from a) and b)\n",
    "arr = [15, 2, 4, 8, 9, 5, 10, 23] \n",
    "k = 23  \n",
    "print(findSubarraysWithSumK(arr, k))\n",
    "print()\n",
    "\n",
    "arr = [10, 2, -2, -20, 10]  \n",
    "k = -10 \n",
    "print(findSubarraysWithSumK(arr, k))"
   ]
  },
  {
   "cell_type": "code",
   "execution_count": null,
   "metadata": {},
   "outputs": [],
   "source": []
  },
  {
   "cell_type": "markdown",
   "metadata": {},
   "source": [
    "## All non-contiguous triplets with sum < given value\n",
    "_Simple solution_ - brute force with __three nested loops__ to get all triplets and their sums. Time c. = O(n^3)\n",
    "```python\n",
    "res = 0  \n",
    "for i in range( 0 ,n-2):  \n",
    "    for j in range( i+1 ,n-1):  \n",
    "        for k in range( j+1, n):  \n",
    "            if (arr[i] + arr[j] + arr[k]) < sum:  \n",
    "                res += 1\n",
    "```\n",
    "                \n",
    "A O(n^2) solution is possible with below:"
   ]
  },
  {
   "cell_type": "code",
   "execution_count": 98,
   "metadata": {},
   "outputs": [
    {
     "name": "stdout",
     "output_type": "stream",
     "text": [
      "3\n"
     ]
    }
   ],
   "source": [
    "# Time c. O(n^2); uses sort() and smart iteration\n",
    "def count_triplets(arr, k): \n",
    "    \n",
    "    arr.sort()\n",
    "    n     = len(arr)\n",
    "    count = 0      \n",
    "    \n",
    "    for i in range(n-2):                                      # first elem of triplet = arr[i]           \n",
    "        \n",
    "        start = i + 1                                         # corner elements\n",
    "        end   = n - 1  \n",
    "        \n",
    "        while start < end:                                    # meet in the middle              \n",
    "            if (arr[i] + arr[start] + arr[end]) >= k:         # decrease index\n",
    "                end -= 1              \n",
    "            else:\n",
    "                count += (end-start)                # array sorted => (end-start) third elements w/sum < k\n",
    "                start += 1\n",
    "      \n",
    "    return count \n",
    "\n",
    "arr = [5, 1, 3, 4, 7]  \n",
    "sum = 11\n",
    "print(count_triplets(arr, sum))"
   ]
  },
  {
   "cell_type": "code",
   "execution_count": null,
   "metadata": {},
   "outputs": [],
   "source": []
  },
  {
   "cell_type": "markdown",
   "metadata": {},
   "source": [
    "## All non-contiguous triplets with sum = 0 (sub-type of previous)"
   ]
  },
  {
   "cell_type": "code",
   "execution_count": 17,
   "metadata": {},
   "outputs": [
    {
     "data": {
      "text/plain": [
       "2"
      ]
     },
     "execution_count": 17,
     "metadata": {},
     "output_type": "execute_result"
    }
   ],
   "source": [
    "# Time c. O(n^2), space c. O(1)\n",
    "def findTriplets(arr):\n",
    "        \n",
    "    arr.sort()\n",
    "    n     = len(arr)\n",
    "    count = 0\n",
    "        \n",
    "    for i in range(0, n-2):\n",
    "        \n",
    "        start = i + 1\n",
    "        end   = n - 1\n",
    "                \n",
    "        while start < end:\n",
    "        \n",
    "            if arr[i] + arr[start] + arr[end] == 0:\n",
    "                count += 1\n",
    "                start += 1\n",
    "                end   -= 1\n",
    "            \n",
    "            elif (arr[i] + arr[start] + arr[end] < 0):          # If sum < 0, increment on left side\n",
    "                start += 1\n",
    "            \n",
    "            else:                                               # if sum > 0, decrement on right side\n",
    "                end -= 1\n",
    "        \n",
    "    return count\n",
    "\n",
    "arr = [0, -1, 2, -3, 1]\n",
    "findTriplets(arr)"
   ]
  },
  {
   "cell_type": "markdown",
   "metadata": {},
   "source": [
    "## Equilibrium index of an array\n",
    "Equilibrium index - sum of elements at lower indexes is equal to the sum of elements at higher indexes.  \n",
    "Example:\n",
    "\n",
    "Input: A = [-7, 1, 5, 2, -4, 3, 0}]  => Output: 3 because A[0] + A[1] + A[2] = A[4] + A[5] + A[6]\n",
    "Input: B = [1, 2, 3]  => Output: -1\n",
    "\n",
    "Time c.: O(n)"
   ]
  },
  {
   "cell_type": "code",
   "execution_count": 18,
   "metadata": {},
   "outputs": [
    {
     "name": "stdout",
     "output_type": "stream",
     "text": [
      "First equilibrium index is  3\n"
     ]
    }
   ],
   "source": [
    "def equilibrium(arr):  \n",
    "    \n",
    "    rightsum = sum(arr)\n",
    "    leftsum  = 0\n",
    "    \n",
    "    for i, num in enumerate(arr):\n",
    "        rightsum -= num\n",
    "        if leftsum == rightsum: \n",
    "            return i\n",
    "        leftsum += num       \n",
    "    \n",
    "    return -1 \n",
    "      \n",
    "\n",
    "arr = [-7, 1, 5, 2, -4, 3, 0] \n",
    "print ('First equilibrium index is ', \n",
    "       equilibrium(arr))"
   ]
  },
  {
   "cell_type": "markdown",
   "metadata": {},
   "source": [
    "## Find the Missing Element\n",
    "* array of non-negative integers;\n",
    "* second array of the same shuffled elements w/one random element deleted;\n",
    "* find missing element"
   ]
  },
  {
   "cell_type": "markdown",
   "metadata": {},
   "source": [
    "* __Best solution__ (O(n)): initialize a variable to 0, then XOR every element in the first and second arrays with that variable. In the end, the value of the variable is the missing element in arr2"
   ]
  },
  {
   "cell_type": "code",
   "execution_count": 102,
   "metadata": {},
   "outputs": [],
   "source": [
    "def finder(arr1, arr2):\n",
    "    \n",
    "    res = 0 \n",
    "    for num in arr1 + arr2: \n",
    "        res ^= num \n",
    "        print(res, end=' ')        # to see the result of XOR\n",
    "        \n",
    "    return res"
   ]
  },
  {
   "cell_type": "markdown",
   "metadata": {},
   "source": [
    "__Other solutions__:\n",
    "* go through every element in second array and check if it's in the first array - O(n\\**2) as 2 for loops; mind duplicates!\n",
    "* sorth both arr, iterate simulataneously, once iterators are not equal - missing number; O(NlogN)\n",
    "* using hashing (O(n)):"
   ]
  },
  {
   "cell_type": "code",
   "execution_count": 99,
   "metadata": {},
   "outputs": [],
   "source": [
    "from collections import defaultdict\n",
    "\n",
    "def finder2(arr1, arr2): \n",
    "    \n",
    "    d = defaultdict(int)            # dict of counts    \n",
    "    for num in arr2:                # count for elements in arr2\n",
    "        d[num]+=1    \n",
    "   \n",
    "    for num in arr1:                # check if num not in dict\n",
    "        if d[num]==0: \n",
    "            return num        \n",
    "        else: d[num]-=1             # otherwise, decrease count"
   ]
  },
  {
   "cell_type": "code",
   "execution_count": 111,
   "metadata": {},
   "outputs": [
    {
     "name": "stdout",
     "output_type": "stream",
     "text": [
      "Missing per finder1: 4\n",
      "\n",
      "5 1 5 2 5 0 4 3 4 \n",
      "Missing per finder2: 4\n"
     ]
    }
   ],
   "source": [
    "arr1 = [5,4,4,7,7]\n",
    "arr2 = [5,4,7,7]\n",
    "\n",
    "print('Missing per finder1:', finder(arr1,arr2))\n",
    "print()\n",
    "print('\\nMissing per finder2:', finder2(arr1,arr2))"
   ]
  },
  {
   "cell_type": "code",
   "execution_count": 110,
   "metadata": {},
   "outputs": [
    {
     "name": "stdout",
     "output_type": "stream",
     "text": [
      "Missing per finder1: 3\n",
      "\n",
      "1 3 0 4 1 7 0 5 2 0 1 5 3 \n",
      "Missing per finder2: 3\n"
     ]
    }
   ],
   "source": [
    "arr1, arr2 = [1,2,3,4,5,6,7], [5,7,2,1,4,6]\n",
    "print('Missing per finder1:', finder(arr1,arr2))\n",
    "print()\n",
    "print('\\nMissing per finder2:', finder2(arr1,arr2))"
   ]
  },
  {
   "cell_type": "markdown",
   "metadata": {},
   "source": [
    "__How it works:__ XOR works in binary, but for decimals XOR of a number with itself results in 0 => x ^ x = 0, then y ^ 0 = y  \n",
    "__Example:__ if we have [5,8,12,5,12] (one element doesn't have a pair as in our case):  \n",
    "* 1st iter: res = 0^5 = 5\n",
    "* 2nd iter: res = 5^8 \n",
    "* 3rd iter: res = 5^8^12\n",
    "* 4th iter: res = 5^8^12^5 = 0^8^12 = 8^12\n",
    "* 5th iter: res = 8^12^12 = 8^0 = 8"
   ]
  },
  {
   "cell_type": "code",
   "execution_count": null,
   "metadata": {},
   "outputs": [],
   "source": []
  },
  {
   "cell_type": "markdown",
   "metadata": {},
   "source": [
    "## Arrays - supplementary"
   ]
  },
  {
   "cell_type": "markdown",
   "metadata": {},
   "source": [
    "## Partition problem 1\n",
    "Determine whether a given set can be partitioned into two subsets such that the sum of elements in both subsets is the same\n",
    "1) Calculate sum of the array. If sum is odd, there can not be two subsets with equal sum, so return false.   \n",
    "2) If sum of array elements is even, calculate sum/2 and find a subset of array with sum equal to sum/2"
   ]
  },
  {
   "cell_type": "code",
   "execution_count": 12,
   "metadata": {},
   "outputs": [],
   "source": [
    "# Recursive, t. complexity = 2**n\n",
    "def isSubsetSum(arr, n, sum_):\n",
    "    # return true if there is a subset of arr[] with sum = target sum\n",
    "    \n",
    "    # Base cases\n",
    "    if sum_ == 0:\n",
    "        return True\n",
    "    if n == 0 and sum_ != 0:\n",
    "        return False\n",
    " \n",
    "    # If last elem > sum, ignore it\n",
    "    if arr[n-1] > sum_:\n",
    "        return isSubsetSum(arr, n-1, sum_)\n",
    " \n",
    "    # else, check if sum is obtained by (a) including last elem, (b) excluding it \n",
    "    return isSubsetSum(arr, n-1, sum_) or isSubsetSum(arr, n-1, sum_-arr[n-1])"
   ]
  },
  {
   "cell_type": "code",
   "execution_count": 17,
   "metadata": {},
   "outputs": [],
   "source": [
    "# t.c.= O(n*sum)\n",
    "def isSubsetSum_dp(arr, n):    \n",
    "    \n",
    "    sum_ = 0\n",
    "    for i in range(n) :\n",
    "        sum_ += arr[i]\n",
    "    if sum_ % 2 != 0:                                        #if sum is odd, cannot find two subsets\n",
    "        return 0    \n",
    "    \n",
    "    part = [0] * ((sum_ // 2) + 1)                           #initialize with 0 (False)\n",
    "        \n",
    "    # part[j] = true if there is a subset with sum equal to j, otherwise false\n",
    "    for i in range(n):                                       # fill in bottom up        \n",
    "        for j in range(sum_ // 2, arr[i]-1, -1) :\n",
    "           \n",
    "            if (part[j - arr[i]] == 1 or j == arr[i]):       # elem to be included in sum cannot be > sum\n",
    "                part[j] = 1                                  # can sum-arr[i] be formed from subset before indecx i\n",
    " \n",
    "    return part[sum_ // 2]"
   ]
  },
  {
   "cell_type": "code",
   "execution_count": 18,
   "metadata": {},
   "outputs": [
    {
     "name": "stdout",
     "output_type": "stream",
     "text": [
      "Can be done\n"
     ]
    }
   ],
   "source": [
    "arr = [3, 1, 5, 9, 12, 1, 1]\n",
    "n   = len(arr)\n",
    "\n",
    "sum_ = 0\n",
    "for i in range(0, n):\n",
    "    sum_ += arr[i]\n",
    "if sum_ % 2 != 0:                                            #if sum is odd, cannot find two subsets\n",
    "    print(\"Can't be done\")\n",
    "\n",
    "res = isSubsetSum(arr, n, sum_ // 2)\n",
    "\n",
    "if res:\n",
    "    print(\"Can be done\")\n",
    "else:\n",
    "    print(\"Can't be done\")"
   ]
  },
  {
   "cell_type": "code",
   "execution_count": 19,
   "metadata": {},
   "outputs": [
    {
     "data": {
      "text/plain": [
       "1"
      ]
     },
     "execution_count": 19,
     "metadata": {},
     "output_type": "execute_result"
    }
   ],
   "source": [
    "arr = [3, 1, 5, 9, 12, 1, 1]\n",
    "n   = len(arr)\n",
    "isSubsetSum_dp(arr, n)"
   ]
  },
  {
   "cell_type": "markdown",
   "metadata": {},
   "source": [
    "## Partition problem 2 (subtype of 1)\n",
    "Partition a set into two subsets such that the difference of subset sums is minimum"
   ]
  },
  {
   "cell_type": "code",
   "execution_count": 25,
   "metadata": {},
   "outputs": [],
   "source": [
    "# t.c.= O(2**n)\n",
    "def findMinRec(arr, i, sumCalculated, sumTotal):\n",
    "  \n",
    "    # If reached last elem, sum of one subset = sumCalculated,\n",
    "    # sum of other subset = (sumTotal-sumCalculated). Return absolute difference\n",
    "    if i == 0:\n",
    "        return abs( (sumTotal-sumCalculated) - sumCalculated )\n",
    "  \n",
    "    # For each arr[i], (1) we can exclude it from first set, (2) we can include it\n",
    "    # return min of two choices\n",
    "    return min( findMinRec( arr,\n",
    "                            i-1,\n",
    "                            sumCalculated + arr[i-1],\n",
    "                            sumTotal\n",
    "                          ),\n",
    "                findMinRec( arr,\n",
    "                            i-1,\n",
    "                            sumCalculated,\n",
    "                            sumTotal\n",
    "                          )\n",
    "              )\n",
    "\n",
    "\n",
    "def findmin_recursive(arr,  n):\n",
    "  \n",
    "    # total sum of arr\n",
    "    sumTotal = 0\n",
    "    for i in range(n):\n",
    "        sumTotal += arr[i]\n",
    "\n",
    "    return findMinRec(arr, n, 0, sumTotal)"
   ]
  },
  {
   "cell_type": "code",
   "execution_count": 48,
   "metadata": {},
   "outputs": [],
   "source": [
    "# t.c,= O(n*sum)\n",
    "def findmin(arr, n):\n",
    "    pass"
   ]
  },
  {
   "cell_type": "code",
   "execution_count": 50,
   "metadata": {},
   "outputs": [
    {
     "name": "stdout",
     "output_type": "stream",
     "text": [
      "Minimum possible difference = 112\n"
     ]
    }
   ],
   "source": [
    "arr = [3, 1, 4, 2, 2, 1, 125]\n",
    "n = len(arr)\n",
    "\n",
    "print(\"Minimum possible difference =\", findmin_recursive(arr, n))\n",
    "#print(\"Minimum possible difference =\", findmin(arr, n))"
   ]
  },
  {
   "cell_type": "code",
   "execution_count": null,
   "metadata": {},
   "outputs": [],
   "source": []
  },
  {
   "cell_type": "markdown",
   "metadata": {},
   "source": [
    "### K’th Smallest/Largest Element in Unsorted Array\n",
    "O(N logN) solution - quicksort then get kth element  \n",
    "Other solutions are either long or have no Python implementation"
   ]
  },
  {
   "cell_type": "markdown",
   "metadata": {},
   "source": [
    "### Convert array in zigzag fashion\n",
    "Array of DISTINCT elements, rearrange its elements in zig-zag fashion in O(n) time: a < b > c < d > e < f\n",
    "\n",
    "A traditional approach would first sort, then do the zigzag - O(n logn). To convert to O(n):\n",
    "* Maintain an alternating flag representing the order (< or >).\n",
    "* If current 2 elements are not in that order, swap them; otherwise not"
   ]
  },
  {
   "cell_type": "code",
   "execution_count": 2,
   "metadata": {},
   "outputs": [
    {
     "name": "stdout",
     "output_type": "stream",
     "text": [
      "[3, 7, 4, 8, 2, 6, 1]\n"
     ]
    }
   ],
   "source": [
    "# Time c. = O(n)\n",
    "def zigzag(arr):\n",
    "        \n",
    "    # Flag true, then \"<\" is expected; else \">\" is expected. First expected \"<\" \n",
    "    flag = True\n",
    "        \n",
    "    for i in range(len(arr) - 1): \n",
    "         \n",
    "        if flag is True:\n",
    "                        \n",
    "            # If A > B > C, then swap B and C \n",
    "            if arr[i] > arr[i+1]: \n",
    "                arr[i],arr[i+1] = arr[i+1],arr[i] \n",
    "             \n",
    "        else: \n",
    "            # If A < B < C, then swap B and C     \n",
    "            if arr[i] < arr[i+1]:\n",
    "                arr[i],arr[i+1] = arr[i+1],arr[i]\n",
    "                                \n",
    "        flag = bool(1 - flag)\n",
    "                \n",
    "    print(arr)\n",
    "\n",
    "arr = [4, 3, 7, 8, 6, 2, 1] \n",
    "zigzag(arr)"
   ]
  },
  {
   "cell_type": "markdown",
   "metadata": {},
   "source": [
    "## Longest subarray with contiguous elements\n",
    "Array of DISTINCT integers, find length of the longest subarray consisting of a continuous sequence of numbers.\n",
    "\n",
    "Examples: [10, 12, 11] => 3; [14, 12, 11, 20] => 2\n",
    "\n",
    "Trick: if all elements are __distinct__, then a subarray has contiguous elements if and only if the __difference between max and min elements in subarray = difference between last and first indexes of subarray__ => keep track of min and max element in every subarray"
   ]
  },
  {
   "cell_type": "code",
   "execution_count": 4,
   "metadata": {},
   "outputs": [
    {
     "name": "stdout",
     "output_type": "stream",
     "text": [
      "Length of longest contiguous subarray: 5\n"
     ]
    }
   ],
   "source": [
    "def min(x, y): \n",
    "    return x if (x < y) else y \n",
    "\n",
    "\n",
    "def max(x, y): \n",
    "    return x if (x > y) else y \n",
    "\n",
    "\n",
    "def findLength(arr):\n",
    "      \n",
    "    # Initialize result \n",
    "    max_len = 1\n",
    "    for i in range(len(arr) - 1):\n",
    "      \n",
    "        # Initialize min and max for all subarrays starting with i \n",
    "        mn = arr[i]\n",
    "        mx = arr[i]\n",
    "  \n",
    "        # All subarrays starting w/i and ending w/j \n",
    "        for j in range(i + 1, len(arr)):\n",
    "          \n",
    "            # Update min and max, if needed \n",
    "            mn = min(mn, arr[j]) \n",
    "            mx = max(mx, arr[j]) \n",
    "  \n",
    "            # If current subarray has all contiguous elements\n",
    "            if ((mx - mn) == j - i): \n",
    "                max_len = max(max_len, mx - mn + 1)\n",
    "          \n",
    "    return max_len \n",
    "  \n",
    "arr = [1, 56, 58, 57, 90, 92, 94, 93, 91, 45] \n",
    "print(\"Length of longest contiguous subarray:\", findLength(arr))"
   ]
  },
  {
   "cell_type": "markdown",
   "metadata": {},
   "source": [
    "## Smallest positive integer that cannot be represented as sum of any subset of a given array\n",
    "Sorted non-decreasing array of positive numbers - time c. O(n).\n",
    "\n",
    "Examples: {1, 3, 6, 10, 11, 15} => 2;  {1, 1, 1, 1} => 5;  {1, 1, 3, 4} => 10;  {1, 2, 5, 10, 20, 40} => 4\n",
    "\n",
    "__Simple Solution__: start from value 1 and check all values one by one if they can sum to values in the given array - reduces to subset sum problem (well known __NP Complete__ Problem).\n",
    "\n",
    "__Better solution__: initialize result as 1 (smallest possible results) and traverse => two possibilities for next element at index i:\n",
    "\n",
    "* If arr[i] > res => found a gap, and the elements after arr[i] are also > res; res is the final solution\n",
    "* Else, res is incremented by arr[i] - if elements from 0 to (i-1) can represent 1 to res-1, then elements from 0 to i can represent 1 to res + arr[i] – 1 by adding arr[i] to all subsets that represent 1 to res)"
   ]
  },
  {
   "cell_type": "code",
   "execution_count": 7,
   "metadata": {},
   "outputs": [
    {
     "name": "stdout",
     "output_type": "stream",
     "text": [
      "2\n",
      "4\n",
      "5\n",
      "10\n"
     ]
    }
   ],
   "source": [
    "def findSmallest(arr, n): \n",
    "  \n",
    "    res = 1                                         # initialize result  \n",
    "    \n",
    "    for i in range(n):                             # traverse and increment 'res' if arr[i] <= 'res'\n",
    "        if arr[i] <= res: \n",
    "            res = res + arr[i] \n",
    "        else: \n",
    "            break\n",
    "                        \n",
    "    return res\n",
    "\n",
    "\n",
    "arr1 = [1, 3, 4, 5] \n",
    "n1 = len(arr1) \n",
    "print(findSmallest(arr1, n1)) \n",
    "  \n",
    "arr2= [1, 2, 6, 10, 11, 15] \n",
    "n2 = len(arr2) \n",
    "print(findSmallest(arr2, n2)) \n",
    "  \n",
    "arr3= [1, 1, 1, 1] \n",
    "n3 = len(arr3) \n",
    "print(findSmallest(arr3, n3)) \n",
    "  \n",
    "arr4 = [1, 1, 3, 4] \n",
    "n4 = len(arr4) \n",
    "print(findSmallest(arr4, n4)) "
   ]
  },
  {
   "cell_type": "code",
   "execution_count": null,
   "metadata": {},
   "outputs": [],
   "source": []
  },
  {
   "cell_type": "markdown",
   "metadata": {},
   "source": [
    "## Maximum j – i such that arr[j] > arr[i]\n",
    "Geeksforgeeks  \n",
    "Example: {34, 8, 10, 3, 2, 80, 30, 33, 1} => 6  (j = 7, i = 1)  \n",
    "Simple solution = two nested loops, O(n^2)  \n",
    "Better solution - __O(n logn)__  \n",
    "Best solution - time __O(n)__, space O(n)"
   ]
  },
  {
   "cell_type": "code",
   "execution_count": 49,
   "metadata": {},
   "outputs": [
    {
     "name": "stdout",
     "output_type": "stream",
     "text": [
      "6\n",
      "8\n",
      "5\n",
      "0\n"
     ]
    }
   ],
   "source": [
    "# Better solution - O(n logn)\n",
    "def max_diff(arr):\n",
    "\n",
    "    #To store the index of an element. \n",
    "    index = dict()\n",
    "    n = len(arr)\n",
    "    for i in range(n): \n",
    "        if a[i] in index: \n",
    "\n",
    "            #append to list (for duplicates) \n",
    "            index[a[i]].append(i)   \n",
    "        else: \n",
    "\n",
    "            #if first occurrence \n",
    "            index[a[i]] = [i]    \n",
    "\n",
    "    #sort the input array \n",
    "    a.sort()      \n",
    "    maxDiff = 0\n",
    "\n",
    "    # Temporary variable to keep track of minimum i \n",
    "    temp = n      \n",
    "    for i in range(n): \n",
    "        if temp > index[a[i]][0]: \n",
    "            temp = index[a[i]][0] \n",
    "        maxDiff = max(maxDiff, index[a[i]][-1]-temp) \n",
    "\n",
    "    return maxDiff\n",
    "\n",
    "\n",
    "# Output: 6  (j = 7, i = 1)\n",
    "a = [34, 8, 10, 3, 2, 80, 30, 33, 1]\n",
    "print(max_diff(a))\n",
    "\n",
    "\n",
    "#Output: 8 ( j = 8, i = 0)\n",
    "a = [9, 2, 3, 4, 5, 6, 7, 8, 18, 0]\n",
    "print(max_diff(a))\n",
    "\n",
    "#Output: 5  (j = 5, i = 0)\n",
    "a = [1, 2, 3, 4, 5, 6]\n",
    "print(max_diff(a))\n",
    "\n",
    "#Output: 0 \n",
    "a = [6, 5, 4, 3, 2, 1]\n",
    "print(max_diff(a))"
   ]
  },
  {
   "cell_type": "code",
   "execution_count": 56,
   "metadata": {},
   "outputs": [
    {
     "name": "stdout",
     "output_type": "stream",
     "text": [
      "6\n",
      "8\n",
      "5\n",
      "-1\n"
     ]
    }
   ],
   "source": [
    "# Best solution O(n)\n",
    "def max(a, b):\n",
    "    return a if a > b else b\n",
    "    \n",
    "    \n",
    "def min(a,b):\n",
    "    return a if a < b else b\n",
    "\n",
    "\n",
    "def max_diff_best(arr):\n",
    "    \n",
    "    n = len(arr)\n",
    "    maxDiff = 0\n",
    "    LMin = [0] * n\n",
    "    RMax = [0] * n\n",
    "  \n",
    "    # LMin[i] stores min(arr[0:i+1] = from 0 to i)  \n",
    "    LMin[0] = arr[0] \n",
    "    for i in range(1, n): \n",
    "        LMin[i] = min(arr[i], LMin[i - 1]) \n",
    "  \n",
    "    # RMax[j] stores max(arr[j:n] = from j to n-1 \n",
    "    RMax[n - 1] = arr[n - 1] \n",
    "    for j in range(n - 2, -1, -1): \n",
    "        RMax[j] = max(arr[j], RMax[j + 1]); \n",
    "  \n",
    "    # Traverse both arrays left -> right, find optimum j - i. Similar to merge() of MergeSort \n",
    "    i, j = 0, 0\n",
    "    maxDiff = -1\n",
    "    while (j < n and i < n): \n",
    "        if (LMin[i] < RMax[j]): \n",
    "            maxDiff = max(maxDiff, j - i) \n",
    "            j = j + 1\n",
    "        else: \n",
    "            i = i+1\n",
    "  \n",
    "    return maxDiff \n",
    "\n",
    "\n",
    "# Output: 6  (j = 7, i = 1)\n",
    "a = [34, 8, 10, 3, 2, 80, 30, 33, 1]\n",
    "print(max_diff_best(a))\n",
    "\n",
    "\n",
    "#Output: 8 ( j = 8, i = 0)\n",
    "a = [9, 2, 3, 4, 5, 6, 7, 8, 18, 0]\n",
    "print(max_diff_best(a))\n",
    "\n",
    "#Output: 5  (j = 5, i = 0)\n",
    "a = [1, 2, 3, 4, 5, 6]\n",
    "print(max_diff_best(a))\n",
    "\n",
    "#Output: -1 \n",
    "a = [6, 5, 4, 3, 2, 1]\n",
    "print(max_diff_best(a))"
   ]
  },
  {
   "cell_type": "markdown",
   "metadata": {},
   "source": [
    "## Find kth Smallest Value Among m Sorted Arrays (FB)\n",
    "You have m arrays of sorted integers. The sum of the array lengths is n. Find the kth smallest value of all the values.\n",
    "\n",
    "For exmaple, if m = 3, n=8, and we have these lists:\n",
    "\n",
    "list1 = [3,6,9]\n",
    "list2 = [8,15]\n",
    "list3 = [4, 7, 12]\n",
    "\n",
    "if k = 1, then returned value should be 3\n",
    "if k = 2, then returned value should be 4\n",
    "if k = 3, then returned value should be 6\n",
    "\n",
    "#brute foce: combine all arrays and find kth smallest: O(n)"
   ]
  },
  {
   "cell_type": "code",
   "execution_count": 24,
   "metadata": {},
   "outputs": [
    {
     "ename": "ValueError",
     "evalue": "list.remove(x): x not in list",
     "output_type": "error",
     "traceback": [
      "\u001b[0;31m---------------------------------------------------------------------------\u001b[0m",
      "\u001b[0;31mValueError\u001b[0m                                Traceback (most recent call last)",
      "Input \u001b[0;32mIn [24]\u001b[0m, in \u001b[0;36m<cell line: 33>\u001b[0;34m()\u001b[0m\n\u001b[1;32m     31\u001b[0m arr \u001b[38;5;241m=\u001b[39m [ list1, list2, list3, ]\n\u001b[1;32m     32\u001b[0m k   \u001b[38;5;241m=\u001b[39m \u001b[38;5;241m2\u001b[39m\n\u001b[0;32m---> 33\u001b[0m \u001b[43mfind_kth\u001b[49m\u001b[43m(\u001b[49m\u001b[43marr\u001b[49m\u001b[43m,\u001b[49m\u001b[43m \u001b[49m\u001b[43mk\u001b[49m\u001b[43m)\u001b[49m\n",
      "Input \u001b[0;32mIn [24]\u001b[0m, in \u001b[0;36mfind_kth\u001b[0;34m(arr, k)\u001b[0m\n\u001b[1;32m     17\u001b[0m     \u001b[38;5;28;01mif\u001b[39;00m k \u001b[38;5;241m==\u001b[39m min_len:\n\u001b[1;32m     18\u001b[0m         idx \u001b[38;5;241m=\u001b[39m array_lengths\u001b[38;5;241m.\u001b[39mindex(min_len)\n\u001b[0;32m---> 19\u001b[0m         \u001b[43marr\u001b[49m\u001b[38;5;241;43m.\u001b[39;49m\u001b[43mremove\u001b[49m\u001b[43m(\u001b[49m\u001b[43midx\u001b[49m\u001b[43m)\u001b[49m            \n\u001b[1;32m     20\u001b[0m     temp_array\u001b[38;5;241m.\u001b[39mextend([item[i] \u001b[38;5;28;01mfor\u001b[39;00m item \u001b[38;5;129;01min\u001b[39;00m arr])\n\u001b[1;32m     22\u001b[0m temp_array \u001b[38;5;241m=\u001b[39m \u001b[38;5;28msorted\u001b[39m(temp_array)      \n",
      "\u001b[0;31mValueError\u001b[0m: list.remove(x): x not in list"
     ]
    }
   ],
   "source": [
    "# time c. nlog(n), space c. O(n)\n",
    "def find_kth(arr, k):\n",
    "    \n",
    "    for idx, array in enumerate(arr):\n",
    "        if not array:\n",
    "            arr.remove(idx)\n",
    "    \n",
    "    if not arr:\n",
    "        raise exception\n",
    "        #return None\n",
    "\n",
    "    array_lengths = [len(item) for item in arr]    \n",
    "    temp_array = []\n",
    "    \n",
    "    for i in range(k):\n",
    "        min_len = min(array_lengths)\n",
    "        if k == min_len:\n",
    "            idx = array_lengths.index(min_len)\n",
    "            arr.remove(idx)            \n",
    "        temp_array.extend([item[i] for item in arr])\n",
    "        \n",
    "    temp_array = sorted(temp_array)      \n",
    "        \n",
    "        \n",
    "    return temp_array[k-1]\n",
    "    \n",
    "list1 = [3,6,9]\n",
    "list2 = [8,15]\n",
    "list3 = [4, 7, 12]\n",
    "\n",
    "arr = [ list1, list2, list3, ]\n",
    "k   = 2\n",
    "find_kth(arr, k)"
   ]
  },
  {
   "cell_type": "markdown",
   "metadata": {},
   "source": [
    "## Code testing"
   ]
  },
  {
   "cell_type": "markdown",
   "metadata": {},
   "source": [
    "#### Types of tests\n",
    "* __Unit test__ - finding bugs in _individual functions_. Should be considered together with integration test - when a system is comprehensively unit tested, it makes integration testing far easier\n",
    "* __Integration test__ - test _multiple components_ of application at once, incl. interactions between the parts - identifies defects in the interfaces between disparate parts of the codebase.\n",
    "* __Functional test__ - _whole system test_. Sometimes it's aka integration test, sometimes - user test\n",
    "\n",
    "#### Basics of unittest library  \n",
    "What you need for a unit test:  \n",
    "* __test fixture__ - preparations for test: creating temporary or proxy databases, directories, or starting a server.\n",
    "* __test case__ - individual unit of testing, checks response to a particular set of inputs (base class, TestCase, to create new test cases).\n",
    "* __test suite__ - collection of test cases, test suites, or both: to aggregate tests together.\n",
    "* __test runner__ - orchestrates the execution of tests and provides the outcome.\n",
    "\n",
    "#### Additional\n",
    "Main assertions: _assertEqual(), assertTrue(), assertFalse(), assertRaises()_  \n",
    "_unittest.main()_ - command-line interface to run the test script  \n",
    "_Test discovery_ via CLI finds all unittest files in the directory structure  \n",
    "Unittest can _skip individual tests_ and whole classes of tests, marking a test as an “expected failure,” (shouldn’t be counted as a failure on a TestResult)   \n",
    "Unittest _can distinguish small differences in tests_ (e.g. in some parameters) using the subTest() context manager.   _Doctest_ can test docstrings  "
   ]
  },
  {
   "cell_type": "code",
   "execution_count": 102,
   "metadata": {},
   "outputs": [
    {
     "name": "stderr",
     "output_type": "stream",
     "text": [
      "E\n",
      "======================================================================\n",
      "ERROR: /home/andrew/ (unittest.loader._FailedTest)\n",
      "----------------------------------------------------------------------\n",
      "AttributeError: module '__main__' has no attribute '/home/andrew/'\n",
      "\n",
      "----------------------------------------------------------------------\n",
      "Ran 1 test in 0.001s\n",
      "\n",
      "FAILED (errors=1)\n"
     ]
    },
    {
     "ename": "SystemExit",
     "evalue": "True",
     "output_type": "error",
     "traceback": [
      "An exception has occurred, use %tb to see the full traceback.\n",
      "\u001b[0;31mSystemExit\u001b[0m\u001b[0;31m:\u001b[0m True\n"
     ]
    },
    {
     "name": "stderr",
     "output_type": "stream",
     "text": [
      "/home/andrew/anaconda3/envs/top/lib/python3.8/site-packages/IPython/core/interactiveshell.py:3426: UserWarning: To exit: use 'exit', 'quit', or Ctrl-D.\n",
      "  warn(\"To exit: use 'exit', 'quit', or Ctrl-D.\", stacklevel=1)\n"
     ]
    }
   ],
   "source": [
    "import unittest\n",
    "\n",
    "class TestStringMethods(unittest.TestCase):\n",
    "\n",
    "    def test_upper(self):\n",
    "        self.assertEqual('foo'.upper(), 'FOO')\n",
    "\n",
    "    def test_isupper(self):\n",
    "        self.assertTrue('FOO'.isupper())\n",
    "        self.assertFalse('Foo'.isupper())\n",
    "\n",
    "    def test_split(self):\n",
    "        s = 'hello world'\n",
    "        self.assertEqual(s.split(), ['hello', 'world'])\n",
    "        # check that s.split fails when the separator is not a string\n",
    "        with self.assertRaises(TypeError):\n",
    "            s.split(2)\n",
    "\n",
    "if __name__ == '__main__':\n",
    "    unittest.main()"
   ]
  },
  {
   "cell_type": "markdown",
   "metadata": {},
   "source": [
    "### pytest\n",
    "Third-party unittest framework with a __lighter-weight syntax__ for writing tests.  \n",
    "In example below: we drop the TestCase, any use of classes, and the command-line entry point"
   ]
  },
  {
   "cell_type": "code",
   "execution_count": null,
   "metadata": {},
   "outputs": [],
   "source": [
    "def test_sum():\n",
    "    assert sum([1, 2, 3]) == 6, \"Should be 6\"\n",
    "\n",
    "def test_sum_tuple():\n",
    "    assert sum((1, 2, 2)) == 6, \"Should be 6\""
   ]
  },
  {
   "cell_type": "code",
   "execution_count": null,
   "metadata": {},
   "outputs": [],
   "source": []
  },
  {
   "cell_type": "markdown",
   "metadata": {},
   "source": [
    "## REFERENCES\n",
    "### Google Interview Questions (Geekstogeeks)\n",
    "General: https://www.geeksforgeeks.org/google-interview-preparation/  \n",
    "More coding challanges from Google: https://practice.geeksforgeeks.org/explore/?company%5B%5D=Google&page=1"
   ]
  },
  {
   "cell_type": "code",
   "execution_count": null,
   "metadata": {},
   "outputs": [],
   "source": []
  }
 ],
 "metadata": {
  "kernelspec": {
   "display_name": "Python 3",
   "language": "python",
   "name": "python3"
  },
  "language_info": {
   "codemirror_mode": {
    "name": "ipython",
    "version": 3
   },
   "file_extension": ".py",
   "mimetype": "text/x-python",
   "name": "python",
   "nbconvert_exporter": "python",
   "pygments_lexer": "ipython3",
   "version": "3.8.5"
  }
 },
 "nbformat": 4,
 "nbformat_minor": 2
}
