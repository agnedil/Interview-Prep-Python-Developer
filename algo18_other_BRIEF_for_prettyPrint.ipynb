{
 "cells": [
  {
   "cell_type": "code",
   "execution_count": null,
   "id": "9a19c7da",
   "metadata": {},
   "outputs": [],
   "source": []
  },
  {
   "cell_type": "markdown",
   "id": "93bd5761",
   "metadata": {},
   "source": [
    "## From the `algo03_bigO...` Notebook"
   ]
  },
  {
   "cell_type": "markdown",
   "id": "e9021706",
   "metadata": {},
   "source": [
    "### Complexity classes\n",
    "* O(1) constant-time algo - __no dependency on input size__. E.g. __formula__ calculating an answer OR __list[idx]__.\n",
    "* O(logn) algo __halves / reduces input size at each step__. Logarithmic because (log2 n) = # times to divide n by 2 to get 1.\n",
    "* O(sqrt(n)) _slower than O(logn), but faster than O(n)_; sqrt(n) = sqrt(n) / n, so sqrt(n) lies __in the middle of input__.\n",
    "* O(n) __iteration over the input__ - accessing each input element at least once before reporting the answer.\n",
    "* O(nlogn) often indicates that algo __sorts the input__ OR algo uses __data structure__ where _each operation takes O(logn) time_.\n",
    "* O(n^2) two __nested__ loops\n",
    "* O(n^3) three __nested__ loops. \n",
    "* O(2^n) algo iterates through __all subsets of input elements__. E.g. subsets of {1,2,3}: _{1}, {2}, {3}, {1,2}, {1,3}, {2,3} and {1,2,3}_.\n",
    "* O(n!) algo iterates through __all permutations of input elements__. E.g. permutations of {1,2,3}: _(1,2,3), (1,3,2), (2,1,3), (2,3,1), (3,1,2) and (3,2,1)_.\n",
    "\n",
    "__Polynomial algo__ - time complexity of __O(n^k)__ where k is const; if k small - algo efficient. All above except O(2^n) and O(n!) are polynomial.\n",
    "There are many important problems with __no known polynomial (=efficient) algo__, e.g. __NP-hard__ problems"
   ]
  },
  {
   "cell_type": "code",
   "execution_count": null,
   "id": "444b624b",
   "metadata": {},
   "outputs": [],
   "source": []
  },
  {
   "cell_type": "markdown",
   "id": "84660e2d",
   "metadata": {},
   "source": [
    "## From the Facebook Notebook"
   ]
  },
  {
   "cell_type": "markdown",
   "id": "a0df1950",
   "metadata": {},
   "source": [
    "## Linked Lists"
   ]
  },
  {
   "cell_type": "markdown",
   "id": "4ff21836",
   "metadata": {},
   "source": [
    "### 2. Add Two Numbers (as linked list)"
   ]
  },
  {
   "cell_type": "code",
   "execution_count": 1,
   "id": "1025e3f7",
   "metadata": {},
   "outputs": [],
   "source": [
    "# t.c. = s.c. = O(max(n, m))\n",
    "def addTwoNumbers(l1: Node, l2: Node) -> Node:\n",
    "    prehead = Node(0)                        # A dummy head to simplify handling the result.\n",
    "    current = prehead                        # Pointer to construct the new list.\n",
    "    carry = 0                                # carry from each addition   \n",
    "    while l1 or l2 or carry:                 # Traverse both lists until exhausted.\n",
    "        val1 = l1.val if l1 else 0           # If either list ran out of digits, use 0\n",
    "        val2 = l2.val if l2 else 0\n",
    "        total = val1 + val2 + carry\n",
    "        carry = total // 10                  # New carry\n",
    "        new_digit = total % 10\n",
    "        current.next = Node(new_digit)\n",
    "        current = current.next        \n",
    "        if l1: l1 = l1.next                  # Move to the next nodes\n",
    "        if l2: l2 = l2.next    \n",
    "    return prehead.next                      # Return head of new list"
   ]
  },
  {
   "cell_type": "markdown",
   "id": "37e33668",
   "metadata": {},
   "source": [
    "### 21. Merge Two Sorted Lists"
   ]
  },
  {
   "cell_type": "code",
   "execution_count": null,
   "id": "9112a4c2",
   "metadata": {},
   "outputs": [],
   "source": [
    "# t.c. O(n+m), s.c. O(1)\n",
    "from typing import Optional\n",
    "def mergeTwoLists(l1: Optional[ListNode],\n",
    "                  l2: Optional[ListNode],\n",
    "                 ) -> Optional[ListNode]:\n",
    "    prehead = ListNode(0)\n",
    "    current = prehead\n",
    "    while l1 and l2:\n",
    "        if l1.val <= l2.val:\n",
    "            current.next = l1 #entire node\n",
    "            l1 = l1.next\n",
    "        else:\n",
    "            current.next = l2\n",
    "            l2 = l2.next            \n",
    "        current = current.next\n",
    "    # l1 or l2 can still have nodes\n",
    "    current.next = l1 if l1 else l2                 \n",
    "    return prehead.next"
   ]
  },
  {
   "cell_type": "markdown",
   "id": "3cb91526",
   "metadata": {},
   "source": [
    "### 138. Copy List with Random Pointer"
   ]
  },
  {
   "cell_type": "code",
   "execution_count": 3,
   "id": "cda1e2e5",
   "metadata": {},
   "outputs": [],
   "source": [
    "# t.c.=O(n), s.c.=O(n)\n",
    "from collections import defaultdict\n",
    "class Node:\n",
    "    def __init__(self,x,next=None,random=None):\n",
    "        self.val = int(x)\n",
    "        self.next = next\n",
    "        self.random = random\n",
    "def copyRandomList(head: Node) -> Node:       \n",
    "        # Nodes as keys, their copies as values\n",
    "        node_map = defaultdict(lambda: None)\n",
    "        curr = head #Fill node_map\n",
    "        while curr:\n",
    "            node_map[curr] = Node(curr.val)\n",
    "            curr = curr.next        \n",
    "        # Update pointers of copied nodes\n",
    "        curr = head\n",
    "        while curr:\n",
    "            dup = node_map[curr]\n",
    "            dup.next = node_map[curr.next]\n",
    "            dup.random = node_map[curr.random]\n",
    "            curr = curr.next           \n",
    "        return node_map[head]"
   ]
  },
  {
   "cell_type": "code",
   "execution_count": null,
   "id": "fd499bfa",
   "metadata": {},
   "outputs": [],
   "source": []
  },
  {
   "cell_type": "markdown",
   "id": "25e0bce2",
   "metadata": {},
   "source": [
    "## Binary Trees"
   ]
  },
  {
   "cell_type": "markdown",
   "id": "2545671b",
   "metadata": {},
   "source": [
    "### 938. Range Sum of BST"
   ]
  },
  {
   "cell_type": "code",
   "execution_count": 30,
   "id": "b34fbd50",
   "metadata": {},
   "outputs": [],
   "source": [
    "# t.c.O(n), s.c.O(n) best O(logn) if balanced\n",
    "def range_sum(root,low,high):    \n",
    "    if root is None: return 0    \n",
    "    res = 0    \n",
    "    if root.val < low:\n",
    "        res += range_sum(root.right,\n",
    "                         low, high)\n",
    "    elif root.val > high:\n",
    "        res += range_sum(root.left,\n",
    "                         low, high)\n",
    "    else:\n",
    "        res += root.val +\\\n",
    "               range_sum(root.left,low,high) +\\\n",
    "               range_sum(root.right,low,high)     \n",
    "    return res"
   ]
  },
  {
   "cell_type": "markdown",
   "id": "814ffac5",
   "metadata": {},
   "source": [
    "### 426. Convert BST to Sorted Circular Doubly LL\n",
    "__(FB Favorite. Toposort, graph traversal r favs too)__  \n",
    "In circular doubly linked list - predecessor of first elem  \n",
    "is last element; successor of last elem is first elem.  \n",
    "Inorder trav.: L->node->R, linking all nodes into DLL"
   ]
  },
  {
   "cell_type": "code",
   "execution_count": null,
   "id": "9448e5b2",
   "metadata": {},
   "outputs": [],
   "source": [
    "# t.c.=O(n),s.c.=O(h) (O(n) worst if tree skewed,\n",
    "# but O(logn) on avg\n",
    "def treeToDoublyList(root):\n",
    "    def helper(node):\n",
    "        nonlocal last, first\n",
    "        if node:\n",
    "            helper(node.left) #left\n",
    "            if last:          # node                    \n",
    "                # link prev node (last) w/node\n",
    "                last.right, node.left= node, last\n",
    "            else:                    \n",
    "                # memorize 1st smallest node\n",
    "                first = node \n",
    "            last = node\n",
    "            helper(node.right) #right\n",
    "    if not root:\n",
    "        return None\n",
    "    # smallest (1st) & largest (last) nodes\n",
    "    first, last = None, None\n",
    "    helper(root)\n",
    "    last.right,first.left = first,last # close DLL\n",
    "    return first"
   ]
  },
  {
   "cell_type": "markdown",
   "id": "da1235e1",
   "metadata": {},
   "source": [
    "### 114. Flatten Binary Tree to Linked List"
   ]
  },
  {
   "cell_type": "code",
   "execution_count": null,
   "id": "1e45f8d1",
   "metadata": {},
   "outputs": [],
   "source": [
    "# recursive, t.c. O(n), s.c. O(n)\n",
    "def flattenTree(node):        \n",
    "    if not node:\n",
    "        return None        \n",
    "    if not node.left and not node.right:                                \n",
    "        return node # if leaf node, return node\n",
    "    left  = flattenTree(node.left)\n",
    "    right = flattenTree(node.right)\n",
    "    if left: # If left subtree, modify connect-s\n",
    "        left.right = node.right\n",
    "        node.right = node.left\n",
    "        node.left = None\n",
    "    # once re-wired, return \"rightmost\" node        \n",
    "    return right if right else left          \n",
    "\n",
    "# modifies in-place\n",
    "def flatten(self, root: TreeNode) -> None:    \n",
    "    flattenTree(root)"
   ]
  },
  {
   "cell_type": "markdown",
   "id": "38134db1-15d0-4d52-a850-75864b3dbe38",
   "metadata": {},
   "source": [
    "### 114. Flatten Binary Tree to Linked List"
   ]
  },
  {
   "cell_type": "code",
   "execution_count": null,
   "id": "886e8c73",
   "metadata": {},
   "outputs": [],
   "source": [
    "# Iterative in-place, t.c. O(n), s.c. O(1)\n",
    "def flatten(self, root: TreeNode) -> None: \n",
    "    if not root:    \n",
    "        return None\n",
    "    node = root\n",
    "    while node:            \n",
    "        if node.left:             \n",
    "            rightmost = node.left # find rightmost node\n",
    "            while rightmost.right:\n",
    "                rightmost = rightmost.right\n",
    "            rightmost.right = node.right #rewire connect-s\n",
    "            node.right = node.left\n",
    "            node.left = None            \n",
    "        node = node.right # move on to right side of tree"
   ]
  },
  {
   "cell_type": "markdown",
   "id": "dd6c17c1",
   "metadata": {},
   "source": [
    "### 199. BT Right Side View (Top2Bottom)"
   ]
  },
  {
   "cell_type": "code",
   "execution_count": null,
   "id": "6a4348ea",
   "metadata": {},
   "outputs": [],
   "source": [
    "# t.c.O(n), s.c.O(h)=rec.stack\n",
    "# average logn, worst n\n",
    "def rightSideView(root):\n",
    "    if root is None:\n",
    "        return []\n",
    "    def helper(node, level):\n",
    "        if level == len(rightside):\n",
    "            rightside.append(node.val)\n",
    "        for child in [node.right,\n",
    "                      node.left]:\n",
    "            if child:\n",
    "                helper(child, level+1)\n",
    "    rightside = []\n",
    "    helper(root, 0)\n",
    "    return rightside"
   ]
  },
  {
   "cell_type": "code",
   "execution_count": null,
   "id": "aa2eecbf",
   "metadata": {},
   "outputs": [],
   "source": []
  },
  {
   "cell_type": "markdown",
   "id": "c02849ff",
   "metadata": {},
   "source": [
    "### 257. BT: All Root-to-Leaf Paths\n",
    "Leaf = node with no children. __Space c.__ O(n)  \n",
    "__T.c.__ _O(n) traversing_ + _str concat_ which in  \n",
    "worst case - skewed tree = each path has length n  \n",
    "so total t.c. can be __O(n^2)__"
   ]
  },
  {
   "cell_type": "code",
   "execution_count": null,
   "id": "d8855b78",
   "metadata": {},
   "outputs": [],
   "source": [
    "# recursive\n",
    "def binaryTreePaths(root):\n",
    "    def get_path(root, path):\n",
    "        if root:\n",
    "            path += str(root.val)\n",
    "            if not root.left and not root.right:\n",
    "                paths.append(path) # reached leaf\n",
    "            else:\n",
    "                path += '->'\n",
    "                get_path(root.left, path)\n",
    "                get_path(root.right, path)\n",
    "    paths = []\n",
    "    get_path(root, '')\n",
    "    return paths\n",
    "\n",
    "# iterative\n",
    "def binaryTreePaths(root):\n",
    "    if not root: return []\n",
    "    paths = []\n",
    "    stack = [(root, str(root.val))]\n",
    "    while stack:\n",
    "        node, path = stack.pop()\n",
    "        if not node.left and not node.right:\n",
    "            paths.append(path)\n",
    "        if node.left:\n",
    "            stack.append((node.left, path + '->' +\\\n",
    "                          str(node.left.val)))\n",
    "        if node.right:\n",
    "            stack.append((node.right, path + '->' +\\\n",
    "                          str(node.right.val)))\n",
    "    return paths"
   ]
  },
  {
   "cell_type": "markdown",
   "id": "e79783d3",
   "metadata": {},
   "source": [
    "### 543. Diameter of Binary Tree\n",
    "Longest path (# edges) betw. any two nodes (thru or not thru root)"
   ]
  },
  {
   "cell_type": "code",
   "execution_count": null,
   "id": "a1afaa1c",
   "metadata": {},
   "outputs": [],
   "source": [
    "# t.c.=O(n), s.c.=O(n)\n",
    "def diameterOfBinaryTree(root: TreeNode) -> int:\n",
    "    def longest_path(node):\n",
    "        if not node: return 0\n",
    "        nonlocal diameter\n",
    "        left_path  = longest_path(node.left)\n",
    "        right_path = longest_path(node.right)\n",
    "        diameter = max(diameter, left_path+right_path)\n",
    "        # add 1 for connection to parent\n",
    "        return max(left_path, right_path) + 1\n",
    "    diameter = 0\n",
    "    longest_path(root)\n",
    "    return diameter"
   ]
  },
  {
   "cell_type": "markdown",
   "id": "bbbf74b8",
   "metadata": {},
   "source": [
    "### Insert Number into BST"
   ]
  },
  {
   "cell_type": "code",
   "execution_count": null,
   "id": "eb60b110",
   "metadata": {},
   "outputs": [],
   "source": [
    "# t.c.=s.c.=O(n) worst, O(logn) avg\n",
    "def insert(root, data):\n",
    "    # Base case found where to insert\n",
    "    if root is None:\n",
    "        return TreeNode(data)\n",
    "    if data < root.data:\n",
    "        root.left = insert(root.left, data)\n",
    "    else:\n",
    "        root.right = insert(root.right, data) \n",
    "    # Return (unchanged) root pointer\n",
    "    return root"
   ]
  },
  {
   "cell_type": "code",
   "execution_count": null,
   "id": "05b710cc",
   "metadata": {},
   "outputs": [],
   "source": []
  },
  {
   "cell_type": "markdown",
   "id": "c2e0cb07",
   "metadata": {},
   "source": [
    "## Graphs"
   ]
  },
  {
   "cell_type": "markdown",
   "id": "a59cc827",
   "metadata": {},
   "source": [
    "### 133. Clone Connected Undirected Graph"
   ]
  },
  {
   "cell_type": "code",
   "execution_count": 5,
   "id": "ab732c5b",
   "metadata": {},
   "outputs": [],
   "source": [
    "# t.c. O(n+m),n=nodes,m=edges s.c. O(n)\n",
    "# Approach: BFS where visited is dict[curr_node] = cloned_node\n",
    "class Node:\n",
    "    def __init__(self, val=0, neighbors=None):\n",
    "        self.val = val\n",
    "        self.neighbors = neighbors if neighbors is not None else []        \n",
    "def cloneGraph(start: Node) -> Node:\n",
    "    if not start:\n",
    "        return start\n",
    "    visited, queue = {}, [start] # Dict[visited node] = clone\n",
    "    visited[start] = Node(start.val, []) # Clone start\n",
    "    while queue:\n",
    "        vertex = queue.pop(0)\n",
    "        for neighbor in vertex.neighbors: # Iterate neighbors\n",
    "            if neighbor not in visited:\n",
    "                visited[neighbor] = Node(neighbor.val, [])#Clone neighb\n",
    "                queue.append(neighbor)\n",
    "            # Append cloned neighbor\n",
    "            visited[vertex].neighbors.append(visited[neighbor])\n",
    "    return visited[start]\n"
   ]
  },
  {
   "cell_type": "markdown",
   "id": "8369ac1b",
   "metadata": {},
   "source": [
    "### 200. Number of Islands\n",
    "2D grid of '1's (land) and '0's (water). Return # islands.  \n",
    "Adjacent '1' land plots connected horiz. or vertically.  \n",
    "__Time c.__=O(m\\*n), __Space c.__=O(m\\*n) due to recursion stack.  \n",
    "Each recursive call contains:\n",
    "* func’s local vars (indices i and j).\n",
    "* pointer to the grid.\n",
    "* return address, etc."
   ]
  },
  {
   "cell_type": "code",
   "execution_count": 8,
   "id": "9eb2c919",
   "metadata": {},
   "outputs": [],
   "source": [
    "def numIslands(grid):\n",
    "    if not grid:\n",
    "        return 0        \n",
    "    count = 0\n",
    "    for i in range(len(grid)):\n",
    "        for j in range(len(grid[0])):\n",
    "            # island found\n",
    "            if grid[i][j] == '1':\n",
    "                count += 1\n",
    "                # delete found island                \n",
    "                dfs(grid, i, j)\n",
    "    return count\n",
    "\n",
    "def dfs(grid, i, j):\n",
    "    ''' Delete found island '''\n",
    "    if i<0 or j<0 or i>=len(grid) or\\\n",
    "    j>=len(grid[0]) or grid[i][j] != '1':\n",
    "        return\n",
    "    grid[i][j] = '#' #anything, but '1'\n",
    "    dfs(grid, i+1, j)\n",
    "    dfs(grid, i-1, j)\n",
    "    dfs(grid, i, j+1)\n",
    "    dfs(grid, i, j-1)"
   ]
  },
  {
   "cell_type": "code",
   "execution_count": 9,
   "id": "29e788d3",
   "metadata": {},
   "outputs": [
    {
     "name": "stdout",
     "output_type": "stream",
     "text": [
      "3\n"
     ]
    }
   ],
   "source": [
    "grid = [ [\"1\",\"1\",\"0\",\"0\",\"0\"],\n",
    "         [\"1\",\"1\",\"0\",\"0\",\"0\"],\n",
    "         [\"0\",\"0\",\"1\",\"0\",\"0\"],\n",
    "         [\"0\",\"0\",\"0\",\"1\",\"1\"], ]\n",
    "print(numIslands(grid))"
   ]
  },
  {
   "cell_type": "markdown",
   "id": "a10e7449",
   "metadata": {},
   "source": [
    "### 269. Alien Dictionary (FB!)\n",
    "* Alien language uses Eng ABC w/unknown order of letters\n",
    "* You have list of strings - words sorted lexicographically.\n",
    "* Return string of unique letters sorted lexicographically increasing\n",
    "* No solution - return \"\". Multiple solutions - return any.\n",
    "* 'abc' < 'abd', 'abc' < 'abcd'\n",
    "* __Solution__: a) BFS + get letter dependencies, b) toposort\n",
    "* __Time c. O(C)__ where C - total length of all words in input list\n",
    "* __Space c. O(1)__ or O(U + \\min(U^2, N))O(U+min(U"
   ]
  },
  {
   "cell_type": "code",
   "execution_count": null,
   "id": "06d8e188",
   "metadata": {},
   "outputs": [],
   "source": [
    "def alienOrder(words):\n",
    "    # BFS + letter dependencies as adj_list\n",
    "    adj_list  = defaultdict(set)   # adj_list for each letter\n",
    "    # in_degree of each unique letter    \n",
    "    in_degree = Counter({c:0 for word in words for c in word})\n",
    "    for first_word, second_word in zip(words, words[1:]):\n",
    "        for c, d in zip(first_word, second_word):\n",
    "            if c != d:    # c comes before d\n",
    "                if d not in adj_list[c]:\n",
    "                    adj_list[c].add(d)\n",
    "                    in_degree[d] += 1\n",
    "                break\n",
    "        else:\n",
    "            # agaist rules - shorter word should be first\n",
    "            if len(second_word) < len(first_word): return ''\n",
    "    # TOPOLOGICAL SORT\n",
    "    output = []\n",
    "    queue = deque([c for c in in_degree if in_degree[c] == 0])\n",
    "    while queue: \n",
    "        c = queue.popleft()\n",
    "        output.append(c)\n",
    "        for d in adj_list[c]:\n",
    "            in_degree[d] -= 1\n",
    "            if in_degree[d] == 0:\n",
    "                queue.append(d)\n",
    "    # not all letters in output - cycle => no valid ordering\n",
    "    if len(output) < len(in_degree):\n",
    "        return ''\n",
    "    return ''.join(output)"
   ]
  },
  {
   "cell_type": "code",
   "execution_count": null,
   "id": "ff75cd63",
   "metadata": {},
   "outputs": [],
   "source": []
  },
  {
   "cell_type": "markdown",
   "id": "268ac14e",
   "metadata": {},
   "source": [
    "## Miscellaneous"
   ]
  },
  {
   "cell_type": "markdown",
   "id": "9f796a5d",
   "metadata": {},
   "source": [
    "### Iterative Factorial"
   ]
  },
  {
   "cell_type": "code",
   "execution_count": null,
   "id": "1493ded2",
   "metadata": {},
   "outputs": [],
   "source": [
    "# t.c. O(n), s.c. O(1) \n",
    "def factorial(n):\n",
    "    if n < 0:\n",
    "        raise ValueError(\"m\")\n",
    "    result = 1\n",
    "    for i in range(1, n + 1):\n",
    "        result *= i\n",
    "    return result"
   ]
  },
  {
   "cell_type": "code",
   "execution_count": null,
   "id": "3f86bcb0",
   "metadata": {},
   "outputs": [],
   "source": []
  }
 ],
 "metadata": {
  "kernelspec": {
   "display_name": "Python 3 (ipykernel)",
   "language": "python",
   "name": "python3"
  },
  "language_info": {
   "codemirror_mode": {
    "name": "ipython",
    "version": 3
   },
   "file_extension": ".py",
   "mimetype": "text/x-python",
   "name": "python",
   "nbconvert_exporter": "python",
   "pygments_lexer": "ipython3",
   "version": "3.11.11"
  }
 },
 "nbformat": 4,
 "nbformat_minor": 5
}
