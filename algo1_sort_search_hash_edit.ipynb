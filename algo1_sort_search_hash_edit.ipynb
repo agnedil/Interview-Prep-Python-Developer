{
 "cells": [
  {
   "cell_type": "markdown",
   "metadata": {},
   "source": [
    "# INTERVIEW PREP\n",
    "* __writing code on a whiteboard__ (see _Recommendations Combined.docx_)\n",
    "* details of __O(nlogn) sorts__ (at least one, maybe quick sort and merge sort - merge sort can be highly useful in situations where quick sort is impractical: which ones?);\n",
    "* __binary search__ (write and debug); other search algos?\n",
    "* Optional, from another [article](http://steve-yegge.blogspot.com/2008/03/get-that-job-at-google.html): know at least one flavor of __balanced binary tree__: red/black, splay or AVL tree (how it's implemented)\n",
    "* __hashtables__: the single most important data structure; _know_ how they work; _implement one using only arrays_ during the interview (45 min);\n",
    "* __edit distance__ and other __DP__ algos;\n",
    "* __BST traversals__ (various, left-to-right, etc.);\n",
    "* __BFS & DFS__, and know the difference between __inorder, postorder and preorder__. [More here](http://www.geeksforgeeks.org/fundamentals-of-algorithms/);\n",
    "* __Graphs__ - important at Google; __3 representations__ in memory (objects and pointers, matrix, and adjacency list); know each representation, pros & cons. Implement basic __graph traversal algorithms__: BFS & DFS (computational complexity, tradeoffs).\n",
    "\n",
    "Optional, from another [article](http://steve-yegge.blogspot.com/2008/03/get-that-job-at-google.html):\n",
    "* Study fancier graph algorithms: __Dijkstra and A*__ - they're really great. ADVICE: if you get __any problem - first think graphs__: fundamental and flexible way of representing relationships, 50-50 chance that any interesting design problem has a graph involved!\n",
    "* Learn data structures and algos, should especially know the most famous classes of __NP-complete problems (traveling salesman and knapsack)__ => recognize them when __in disguise__; and what NP-complete means\n",
    "* __Descrete Math__ (counting problems, probability problems, and other Discrete Math 101 situations)\n",
    "* __OS__: threads and concurrency; locks, mutexes, semaphores, monitors - how they work; deadlock, livelock - how to avoid. What resources a process needs, a thread needs, how context switching works, how it's initiated by OS and underlying hardware. Know a little about scheduling.\n",
    "\n",
    "Data Structures and Algorithms:\n",
    "* [Karya Umum Dsa](C:/Users/anedilko/Documents/04_Personal/Interviews/coding);\n",
    "* [Geeks for Geeks: 500 Data Structures and Algorithms](http://www.geeksforgeeks.org/data-structures/);\n",
    "* [Top 10 Algos in Interview Questions](http://www.geeksforgeeks.org/top-10-algorithms-in-interview-questions/);\n",
    "* [Big-O Cheat Sheet](http://bigocheatsheet.com/) and [Big-O notation](https://www.interviewcake.com/article/java/big-o-notation-time-and-space-complexity).\n",
    "* [Competitive Programmer's Handbook](https://cses.fi/book.html?utm_source=hackernewsletter&utm_medium=email&utm_term=books)\n",
    "\n",
    "Websites Recommended by Google Software Engineers for practice:\n",
    "* Top Coder: https://www.topcoder.com/\n",
    "* HackerRank: https://www.hackerrank.com/\n",
    "* Project Euler: https://projecteuler.net/\n",
    "* LeetCode: LeetCode.com\n",
    "* Interview Cake: https://www.interviewcake.com/\n",
    "* CodeFights https://codefights.com/"
   ]
  },
  {
   "attachments": {
    "image.png": {
     "image/png": "[encoded data removed]"
    }
   },
   "cell_type": "markdown",
   "metadata": {},
   "source": [
    "__Second company__:  \n",
    "Critical  \n",
    "* Arrays and lists \n",
    "* Stacks and queues\n",
    "* Binary trees, Graphs, Graph traversals: BFS, DFS\n",
    "* Search: __iterator__, binary, hash\n",
    "* Sort: merge, quick, __bucket__\n",
    "* Hash tables\n",
    "* Recursion\n",
    "* Complexity, Big O notation \n",
    "\n",
    "Nice to Have\n",
    "* __Trie__\n",
    "* __Red-black trees__ (theory)\n",
    "* __Randomized quicksort__ (theory)\n",
    "* __Spanning tree, minimum cut__ (theory)\n",
    "* Heap - part of __heap sort__ (heapify)\n",
    "* __Radix sort__ (theory) \n",
    "* Dynamic programming (However: there is no need to learn or know how to do dynamic programming or memorization)\n",
    "* Set\n",
    "\n",
    "Another website for pratice: https://leetcode.com/problemset/all/\n",
    "\n",
    "__THEORY__\n",
    "* __Red–black__ tree is a kind of __self-balancing BST__. Each node stores an extra bit representing color, used to ensure that the tree remains approximately balanced during insertions and deletions. Rules:\n",
    "\n",
    "\n",
    "1. Every node is either red or black.  \n",
    "2. Every leaf (NULL) is black.  \n",
    "3. If a node is red, then both its children are black.  \n",
    "4. Every simple path from a node to a descendant leaf contains the same number of black nodes  \n",
    "\n",
    "![image.png](attachment:image.png)\n",
    "Lemma  \n",
    "A red-black tree with n internal nodes has __height at most 2log(n+1)__ - RBTs are good for search: can always be __searched in O(log n) time__ (insertions and deletions too while usually it's O(h) or even O(n) for imbalanced tree)\n",
    "\n",
    "\n",
    "* __Randomized quicksort__: random number to pick next __random pivot__ (or shuffle the array). `randpivot = random.randrange(start, stop)`\n",
    "\n",
    "\n",
    "* __Minimum cut__ - min subset of edges that, when removed, __disconnects__ [undirected, weighted] graph. Application: in communications, nodes of the cut are critical for network integrity\n",
    "\n",
    "\n",
    "* __Spanning tree__ - subgraph (tree) of undirected graph that includes __ALL VERTICES & MIN # EDGES__ (can be several, but min. s. t. = min. sum of weights)"
   ]
  },
  {
   "cell_type": "markdown",
   "metadata": {},
   "source": [
    "## SORTING ALGORITHMS (nLogn)"
   ]
  },
  {
   "cell_type": "code",
   "execution_count": 9,
   "metadata": {},
   "outputs": [],
   "source": [
    "from __future__ import print_function"
   ]
  },
  {
   "cell_type": "markdown",
   "metadata": {},
   "source": [
    "## Merge Sort (mid)\n",
    "https://www.geeksforgeeks.org/merge-sort/  \n",
    "\n",
    "\n",
    "Find __mid point__, merge sort _left half_, merge sort _right half_, __merge the two sorted halves__  \n",
    "\n",
    "\n",
    "* Divide and Conquer algorithm\n",
    "* __O(nLogn)__ - time complexity for all three cases (worst, average, best)\n",
    "* Stable, but not in place - O(n) space complexity\n",
    "\n",
    "\n",
    "Usage:  \n",
    "a) Sorting __linked lists__  \n",
    "b) Inversion Count Problem in a nearly sorted array ( i < j, but A[i] > A[j] )  \n",
    "c) Used in External Sorting (data too big to fit into memory, resides in slower external memory (hard disk)) "
   ]
  },
  {
   "cell_type": "code",
   "execution_count": 1,
   "metadata": {},
   "outputs": [],
   "source": [
    "def merge_sort(arr):\n",
    "        \n",
    "    # arrays of length 1 will be returned as is\n",
    "    if len(arr) > 1:\n",
    "                \n",
    "        # find mid point, sort each half\n",
    "        mid = len(arr) // 2\n",
    "        left =  merge_sort(arr[ :mid ])           # sort the first half\n",
    "        right = merge_sort(arr[ mid: ])           # sort the first half\n",
    "        \n",
    "        # copy data from temp arrays 'left' and 'right'\n",
    "        i, j, k = 0, 0, 0\n",
    "        while i < len(left) and j < len(right):\n",
    "            if left[i] < right[j]:\n",
    "                arr[k] = left[i]\n",
    "                i += 1\n",
    "            else:\n",
    "                arr[k] = right[j]\n",
    "                j += 1\n",
    "            k += 1\n",
    "        \n",
    "        # check if anything is left\n",
    "        while i < len(left):\n",
    "            arr[k] = left[i]\n",
    "            i += 1\n",
    "            k += 1\n",
    "\n",
    "        while j < len(right):\n",
    "            arr[k] = right[j]\n",
    "            j += 1\n",
    "            k += 1\n",
    "\n",
    "    return arr"
   ]
  },
  {
   "cell_type": "code",
   "execution_count": 2,
   "metadata": {},
   "outputs": [
    {
     "name": "stdout",
     "output_type": "stream",
     "text": [
      "[8, 7, 4, 2, 1, 25, 29, 38, 45, 5, 101, 97, 73, 74, 72, 55] =>  [1, 2, 4, 5, 7, 8, 25, 29, 38, 45, 55, 72, 73, 74, 97, 101]\n",
      "[8, 7, 4, 2, 1] =>  [1, 2, 4, 7, 8]\n",
      "[8, 7, 2, 11] =>  [2, 7, 8, 11]\n",
      "[8, 7] =>  [7, 8]\n"
     ]
    }
   ],
   "source": [
    "# test sorting f(x)\n",
    "a, b, c, d = [8, 7, 4, 2, 1, 25, 29, 38, 45, 5, 101, 97, 73, 74, 72, 55], [8, 7, 4, 2, 1], [8, 7, 2, 11], [8, 7]\n",
    "for myarr in [a, b, c, d]:\n",
    "    print(myarr, end=' ')\n",
    "    print('=> ', merge_sort(myarr))"
   ]
  },
  {
   "cell_type": "markdown",
   "metadata": {},
   "source": [
    "## Quick Sort (pivot)\n",
    "https://www.geeksforgeeks.org/quick-sort/  \n",
    "\n",
    "\n",
    "Picks __pivot__ element (_first, last, random, median_) and __partition__ array: put all smaller elements before pivot, greater elements after pivot (linear time), and the pivot in between\n",
    "\n",
    "\n",
    "* Divide and Conquer algorithm\n",
    "* __O(nLogn)__ - time complexity for average and best cases, __O(n^2)__ worst case\n",
    "* __O(log(n))__ extra space, but qualifies as in-place (no extra space)\n",
    "* Not stable, but can be made stable\n",
    "\n",
    "Usage:  \n",
    "\n",
    "Although the worst case time complexity is more than many other sorting algorithms, __QuickSort is faster in practice__ because its __inner loop__ can be _efficiently_ implemented.  \n",
    "__Quick sort__ is preferred over merge sort for __sorting arrays__ (because __in-place__ sort while merge sort = O(N) space (N = array size) - memory allocation increases run time  \n",
    "__Merge sort__ is preferred over quick sort for __linked lists__ (different memory alloc.: unlike arrays, a) _linked list nodes may not be adjacent in memory_, and b) _insert is O(1) extra space and O(1) time_ in linked lists => __merge__ operation  - __without extra space__)\n",
    "\n",
    "__3 Way QuickSort__, an array arr[l..r] is divided in 3 parts:  \n",
    "a) arr[l..i] elements less than pivot  \n",
    "b) arr[i+1..j-1] elements equal to pivot  \n",
    "c) arr[j..r] elements greater than pivot"
   ]
  },
  {
   "cell_type": "code",
   "execution_count": 11,
   "metadata": {},
   "outputs": [],
   "source": [
    "# USE THIS!!\n",
    "# Take last element as pivot, place it in its correct position:\n",
    "#  elements smaller than pivot - to the left\n",
    "# elements greater than pivot - to the right \n",
    "def quick_sort(arr, low, high):\n",
    "    '''    \n",
    "        low   -> Starting index,\n",
    "        high  -> Ending index\n",
    "    '''\n",
    "    if low < high:  \n",
    "        \n",
    "        pi = partition(arr, low, high)                        # pi = partitioning index, arr[pi] at right place  \n",
    "        quick_sort(arr, low, pi-1)                            # sort elements before and after partition\n",
    "        quick_sort(arr, pi+1, high)\n",
    "        \n",
    "        \n",
    "        \n",
    "        \n",
    "def partition(arr, low, high):\n",
    "        \n",
    "    pivot = arr[high]                                          # pivot\n",
    "    i = low - 1                                                # index of smaller element \n",
    "     \n",
    "    for j in range(low , high):  \n",
    "        \n",
    "        if  arr[j] < pivot:                                    # current element smaller than pivot            \n",
    "            i += 1                                             # increment index of smaller element\n",
    "            arr[i], arr[j] = arr[j], arr[i]\n",
    "  \n",
    "    arr[i+1], arr[high] = arr[high], arr[i+1]                  # all elems < pivot are not in arr[low:i], this line\n",
    "                                                               # places pivot in the middle (it was arr[high] before)\n",
    "            \n",
    "    return i+1"
   ]
  },
  {
   "cell_type": "markdown",
   "metadata": {},
   "source": [
    "#### Comment for the second solution  \n",
    "* First call - consider all the elements (arr[0 : n-1].\n",
    "* If pivot's index = k, repeat the process for elements [0 : k-1] and [k+1 : n-1].\n",
    "* While sorting the elements from k+1 to n-1, the current pivot would end up in some position p. We'd then sort the elements from k+1 to p-1 and p+1 to n-1, and so on.\n",
    "* Pivot as first or last element => bad performance on sorted lists, but still most operationally efficient (has to be done repeatedly; choosing a random pivot - expensive). One can also pick an element from the middle"
   ]
  },
  {
   "cell_type": "code",
   "execution_count": 4,
   "metadata": {},
   "outputs": [],
   "source": [
    "# second in-place algo\n",
    "def quick_sort2(array, start, end):\n",
    "        \n",
    "    if start >= end:\n",
    "        return\n",
    "\n",
    "    p = partition2(array, start, end)\n",
    "    quick_sort2(array, start, p-1)\n",
    "    quick_sort2(array, p+1, end)\n",
    "    \n",
    "    \n",
    "def partition2(array, start, end):\n",
    "        \n",
    "    pivot = array[start]\n",
    "    low = start + 1\n",
    "    high = end\n",
    "\n",
    "    while True:\n",
    "        # if current value > pivot => OK, move left,keep track of low pointer (to know when all moved)\n",
    "        while low <= high and array[high] >= pivot:\n",
    "            high = high - 1\n",
    "\n",
    "        # Opposite to the above\n",
    "        while low <= high and array[low] <= pivot:\n",
    "            low = low + 1\n",
    "\n",
    "        # either found an out-of-order value for high and low OR low > high => exit loop\n",
    "        if low <= high:\n",
    "            array[low], array[high] = array[high], array[low]    # loop continues            \n",
    "        else:            \n",
    "            break                                                # exit loop\n",
    "\n",
    "    array[start], array[high] = array[high], array[start]\n",
    "\n",
    "    return high\n",
    "\n"
   ]
  },
  {
   "cell_type": "code",
   "execution_count": 6,
   "metadata": {},
   "outputs": [],
   "source": [
    "# is this really a 3-way quick sort? + how can I get rid of random?\n",
    "# https://stackoverflow.com/questions/36972714/implementing-3-way-quicksort\n",
    "import random\n",
    "def quick_sort_3way(a, l, r):\n",
    "    if l >= r:\n",
    "        return\n",
    "    k = random.randint(l, r)\n",
    "    a[l], a[k] = a[k], a[l]\n",
    "    m1, m2 = partition3(a, l, r)\n",
    "    quick_sort_3way(a, l, m1 - 1)\n",
    "    quick_sort_3way(a, m2 + 1, r)\n",
    "\n",
    "def partition3(a, l, r):\n",
    "    x, j, t = a[l], l, r\n",
    "    i = j\n",
    "\n",
    "    while i <= t :\n",
    "        if a[i] < x:\n",
    "            a[j], a[i] = a[i], a[j]\n",
    "            j += 1\n",
    "\n",
    "        elif a[i] > x:\n",
    "            a[t], a[i] = a[i], a[t]\n",
    "            t -= 1\n",
    "            i -= 1 # remain in the same i in this case\n",
    "        i += 1   \n",
    "    return j, t"
   ]
  },
  {
   "cell_type": "code",
   "execution_count": 7,
   "metadata": {},
   "outputs": [],
   "source": [
    "# short version of quicksort - not in place, requires storage\n",
    "def quick_sort3(_list):\n",
    "    \n",
    "    if len(_list) <= 1:\n",
    "        return _list\n",
    "    \n",
    "    pivot = _list[len(_list) // 2]                       # it can also be first or last element of the list\n",
    "    left = [x for x in _list if x < pivot]\n",
    "    middle = [x for x in _list if x == pivot]\n",
    "    right = [x for x in _list if x > pivot]\n",
    "        \n",
    "    return quick_sort3(left) + middle + quick_sort3(right)"
   ]
  },
  {
   "cell_type": "code",
   "execution_count": 7,
   "metadata": {
    "scrolled": true
   },
   "outputs": [
    {
     "name": "stdout",
     "output_type": "stream",
     "text": [
      "Partition: pivot =  55\n",
      "partition: i =  -1\n",
      "Before last swap: [8, 7, 4, 2, 1, 25, 29, 38, 45, 5, 101, 97, 73, 74, 72, 55]\n",
      "After last swap: [8, 7, 4, 2, 1, 25, 29, 38, 45, 5, 55, 97, 73, 74, 72, 101]\n",
      "\n",
      "Partition: pivot =  5\n",
      "partition: i =  -1\n",
      "Before last swap: [4, 2, 1, 7, 8, 25, 29, 38, 45, 5, 55, 97, 73, 74, 72, 101]\n",
      "After last swap: [4, 2, 1, 5, 8, 25, 29, 38, 45, 7, 55, 97, 73, 74, 72, 101]\n",
      "\n",
      "Partition: pivot =  1\n",
      "partition: i =  -1\n",
      "Before last swap: [4, 2, 1, 5, 8, 25, 29, 38, 45, 7, 55, 97, 73, 74, 72, 101]\n",
      "After last swap: [1, 2, 4, 5, 8, 25, 29, 38, 45, 7, 55, 97, 73, 74, 72, 101]\n",
      "\n",
      "Partition: pivot =  4\n",
      "partition: i =  0\n",
      "Before last swap: [1, 2, 4, 5, 8, 25, 29, 38, 45, 7, 55, 97, 73, 74, 72, 101]\n",
      "After last swap: [1, 2, 4, 5, 8, 25, 29, 38, 45, 7, 55, 97, 73, 74, 72, 101]\n",
      "\n",
      "Recursive call for [1, 2]\n",
      "Recursive call for [5, 8, 25, 29, 38, 45, 7, 55, 97, 73, 74, 72, 101]\n",
      "Recursive call for []\n",
      "Recursive call for [2, 4, 5, 8, 25, 29, 38, 45, 7, 55, 97, 73, 74, 72, 101]\n",
      "Partition: pivot =  7\n",
      "partition: i =  3\n",
      "Before last swap: [1, 2, 4, 5, 8, 25, 29, 38, 45, 7, 55, 97, 73, 74, 72, 101]\n",
      "After last swap: [1, 2, 4, 5, 7, 25, 29, 38, 45, 8, 55, 97, 73, 74, 72, 101]\n",
      "\n",
      "Partition: pivot =  8\n",
      "partition: i =  4\n",
      "Before last swap: [1, 2, 4, 5, 7, 25, 29, 38, 45, 8, 55, 97, 73, 74, 72, 101]\n",
      "After last swap: [1, 2, 4, 5, 7, 8, 29, 38, 45, 25, 55, 97, 73, 74, 72, 101]\n",
      "\n",
      "Partition: pivot =  25\n",
      "partition: i =  5\n",
      "Before last swap: [1, 2, 4, 5, 7, 8, 29, 38, 45, 25, 55, 97, 73, 74, 72, 101]\n",
      "After last swap: [1, 2, 4, 5, 7, 8, 25, 38, 45, 29, 55, 97, 73, 74, 72, 101]\n",
      "\n",
      "Partition: pivot =  29\n",
      "partition: i =  6\n",
      "Before last swap: [1, 2, 4, 5, 7, 8, 25, 38, 45, 29, 55, 97, 73, 74, 72, 101]\n",
      "After last swap: [1, 2, 4, 5, 7, 8, 25, 29, 45, 38, 55, 97, 73, 74, 72, 101]\n",
      "\n",
      "Partition: pivot =  38\n",
      "partition: i =  7\n",
      "Before last swap: [1, 2, 4, 5, 7, 8, 25, 29, 45, 38, 55, 97, 73, 74, 72, 101]\n",
      "After last swap: [1, 2, 4, 5, 7, 8, 25, 29, 38, 45, 55, 97, 73, 74, 72, 101]\n",
      "\n",
      "Recursive call for [1, 2, 4, 5, 7, 8, 25, 29]\n",
      "Recursive call for [45, 55, 97, 73, 74, 72, 101]\n",
      "Recursive call for [1, 2, 4, 5, 7, 8, 25]\n",
      "Recursive call for [38, 45, 55, 97, 73, 74, 72, 101]\n",
      "Recursive call for [1, 2, 4, 5, 7, 8]\n",
      "Recursive call for [29, 38, 45, 55, 97, 73, 74, 72, 101]\n",
      "Recursive call for [1, 2, 4, 5, 7]\n",
      "Recursive call for [25, 29, 38, 45, 55, 97, 73, 74, 72, 101]\n",
      "Recursive call for [1, 2, 4, 5]\n",
      "Recursive call for [8, 25, 29, 38, 45, 55, 97, 73, 74, 72, 101]\n",
      "Recursive call for [1, 2, 4]\n",
      "Recursive call for [7, 8, 25, 29, 38, 45, 55, 97, 73, 74, 72, 101]\n",
      "Partition: pivot =  101\n",
      "partition: i =  10\n",
      "Before last swap: [1, 2, 4, 5, 7, 8, 25, 29, 38, 45, 55, 97, 73, 74, 72, 101]\n",
      "After last swap: [1, 2, 4, 5, 7, 8, 25, 29, 38, 45, 55, 97, 73, 74, 72, 101]\n",
      "\n",
      "Partition: pivot =  72\n",
      "partition: i =  10\n",
      "Before last swap: [1, 2, 4, 5, 7, 8, 25, 29, 38, 45, 55, 97, 73, 74, 72, 101]\n",
      "After last swap: [1, 2, 4, 5, 7, 8, 25, 29, 38, 45, 55, 72, 73, 74, 97, 101]\n",
      "\n",
      "Partition: pivot =  97\n",
      "partition: i =  11\n",
      "Before last swap: [1, 2, 4, 5, 7, 8, 25, 29, 38, 45, 55, 72, 73, 74, 97, 101]\n",
      "After last swap: [1, 2, 4, 5, 7, 8, 25, 29, 38, 45, 55, 72, 73, 74, 97, 101]\n",
      "\n",
      "Partition: pivot =  74\n",
      "partition: i =  11\n",
      "Before last swap: [1, 2, 4, 5, 7, 8, 25, 29, 38, 45, 55, 72, 73, 74, 97, 101]\n",
      "After last swap: [1, 2, 4, 5, 7, 8, 25, 29, 38, 45, 55, 72, 73, 74, 97, 101]\n",
      "\n",
      "Recursive call for [1, 2, 4, 5, 7, 8, 25, 29, 38, 45, 55, 72, 73]\n",
      "Recursive call for [97, 101]\n",
      "Recursive call for [1, 2, 4, 5, 7, 8, 25, 29, 38, 45, 55, 72, 73, 74]\n",
      "Recursive call for [101]\n",
      "Recursive call for [1, 2, 4, 5, 7, 8, 25, 29, 38, 45, 55]\n",
      "Recursive call for [73, 74, 97, 101]\n",
      "Recursive call for [1, 2, 4, 5, 7, 8, 25, 29, 38, 45, 55, 72, 73, 74, 97]\n",
      "Recursive call for []\n",
      "Recursive call for [1, 2, 4, 5, 7, 8, 25, 29, 38, 45]\n",
      "Recursive call for [72, 73, 74, 97, 101]\n",
      "=>  [1, 2, 4, 5, 7, 8, 25, 29, 38, 45, 55, 72, 73, 74, 97, 101]\n",
      "Partition: pivot =  1\n",
      "partition: i =  -1\n",
      "Before last swap: [8, 7, 4, 2, 1]\n",
      "After last swap: [1, 7, 4, 2, 8]\n",
      "\n",
      "Partition: pivot =  8\n",
      "partition: i =  0\n",
      "Before last swap: [1, 7, 4, 2, 8]\n",
      "After last swap: [1, 7, 4, 2, 8]\n",
      "\n",
      "Partition: pivot =  2\n",
      "partition: i =  0\n",
      "Before last swap: [1, 7, 4, 2, 8]\n",
      "After last swap: [1, 2, 4, 7, 8]\n",
      "\n",
      "Partition: pivot =  7\n",
      "partition: i =  1\n",
      "Before last swap: [1, 2, 4, 7, 8]\n",
      "After last swap: [1, 2, 4, 7, 8]\n",
      "\n",
      "Recursive call for [1, 2, 4]\n",
      "Recursive call for [8]\n",
      "Recursive call for [1]\n",
      "Recursive call for [4, 7, 8]\n",
      "Recursive call for [1, 2, 4, 7]\n",
      "Recursive call for []\n",
      "Recursive call for []\n",
      "Recursive call for [2, 4, 7, 8]\n",
      "=>  [1, 2, 4, 7, 8]\n",
      "Partition: pivot =  11\n",
      "partition: i =  -1\n",
      "Before last swap: [8, 7, 2, 11]\n",
      "After last swap: [8, 7, 2, 11]\n",
      "\n",
      "Partition: pivot =  2\n",
      "partition: i =  -1\n",
      "Before last swap: [8, 7, 2, 11]\n",
      "After last swap: [2, 7, 8, 11]\n",
      "\n",
      "Partition: pivot =  8\n",
      "partition: i =  0\n",
      "Before last swap: [2, 7, 8, 11]\n",
      "After last swap: [2, 7, 8, 11]\n",
      "\n",
      "Recursive call for [2, 7]\n",
      "Recursive call for [11]\n",
      "Recursive call for []\n",
      "Recursive call for [7, 8, 11]\n",
      "Recursive call for [2, 7, 8]\n",
      "Recursive call for []\n",
      "=>  [2, 7, 8, 11]\n",
      "Partition: pivot =  7\n",
      "partition: i =  -1\n",
      "Before last swap: [8, 7]\n",
      "After last swap: [7, 8]\n",
      "\n",
      "Recursive call for []\n",
      "Recursive call for [8]\n",
      "=>  [7, 8]\n"
     ]
    }
   ],
   "source": [
    "# test sorting f(x)\n",
    "a, b, c, d = [8, 7, 4, 2, 1, 25, 29, 38, 45, 5, 101, 97, 73, 74, 72, 55], [8, 7, 4, 2, 1], [8, 7, 2, 11], [8, 7]\n",
    "for arr in [a, b, c, d]:\n",
    "    print(arr, end=' ')\n",
    "    quick_sort(arr, 0, len(arr) - 1)      # in-place sorting    \n",
    "    print('=> ', arr)\n",
    "    #print('=> ', quick_sort3(arr))       # not in-place"
   ]
  },
  {
   "cell_type": "code",
   "execution_count": null,
   "metadata": {},
   "outputs": [],
   "source": []
  },
  {
   "cell_type": "markdown",
   "metadata": {},
   "source": [
    "## Heap Sort\n",
    "\n",
    "* __O(nLogn)__ - time complexity; rearrange heap for the next largest (or smallest) element OR heapify() = O(Logn), repeating this over n elements OR createAndBuildHeap() = O(n)\n",
    "* in-place\n",
    "* not stable, but can be made stable\n",
    "\n",
    "Usage:\n",
    "1. Sort a nearly sorted (or __K sorted) array__\n",
    "2. k largest (or smallest) elements in an array  \n",
    "Limited usage because Quicksort and Mergesort are better in practice, but the Heap data structure is widely used\n",
    "\n",
    "__Complete binary tree__ = binary tree in which _every level is completely filled_, except possibly the last, and all nodes are _as far left_ as possible.  \n",
    "__Binary Heap__ = Complete Binary Tree where items are in a special order: _value in parent node is greater_ (or smaller) than values in its two children nodes OR _max heap_ (min heap); can be __represented as binary tree or array__. Array - space efficient. If node's index = i, node's parent = (i-1)/2, left child = 2 * i + 1, right child = 2 * i + 2, (if 0-based indexing).\n",
    "\n",
    "Heap Sort for sorting in increasing order (comparison based):\n",
    "1. Build max heap from input => max item at the root of heap;\n",
    "2. Replace max with last item of heap and reduce heap size by 1; heapify root;\n",
    "3. Repeat above while size of heap > 1.\n",
    "\n",
    "heapify(node) possible _only if node's children nodes are heapified_ - __heapify() is done bottom up__\n",
    "\n",
    "Array Representation\n",
    "* root = arr[0];\n",
    "* for any i-th node arr[i]:  \n",
    "a) arr[(i-1)/2]\t= parent node  \n",
    "b) arr[(2*i)+1]\t= left child  \n",
    "c) arr[(2*i)+2]\t= right child"
   ]
  },
  {
   "attachments": {
    "image.png": {
     "image/png": "[encoded data removed]"
    }
   },
   "cell_type": "markdown",
   "metadata": {},
   "source": [
    "__Traversal method__ to achieve array representation - __Level Order__\n",
    "![image.png](attachment:image.png)"
   ]
  },
  {
   "cell_type": "markdown",
   "metadata": {},
   "source": [
    "8, 7, 4, 2, 1"
   ]
  },
  {
   "cell_type": "code",
   "execution_count": 1,
   "metadata": {},
   "outputs": [],
   "source": [
    "def heap_sort(arr):\n",
    "        \n",
    "    n = len(arr)        \n",
    "    \n",
    "    for i in range(n, -1, -1):                        # build max heap \n",
    "        heapify(arr, n, i)  \n",
    "    \n",
    "    for i in range(n-1, 0, -1):                       # One by one extract elements \n",
    "        arr[i], arr[0] = arr[0], arr[i]               # swap \n",
    "        heapify(arr, i, 0)                            # heapify root\n",
    "               \n",
    "        \n",
    "\n",
    "def heapify(arr, n, i):\n",
    "        \n",
    "    largest = i                                       # find largest among root and children\n",
    "    l = 2 * i + 1     \n",
    "    r = 2 * i + 2       \n",
    "    \n",
    "    if (l < n and arr[i] < arr[l]):                   \n",
    "        largest = l  \n",
    "    \n",
    "    if (r < n and arr[largest] < arr[r]):              \n",
    "        largest = r  \n",
    "    \n",
    "    if (largest != i):                                # If root is not largest, swap with largest and continue heapifying\n",
    "        arr[i],arr[largest] = arr[largest],arr[i]           \n",
    "        heapify(arr, n, largest)                      "
   ]
  },
  {
   "cell_type": "code",
   "execution_count": 2,
   "metadata": {},
   "outputs": [
    {
     "name": "stdout",
     "output_type": "stream",
     "text": [
      "[8, 7, 4, 2, 1, 25, 29, 38, 45, 5, 101, 97, 73, 74, 72, 55] =>  [1, 2, 4, 5, 7, 8, 25, 29, 38, 45, 55, 72, 73, 74, 97, 101]\n",
      "[8, 7, 4, 2, 1] =>  [1, 2, 4, 7, 8]\n",
      "[8, 7, 2, 11] =>  [2, 7, 8, 11]\n",
      "[8, 7] =>  [7, 8]\n"
     ]
    }
   ],
   "source": [
    "# test sorting f(x)\n",
    "a, b, c, d = [8, 7, 4, 2, 1, 25, 29, 38, 45, 5, 101, 97, 73, 74, 72, 55], [8, 7, 4, 2, 1], [8, 7, 2, 11], [8, 7]\n",
    "for arr in [a, b, c, d]:\n",
    "    print(arr, end=' ')\n",
    "    heap_sort(arr)                         # in-place sorting    \n",
    "    print('=> ', arr)"
   ]
  },
  {
   "cell_type": "code",
   "execution_count": null,
   "metadata": {},
   "outputs": [],
   "source": []
  },
  {
   "cell_type": "markdown",
   "metadata": {},
   "source": [
    "## Bucket Sort\n",
    "Useful when __input uniformly distributed over a range__  \n",
    "Time c. __O(n)__ on average if all numbers are uniformly distributed  \n",
    "1) Create n empty buckets (Or lists).  \n",
    "2) Insert every arr[i] into bucket[n*arr[i]]  \n",
    "3) Sort individual buckets using insertion sort.  \n",
    "4) Concatenate all sorted buckets.  "
   ]
  },
  {
   "cell_type": "code",
   "execution_count": 41,
   "metadata": {},
   "outputs": [
    {
     "name": "stdout",
     "output_type": "stream",
     "text": [
      "[-12, 2, 3, 4, 5, 12, 23, 56, 81, 95]\n"
     ]
    }
   ],
   "source": [
    "# https://www.techconductor.com/algorithms/python/Sort/Bucket_Sort.php\n",
    "import math\n",
    "\n",
    "def insertion_sort(bucket):\n",
    "        \n",
    "    for i in range(1, len(bucket)):\n",
    "                \n",
    "        key = bucket[i] \n",
    "        j = i - 1\n",
    "        while j >=0 and bucket[j] > key:  \n",
    "            bucket[j + 1] = bucket[j] \n",
    "            j -= 1\n",
    "        bucket[j + 1] = key\n",
    "                \n",
    "    return bucket      \n",
    "\n",
    "\n",
    "def bucket_sort(arr, bucket_size = DEFAULT_BUCKET_SIZE):\n",
    "        \n",
    "    if len(arr) == 0: return[]\n",
    "\n",
    "    minValue = arr[0]                                                                  # finding min and max\n",
    "    maxValue = arr[0]\n",
    "        \n",
    "    for i in range(0, len(arr)):\n",
    "        if arr[i] < minValue:\n",
    "            minValue = arr[i]\n",
    "        elif arr[i] > maxValue:\n",
    "            maxValue = arr[i]\n",
    "    \n",
    "    buckets = []    \n",
    "    bucket_count = math.floor((maxValue - minValue) / bucket_size) + 1                      # Initialize buckets\n",
    "        \n",
    "    for i in range(0, bucket_count):\n",
    "        buckets.append([])\n",
    "    \n",
    "    for i in range(0, len(arr)):                                                       # put values in buckets\n",
    "        buckets[math.floor((arr[i] - minValue) / bucket_size)].append(arr[i])\n",
    "    \n",
    "    arr = []\n",
    "    for i in range(0, len(buckets)):                                                   # Sort buckets and place back into array\n",
    "        buckets[i] = insertion_sort(buckets[i])\n",
    "        for j in range(0, len(buckets[i])):\n",
    "            arr.append(buckets[i][j])\n",
    "\n",
    "    return arr\n",
    "\n",
    "\n",
    "DEFAULT_BUCKET_SIZE = 5\n",
    "arr2 = [12, 23, 4, 5, 3, 2, -12, 81, 56, 95]\n",
    "sortedArray = bucket_sort(arr2)\n",
    "print(sortedArray)"
   ]
  },
  {
   "cell_type": "code",
   "execution_count": null,
   "metadata": {},
   "outputs": [],
   "source": []
  },
  {
   "attachments": {
    "image.png": {
     "image/png": "[encoded data removed]"
    }
   },
   "cell_type": "markdown",
   "metadata": {},
   "source": [
    "## Radix sort\n",
    "Digit by digit sort starting from least significant digit to most significant digit. Use counting sort to sort individual digits.  \n",
    "Steps:  \n",
    "For each digit i (least significant digit < i < most significant digit): sort input array using counting sort on the i’th digit\n",
    "\n",
    "Radix sort is an integer sorting algorithm that sorts data with integer keys by grouping the keys by individual digits that share the same significant position and value (place value). Radix sort uses counting sort as a subroutine to sort an array of numbers. Because integers can be used to represent strings (by hashing the strings to integers), radix sort works on data types other than just integers. Because radix sort is not comparison based, it is not bounded by \\Omega(n \\log n)Ω(nlogn) for running time — in fact, radix sort can perform in linear time\n",
    "\n",
    "![image.png](attachment:image.png)"
   ]
  },
  {
   "attachments": {
    "image.png": {
     "image/png": "[encoded data removed]"
    }
   },
   "cell_type": "markdown",
   "metadata": {},
   "source": [
    "![image.png](attachment:image.png)"
   ]
  },
  {
   "attachments": {
    "image.png": {
     "image/png": "[encoded data removed]"
    }
   },
   "cell_type": "markdown",
   "metadata": {},
   "source": [
    "![image.png](attachment:image.png)"
   ]
  },
  {
   "cell_type": "code",
   "execution_count": 12,
   "metadata": {},
   "outputs": [
    {
     "name": "stdout",
     "output_type": "stream",
     "text": [
      "[1, 23, 45, 121, 432, 564, 788]\n"
     ]
    }
   ],
   "source": [
    "# Using counting sort to sort the elements in the basis of significant places\n",
    "def countingSort(array, place):\n",
    "    size = len(array)\n",
    "    output = [0] * size\n",
    "    count = [0] * 10\n",
    "\n",
    "    # Calculate count of elements\n",
    "    for i in range(0, size):\n",
    "        index = array[i] // place\n",
    "        count[index % 10] += 1\n",
    "\n",
    "    # Calculate cummulative count\n",
    "    for i in range(1, 10):\n",
    "        count[i] += count[i - 1]\n",
    "\n",
    "    # Place the elements in sorted order\n",
    "    i = size - 1\n",
    "    while i >= 0:\n",
    "        index = array[i] // place\n",
    "        output[count[index % 10] - 1] = array[i]\n",
    "        count[index % 10] -= 1\n",
    "        i -= 1\n",
    "\n",
    "    for i in range(0, size):\n",
    "        array[i] = output[i]\n",
    "\n",
    "\n",
    "# Main function to implement radix sort\n",
    "def radixSort(array):\n",
    "    # Get maximum element\n",
    "    max_element = max(array)\n",
    "\n",
    "    # Apply counting sort to sort elements based on place value.\n",
    "    place = 1\n",
    "    while max_element // place > 0:\n",
    "        countingSort(array, place)\n",
    "        place *= 10\n",
    "\n",
    "\n",
    "data = [121, 432, 564, 23, 1, 45, 788]\n",
    "radixSort(data)\n",
    "print(data)"
   ]
  },
  {
   "cell_type": "code",
   "execution_count": null,
   "metadata": {},
   "outputs": [],
   "source": []
  },
  {
   "cell_type": "markdown",
   "metadata": {},
   "source": [
    "## Iterators"
   ]
  },
  {
   "cell_type": "markdown",
   "metadata": {},
   "source": [
    "Iterators in Python\n",
    "Iterators are everywhere in Python. They are elegantly implemented within for loops, comprehensions, generators etc. but are hidden in plain sight.\n",
    "\n",
    "Iterator in Python is simply an object that can be iterated upon. An object which will return data, one element at a time.\n",
    "\n",
    "Technically speaking, a Python iterator object must implement two special methods, `__iter__()` and `__next__()`, collectively called the iterator protocol.\n",
    "\n",
    "An object is called iterable if we can get an iterator from it. Most built-in containers in Python like: list, tuple, string etc. are iterables.\n",
    "\n",
    "The iter() function (which in turn calls the `__iter__()` method) returns an iterator from them\n",
    "\n",
    "Iterating Through an Iterator  \n",
    "We use the next() function to manually iterate through all the items of an iterator. When we reach the end and there is no more data to be returned, it will raise the StopIteration Exception. Following is an example"
   ]
  },
  {
   "cell_type": "code",
   "execution_count": 13,
   "metadata": {},
   "outputs": [
    {
     "name": "stdout",
     "output_type": "stream",
     "text": [
      "4\n",
      "7\n",
      "0\n",
      "3\n"
     ]
    },
    {
     "ename": "StopIteration",
     "evalue": "",
     "output_type": "error",
     "traceback": [
      "\u001b[1;31m---------------------------------------------------------------------------\u001b[0m",
      "\u001b[1;31mStopIteration\u001b[0m                             Traceback (most recent call last)",
      "\u001b[1;32m<ipython-input-13-a6eddb463d41>\u001b[0m in \u001b[0;36m<module>\u001b[1;34m\u001b[0m\n\u001b[0;32m      9\u001b[0m \u001b[0mprint\u001b[0m\u001b[1;33m(\u001b[0m\u001b[0mmy_iter\u001b[0m\u001b[1;33m.\u001b[0m\u001b[0m__next__\u001b[0m\u001b[1;33m(\u001b[0m\u001b[1;33m)\u001b[0m\u001b[1;33m)\u001b[0m\u001b[1;33m\u001b[0m\u001b[1;33m\u001b[0m\u001b[0m\n\u001b[0;32m     10\u001b[0m \u001b[1;33m\u001b[0m\u001b[0m\n\u001b[1;32m---> 11\u001b[1;33m \u001b[0mnext\u001b[0m\u001b[1;33m(\u001b[0m\u001b[0mmy_iter\u001b[0m\u001b[1;33m)\u001b[0m                                                                       \u001b[1;31m# This will raise error, no items left\u001b[0m\u001b[1;33m\u001b[0m\u001b[1;33m\u001b[0m\u001b[0m\n\u001b[0m",
      "\u001b[1;31mStopIteration\u001b[0m: "
     ]
    }
   ],
   "source": [
    "my_list = [4, 7, 0, 3]\n",
    "my_iter = iter(my_list)                                                             # get an iterator using iter()\n",
    "\n",
    "# iterate\n",
    "print(next(my_iter))\n",
    "print(next(my_iter))\n",
    "\n",
    "print(my_iter.__next__())                                                           # next(obj) is same as obj.__next__()\n",
    "print(my_iter.__next__())\n",
    "\n",
    "next(my_iter)                                                                       # This will raise error, no items left"
   ]
  },
  {
   "cell_type": "markdown",
   "metadata": {},
   "source": [
    "Building Custom Iterators\n",
    "Building an iterator from scratch is easy in Python. We just have to implement the __iter__() and the __next__() methods.\n",
    "\n",
    "The __iter__() method returns the iterator object itself. If required, some initialization can be performed.\n",
    "\n",
    "The __next__() method must return the next item in the sequence. On reaching the end, and in subsequent calls, it must raise StopIteration.\n",
    "\n",
    "Here, we show an example that will give us the next power of 2 in each iteration. Power exponent starts from zero up to a user set number."
   ]
  },
  {
   "cell_type": "code",
   "execution_count": 14,
   "metadata": {},
   "outputs": [
    {
     "name": "stdout",
     "output_type": "stream",
     "text": [
      "1\n",
      "2\n",
      "4\n",
      "8\n"
     ]
    },
    {
     "ename": "StopIteration",
     "evalue": "",
     "output_type": "error",
     "traceback": [
      "\u001b[1;31m---------------------------------------------------------------------------\u001b[0m",
      "\u001b[1;31mStopIteration\u001b[0m                             Traceback (most recent call last)",
      "\u001b[1;32m<ipython-input-14-e79078ee3bcd>\u001b[0m in \u001b[0;36m<module>\u001b[1;34m\u001b[0m\n\u001b[0;32m     30\u001b[0m \u001b[0mprint\u001b[0m\u001b[1;33m(\u001b[0m\u001b[0mnext\u001b[0m\u001b[1;33m(\u001b[0m\u001b[0mi\u001b[0m\u001b[1;33m)\u001b[0m\u001b[1;33m)\u001b[0m\u001b[1;33m\u001b[0m\u001b[1;33m\u001b[0m\u001b[0m\n\u001b[0;32m     31\u001b[0m \u001b[0mprint\u001b[0m\u001b[1;33m(\u001b[0m\u001b[0mnext\u001b[0m\u001b[1;33m(\u001b[0m\u001b[0mi\u001b[0m\u001b[1;33m)\u001b[0m\u001b[1;33m)\u001b[0m\u001b[1;33m\u001b[0m\u001b[1;33m\u001b[0m\u001b[0m\n\u001b[1;32m---> 32\u001b[1;33m \u001b[0mprint\u001b[0m\u001b[1;33m(\u001b[0m\u001b[0mnext\u001b[0m\u001b[1;33m(\u001b[0m\u001b[0mi\u001b[0m\u001b[1;33m)\u001b[0m\u001b[1;33m)\u001b[0m\u001b[1;33m\u001b[0m\u001b[1;33m\u001b[0m\u001b[0m\n\u001b[0m",
      "\u001b[1;32m<ipython-input-14-e79078ee3bcd>\u001b[0m in \u001b[0;36m__next__\u001b[1;34m(self)\u001b[0m\n\u001b[0;32m     16\u001b[0m             \u001b[1;32mreturn\u001b[0m \u001b[0mresult\u001b[0m\u001b[1;33m\u001b[0m\u001b[1;33m\u001b[0m\u001b[0m\n\u001b[0;32m     17\u001b[0m         \u001b[1;32melse\u001b[0m\u001b[1;33m:\u001b[0m\u001b[1;33m\u001b[0m\u001b[1;33m\u001b[0m\u001b[0m\n\u001b[1;32m---> 18\u001b[1;33m             \u001b[1;32mraise\u001b[0m \u001b[0mStopIteration\u001b[0m\u001b[1;33m\u001b[0m\u001b[1;33m\u001b[0m\u001b[0m\n\u001b[0m\u001b[0;32m     19\u001b[0m \u001b[1;33m\u001b[0m\u001b[0m\n\u001b[0;32m     20\u001b[0m \u001b[1;33m\u001b[0m\u001b[0m\n",
      "\u001b[1;31mStopIteration\u001b[0m: "
     ]
    }
   ],
   "source": [
    "class PowTwo:\n",
    "    \"\"\"Class to implement an iterator\n",
    "    of powers of two\"\"\"\n",
    "\n",
    "    def __init__(self, max=0):\n",
    "        self.max = max\n",
    "\n",
    "    def __iter__(self):\n",
    "        self.n = 0\n",
    "        return self\n",
    "\n",
    "    def __next__(self):\n",
    "        if self.n <= self.max:\n",
    "            result = 2 ** self.n\n",
    "            self.n += 1\n",
    "            return result\n",
    "        else:\n",
    "            raise StopIteration\n",
    "\n",
    "\n",
    "# create an object\n",
    "numbers = PowTwo(3)\n",
    "\n",
    "# create an iterable from the object\n",
    "i = iter(numbers)\n",
    "\n",
    "# Using next to get to the next iterator element\n",
    "print(next(i))\n",
    "print(next(i))\n",
    "print(next(i))\n",
    "print(next(i))\n",
    "print(next(i))"
   ]
  },
  {
   "cell_type": "markdown",
   "metadata": {},
   "source": [
    "Infinite iterators\n",
    "It is not necessary that the item in an iterator object has to be exhausted. There can be infinite iterators (which never ends). We must be careful when handling such iterators.\n",
    "\n",
    "Here is a simple example to demonstrate infinite iterators.\n",
    "\n",
    "The built-in function iter() function can be called with two arguments where the first argument must be a callable object (function) and second is the sentinel. The iterator calls this function until the returned value is equal to the sentinel."
   ]
  },
  {
   "cell_type": "code",
   "execution_count": 16,
   "metadata": {},
   "outputs": [
    {
     "name": "stdout",
     "output_type": "stream",
     "text": [
      "0\n",
      "0\n",
      "0\n"
     ]
    }
   ],
   "source": [
    "print(int())\n",
    "inf = iter(int,1)\n",
    "print(next(inf))\n",
    "print(next(inf))"
   ]
  },
  {
   "cell_type": "code",
   "execution_count": 18,
   "metadata": {},
   "outputs": [
    {
     "name": "stdout",
     "output_type": "stream",
     "text": [
      "1\n",
      "3\n",
      "5\n",
      "7\n",
      "9\n"
     ]
    }
   ],
   "source": [
    "class InfIter:\n",
    "    \"\"\"Infinite iterator to return all\n",
    "        odd numbers\"\"\"\n",
    "\n",
    "    def __iter__(self):\n",
    "        self.num = 1\n",
    "        return self\n",
    "\n",
    "    def __next__(self):\n",
    "        num = self.num\n",
    "        self.num += 2\n",
    "        return num\n",
    "    \n",
    "    \n",
    "a = iter(InfIter())\n",
    "for i in range(5):\n",
    "    print(next(a))"
   ]
  },
  {
   "cell_type": "markdown",
   "metadata": {},
   "source": [
    "Be careful to include a terminating condition, when iterating over these types of infinite iterators.\n",
    "\n",
    "The advantage of using iterators is that they save resources. Like shown above, we could get all the odd numbers without storing the entire number system in memory. We can have infinite items (theoretically) in finite memory.\n",
    "\n",
    "There's an easier way to create iterators in Python. To learn more visit: Python generators using yield"
   ]
  },
  {
   "cell_type": "markdown",
   "metadata": {},
   "source": [
    "## Generators\n",
    "Python generators are a simple way of creating iterators. All the work we mentioned above are automatically handled by generators in Python.\n",
    "\n",
    "Simply speaking, a __generator is a function that returns an iterator object__ which we can iterate over (one value at a time)\n",
    "\n",
    "It is fairly simple to create a generator in Python. It is as easy as defining a normal function, but with a yield statement instead of a return statement.\n",
    "\n",
    "If a function contains at least one yield statement (it may contain other yield or return statements), it becomes a generator function. Both yield and return will return some value from a function.\n",
    "\n",
    "The difference is that while a return statement terminates a function entirely, yield statement pauses the function saving all its states and later continues from there on successive calls\n",
    "\n",
    "Differences between Generator function and Normal function\n",
    "Here is how a generator function differs from a normal function.\n",
    "\n",
    "Generator function contains one or more yield statements.\n",
    "When called, it returns an object (iterator) but does not start execution immediately.\n",
    "Methods like __iter__() and __next__() are implemented automatically. So we can iterate through the items using next().\n",
    "Once the function yields, the function is paused and the control is transferred to the caller.\n",
    "Local variables and their states are remembered between successive calls.\n",
    "Finally, when the function terminates, StopIteration is raised automatically on further calls."
   ]
  },
  {
   "cell_type": "markdown",
   "metadata": {},
   "source": [
    "__Memory Efficiency__: A normal function to return a sequence will create the entire sequence in memory before returning the result. This is an overkill, if the number of items in the sequence is very large.\n",
    "\n",
    "Generator implementation of such sequences is memory friendly and is preferred since it only produces one item at a time\n",
    "\n",
    "Generators can be implemented in a clear and concise way as compared to their iterator class counterpart. Following is an example to implement a sequence of power of 2 using an iterator class"
   ]
  },
  {
   "cell_type": "code",
   "execution_count": 25,
   "metadata": {},
   "outputs": [
    {
     "name": "stdout",
     "output_type": "stream",
     "text": [
      "1\n",
      "2\n",
      "4\n"
     ]
    },
    {
     "ename": "StopIteration",
     "evalue": "",
     "output_type": "error",
     "traceback": [
      "\u001b[1;31m---------------------------------------------------------------------------\u001b[0m",
      "\u001b[1;31mStopIteration\u001b[0m                             Traceback (most recent call last)",
      "\u001b[1;32m<ipython-input-25-12431e026824>\u001b[0m in \u001b[0;36m<module>\u001b[1;34m\u001b[0m\n\u001b[0;32m      7\u001b[0m \u001b[0my\u001b[0m \u001b[1;33m=\u001b[0m \u001b[0mPowTwoGen\u001b[0m\u001b[1;33m(\u001b[0m\u001b[1;36m3\u001b[0m\u001b[1;33m)\u001b[0m\u001b[1;33m\u001b[0m\u001b[1;33m\u001b[0m\u001b[0m\n\u001b[0;32m      8\u001b[0m \u001b[1;32mfor\u001b[0m \u001b[0mi\u001b[0m \u001b[1;32min\u001b[0m \u001b[0mrange\u001b[0m\u001b[1;33m(\u001b[0m\u001b[1;36m5\u001b[0m\u001b[1;33m)\u001b[0m\u001b[1;33m:\u001b[0m\u001b[1;33m\u001b[0m\u001b[1;33m\u001b[0m\u001b[0m\n\u001b[1;32m----> 9\u001b[1;33m     \u001b[0mprint\u001b[0m\u001b[1;33m(\u001b[0m\u001b[0mnext\u001b[0m\u001b[1;33m(\u001b[0m\u001b[0my\u001b[0m\u001b[1;33m)\u001b[0m\u001b[1;33m)\u001b[0m\u001b[1;33m\u001b[0m\u001b[1;33m\u001b[0m\u001b[0m\n\u001b[0m",
      "\u001b[1;31mStopIteration\u001b[0m: "
     ]
    }
   ],
   "source": [
    "def PowTwoGen(max=0):\n",
    "    n = 0\n",
    "    while n < max:\n",
    "        yield 2 ** n\n",
    "        n += 1\n",
    "\n",
    "y = PowTwoGen(3)\n",
    "for i in range(5):\n",
    "    print(next(y))"
   ]
  },
  {
   "cell_type": "markdown",
   "metadata": {},
   "source": [
    "Generators are excellent mediums to represent an __infinite stream of data__ which is not stored in memeory"
   ]
  },
  {
   "cell_type": "code",
   "execution_count": null,
   "metadata": {},
   "outputs": [],
   "source": [
    "# do not run :)\n",
    "def all_even():\n",
    "    n = 0\n",
    "    while True:\n",
    "        yield n\n",
    "        n += 2"
   ]
  },
  {
   "cell_type": "markdown",
   "metadata": {},
   "source": [
    "Multiple generators can be used to __pipeline a series of operations__. E.g. sum of squares of numbers in the first 10 Fibonacci series. Result: efficient, easy to read, a lot cooler!"
   ]
  },
  {
   "cell_type": "code",
   "execution_count": 19,
   "metadata": {},
   "outputs": [
    {
     "name": "stdout",
     "output_type": "stream",
     "text": [
      "4895\n"
     ]
    }
   ],
   "source": [
    "def fibonacci_numbers(nums):\n",
    "    x, y = 0, 1\n",
    "    for _ in range(nums):\n",
    "        x, y = y, x+y\n",
    "        yield x\n",
    "\n",
    "def square(nums):\n",
    "    for num in nums:\n",
    "        yield num**2\n",
    "\n",
    "print(sum(square(fibonacci_numbers(10))))"
   ]
  },
  {
   "cell_type": "code",
   "execution_count": null,
   "metadata": {},
   "outputs": [],
   "source": []
  },
  {
   "cell_type": "markdown",
   "metadata": {},
   "source": [
    "## SEARCH ALGORITHMS"
   ]
  },
  {
   "cell_type": "markdown",
   "metadata": {},
   "source": [
    "### Linear / Sequential  Search\n",
    "Worst-case performance\tO(n)\n",
    "Best-case performance\tO(1)\n",
    "Average performance\tO(n)\n",
    "Worst-case space complexity O(1) iterative\n",
    "\n",
    "Linear search is rarely used practically because other search algorithms such as the binary search algorithm and hash tables have a significantly performance"
   ]
  },
  {
   "cell_type": "code",
   "execution_count": 9,
   "metadata": {},
   "outputs": [],
   "source": [
    "def linear_search(arr, x): \n",
    "  \n",
    "    for i in range (0, len(arr)): \n",
    "        if (arr[i] == x): \n",
    "            return i\n",
    "    return -1"
   ]
  },
  {
   "cell_type": "code",
   "execution_count": null,
   "metadata": {},
   "outputs": [],
   "source": [
    "# If we know the list is ordered than, we only have to check until we have found the element or an element greater than it\n",
    "def ordered_seq_search(arr,ele):\n",
    "    \"\"\"\n",
    "    Sequential search for an Ordered list\n",
    "    \"\"\"\n",
    "    # Start at position 0\n",
    "    pos = 0\n",
    "    \n",
    "    # Target becomes true if ele is in the list\n",
    "    found = False\n",
    "    \n",
    "    # Stop marker\n",
    "    stopped = False\n",
    "    \n",
    "    # go until end of list\n",
    "    while pos < len(arr) and not found and not stopped:\n",
    "        \n",
    "        # If match\n",
    "        if arr[pos] == ele:\n",
    "            found = True\n",
    "            \n",
    "        else:\n",
    "            \n",
    "            # Check if element is greater\n",
    "            if arr[pos] > ele:\n",
    "                stopped = True\n",
    "                \n",
    "            # Otherwise move on\n",
    "            else:\n",
    "                pos  = pos+1\n",
    "    \n",
    "    return found"
   ]
  },
  {
   "cell_type": "code",
   "execution_count": 10,
   "metadata": {},
   "outputs": [
    {
     "name": "stdout",
     "output_type": "stream",
     "text": [
      "Element is present at index 3\n"
     ]
    }
   ],
   "source": [
    "arr = [ 2, 3, 4, 10, 40 ]\n",
    "x = 10\n",
    "result = linear_search(arr, x)\n",
    "if(result == -1): \n",
    "    print(\"Element is not present in array\") \n",
    "else: \n",
    "    print(\"Element is present at index\", result)"
   ]
  },
  {
   "cell_type": "markdown",
   "metadata": {},
   "source": [
    "## Binary Search\n",
    "Sorted list => reduces time complexity to __O(Log n)__  \n",
    "Auxiliary Space: __O(1) iterative__ implementation, __O(Logn) recursion__"
   ]
  },
  {
   "cell_type": "code",
   "execution_count": 15,
   "metadata": {},
   "outputs": [],
   "source": [
    "# iterative\n",
    "def binary_search(arr, value):\n",
    "    \n",
    "    if len(arr) == 0: return None\n",
    "    \n",
    "    min_idx, max_idx= 0, len(arr)\n",
    "        \n",
    "    while min_idx < max_idx:\n",
    "        mid = (min_idx + max_idx) // 2\n",
    "    \n",
    "        if arr[mid] == value:\n",
    "            return mid\n",
    "        elif arr[mid] < value:\n",
    "            min_idx = mid + 1\n",
    "        else: max_idx = mid\n",
    "    \n",
    "    return None"
   ]
  },
  {
   "cell_type": "code",
   "execution_count": 16,
   "metadata": {},
   "outputs": [],
   "source": [
    "# recursive\n",
    "# have to keep arr intact and pass array bounds to recursion to get the correct mid point index\n",
    "# if array bounds are not passed, only the boolean version works (found / not found)\n",
    "def binary_search_rec(arr, value, start=None, end=None):\n",
    "        \n",
    "    length = len(arr)\n",
    "    \n",
    "    if start is None:\n",
    "        start = 0\n",
    "    if end is None:\n",
    "        end = len(arr) - 1\n",
    "    \n",
    "    if not length or start >= end:\n",
    "        return None\n",
    "    \n",
    "    mid = (start + end) // 2\n",
    "    if arr[mid] == value:\n",
    "        return mid\n",
    "    \n",
    "    elif arr[mid] > value:\n",
    "        return binary_search_rec(arr, value, start = start, end = mid)\n",
    "    \n",
    "    else:\n",
    "        return binary_search_rec(arr, value, start = mid + 1, end = length)\n",
    "    \n",
    "    return None"
   ]
  },
  {
   "cell_type": "code",
   "execution_count": 20,
   "metadata": {},
   "outputs": [
    {
     "name": "stdout",
     "output_type": "stream",
     "text": [
      "7\n",
      "7\n"
     ]
    }
   ],
   "source": [
    "array = [1,2,3,4,5,6,7,8,9]\n",
    "num = 8\n",
    "print(binary_search(array, num))\n",
    "print(binary_search_rec(array, num))"
   ]
  },
  {
   "cell_type": "code",
   "execution_count": null,
   "metadata": {},
   "outputs": [],
   "source": []
  },
  {
   "cell_type": "markdown",
   "metadata": {},
   "source": [
    "## Interpolation search\n",
    "Idea - return higher value of pos when searched value closer to arr[hi], and smaller when closer to arr[lo]  \n",
    "pos = lo + [ (x-arr[lo])*(hi-lo) / (arr[hi]-arr[Lo]) ]\n",
    "\n",
    "\n",
    "On average the interpolation search makes about log(log(n)) comparisons (if the elements are uniformly distributed), where n is the number of elements to be searched. In the worst case (for instance where the numerical values of the keys increase exponentially) it can make up to O(n) comparisons\n",
    "\n",
    "O(1) space complexity\n",
    "\n",
    "Usage:\n",
    "improvement over Binary Search for instances, where the values in a sorted array are uniformly distributed. Binary goes to the middle while interpolation may go closer the element to be found. Formula for position:  \n",
    "pos = lo + [ (x-arr[lo])*(hi-lo) / (arr[hi]-arr[Lo]) ]\n",
    "\n",
    "arr[] ==> Array where elements need to be searched  \n",
    "x     ==> Element to be searched  \n",
    "lo    ==> Starting index in arr[]  \n",
    "hi    ==> Ending index in arr[]"
   ]
  },
  {
   "cell_type": "code",
   "execution_count": 11,
   "metadata": {},
   "outputs": [],
   "source": [
    "# If x is present in arr[0..n-1], then returns \n",
    "# index of it, else returns -1 \n",
    "def interpolationSearch(arr, n, x): \n",
    "    # Find indexs of two corners \n",
    "    lo = 0\n",
    "    hi = (n - 1) \n",
    "   \n",
    "    # Since array is sorted, an element present \n",
    "    # in array must be in range defined by corner \n",
    "    while lo <= hi and x >= arr[lo] and x <= arr[hi]: \n",
    "        if lo == hi: \n",
    "            if arr[lo] == x:  \n",
    "                return lo; \n",
    "            return -1; \n",
    "          \n",
    "        # Probing the position with keeping \n",
    "        # uniform distribution in mind. \n",
    "        pos  = lo + int(((float(hi - lo) / \n",
    "            ( arr[hi] - arr[lo])) * ( x - arr[lo]))) \n",
    "  \n",
    "        # Condition of target found \n",
    "        if arr[pos] == x: \n",
    "            return pos \n",
    "   \n",
    "        # If x is larger, x is in upper part \n",
    "        if arr[pos] < x: \n",
    "            lo = pos + 1; \n",
    "   \n",
    "        # If x is smaller, x is in lower part \n",
    "        else: \n",
    "            hi = pos - 1; \n",
    "      \n",
    "    return -1"
   ]
  },
  {
   "cell_type": "code",
   "execution_count": 14,
   "metadata": {},
   "outputs": [
    {
     "name": "stdout",
     "output_type": "stream",
     "text": [
      "Element found at index 4\n"
     ]
    }
   ],
   "source": [
    "# Driver Code \n",
    "# Array of items oin which search will be conducted \n",
    "arr = [10, 12, 13, 16, 18, 19, 20, 21, 22, 23, 24, 33, 35, 42, 47] \n",
    "n = len(arr) \n",
    "  \n",
    "x = 18 # Element to be searched \n",
    "index = interpolationSearch(arr, n, x) \n",
    "  \n",
    "if index != -1: \n",
    "    print(\"Element found at index\", index) \n",
    "else: \n",
    "    print(\"Element not found\")"
   ]
  },
  {
   "cell_type": "markdown",
   "metadata": {},
   "source": [
    "## Jump Search\n",
    "\n",
    "* Time Complexity : O(√n)\n",
    "* Auxiliary Space : O(1)\n",
    "\n",
    "Like Binary Search, Jump Search is a searching algorithm for sorted arrays. The basic idea is to check fewer elements (than linear search) by jumping ahead by fixed steps or skipping some elements in place of searching all elements.\n",
    "\n",
    "For example, suppose we have an array arr[] of size n and block (to be jumped) size m. Then we search at the indexes arr[0], arr[m], arr[2m]…..arr[km] and so on. Once we find the interval (arr[km] < x < arr[(k+1)m]), we perform a linear search operation from the index km to find the element x.\n",
    "\n",
    "Let’s consider the following array: (0, 1, 1, 2, 3, 5, 8, 13, 21, 34, 55, 89, 144, 233, 377, 610). Length of the array is 16. Jump search will find the value of 55 with the following steps assuming that the block size to be jumped is 4.\n",
    "STEP 1: Jump from index 0 to index 4;\n",
    "STEP 2: Jump from index 4 to index 8;\n",
    "STEP 3: Jump from index 8 to index 12;\n",
    "STEP 4: Since the element at index 12 is greater than 55 we will jump back a step to come to index 8.\n",
    "STEP 5: Perform linear search from index 8 to get the element 55.\n",
    "\n",
    "What is the optimal block size to be skipped?\n",
    "In the worst case, we have to do n/m jumps and if the last checked value is greater than the element to be searched for, we perform m-1 comparisons more for linear search. Therefore the total number of comparisons in the worst case will be ((n/m) + m-1). The value of the function ((n/m) + m-1) will be minimum when m = √n. Therefore, the best step size is m = √n.\n",
    "\n",
    "Important points:\n",
    "\n",
    "Works only sorted arrays.\n",
    "The optimal size of a block to be jumped is (√ n). This makes the time complexity of Jump Search O(√ n).\n",
    "The time complexity of Jump Search is between Linear Search ( ( O(n) ) and Binary Search ( O (Log n) ).\n",
    "Binary Search is better than Jump Search, but Jump search has an advantage that we traverse back only once (Binary Search may require up to O(Log n) jumps, consider a situation where the element to be searched is the smallest element or smaller than the smallest). So in a system where binary search is costly, we use Jump Search"
   ]
  },
  {
   "cell_type": "code",
   "execution_count": 17,
   "metadata": {},
   "outputs": [],
   "source": [
    "import math\n",
    "\n",
    "def jumpSearch( arr , x , n ): \n",
    "      \n",
    "    # Finding block size to be jumped \n",
    "    step = math.sqrt(n) \n",
    "      \n",
    "    # Finding the block where element is \n",
    "    # present (if it is present) \n",
    "    prev = 0\n",
    "    while arr[int(min(step, n)-1)] < x: \n",
    "        prev = step \n",
    "        step += math.sqrt(n) \n",
    "        if prev >= n: \n",
    "            return -1\n",
    "      \n",
    "    # Doing a linear search for x in  \n",
    "    # block beginning with prev. \n",
    "    while arr[int(prev)] < x: \n",
    "        prev += 1\n",
    "          \n",
    "        # If we reached next block or end  \n",
    "        # of array, element is not present. \n",
    "        if prev == min(step, n): \n",
    "            return -1\n",
    "      \n",
    "    # If element is found \n",
    "    if arr[int(prev)] == x: \n",
    "        return prev \n",
    "      \n",
    "    return -1"
   ]
  },
  {
   "cell_type": "code",
   "execution_count": 18,
   "metadata": {},
   "outputs": [
    {
     "name": "stdout",
     "output_type": "stream",
     "text": [
      "Number 55 is at index 10\n"
     ]
    }
   ],
   "source": [
    "# Driver code to test function \n",
    "arr = [ 0, 1, 1, 2, 3, 5, 8, 13, 21, \n",
    "    34, 55, 89, 144, 233, 377, 610 ] \n",
    "x = 55\n",
    "n = len(arr) \n",
    "  \n",
    "# Find the index of 'x' using Jump Search \n",
    "index = jumpSearch(arr, x, n) \n",
    "  \n",
    "# Print the index where 'x' is located \n",
    "print(\"Number\" , x, \"is at index\" ,\"%.0f\"%index) "
   ]
  },
  {
   "cell_type": "markdown",
   "metadata": {},
   "source": [
    "## Exponential Search\n",
    "Find range where element is present\n",
    "Do Binary Search in above found range.\n",
    "How to find the range where element may be present?\n",
    "The idea is to start with subarray size 1, compare its last element with x, then try size 2, then 4 and so on until last element of a subarray is not greater.\n",
    "Once we find an index i (after repeated doubling of i), we know that the element must be present between i/2 and i (Why i/2? because we could not find a greater value in previous iteration)\n",
    "\n",
    "Time Complexity : O(Log n)\n",
    "Auxiliary Space : The above implementation of Binary Search is recursive and requires O(Log n) space. With iterative Binary Search, we need only O(1) space.\n",
    "\n",
    "Applications of Exponential Search:\n",
    "\n",
    "Exponential Binary Search is particularly useful for unbounded searches, where size of array is infinite. Please refer Unbounded Binary Search for an example.\n",
    "It works better than Binary Search for bounded arrays, and also when the element to be searched is closer to the first element."
   ]
  },
  {
   "cell_type": "code",
   "execution_count": null,
   "metadata": {},
   "outputs": [],
   "source": [
    "# Returns the position of first \n",
    "# occurrence of x in array \n",
    "def exponentialSearch(arr, n, x): \n",
    "    # IF x is present at first  \n",
    "    # location itself \n",
    "    if arr[0] == x: \n",
    "        return 0\n",
    "          \n",
    "    # Find range for binary search  \n",
    "    # j by repeated doubling \n",
    "    i = 1\n",
    "    while i < n and arr[i] <= x: \n",
    "        i = i * 2\n",
    "      \n",
    "    # Call binary search for the found range \n",
    "    return binarySearch( arr, i / 2,  \n",
    "                         min(i, n), x)"
   ]
  },
  {
   "cell_type": "code",
   "execution_count": null,
   "metadata": {},
   "outputs": [],
   "source": [
    "# Driver Code \n",
    "arr = [2, 3, 4, 10, 40] \n",
    "n = len(arr) \n",
    "x = 10\n",
    "result = exponentialSearch(arr, n, x) \n",
    "if result == -1: \n",
    "    print \"Element not found in thye array\"\n",
    "else: \n",
    "    print \"Element is present at index %d\" %(result) "
   ]
  },
  {
   "cell_type": "markdown",
   "metadata": {},
   "source": [
    "#### Binary vs. Linear\n",
    "* Input data needs to be sorted in Binary Search and not in Linear Search\n",
    "* Linear search does the sequential access whereas Binary search access data randomly.\n",
    "* Time complexity of linear search - O(n) , Binary search has time complexity O(log n).\n",
    "* Linear search performs equality comparisons and Binary search performs ordering comparisons\n",
    "\n",
    "\n",
    "#### Binary search does less comparisons than tertiary\n",
    "The following is recursive formula for counting comparisons in worst case of Binary Search.\n",
    "\n",
    "   T(n) = T(n/2) + 2,  T(1) = 1\n",
    "The following is recursive formula for counting comparisons in worst case of Ternary Search.\n",
    "\n",
    "   T(n) = T(n/3) + 4, T(1) = 1\n",
    "In binary search, there are 2Log2n + 1 comparisons in worst case. In ternary search, there are 4Log3n + 1 comparisons in worst case.\n",
    "\n",
    "Time Complexity for Binary search = 2clog2n + O(1)\n",
    "Time Complexity for Ternary search = 4clog3n + O(1)\n",
    "Therefore, the comparison of Ternary and Binary Searches boils down the comparison of expressions 2Log3n and Log2n . The value of 2Log3n can be written as (2 / Log23) * Log2n . Since the value of (2 / Log23) is more than one, Ternary Search does more comparisons than Binary Search in worst case"
   ]
  },
  {
   "cell_type": "markdown",
   "metadata": {},
   "source": [
    "## Hash Table\n",
    "___\n",
    "\n",
    "Hash Table with Hash Functions (mapping). __Python's dictionary => Hash Table__\n",
    "\n",
    "Methods:\n",
    "\n",
    "* **HashTable()** returns an empty map collection.\n",
    "* **put(key,val)** add a new key-value pair, if key in the map - replace with the new value.\n",
    "* **get(key)** return the value for a given key or None otherwise.\n",
    "* **del** delete key-value pair: del map[key].\n",
    "* **len()** number of key-value pairs \n",
    "* key __in__ map: True if key in map, False otherwise"
   ]
  },
  {
   "cell_type": "markdown",
   "metadata": {},
   "source": [
    "## Hash function\n",
    "Two heuristic methods:\n",
    "\n",
    "__Hashing by division__ (mod method):  \n",
    "Map a key into one of the slots of table by taking the remainder of key divided by table_size:  \n",
    "__h(key) = key % table_size__\n",
    "\n",
    "Fast - single division.  \n",
    "Avoid certain values of table_size: if table_size = r^p, then h(key) is just the p lowest-order bits of key - better off designing the hash function to depend on all the bits of the key unless we know that all low-order p-bit patterns are equally likely.  \n",
    "Best results when table size = prime with additional restriction - if r = number of possible character codes on a computer, and if table_size = prime such that r % table_size = 1, then h(key) = key % table_size is sum of the binary representation of the characters in key % table_size.\n",
    "\n",
    "Example:  \n",
    "Suppose r = 256 and table_size = 17, in which r % table_size i.e. 256 % 17 = 1.  \n",
    "Key = 37596, its hash is 37596 % 17 = 12  \n",
    "But for key = 573, its hash function is also 573 % 12 = 12 - collision\n",
    "\n",
    "A prime not too close to an exact power of 2 is often good choice for table_size.  \n",
    "\n",
    "__Hashing by multiplication__:  \n",
    "Multiply key k by constant real number c, 0 < c < 1, => extract fractional part => multiply this by table_size m and take floor:  \n",
    "__h(k) = floor (m * frac (k * c))__\n",
    "or  \n",
    "h(k) = floor (m * (k * c mod 1))  \n",
    "floor(x) from math.h yields integer part of real number x, and frac(x) yields fractional part (frac(x) = x – floor(x))\n",
    "\n",
    "Value of m is not critical, typically choose a power of 2 (m = 2p for some integer p)  \n",
    "\n",
    "Example:\n",
    "\n",
    "Suppose k = 123456, p = 14,  \n",
    "m = 2^14 = 16384, and w = 32.  \n",
    "Adapting Knuth’s suggestion, c to be fraction of the form s / 2^32.  \n",
    "Then key * s = 327706022297664 = (76300 * 2^32) + 17612864,  \n",
    "So r1 = 76300 and r0 = 176122864.  \n",
    "The 14 most significant bits of r0 yield the value h(key) = 67."
   ]
  },
  {
   "cell_type": "code",
   "execution_count": 7,
   "metadata": {},
   "outputs": [],
   "source": [
    "class HashTable:\n",
    "    \n",
    "    def __init__(self, size):\n",
    "        \n",
    "        # Set up size and keys and values\n",
    "        self.size = size\n",
    "        self.keys = [None] * self.size\n",
    "        self.values = [None] * self.size\n",
    "        \n",
    "    def put(self, key, value):\n",
    "        \n",
    "        #Note, we'll only use integer keys for ease of use with the Hash Function\n",
    "        # Get the hash value\n",
    "        hashvalue = self.hashfunction(key, len(self.keys))\n",
    "\n",
    "        # If key is empty\n",
    "        if self.keys[hashvalue] == None:\n",
    "            self.keys[hashvalue] = key\n",
    "            self.values[hashvalue] = value\n",
    "        \n",
    "        else:\n",
    "            \n",
    "            # If key exists, replace with new value\n",
    "            if self.keys[hashvalue] == key:\n",
    "                self.values[hashvalue] = value  \n",
    "            \n",
    "            # If hashvalue has a different key\n",
    "            else:\n",
    "                \n",
    "                nextkey = self.rehash(hashvalue, len(self.keys))\n",
    "                \n",
    "                # Get to next key\n",
    "                while self.keys[nextkey] != None and self.keys[nextkey] != key:\n",
    "                    nextkey = self.rehash(nextkey, len(self.keys))\n",
    "                \n",
    "                # Set new key, if NONE\n",
    "                if self.keys[nextkey] == None:\n",
    "                    self.keys[nextkey]=key\n",
    "                    self.values[nextkey]=value\n",
    "                    \n",
    "                # Otherwise replace old value\n",
    "                else:\n",
    "                    self.values[nextkey] = value \n",
    "\n",
    "    def hashfunction(self, key, size):\n",
    "                \n",
    "        # Remainder Method\n",
    "        return key%size\n",
    "\n",
    "    def rehash(self, oldhash, size):\n",
    "                \n",
    "        # For finding next possible keys\n",
    "        return (oldhash+1)%size\n",
    "    \n",
    "    \n",
    "    def get(self, key):\n",
    "        \n",
    "        # Get value by key        \n",
    "        # Set up variables for search\n",
    "        startkey = self.hashfunction(key, len(self.keys))\n",
    "        value = None        \n",
    "        found = False\n",
    "        stop = False\n",
    "        position = startkey\n",
    "        \n",
    "        # Until we discern that its not empty or found (and haven't stopped yet)\n",
    "        while self.keys[position] != None and not found and not stop:\n",
    "            \n",
    "            if self.keys[position] == key:\n",
    "                found = True\n",
    "                value = self.values[position]\n",
    "                \n",
    "            else:\n",
    "                position=self.rehash(position, len(self.keys))\n",
    "                                \n",
    "                if position == startkey:                    \n",
    "                    stop = True\n",
    "                                        \n",
    "        return value\n",
    "\n",
    "    # Special Methods for use with Python list indexing\n",
    "    # https://stackoverflow.com/questions/43627405/understanding-getitem-method\n",
    "    def __getitem__(self, key):\n",
    "        return self.get(key)\n",
    "\n",
    "    def __setitem__(self, key, value):\n",
    "        self.put(key, value)"
   ]
  },
  {
   "cell_type": "code",
   "execution_count": 8,
   "metadata": {},
   "outputs": [
    {
     "name": "stdout",
     "output_type": "stream",
     "text": [
      "one\n"
     ]
    }
   ],
   "source": [
    "h = HashTable(5)\n",
    "\n",
    "# Put our first key in\n",
    "h[0] = 'one'\n",
    "h[2] = 'two'\n",
    "h[3] = 'three'\n",
    "print(h[0])"
   ]
  },
  {
   "cell_type": "code",
   "execution_count": 9,
   "metadata": {},
   "outputs": [
    {
     "data": {
      "text/plain": [
       "'new_one'"
      ]
     },
     "execution_count": 9,
     "metadata": {},
     "output_type": "execute_result"
    }
   ],
   "source": [
    "h[1] = 'new_one'\n",
    "h[1]"
   ]
  },
  {
   "cell_type": "code",
   "execution_count": 10,
   "metadata": {},
   "outputs": [
    {
     "name": "stdout",
     "output_type": "stream",
     "text": [
      "None\n"
     ]
    }
   ],
   "source": [
    "print(h[4])"
   ]
  },
  {
   "cell_type": "code",
   "execution_count": 11,
   "metadata": {},
   "outputs": [
    {
     "data": {
      "text/plain": [
       "True"
      ]
     },
     "execution_count": 11,
     "metadata": {},
     "output_type": "execute_result"
    }
   ],
   "source": [
    "'two' in h"
   ]
  },
  {
   "cell_type": "code",
   "execution_count": null,
   "metadata": {},
   "outputs": [],
   "source": []
  },
  {
   "cell_type": "markdown",
   "metadata": {},
   "source": [
    "## Edit Levenshtein Distance\n",
    "https://stackoverflow.com/questions/2460177/edit-distance-in-python\n",
    "https://en.wikibooks.org/wiki/Algorithm_Implementation/Strings/Levenshtein_distance#Python"
   ]
  },
  {
   "cell_type": "code",
   "execution_count": 18,
   "metadata": {},
   "outputs": [],
   "source": [
    "# wiki\n",
    "def levenshtein(s1, s2):\n",
    "    if len(s1) < len(s2):\n",
    "        return levenshtein(s2, s1)\n",
    "\n",
    "    # len(s1) >= len(s2)\n",
    "    if len(s2) == 0:\n",
    "        return len(s1)\n",
    "\n",
    "    previous_row = range(len(s2) + 1)\n",
    "    for i, c1 in enumerate(s1):\n",
    "        current_row = [i + 1]\n",
    "        for j, c2 in enumerate(s2):\n",
    "            insertions    = previous_row[j + 1] + 1       # j+1 instead of j since previous_row and current_row are one char longer            \n",
    "            substitutions = previous_row[j] + (c1 != c2)\n",
    "            deletions     = current_row[j] + 1             # than s2\n",
    "            current_row.append(min(insertions, deletions, substitutions))\n",
    "        previous_row = current_row\n",
    "        print(previous_row)\n",
    "    \n",
    "    return previous_row[-1]"
   ]
  },
  {
   "cell_type": "code",
   "execution_count": 19,
   "metadata": {},
   "outputs": [],
   "source": [
    "# USE THIS ONE (stackoverflow)\n",
    "def levenshtein2(s1, s2):\n",
    "    if len(s1) > len(s2):\n",
    "        s1, s2 = s2, s1\n",
    "\n",
    "    distances = range(len(s1) + 1)\n",
    "    for i2, c2 in enumerate(s2):\n",
    "        distances_ = [i2+1]\n",
    "        for i1, c1 in enumerate(s1):\n",
    "            if c1 == c2:\n",
    "                distances_.append(distances[i1])\n",
    "            else:\n",
    "                distances_.append(1 + min((distances[i1], distances[i1 + 1], distances_[-1])))\n",
    "        distances = distances_\n",
    "    return distances[-1]"
   ]
  },
  {
   "cell_type": "code",
   "execution_count": 20,
   "metadata": {},
   "outputs": [
    {
     "name": "stdout",
     "output_type": "stream",
     "text": [
      "[1, 1, 2]\n",
      "[2, 2, 2]\n",
      "[3, 3, 3]\n",
      "[4, 4, 4]\n",
      "[5, 5, 5]\n",
      "[6, 6, 6]\n",
      "[7, 7, 7]\n",
      "[8, 8, 8]\n",
      "[9, 9, 9]\n",
      "[10, 10, 10]\n",
      "[11, 10, 11]\n"
     ]
    },
    {
     "data": {
      "text/plain": [
       "11"
      ]
     },
     "execution_count": 20,
     "metadata": {},
     "output_type": "execute_result"
    }
   ],
   "source": [
    "levenshtein('aborigenous', 'sc')"
   ]
  },
  {
   "cell_type": "code",
   "execution_count": 17,
   "metadata": {},
   "outputs": [
    {
     "data": {
      "text/plain": [
       "11"
      ]
     },
     "execution_count": 17,
     "metadata": {},
     "output_type": "execute_result"
    }
   ],
   "source": [
    "levenshtein2('aborigenous', 'sc')"
   ]
  },
  {
   "cell_type": "code",
   "execution_count": null,
   "metadata": {},
   "outputs": [],
   "source": []
  },
  {
   "cell_type": "markdown",
   "metadata": {},
   "source": [
    "## Appendix"
   ]
  },
  {
   "cell_type": "markdown",
   "metadata": {},
   "source": [
    "## Selection Sort\n",
    "Based on https://github.com/agnedil/Code-Python-Algorithms-Notebooks/blob/master/ipython_nbs/sorting/selection_sort.ipynb\n",
    "\n",
    "* One of the **simplest** and classic sorting algorithms.\n",
    "* Complexity of __O(n^2)__ (list of n elements is sorted n times).\n",
    "* In-place sorting of an array:\n",
    "  * **Find the smallest element** in $[array[1] : array[n]]$ and **swap it with array[0]** if it is < $array[0]$;\n",
    "  * **Repeat** the same, but for $array[n-1]$, swapping with $array[1]$, and so on.\n",
    "* First iteration checks n elements, second iteration checks n-1 elements, third - n-2, and so forth => # of checks is $n\\times 1/2 \\times n$. But Big O omits constants => $O(n^2)$ instead of $O(n\\times 1/2 \\times n)$."
   ]
  },
  {
   "cell_type": "code",
   "execution_count": 10,
   "metadata": {},
   "outputs": [],
   "source": [
    "# sorting f(x)\n",
    "def selection_sort(myarr):\n",
    "    \n",
    "    # iterate over the array\n",
    "    for i in range (len(myarr)-1):\n",
    "        min_idx = i + 1\n",
    "        \n",
    "        # find the smallest element on the right excluding the leftmost element\n",
    "        for j in range(i + 2, len(myarr)):\n",
    "            if myarr[j] < myarr[min_idx]:\n",
    "                min_idx = j\n",
    "                \n",
    "        # compare the smallest element found on the right w/the leftmost element and swap if smaller\n",
    "        if myarr[min_idx] < myarr[i]:\n",
    "            myarr[min_idx], myarr[i] = myarr[i], myarr[min_idx]\n",
    "            \n",
    "    return myarr"
   ]
  },
  {
   "cell_type": "code",
   "execution_count": 21,
   "metadata": {},
   "outputs": [
    {
     "name": "stdout",
     "output_type": "stream",
     "text": [
      "[8, 7, 4, 2, 1, 25, 29, 38, 45, 5, 101, 97, 73, 74, 72, 55] =>  [1, 2, 4, 5, 7, 8, 25, 29, 38, 45, 55, 72, 73, 74, 97, 101]\n",
      "[8, 7, 4, 2, 1] =>  [1, 2, 4, 7, 8]\n",
      "[8, 7, 2, 11] =>  [2, 7, 8, 11]\n",
      "[8, 7] =>  [7, 8]\n"
     ]
    }
   ],
   "source": [
    "# test sorting f(x)\n",
    "a, b, c, d = [8, 7, 4, 2, 1, 25, 29, 38, 45, 5, 101, 97, 73, 74, 72, 55], [8, 7, 4, 2, 1], [8, 7, 2, 11], [8, 7]\n",
    "for arr in [a, b, c, d]:\n",
    "    print(arr, end=' ')\n",
    "    print('=> ', merge_sort(arr))"
   ]
  },
  {
   "cell_type": "code",
   "execution_count": null,
   "metadata": {},
   "outputs": [],
   "source": [
    "# Facebook\n",
    "Find kth Smallest Value Among m Sorted Arrays\n",
    "\n",
    "You have m arrays of sorted integers. The sum of the array lengths is n. Find the kth smallest value of all the values.\n",
    "\n",
    "For exmaple, if m = 3, n=8, and we have these lists:\n",
    "\n",
    "list1 = [3,6,9]\n",
    "list2 = [8,15]\n",
    "list3 = [4, 7, 12]\n",
    "\n",
    "if k = 1, then returned value should be 3\n",
    "if k = 2, then returned value should be 4\n",
    "if k = 3, then returned value should be 6\n",
    "\n",
    "# 1- brute foce: combine all arrays and find kth smallest: O(n)\n",
    "list1 = [3,6,9]\n",
    "list2 = [8,15]\n",
    "list3 = [4, 7, 12]\n",
    "\n",
    "\n",
    "input = [\n",
    "    [8,15],\n",
    "    [4],\n",
    "    [5,6,9], \n",
    "]\n",
    "# 4,5, 6, 7, 8, 15\n",
    "k = 2\n",
    "\n",
    "\n",
    "input = [\n",
    "    [],\n",
    "    [],\n",
    "    [], \n",
    "]\n",
    "k = 5\n",
    "\n",
    "def find_kth(input, k):\n",
    "    \n",
    "    for idx, array in enumerate(input):\n",
    "        if not array:\n",
    "            input.remove(idx)\n",
    "    \n",
    "    if not input:\n",
    "        raise exception\n",
    "        #return None\n",
    "\n",
    "    array_lengths = [len(item) for item in input]    \n",
    "    temp_array = []\n",
    "    \n",
    "    for i in range(k):\n",
    "        min_len = min(array_lenths)\n",
    "        if k = min_len:\n",
    "            idx = array_lengths.index(min_len)\n",
    "            input.remove(idx)            \n",
    "        temp_array.extend([item[i] for item in input])\n",
    "        \n",
    "    temp_array = sorted(temp_array)   \n",
    "        \n",
    "        \n",
    "        \n",
    "    return temp_array[k-1]\n",
    "    \n",
    "Complexity: nlogn, space: O(n)"
   ]
  },
  {
   "cell_type": "code",
   "execution_count": null,
   "metadata": {},
   "outputs": [],
   "source": []
  }
 ],
 "metadata": {
  "kernelspec": {
   "display_name": "Python 3",
   "language": "python",
   "name": "python3"
  },
  "language_info": {
   "codemirror_mode": {
    "name": "ipython",
    "version": 3
   },
   "file_extension": ".py",
   "mimetype": "text/x-python",
   "name": "python",
   "nbconvert_exporter": "python",
   "pygments_lexer": "ipython3",
   "version": "3.8.5"
  }
 },
 "nbformat": 4,
 "nbformat_minor": 2
}
