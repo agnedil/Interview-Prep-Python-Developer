{
 "cells": [
  {
   "cell_type": "code",
   "execution_count": null,
   "id": "2c2a9218",
   "metadata": {},
   "outputs": [],
   "source": []
  },
  {
   "cell_type": "markdown",
   "id": "93bd5761",
   "metadata": {},
   "source": [
    "## From the `algo03_bigO...` Notebook"
   ]
  },
  {
   "cell_type": "markdown",
   "id": "e9021706",
   "metadata": {},
   "source": [
    "### Complexity classes\n",
    "* O(1) constant-time algo - __no dependency on input size__. E.g. __formula__ calculating an answer OR __list[idx]__.\n",
    "* O(logn) algo __halves / reduces input size at each step__. Logarithmic because (log2 n) = # times to divide n by 2 to get 1.\n",
    "* O(sqrt(n)) _slower than O(logn), but faster than O(n)_; sqrt(n) = sqrt(n) / n, so sqrt(n) lies __in the middle of input__.\n",
    "* O(n) __iteration over the input__ - accessing each input element at least once before reporting the answer.\n",
    "* O(nlogn) often indicates that algo __sorts the input__ OR algo uses __data structure__ where _each operation takes O(logn) time_.\n",
    "* O(n^2) two __nested__ loops\n",
    "* O(n^3) three __nested__ loops. \n",
    "* O(2^n) algo iterates through __all subsets of input elements__. E.g. subsets of {1,2,3}: _{1}, {2}, {3}, {1,2}, {1,3}, {2,3} and {1,2,3}_.\n",
    "* O(n!) algo iterates through __all permutations of input elements__. E.g. permutations of {1,2,3}: _(1,2,3), (1,3,2), (2,1,3), (2,3,1), (3,1,2) and (3,2,1)_.\n",
    "\n",
    "__Polynomial algo__ - time complexity of __O(n^k)__ where k is const; if k small - algo efficient. All above except O(2^n) and O(n!) are polynomial.\n",
    "There are many important problems with __no known polynomial (=efficient) algo__, e.g. __NP-hard__ problems"
   ]
  },
  {
   "cell_type": "code",
   "execution_count": null,
   "id": "444b624b",
   "metadata": {},
   "outputs": [],
   "source": []
  },
  {
   "cell_type": "markdown",
   "id": "84660e2d",
   "metadata": {},
   "source": [
    "## From the Facebook Notebook"
   ]
  },
  {
   "cell_type": "markdown",
   "id": "a0df1950",
   "metadata": {},
   "source": [
    "## Linked Lists"
   ]
  },
  {
   "cell_type": "markdown",
   "id": "4ff21836",
   "metadata": {},
   "source": [
    "### 2. Add Two Numbers (as linked list)"
   ]
  },
  {
   "cell_type": "code",
   "execution_count": 1,
   "id": "1025e3f7",
   "metadata": {},
   "outputs": [],
   "source": [
    "# t.c. = s.c. = O(max(n, m))\n",
    "def addTwoNumbers(l1: Node, l2: Node) -> Node:\n",
    "    prehead = Node(0)                        # A dummy head to simplify handling the result.\n",
    "    current = prehead                        # Pointer to construct the new list.\n",
    "    carry = 0                                # carry from each addition   \n",
    "    while l1 or l2 or carry:                 # Traverse both lists until exhausted.\n",
    "        val1 = l1.val if l1 else 0           # If either list ran out of digits, use 0\n",
    "        val2 = l2.val if l2 else 0\n",
    "        total = val1 + val2 + carry\n",
    "        carry = total // 10                  # New carry\n",
    "        new_digit = total % 10\n",
    "        current.next = Node(new_digit)\n",
    "        current = current.next        \n",
    "        if l1: l1 = l1.next                  # Move to the next nodes\n",
    "        if l2: l2 = l2.next    \n",
    "    return prehead.next                      # Return head of new list"
   ]
  },
  {
   "cell_type": "markdown",
   "id": "37e33668",
   "metadata": {},
   "source": [
    "### 21. Merge Two Sorted Lists"
   ]
  },
  {
   "cell_type": "code",
   "execution_count": null,
   "id": "9112a4c2",
   "metadata": {},
   "outputs": [],
   "source": [
    "# t.c. O(n+m), s.c. O(1)\n",
    "from typing import Optional\n",
    "def mergeTwoLists(l1: Optional[ListNode],\n",
    "                  l2: Optional[ListNode],\n",
    "                 ) -> Optional[ListNode]:\n",
    "    prehead = ListNode(0)\n",
    "    current = prehead\n",
    "    while l1 and l2:\n",
    "        if l1.val <= l2.val:\n",
    "            current.next = l1 #entire node\n",
    "            l1 = l1.next\n",
    "        else:\n",
    "            current.next = l2\n",
    "            l2 = l2.next            \n",
    "        current = current.next\n",
    "    # l1 or l2 can still have nodes\n",
    "    current.next = l1 if l1 else l2                 \n",
    "    return prehead.next"
   ]
  },
  {
   "cell_type": "markdown",
   "id": "3cb91526",
   "metadata": {},
   "source": [
    "### 138. Copy List with Random Pointer"
   ]
  },
  {
   "cell_type": "code",
   "execution_count": 3,
   "id": "cda1e2e5",
   "metadata": {},
   "outputs": [],
   "source": [
    "# t.c.=O(n), s.c.=O(n)\n",
    "from collections import defaultdict\n",
    "class Node:\n",
    "    def __init__(self,x,next=None,random=None):\n",
    "        self.val = int(x)\n",
    "        self.next = next\n",
    "        self.random = random\n",
    "def copyRandomList(head: Node) -> Node:       \n",
    "        # Nodes as keys, their copies as values\n",
    "        node_map = defaultdict(lambda: None)\n",
    "        curr = head #Fill node_map\n",
    "        while curr:\n",
    "            node_map[curr] = Node(curr.val)\n",
    "            curr = curr.next        \n",
    "        # Update pointers of copied nodes\n",
    "        curr = head\n",
    "        while curr:\n",
    "            dup = node_map[curr]\n",
    "            dup.next = node_map[curr.next]\n",
    "            dup.random = node_map[curr.random]\n",
    "            curr = curr.next           \n",
    "        return node_map[head]"
   ]
  },
  {
   "cell_type": "code",
   "execution_count": null,
   "id": "fd499bfa",
   "metadata": {},
   "outputs": [],
   "source": []
  },
  {
   "cell_type": "markdown",
   "id": "25e0bce2",
   "metadata": {},
   "source": [
    "## Binary Trees"
   ]
  },
  {
   "cell_type": "markdown",
   "id": "2545671b",
   "metadata": {},
   "source": [
    "### 938. Range Sum of BST"
   ]
  },
  {
   "cell_type": "code",
   "execution_count": 30,
   "id": "b34fbd50",
   "metadata": {},
   "outputs": [],
   "source": [
    "# t.c.O(n), s.c.O(n) best O(logn) if balanced\n",
    "def range_sum(root,low,high):    \n",
    "    if root is None: return 0    \n",
    "    res = 0    \n",
    "    if root.val < low:\n",
    "        res += range_sum(root.right,\n",
    "                         low, high)\n",
    "    elif root.val > high:\n",
    "        res += range_sum(root.left,\n",
    "                         low, high)\n",
    "    else:\n",
    "        res += root.val +\\\n",
    "               range_sum(root.left,low,high) +\\\n",
    "               range_sum(root.right,low,high)     \n",
    "    return res"
   ]
  },
  {
   "cell_type": "markdown",
   "id": "814ffac5",
   "metadata": {},
   "source": [
    "### 426. Convert BST to Sorted Circular Doubly LL\n",
    "__(FB Favorite. Toposort, graph traversal r favs too)__  \n",
    "In circular doubly linked list - predecessor of first elem  \n",
    "is last element; successor of last elem is first elem.  \n",
    "Inorder trav.: L->node->R, linking all nodes into DLL"
   ]
  },
  {
   "cell_type": "code",
   "execution_count": null,
   "id": "9448e5b2",
   "metadata": {},
   "outputs": [],
   "source": [
    "# t.c.=O(n),s.c.=O(h) (O(n) worst if tree skewed,\n",
    "# but O(logn) on avg\n",
    "def treeToDoublyList(root):\n",
    "    def helper(node):\n",
    "        nonlocal last, first\n",
    "        if node:\n",
    "            helper(node.left) #left\n",
    "            if last:          # node                    \n",
    "                # link prev node (last) w/node\n",
    "                last.right, node.left= node, last\n",
    "            else:                    \n",
    "                # memorize 1st smallest node\n",
    "                first = node \n",
    "            last = node\n",
    "            helper(node.right) #right\n",
    "    if not root:\n",
    "        return None\n",
    "    # smallest (1st) & largest (last) nodes\n",
    "    first, last = None, None\n",
    "    helper(root)\n",
    "    last.right,first.left = first,last # close DLL\n",
    "    return first"
   ]
  },
  {
   "cell_type": "markdown",
   "id": "da1235e1",
   "metadata": {},
   "source": [
    "### 114. Flatten Binary Tree to Linked List"
   ]
  },
  {
   "cell_type": "code",
   "execution_count": null,
   "id": "1e45f8d1",
   "metadata": {},
   "outputs": [],
   "source": [
    "# recursive, t.c. O(n), s.c. O(n)\n",
    "def flattenTree(node):        \n",
    "    if not node:\n",
    "        return None        \n",
    "    if not node.left and not node.right:                                \n",
    "        return node # if leaf node, return node\n",
    "    left  = flattenTree(node.left)\n",
    "    right = flattenTree(node.right)\n",
    "    if left: # If left subtree, modify connect-s\n",
    "        left.right = node.right\n",
    "        node.right = node.left\n",
    "        node.left = None\n",
    "    # once re-wired, return \"rightmost\" node        \n",
    "    return right if right else left          \n",
    "\n",
    "# modifies in-place\n",
    "def flatten(self, root: TreeNode) -> None:    \n",
    "    flattenTree(root)"
   ]
  },
  {
   "cell_type": "markdown",
   "id": "38134db1-15d0-4d52-a850-75864b3dbe38",
   "metadata": {},
   "source": [
    "### 114. Flatten Binary Tree to Linked List"
   ]
  },
  {
   "cell_type": "code",
   "execution_count": null,
   "id": "886e8c73",
   "metadata": {},
   "outputs": [],
   "source": [
    "# Iterative in-place, t.c. O(n), s.c. O(1)\n",
    "def flatten(self, root: TreeNode) -> None: \n",
    "    if not root:    \n",
    "        return None\n",
    "    node = root\n",
    "    while node:            \n",
    "        if node.left:             \n",
    "            rightmost = node.left # find rightmost node\n",
    "            while rightmost.right:\n",
    "                rightmost = rightmost.right\n",
    "            rightmost.right = node.right #rewire connect-s\n",
    "            node.right = node.left\n",
    "            node.left = None            \n",
    "        node = node.right # move on to right side of tree"
   ]
  },
  {
   "cell_type": "markdown",
   "id": "dd6c17c1",
   "metadata": {},
   "source": [
    "### 199. BT Right Side View (Top2Bottom)"
   ]
  },
  {
   "cell_type": "code",
   "execution_count": null,
   "id": "6a4348ea",
   "metadata": {},
   "outputs": [],
   "source": [
    "# t.c.O(n), s.c.O(h)=rec.stack\n",
    "# average logn, worst n\n",
    "def rightSideView(root):\n",
    "    if root is None:\n",
    "        return []\n",
    "    def helper(node, level):\n",
    "        if level == len(rightside):\n",
    "            rightside.append(node.val)\n",
    "        for child in [node.right,\n",
    "                      node.left]:\n",
    "            if child:\n",
    "                helper(child, level+1)\n",
    "    rightside = []\n",
    "    helper(root, 0)\n",
    "    return rightside"
   ]
  },
  {
   "cell_type": "code",
   "execution_count": null,
   "id": "aa2eecbf",
   "metadata": {},
   "outputs": [],
   "source": []
  },
  {
   "cell_type": "markdown",
   "id": "c02849ff",
   "metadata": {},
   "source": [
    "### 257. BT: All Root-to-Leaf Paths\n",
    "Leaf = node with no children. __Space c.__ O(n)  \n",
    "__T.c.__ _O(n) traversing_ + _str concat_ which in  \n",
    "worst case - skewed tree = each path has length n  \n",
    "so total t.c. can be __O(n^2)__"
   ]
  },
  {
   "cell_type": "code",
   "execution_count": null,
   "id": "d8855b78",
   "metadata": {},
   "outputs": [],
   "source": [
    "# recursive\n",
    "def binaryTreePaths(root):\n",
    "    def get_path(root, path):\n",
    "        if root:\n",
    "            path += str(root.val)\n",
    "            if not root.left and not root.right:\n",
    "                paths.append(path) # reached leaf\n",
    "            else:\n",
    "                path += '->'\n",
    "                get_path(root.left, path)\n",
    "                get_path(root.right, path)\n",
    "    paths = []\n",
    "    get_path(root, '')\n",
    "    return paths\n",
    "\n",
    "# iterative\n",
    "def binaryTreePaths(root):\n",
    "    if not root: return []\n",
    "    paths = []\n",
    "    stack = [(root, str(root.val))]\n",
    "    while stack:\n",
    "        node, path = stack.pop()\n",
    "        if not node.left and not node.right:\n",
    "            paths.append(path)\n",
    "        if node.left:\n",
    "            stack.append((node.left, path + '->' +\\\n",
    "                          str(node.left.val)))\n",
    "        if node.right:\n",
    "            stack.append((node.right, path + '->' +\\\n",
    "                          str(node.right.val)))\n",
    "    return paths"
   ]
  },
  {
   "cell_type": "markdown",
   "id": "e79783d3",
   "metadata": {},
   "source": [
    "### 543. Diameter of Binary Tree\n",
    "Longest path (# edges) betw. any two nodes (thru or not thru root)"
   ]
  },
  {
   "cell_type": "code",
   "execution_count": null,
   "id": "a1afaa1c",
   "metadata": {},
   "outputs": [],
   "source": [
    "# t.c.=O(n), s.c.=O(n)\n",
    "def diameterOfBinaryTree(root: TreeNode) -> int:\n",
    "    def longest_path(node):\n",
    "        if not node: return 0\n",
    "        nonlocal diameter\n",
    "        left_path  = longest_path(node.left)\n",
    "        right_path = longest_path(node.right)\n",
    "        diameter = max(diameter, left_path+right_path)\n",
    "        # add 1 for connection to parent\n",
    "        return max(left_path, right_path) + 1\n",
    "    diameter = 0\n",
    "    longest_path(root)\n",
    "    return diameter"
   ]
  },
  {
   "cell_type": "markdown",
   "id": "bbbf74b8",
   "metadata": {},
   "source": [
    "### Insert Number into BST"
   ]
  },
  {
   "cell_type": "code",
   "execution_count": null,
   "id": "eb60b110",
   "metadata": {},
   "outputs": [],
   "source": [
    "# t.c.=s.c.=O(n) worst, O(logn) avg\n",
    "def insert(root, data):\n",
    "    # Base case found where to insert\n",
    "    if root is None:\n",
    "        return TreeNode(data)\n",
    "    if data < root.data:\n",
    "        root.left = insert(root.left, data)\n",
    "    else:\n",
    "        root.right = insert(root.right, data) \n",
    "    # Return (unchanged) root pointer\n",
    "    return root"
   ]
  },
  {
   "cell_type": "code",
   "execution_count": null,
   "id": "05b710cc",
   "metadata": {},
   "outputs": [],
   "source": []
  },
  {
   "cell_type": "markdown",
   "id": "c2e0cb07",
   "metadata": {},
   "source": [
    "## Graphs"
   ]
  },
  {
   "cell_type": "markdown",
   "id": "a59cc827",
   "metadata": {},
   "source": [
    "### 133. Clone Connected Undirected Graph"
   ]
  },
  {
   "cell_type": "code",
   "execution_count": 5,
   "id": "ab732c5b",
   "metadata": {},
   "outputs": [],
   "source": [
    "# t.c. O(n+m),n=nodes,m=edges s.c. O(n)\n",
    "# Approach: BFS where visited is dict[curr_node] = cloned_node\n",
    "class Node:\n",
    "    def __init__(self, val=0, neighbors=None):\n",
    "        self.val = val\n",
    "        self.neighbors = neighbors if neighbors is not None else []        \n",
    "def cloneGraph(start: Node) -> Node:\n",
    "    if not start:\n",
    "        return start\n",
    "    visited, queue = {}, [start] # Dict[visited node] = clone\n",
    "    visited[start] = Node(start.val, []) # Clone start\n",
    "    while queue:\n",
    "        vertex = queue.pop(0)\n",
    "        for neighbor in vertex.neighbors: # Iterate neighbors\n",
    "            if neighbor not in visited:\n",
    "                visited[neighbor] = Node(neighbor.val, [])#Clone neighb\n",
    "                queue.append(neighbor)\n",
    "            # Append cloned neighbor\n",
    "            visited[vertex].neighbors.append(visited[neighbor])\n",
    "    return visited[start]\n"
   ]
  },
  {
   "cell_type": "markdown",
   "id": "8369ac1b",
   "metadata": {},
   "source": [
    "### 200. Number of Islands\n",
    "2D grid of '1's (land) and '0's (water). Return # islands.  \n",
    "Adjacent '1' land plots connected horiz. or vertically.  \n",
    "__Time c.__=O(m\\*n), __Space c.__=O(m\\*n) due to recursion stack.  \n",
    "Each recursive call contains:\n",
    "* func’s local vars (indices i and j).\n",
    "* pointer to the grid.\n",
    "* return address, etc."
   ]
  },
  {
   "cell_type": "code",
   "execution_count": 8,
   "id": "9eb2c919",
   "metadata": {},
   "outputs": [],
   "source": [
    "def numIslands(grid):\n",
    "    if not grid:\n",
    "        return 0        \n",
    "    count = 0\n",
    "    for i in range(len(grid)):\n",
    "        for j in range(len(grid[0])):\n",
    "            # island found\n",
    "            if grid[i][j] == '1':\n",
    "                count += 1\n",
    "                # delete found island                \n",
    "                dfs(grid, i, j)\n",
    "    return count\n",
    "\n",
    "def dfs(grid, i, j):\n",
    "    ''' Delete found island '''\n",
    "    if i<0 or j<0 or i>=len(grid) or\\\n",
    "    j>=len(grid[0]) or grid[i][j] != '1':\n",
    "        return\n",
    "    grid[i][j] = '#' #anything, but '1'\n",
    "    dfs(grid, i+1, j)\n",
    "    dfs(grid, i-1, j)\n",
    "    dfs(grid, i, j+1)\n",
    "    dfs(grid, i, j-1)"
   ]
  },
  {
   "cell_type": "code",
   "execution_count": 9,
   "id": "29e788d3",
   "metadata": {},
   "outputs": [
    {
     "name": "stdout",
     "output_type": "stream",
     "text": [
      "3\n"
     ]
    }
   ],
   "source": [
    "grid = [ [\"1\",\"1\",\"0\",\"0\",\"0\"],\n",
    "         [\"1\",\"1\",\"0\",\"0\",\"0\"],\n",
    "         [\"0\",\"0\",\"1\",\"0\",\"0\"],\n",
    "         [\"0\",\"0\",\"0\",\"1\",\"1\"], ]\n",
    "print(numIslands(grid))"
   ]
  },
  {
   "cell_type": "markdown",
   "id": "a10e7449",
   "metadata": {},
   "source": [
    "### 269. Alien Dictionary (FB!)\n",
    "* Alien language uses Eng ABC w/unknown order of letters\n",
    "* You have list of strings - words sorted lexicographically.\n",
    "* Return string of unique letters sorted lexicographically increasing\n",
    "* No solution - return \"\". Multiple solutions - return any.\n",
    "* 'abc' < 'abd', 'abc' < 'abcd'\n",
    "* __Solution__: a) BFS + get letter dependencies, b) toposort\n",
    "* __Time c. O(C)__ where C - total length of all words in input list\n",
    "* __Space c. O(1)__ or O(U + \\min(U^2, N))O(U+min(U"
   ]
  },
  {
   "cell_type": "code",
   "execution_count": null,
   "id": "06d8e188",
   "metadata": {},
   "outputs": [],
   "source": [
    "def alienOrder(words):\n",
    "    # BFS + letter dependencies as adj_list\n",
    "    adj_list  = defaultdict(set)   # adj_list for each letter\n",
    "    # in_degree of each unique letter    \n",
    "    in_degree = Counter({c:0 for word in words for c in word})\n",
    "    for first_word, second_word in zip(words, words[1:]):\n",
    "        for c, d in zip(first_word, second_word):\n",
    "            if c != d:    # c comes before d\n",
    "                if d not in adj_list[c]:\n",
    "                    adj_list[c].add(d)\n",
    "                    in_degree[d] += 1\n",
    "                break\n",
    "        else:\n",
    "            # agaist rules - shorter word should be first\n",
    "            if len(second_word) < len(first_word): return ''\n",
    "    # TOPOLOGICAL SORT\n",
    "    output = []\n",
    "    queue = deque([c for c in in_degree if in_degree[c] == 0])\n",
    "    while queue: \n",
    "        c = queue.popleft()\n",
    "        output.append(c)\n",
    "        for d in adj_list[c]:\n",
    "            in_degree[d] -= 1\n",
    "            if in_degree[d] == 0:\n",
    "                queue.append(d)\n",
    "    # not all letters in output - cycle => no valid ordering\n",
    "    if len(output) < len(in_degree):\n",
    "        return ''\n",
    "    return ''.join(output)"
   ]
  },
  {
   "cell_type": "code",
   "execution_count": null,
   "id": "ff75cd63",
   "metadata": {},
   "outputs": [],
   "source": []
  },
  {
   "cell_type": "markdown",
   "id": "268ac14e",
   "metadata": {},
   "source": [
    "## Miscellaneous"
   ]
  },
  {
   "cell_type": "markdown",
   "id": "9f796a5d",
   "metadata": {},
   "source": [
    "### Iterative Factorial"
   ]
  },
  {
   "cell_type": "code",
   "execution_count": null,
   "id": "1493ded2",
   "metadata": {},
   "outputs": [],
   "source": [
    "# t.c. O(n), s.c. O(1) \n",
    "def factorial(n):\n",
    "    if n < 0:\n",
    "        raise ValueError(\"m\")\n",
    "    result = 1\n",
    "    for i in range(1, n + 1):\n",
    "        result *= i\n",
    "    return result"
   ]
  },
  {
   "cell_type": "code",
   "execution_count": null,
   "id": "d85b664b",
   "metadata": {},
   "outputs": [],
   "source": []
  },
  {
   "cell_type": "markdown",
   "id": "28aaa636",
   "metadata": {},
   "source": [
    "## Multiply strings"
   ]
  },
  {
   "cell_type": "code",
   "execution_count": 2,
   "id": "ba0aaaa0",
   "metadata": {},
   "outputs": [
    {
     "data": {
      "text/plain": [
       "'56088'"
      ]
     },
     "execution_count": 2,
     "metadata": {},
     "output_type": "execute_result"
    }
   ],
   "source": [
    "# GET NUMBER FROM CHAR: ord(char) - ord('0')\n",
    "def multiply_strings(num1, num2):\n",
    "    res = 0\n",
    "    for i, c1 in enumerate(num1[::-1]):\n",
    "        for j, c2 in enumerate(num2[::-1]):\n",
    "            res += (ord(c1)-ord('0')) *\\\n",
    "                   (ord(c2)-ord('0')) *\\\n",
    "                   (10**(i+j))\n",
    "    return str(res)    \n",
    "num1, num2 = '123', '456'\n",
    "multiply_strings(num1, num2)       # '56088'"
   ]
  },
  {
   "cell_type": "markdown",
   "id": "27af76b5",
   "metadata": {},
   "source": [
    "## Longest Substr. w/Unique Chars"
   ]
  },
  {
   "cell_type": "code",
   "execution_count": null,
   "id": "00f125b9",
   "metadata": {},
   "outputs": [],
   "source": [
    "def lengthOfLongestSubstring2(s):\n",
    "    mapp = {c:0 for c in s}\n",
    "    left = 0\n",
    "    max_len = 0\n",
    "    for right, c in enumerate(s):\n",
    "        mapp[c] += 1\n",
    "        while mapp[c] > 1:\n",
    "            mapp[ s[left] ] -= 1\n",
    "            left += 1\n",
    "        max_len = max(max_len,\n",
    "                      right-left+1)\n",
    "    return max_len"
   ]
  },
  {
   "cell_type": "markdown",
   "id": "6198eb36",
   "metadata": {},
   "source": [
    "## Longest Substr. w/K Chars"
   ]
  },
  {
   "cell_type": "code",
   "execution_count": null,
   "id": "b0454623",
   "metadata": {},
   "outputs": [],
   "source": [
    "# Time c. O(n), space c. O(1)\n",
    "# At most k distinct characters\n",
    "def LongestSubstring(s, k):\n",
    "    n = len(s)\n",
    "    if n*k==0:\n",
    "        return 0\n",
    "    l, r = 0, 0\n",
    "    mapp = dict()\n",
    "    max_len = 2\n",
    "    for c in s:\n",
    "        mapp[ s[r] ] = r\n",
    "        r += 1\n",
    "        if len(mapp) == k+1:\n",
    "            del_idx = min(mapp.values())\n",
    "            del mapp[ s[del_idx] ]\n",
    "            l = del_idx + 1\n",
    "        max_len = max(max_len, r - l)\n",
    "    return max_len"
   ]
  },
  {
   "cell_type": "markdown",
   "id": "e1a05198",
   "metadata": {},
   "source": [
    "## Minimum Window Substring"
   ]
  },
  {
   "cell_type": "code",
   "execution_count": 3,
   "id": "b3b7cd59",
   "metadata": {},
   "outputs": [],
   "source": [
    "# time/space c. O(n+m)\n",
    "# min. contig. substr. of s w/all chars from t\n",
    "from collections import Counter\n",
    "def minWindow(s, t):\n",
    "    if not t or not s:\n",
    "        return ''\n",
    "    # unique chars in t and curr window\n",
    "    dict_t = Counter(t)\n",
    "    curr = {}\n",
    "    len_t  = len(dict_t)    \n",
    "    len_curr  = 0             \n",
    "    l,r = 0,0\n",
    "    # length, l, r\n",
    "    res = float('inf'), None, None\n",
    "    while r < len(s):\n",
    "        char = s[r]\n",
    "        curr[ char ] = curr.get(char, 0) + 1\n",
    "        if char in dict_t and\\\n",
    "        curr[char] == dict_t[char]:\n",
    "            len_curr += 1\n",
    "        while l <= r and len_curr == len_t:\n",
    "            char = s[l]\n",
    "            if r - l + 1 < res[0]:\n",
    "                res = (r - l + 1, l, r)\n",
    "            curr[ char ] -= 1\n",
    "            if char in dict_t and\\\n",
    "            curr[char] < dict_t[char]:\n",
    "                len_curr -= 1\n",
    "            l += 1\n",
    "        r += 1\n",
    "    return '' if res[0]==float('inf') else\\\n",
    "           s[res[1]:res[2]+1]"
   ]
  },
  {
   "cell_type": "code",
   "execution_count": null,
   "id": "9c6931d4",
   "metadata": {},
   "outputs": [],
   "source": []
  },
  {
   "cell_type": "markdown",
   "id": "7b17807c",
   "metadata": {},
   "source": [
    "## Median of Two Sorted Arrays"
   ]
  },
  {
   "cell_type": "code",
   "execution_count": null,
   "id": "44ea4850",
   "metadata": {},
   "outputs": [],
   "source": [
    "# time O(log(min(N,M)), space O(1). BIN SEARCH\n",
    "def median(nums1, nums2):\n",
    "    # capture edge cases\n",
    "    if len(nums2) < len(nums1):\n",
    "        nums1, nums2 = nums2, nums1\n",
    "    total = len(nums1) + len(nums2)\n",
    "    half = total // 2\n",
    "    l, r = 0, len(nums1)-1    \n",
    "    # median is guaranteed\n",
    "    while True:\n",
    "        i = (l + r) // 2    # for nums1\n",
    "        # subtr. 2 - j starts at 0, i starts at 0\n",
    "        j = half - i - 2    # for nums2        \n",
    "        # overflow of indices\n",
    "        nums1_left  = nums1[i] if i >= 0 else float(\"-inf\")\n",
    "        nums1_right = nums1[i+1] if (i+1) < len(nums1) else float(\"inf\")\n",
    "        nums2_left  = nums2[j] if j >= 0 else float(\"-inf\")\n",
    "        nums2_right = nums2[j+1] if (j+1) < len(nums2) else float(\"inf\")\n",
    "        # if correct partition is found\n",
    "        if nums1_left <= nums2_right and nums2_left <= nums1_right:\n",
    "            if total % 2:\n",
    "                return min(nums1_right, nums2_right)\n",
    "            else:\n",
    "                return ( max(nums1_left, nums2_left) +\\\n",
    "                         min(nums1_right, nums2_right) ) / 2\n",
    "        # if no correct partition - arrays are in ascending order\n",
    "        elif nums1_left > nums2_right:\n",
    "            r = i - 1\n",
    "        else:\n",
    "            l = i + 1"
   ]
  },
  {
   "cell_type": "markdown",
   "id": "d578097d",
   "metadata": {},
   "source": [
    "## Merge k Sorted Linked Lists"
   ]
  },
  {
   "cell_type": "code",
   "execution_count": null,
   "id": "e24a440b",
   "metadata": {},
   "outputs": [],
   "source": [
    "# time c. O(Nlogk), k = # lists. Space c. O(1)\n",
    "def mergeKLists(lists):\n",
    "    n = len(lists)\n",
    "    interval = 1\n",
    "    while interval < n:\n",
    "        for i in range( 0, n-interval,\n",
    "                        interval*2 ):\n",
    "            lists[i] = merge2Lists( lists[i],\n",
    "                                    lists[i+interval] )\n",
    "        interval *= 2\n",
    "    return lists[0] if n > 0 else None\n",
    "\n",
    "def merge2Lists(l1, l2):\n",
    "    head = point = Node(0)\n",
    "    while l1 and l2:\n",
    "        if l1.val <= l2.val:\n",
    "            point.next = l1\n",
    "            l1 = l1.next\n",
    "        else:\n",
    "            point.next = l2\n",
    "            l2 = l1\n",
    "            l1 = point.next.next\n",
    "        point = point.next\n",
    "    if not l1: point.next=l2\n",
    "    else: point.next=l1\n",
    "    return head.next"
   ]
  },
  {
   "cell_type": "markdown",
   "id": "d036bbb4",
   "metadata": {},
   "source": [
    "## Merge k Sorted Arrays"
   ]
  },
  {
   "cell_type": "code",
   "execution_count": null,
   "id": "fd455fbf",
   "metadata": {},
   "outputs": [],
   "source": [
    "# time c. O(kN*Logk) since\n",
    "# using heap (N*Logk) k times;\n",
    "# space c. O(N) - output array\n",
    "from heapq import merge\n",
    "def mergeK(arr, k):\n",
    "    l = arr[0]\n",
    "    for i in range(k-1):\n",
    "        l = list(merge(l, arr[i + 1]))\n",
    "    return l"
   ]
  },
  {
   "cell_type": "markdown",
   "id": "a0093491",
   "metadata": {},
   "source": [
    "## Kth Largest Element in Array"
   ]
  },
  {
   "cell_type": "code",
   "execution_count": null,
   "id": "b3894656",
   "metadata": {},
   "outputs": [],
   "source": [
    "# time = O(n), space = O(1)\n",
    "def findKthLargest(nums, k):\n",
    "    def partition(left, right, pivot_idx):\n",
    "        pivot = nums[pivot_idx]\n",
    "        # 1. move pivot to end\n",
    "        nums[pivot_idx], nums[right] = nums[right], nums[pivot_idx]\n",
    "        # 2. move all smaller elements to the left\n",
    "        store_idx = left\n",
    "        for i in range(left, right):\n",
    "            if nums[i] < pivot:\n",
    "                nums[store_idx], nums[i] = nums[i], nums[store_idx]\n",
    "                store_idx += 1\n",
    "        # 3. move pivot to its final place\n",
    "        nums[right], nums[store_idx] = nums[store_idx], nums[right]\n",
    "        return store_idx\n",
    "\n",
    "    def select_rec(left, right, k_smallest):\n",
    "        if left == right:    # base case - 1 elem\n",
    "            return nums[left]\n",
    "        pivot_idx = random.randint(left, right)\n",
    "        # find pivot pos in sorted list\n",
    "        pivot_idx = partition(left, right, pivot_idx)\n",
    "        # if pivot in final sorted position\n",
    "        if k_smallest == pivot_idx:\n",
    "             return nums[k_smallest]        \n",
    "        elif k_smallest < pivot_idx:    # go left\n",
    "            return select_rec(left, pivot_idx-1, k_smallest)        \n",
    "        else:                           # go right\n",
    "            return select_rec(pivot_idx+1, right, k_smallest)\n",
    "    # kth largest = (n - k)th smallest \n",
    "    return select_rec(0, len(nums)-1, len(nums)-k)"
   ]
  },
  {
   "cell_type": "code",
   "execution_count": null,
   "id": "3a30d988",
   "metadata": {},
   "outputs": [],
   "source": []
  },
  {
   "cell_type": "markdown",
   "id": "5600b978",
   "metadata": {},
   "source": [
    "## Dijkstra’s Algorithm\n",
    "Shortest path from one vertex to all others"
   ]
  },
  {
   "cell_type": "code",
   "execution_count": 4,
   "id": "05eb0e2a",
   "metadata": {},
   "outputs": [],
   "source": [
    "# time c. O(V + E*logE), iterative, BFS\n",
    "import heapq    # min heap of (distance, vertex) pairs\n",
    "# control iteration order - to pick vertex w/smallest dist\n",
    "def calculate_distances(graph, start):\n",
    "    # cost from start to each destination\n",
    "    distances = {vertex: float('infinity') for vertex in graph}\n",
    "    distances[start] = 0\n",
    "    pq = [(0, start)]          # min heap or priority queue    \n",
    "    while len(pq) > 0:\n",
    "        # pop smallest, maintain heap\n",
    "        current_distance, current_vertex = heapq.heappop(pq)\n",
    "        # nodes can be added to pq multiple times; process node\n",
    "        # first time it's removed from pq\n",
    "        if current_distance > distances[current_vertex]:\n",
    "            continue\n",
    "        for neighbor, weight in graph[current_vertex].items():\n",
    "            distance = current_distance + weight\n",
    "            # only if new path is better\n",
    "            if distance < distances[neighbor]:\n",
    "                distances[neighbor] = distance\n",
    "                # push onto heap, maintain heap\n",
    "                heapq.heappush(pq, (distance, neighbor))\n",
    "    return distances"
   ]
  },
  {
   "cell_type": "markdown",
   "id": "813041ec",
   "metadata": {},
   "source": [
    "### Floyd Warshall Algorithm\n",
    "Shortest path between all pairs of nodes"
   ]
  },
  {
   "cell_type": "code",
   "execution_count": 5,
   "id": "13713b3b",
   "metadata": {},
   "outputs": [],
   "source": [
    "# time c. O(V^3)\n",
    "def floyd_warshall(graph):\n",
    "    dist = list(map(lambda i : list(map(lambda j : j , i)) , graph))        \n",
    "    for k in range(V):        \n",
    "        for i in range(V):        # all vertices as source            \n",
    "            for j in range(V):    # all vertices as destination  \n",
    "                # update dist[i][j] if vertex k on shortest path from i to j\n",
    "                dist[i][j] = min(dist[i][j], dist[i][k] + dist[k][j])                \n",
    "    return dist"
   ]
  },
  {
   "cell_type": "markdown",
   "id": "80edd35f",
   "metadata": {},
   "source": [
    "## Min. spanning tree - Prim's algo\n",
    "S.t. for a graph G = (V,E) is __acyclic subset of E connecting all vertices in V__  \n",
    "(sum of edge weights minimized)  \n",
    "Most efficient info flow. There may be several spanning trees -  \n",
    "we need to find the minimum one.  \n",
    "Using priority queue to select next vertex for growing graph"
   ]
  },
  {
   "cell_type": "code",
   "execution_count": 7,
   "id": "8c351fda",
   "metadata": {},
   "outputs": [],
   "source": [
    "from collections import defaultdict\n",
    "import heapq\n",
    "def min_spanning_tree(graph, start):\n",
    "    ''' Outputs mst - min. spanning tree '''\n",
    "    mst     = defaultdict(set)\n",
    "    visited = set([ start ])\n",
    "    edges   = [ (cost, start, to)\n",
    "                for to, cost in graph[start].items() ]\n",
    "    heapq.heapify(edges)\n",
    "    while edges:\n",
    "        cost, frm, to = heapq.heappop(edges)\n",
    "        if to not in visited:\n",
    "            visited.add(to)\n",
    "            mst[frm].add(to)\n",
    "            for to_next, cost in graph[to].items():\n",
    "                if to_next not in visited:\n",
    "                    heapq.heappush(edges, (cost, to, to_next))\n",
    "    return mst"
   ]
  },
  {
   "cell_type": "code",
   "execution_count": null,
   "id": "a90c6c75",
   "metadata": {},
   "outputs": [],
   "source": []
  },
  {
   "cell_type": "markdown",
   "id": "8eccdc26",
   "metadata": {},
   "source": [
    "## Traveling Salesman Problem (TSP)\n",
    "NP hard problem. There is no known polynomial time solution"
   ]
  },
  {
   "cell_type": "code",
   "execution_count": 8,
   "id": "113fce2f",
   "metadata": {},
   "outputs": [
    {
     "name": "stdout",
     "output_type": "stream",
     "text": [
      "80\n"
     ]
    }
   ],
   "source": [
    "# Naive approach. Time c. n!\n",
    "from sys import maxsize \n",
    "V = 4\n",
    "def travellingSalesmanProblem(graph, s):    \n",
    "    vertices = []         # all verteces, but source vtx                                  \n",
    "    for i in range(V): \n",
    "        if i != s: \n",
    "            vertices.append(i)    \n",
    "    min_pathweight = maxsize   # min weight Hamiltonian Cycle  \n",
    "    while True:         \n",
    "        current_pathweight = 0 # current Path weight(cost)        \n",
    "        k = s                  # compute current path weight \n",
    "        for i in range(len(vertices)): \n",
    "            current_pathweight += graph[k][vertices[i]] \n",
    "            k = vertices[i] \n",
    "        current_pathweight += graph[k][s]        \n",
    "        min_pathweight = min(min_pathweight,\n",
    "                             current_pathweight) #update min  \n",
    "        if not next_permutation(vertices): \n",
    "            break  \n",
    "    return min_pathweight \n",
    "\n",
    "def next_permutation(L):  \n",
    "    n = len(L)  \n",
    "    i = n - 2\n",
    "    while i >= 0 and L[i] >= L[i + 1]: \n",
    "        i -= 1  \n",
    "    if i == -1: \n",
    "        return False  \n",
    "    j = i + 1\n",
    "    while j < n and L[j] > L[i]: \n",
    "        j += 1\n",
    "    j -= 1  \n",
    "    L[i], L[j] = L[j], L[i]  \n",
    "    left = i + 1\n",
    "    right = n - 1  \n",
    "    while left < right: \n",
    "        L[left], L[right] = L[right], L[left] \n",
    "        left += 1\n",
    "        right -= 1  \n",
    "    return True\n",
    "\n",
    "  \n",
    "# matrix representation of graph \n",
    "graph = [[0, 10, 15, 20], [10, 0, 35, 25],  \n",
    "         [15, 35, 0, 30], [20, 25, 30, 0]] \n",
    "start = 0\n",
    "print(travellingSalesmanProblem(graph, s)) "
   ]
  },
  {
   "cell_type": "code",
   "execution_count": null,
   "id": "fc8e591b",
   "metadata": {},
   "outputs": [],
   "source": []
  },
  {
   "cell_type": "markdown",
   "id": "ac58807e",
   "metadata": {},
   "source": [
    "## # Nodes in Compl. Bin. Tree < O(n)"
   ]
  },
  {
   "cell_type": "code",
   "execution_count": null,
   "id": "9055a365",
   "metadata": {},
   "outputs": [],
   "source": [
    "# time=O(d^2)=O((logN)^2), d=depth, space = O(1)\n",
    "def countNodes(root: TreeNode) -> int:\n",
    "    if not root: return 0        \n",
    "    d = compute_depth(root)\n",
    "    if d == 0: return 1        \n",
    "    # Last level nodes - 0 to 2**d-1 (left->right)\n",
    "    # Bin search to check how many nodes exist\n",
    "    left, right = 1, 2**d - 1\n",
    "    while left <= right:\n",
    "        pivot = left + (right - left) // 2\n",
    "        if exists(pivot, d, root):\n",
    "            left = pivot + 1\n",
    "        else:\n",
    "            right = pivot - 1\n",
    "    # there are only left nodes on last level\n",
    "    return (2**d - 1) + left\n",
    "\n",
    "def compute_depth(node: Node) -> int:\n",
    "    d = 0\n",
    "    while node.left:\n",
    "        node = node.left\n",
    "        d += 1\n",
    "    return d\n",
    "\n",
    "def exists(idx: int, d: int, node: Node) -> bool:\n",
    "    '''Return True if last level node idx exists'''\n",
    "    left, right = 0, 2**d - 1\n",
    "    for _ in range(d):\n",
    "        pivot = left + (right - left) // 2\n",
    "        if idx <= pivot:\n",
    "            node = node.left\n",
    "            right = pivot\n",
    "        else:\n",
    "            node = node.right\n",
    "            left = pivot + 1\n",
    "    return node is not None"
   ]
  },
  {
   "cell_type": "markdown",
   "id": "e4e236b7",
   "metadata": {},
   "source": [
    "## Delete Nodes, Return Forest"
   ]
  },
  {
   "cell_type": "code",
   "execution_count": null,
   "id": "cfc5df3b",
   "metadata": {},
   "outputs": [],
   "source": [
    "def delNodes( root: Node,\n",
    "              to_delete: List[int],\n",
    "            ) -> List[Node]:       \n",
    "    res, to_delete = [], set(to_delete)\n",
    "    def helper(root):\n",
    "        if root:\n",
    "            # next line exec. after recursion on way up\n",
    "            root.left,root.right = (helper(root.left),\n",
    "                                    helper(root.right))\n",
    "            if root.val not in to_delete:\n",
    "                return root\n",
    "            res.append(root.left)  # if root is deleted\n",
    "            res.append(root.right) # if root is deleted\n",
    "    res.append(helper(root))            \n",
    "    return([ i for i in res if i ])"
   ]
  },
  {
   "cell_type": "markdown",
   "id": "483a9c29",
   "metadata": {},
   "source": [
    "## Longest Increasing Path in Matrix"
   ]
  },
  {
   "cell_type": "code",
   "execution_count": null,
   "id": "b77dee37",
   "metadata": {},
   "outputs": [],
   "source": [
    "# time and space = O(mn)\n",
    "def longestIncreasingPath(matrix):\n",
    "    def dfs(i, j):\n",
    "        if not dp[i][j]:\n",
    "            val = matrix[i][j]\n",
    "            dp[i][j] = 1 + max(\n",
    "                dfs(i - 1, j) if i and val > matrix[i - 1][j] else 0,\n",
    "                dfs(i + 1, j) if i < M - 1 and val > matrix[i + 1][j] else 0,\n",
    "                dfs(i, j - 1) if j and val > matrix[i][j - 1] else 0,\n",
    "                dfs(i, j + 1) if j < N - 1 and val > matrix[i][j + 1] else 0)\n",
    "        return dp[i][j]\n",
    "    if not matrix or not matrix[0]: return 0\n",
    "    M, N = len(matrix), len(matrix[0])\n",
    "    dp = [[0] * N for i in range(M)]\n",
    "    return max(dfs(x, y) for x in range(M) for y in range(N))"
   ]
  },
  {
   "cell_type": "code",
   "execution_count": null,
   "id": "b87206e1",
   "metadata": {},
   "outputs": [],
   "source": []
  },
  {
   "cell_type": "markdown",
   "id": "455be7b2",
   "metadata": {},
   "source": [
    "## Build Bin Tree from Array\n",
    "Use level-order traversal to convert back to array"
   ]
  },
  {
   "cell_type": "code",
   "execution_count": null,
   "id": "72a5e99a",
   "metadata": {},
   "outputs": [],
   "source": [
    "# time = space = O(n)\n",
    "class Node:\n",
    "    def __init__(self, val):\n",
    "        self.val = val\n",
    "        self.left = self.right = None\n",
    "\n",
    "def insertLevelOrder(arr, i, n):\n",
    "    root = None    \n",
    "    if i < n:                     # base case\n",
    "        root = Node(arr[i])\n",
    "        root.left  = insertLevelOrder(arr, 2*i+1, n)\n",
    "        root.right = insertLevelOrder(arr, 2*i+2, n)         \n",
    "    return root\n",
    "\n",
    "arr = [1,2,3,4,5,6,None,None,None,7,8 ]\n",
    "n = len(arr)\n",
    "root = insertLevelOrder(arr, 0, n)"
   ]
  },
  {
   "cell_type": "code",
   "execution_count": null,
   "id": "ec358e10",
   "metadata": {},
   "outputs": [],
   "source": []
  },
  {
   "cell_type": "markdown",
   "id": "fe99714b",
   "metadata": {},
   "source": [
    "## Backtracking - Words from Phone Number"
   ]
  },
  {
   "cell_type": "code",
   "execution_count": null,
   "id": "2f4d01af",
   "metadata": {},
   "outputs": [],
   "source": [
    "# time = O(N * (4^N)), N = len(digits), space = O(n)\n",
    "def letterCombinations(digits: str) -> List[str]:\n",
    "    if len(digits) == 0: return []\n",
    "    letters = {\"2\": \"abc\", \"3\": \"def\", \"4\": \"ghi\",\n",
    "               \"5\": \"jkl\", \"6\": \"mno\", \"7\": \"pqrs\",\n",
    "               \"8\": \"tuv\", \"9\": \"wxyz\"}\n",
    "    def backtrack(index, path):        \n",
    "        if len(path) == len(digits):  # base case\n",
    "            combinations.append(\"\".join(path))\n",
    "            return\n",
    "        # letters mapped to current digit\n",
    "        possible_letters = letters[digits[index]]\n",
    "        for letter in possible_letters:\n",
    "            path.append(letter)\n",
    "            backtrack(index + 1, path)            \n",
    "            path.pop()   # remove before moving on\n",
    "    combinations = []\n",
    "    backtrack(0, [])\n",
    "    return combinations"
   ]
  },
  {
   "cell_type": "code",
   "execution_count": null,
   "id": "8681fac9",
   "metadata": {},
   "outputs": [],
   "source": []
  },
  {
   "cell_type": "markdown",
   "id": "24009d80",
   "metadata": {},
   "source": [
    "## Reorder List (3 challenges in one)\n",
    "L0 → Ln → L1 → Ln - 1 → L2 → Ln - 2 → …"
   ]
  },
  {
   "cell_type": "code",
   "execution_count": null,
   "id": "daea71a2",
   "metadata": {},
   "outputs": [],
   "source": [
    "# in-place, time O(n), space O(1)\n",
    "def reorderList(head: Node) -> None:\n",
    "    if not head: return\n",
    "    # FIND MIDDLE\n",
    "    slow = fast = head\n",
    "    while fast and fast.next:\n",
    "        slow = slow.next\n",
    "        fast = fast.next.next\n",
    "    # REVERSE SECOND LIST IN-PLACE\n",
    "    prev, curr = None, slow\n",
    "    while curr:\n",
    "        curr.next, prev, curr = prev, curr, curr.next       \n",
    "    # MERGE 1->6->2->5->3->4\n",
    "    first, second = head, prev\n",
    "    while second.next:\n",
    "        first.next, first = second, first.next\n",
    "        second.next, second = first, second.next"
   ]
  },
  {
   "cell_type": "code",
   "execution_count": null,
   "id": "32eca692",
   "metadata": {},
   "outputs": [],
   "source": []
  },
  {
   "cell_type": "code",
   "execution_count": null,
   "id": "48972ac9",
   "metadata": {},
   "outputs": [],
   "source": []
  },
  {
   "cell_type": "code",
   "execution_count": null,
   "id": "c2451027",
   "metadata": {},
   "outputs": [],
   "source": []
  },
  {
   "cell_type": "code",
   "execution_count": null,
   "id": "1ae99e9e",
   "metadata": {},
   "outputs": [],
   "source": []
  },
  {
   "cell_type": "code",
   "execution_count": null,
   "id": "ef1e9bc1",
   "metadata": {},
   "outputs": [],
   "source": []
  }
 ],
 "metadata": {
  "kernelspec": {
   "display_name": "Python 3 (ipykernel)",
   "language": "python",
   "name": "python3"
  },
  "language_info": {
   "codemirror_mode": {
    "name": "ipython",
    "version": 3
   },
   "file_extension": ".py",
   "mimetype": "text/x-python",
   "name": "python",
   "nbconvert_exporter": "python",
   "pygments_lexer": "ipython3",
   "version": "3.11.11"
  }
 },
 "nbformat": 4,
 "nbformat_minor": 5
}
