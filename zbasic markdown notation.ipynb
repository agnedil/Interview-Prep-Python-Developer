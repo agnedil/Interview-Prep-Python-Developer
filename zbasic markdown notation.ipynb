{
 "cells": [
  {
   "cell_type": "markdown",
   "metadata": {},
   "source": [
    "## Basic markdown notation"
   ]
  },
  {
   "cell_type": "markdown",
   "metadata": {},
   "source": [
    "* Bold\t** ** or __ __ **This is bold text**\n",
    "* Italic\t* * or _ _ *This text is italicized*.\n",
    "* Bold and italic\t** ** and _ _ inside **This text is _extremely_ important**\n",
    "* Strikethrough\t~~ ~~ ~~This was mistaken text~~ \n",
    "* Math formulas \\\\$ \\\\$ $O(n^2)$ - which does not combine with any of the above\n",
    "* To insert linebreak - type 2 or more spaces and 'Enter' or just  $<br>$ )\n",
    "* To display a section of plain text, use `<pre> plain text </pre>`\n",
    "* To get teh effect in the the above line, use two **back ticks**"
   ]
  },
  {
   "cell_type": "code",
   "execution_count": null,
   "metadata": {},
   "outputs": [],
   "source": []
  }
 ],
 "metadata": {
  "kernelspec": {
   "display_name": "Python 3",
   "language": "python",
   "name": "python3"
  },
  "language_info": {
   "codemirror_mode": {
    "name": "ipython",
    "version": 3
   },
   "file_extension": ".py",
   "mimetype": "text/x-python",
   "name": "python",
   "nbconvert_exporter": "python",
   "pygments_lexer": "ipython3",
   "version": "3.7.3"
  }
 },
 "nbformat": 4,
 "nbformat_minor": 2
}
